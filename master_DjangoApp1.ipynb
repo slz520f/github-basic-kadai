{
  "nbformat": 4,
  "nbformat_minor": 0,
  "metadata": {
    "colab": {
      "provenance": [],
      "collapsed_sections": [
        "Tu96WZ4PDZUO",
        "gqWcV32cD8qO",
        "ZSg1g0qBE1cs",
        "n5NnVu66FnwU",
        "KHN_x5xAHCwo"
      ],
      "toc_visible": true,
      "include_colab_link": true
    },
    "kernelspec": {
      "name": "python3",
      "display_name": "Python 3"
    },
    "language_info": {
      "name": "python"
    }
  },
  "cells": [
    {
      "cell_type": "markdown",
      "metadata": {
        "id": "view-in-github",
        "colab_type": "text"
      },
      "source": [
        "<a href=\"https://colab.research.google.com/github/slz520f/github-basic-kadai/blob/main/master_DjangoApp1.ipynb\" target=\"_parent\"><img src=\"https://colab.research.google.com/assets/colab-badge.svg\" alt=\"Open In Colab\"/></a>"
      ]
    },
    {
      "cell_type": "markdown",
      "source": [
        "注）\n",
        "\n",
        "この章はVScodeを開発環境として進めてください。Colabでは正常に動作しません。"
      ],
      "metadata": {
        "id": "ekZQIBqDIy6C"
      }
    },
    {
      "cell_type": "markdown",
      "source": [
        "# 開発の流れを理解しよう"
      ],
      "metadata": {
        "id": "Tu96WZ4PDZUO"
      }
    },
    {
      "cell_type": "markdown",
      "source": [
        "Djangoアプリ制作に関する教材の要約を、指定された３つのスタイルで行います。\n",
        "\n",
        "- **目標**: 本章では、「画像判定アプリケーション」の全体像を理解することを目指します。\n",
        "  - **機能**: アプリケーションは画像アップロード、プレビュー表示、画像判定表示とクリア、再アップロードと前回判定結果のクリアの機能を有します。\n",
        "  - **構成**: URL設定、View、Form、予測モデル、テンプレートが主要な構成要素です。\n",
        "  - **開発流れ**: Django開発環境構築、画像アップロード機能と結果表示ロジックの実装、画像判定機能の実装、画像表示機能の実装、Bootstrapによるデザイン改善、Herokuでの本番公開。\n",
        "\n",
        ">この章では、Djangoを使った「画像判定アプリケーション」の作り方を学びます。アプリは、画像をアップロードして、それが猫か犬かを判定します。主要なパーツにはURL設定やView、フォーム、予測モデル、テンプレートがあります。開発は、まずDjangoのセットアップから始まり、画像アップロードと表示、判定機能の実装、デザインの改善、最後にHerokuで公開する手順で進めます。\n",
        "\n"
      ],
      "metadata": {
        "id": "ysMZxx9WDcf9"
      }
    },
    {
      "cell_type": "markdown",
      "source": [
        "# Djangoの開発環境を構築しよう"
      ],
      "metadata": {
        "id": "gqWcV32cD8qO"
      }
    },
    {
      "cell_type": "markdown",
      "source": [
        "- **目標**: Djangoを用いた画像判定アプリケーション開発のための環境構築。\n",
        "  - **仮想環境構築**: Pythonの仮想環境を構築し、開発環境を隔離。\n",
        "  - **ライブラリインストール**: Django, TensorFlow, Pillowの指定バージョンをインストール。\n",
        "  - **プロジェクトとアプリケーションひな型作成**: Djangoプロジェクト「catordog」とアプリケーション「prediction」を作成。\n",
        "  - **settings.py設定**: INSTALLED_APPSに「prediction」を追加。\n",
        "  - **ブラウザ動作確認**: Djangoデフォルト画面の表示を確認。\n",
        "\n",
        "\n",
        ">この章では、Djangoを使ったアプリ開発の基盤を作るために、Pythonの仮想環境を作り、Djangoや他の必要なライブラリをインストールしました。プロジェクト「catordog」とアプリ「prediction」のひな型を作って、設定ファイルを調整しました。最後に、ブラウザでDjangoのデフォルト画面がちゃんと表示されるかを確認しました。\n",
        "\n",
        "- **Python仮想環境の構築**\n",
        "  - コマンド: `python -m venv appvenv`\n",
        "  - 仮想環境のアクティベート: Windowsは `.\\Scripts\\activate`、Macは `source appenv/bin/activate`\n",
        "- **ライブラリインストール**\n",
        "  - コマンド: `pip install Django==4.2.1 tensorflow==2.12.0 Pillow==9.5.0`\n",
        "  - Macでのエラー対応: `pip install Django==4.2.1 tensorflow==2.13.0rc1 Pillow==9.5.0`\n",
        "- **Djangoプロジェクト作成**\n",
        "  - コマンド: `django-admin startproject catordog`\n",
        "- **Djangoアプリケーションひな型作成**\n",
        "  - コマンド: `python manage.py startapp prediction`\n",
        "- **settings.py設定**\n",
        "  - `INSTALLED_APPS`に「prediction」を追加\n",
        "- **ブラウザでの動作確認**\n",
        "  - コマンド: `python manage.py runserver`\n",
        "  - ブラウザアクセス: `http://127.0.0.1:8000/`\n",
        "\n",
        "これらのステップにより、Django開発の基本的な環境が整います。"
      ],
      "metadata": {
        "id": "ErDlt0-nD_Bo"
      }
    },
    {
      "cell_type": "markdown",
      "source": [
        "# 画像アップロード機能と結果表示のロジックを実装しよう"
      ],
      "metadata": {
        "id": "ZSg1g0qBE1cs"
      }
    },
    {
      "cell_type": "markdown",
      "source": [
        "- **目標**:\n",
        "  - 画像アップロードのフォーム機能の実装。\n",
        "  - 画像をアップロードした際、ランダムな結果を表示するロジックの実装。\n",
        "- **プロセス**:\n",
        "  - **フォームの作成**: `ImageUploadForm`クラスを定義し、画像ファイルアップロード用のフォームを作成。\n",
        "  - **Viewの作成**: `predict`関数を定義し、GETとPOSTリクエストの処理を実装。POSTリクエストでフォームの内容を受け取り、ランダムな結果を生成。\n",
        "  - **テンプレートの作成**: `home.html`を作成し、フォームと判定結果を表示。\n",
        "  - **URL設定**: `urls.py`を編集し、URLと`predict`関数を結びつける。\n",
        "  - **動作確認**: ブラウザでフォームの表示とランダムな判定結果の表示を確認。\n",
        "\n",
        "この章では、画像アップロード用のフォームと、アップロードされた画像に基づいてランダムな「猫」か「犬」の判定結果を表示する機能を作りました。まずはフォームを作って、次に画像をアップロードしたときにランダムに結果が出るようにしました。それから、このフォームと結果を表示するHTMLページを作り、最後にブラウザでちゃんと動くか確認しました。\n",
        "\n",
        "- **フォームクラスの作成 (`forms.py`)**:\n",
        "  ```python\n",
        "  from django import forms\n",
        "\n",
        "  class ImageUploadForm(forms.Form):\n",
        "      image = forms.ImageField()\n",
        "  ```\n",
        "  画像アップロードフォームクラスを定義。\n",
        "\n",
        "- **Viewの作成 (`views.py`)**:\n",
        "  ```python\n",
        "  from django.shortcuts import render\n",
        "  from .forms import ImageUploadForm\n",
        "  import random\n",
        "\n",
        "  def predict(request):\n",
        "      if request.method == 'GET':\n",
        "          form = ImageUploadForm()\n",
        "          return render(request, 'home.html', {'form': form})\n",
        "      elif request.method == 'POST':\n",
        "          form = ImageUploadForm(request.POST, request.FILES)\n",
        "          if form.is_valid():\n",
        "              # 画像判定ロジックは後続章で実装\n",
        "              prediction = random.choice([\"猫\", \"犬\"])\n",
        "              return render(request, 'home.html', {'form': form, 'prediction': prediction})\n",
        "  ```\n",
        "  GETリクエストではフォームを表示、POSTリクエストではランダムな判定結果を表示。\n",
        "\n",
        "- **テンプレートの作成 (`home.html`)**:\n",
        "  ```html\n",
        "  <!DOCTYPE html>\n",
        "  <html lang=\"jp\">\n",
        "  <head>\n",
        "      <meta charset=\"UTF-8\">\n",
        "      <title>画像判定アプリ</title>\n",
        "  </head>\n",
        "  <body>\n",
        "      <form method=\"post\" enctype=\"multipart/form-data\">\n",
        "          {% csrf_token %}\n",
        "          {{ form.as_p }}\n",
        "          <button type=\"submit\">判定</button>\n",
        "      </form>\n",
        "      {% if prediction %}\n",
        "          <p>判定結果: {{ prediction }}</p>\n",
        "      {% endif %}\n",
        "  </body>\n",
        "  </html>\n",
        "  ```\n",
        "  フォームと判定結果を表示するHTMLテンプレート。\n",
        "\n",
        "- **URL設定 (`urls.py`)**:\n",
        "\n",
        "\n",
        " ```python\n",
        "  from django.urls import path\n",
        "  from prediction.views import predict\n",
        "\n",
        "  urlpatterns = [\n",
        "      path('', predict, name='predict'),\n",
        "  ]\n",
        "  ```\n",
        "  ルートURLを`predict`関数に関連付け。"
      ],
      "metadata": {
        "id": "K5QLrvr0E-Av"
      }
    },
    {
      "cell_type": "markdown",
      "source": [
        "# 画像判定機能を実装しよう"
      ],
      "metadata": {
        "id": "n5NnVu66FnwU"
      }
    },
    {
      "cell_type": "markdown",
      "source": [
        "- **目標**: アップロードされた画像に対して、予測モデルを用いて「猫」か「犬」かの判定を行い、結果を表示する。\n",
        "- **プロセス**:\n",
        "  - **予測モデルの配置**: 学習済みの予測モデル「model.h5」をアプリケーション内に配置。\n",
        "  - **Viewの改修**: 画像の前処理を実装し、予測モデルを使用して判定を行うロジックを追加。\n",
        "  - **ブラウザでの動作確認**: 実際に画像をアップロードし、予測結果が適切に表示されることを確認。\n",
        "\n",
        ">今回の章では、アップロードされた画像を「猫」か「犬」か判定する機能を作りました。最初に、以前作った予測モデルをアプリに入れて、それから画像を予測モデルで判定するためのコードをViewに書きました。最後に、実際に画像をアップロードして、ちゃんと判定結果が出るかブラウザで確認します。\n",
        "\n",
        "- **予測モデルの配置**:\n",
        "  - 予測モデル「model.h5」を「prediction/models」フォルダに配置。\n",
        "\n",
        "- **Viewの改修 (`views.py`)**:\n",
        "  ```python\n",
        "  from django.shortcuts import render\n",
        "  from .forms import ImageUploadForm\n",
        "  from django.conf import settings\n",
        "  from tensorflow.keras.models import load_model\n",
        "  from tensorflow.keras.preprocessing.image import load_img, img_to_array\n",
        "  from io import BytesIO\n",
        "  import os\n",
        "\n",
        "  def predict(request):\n",
        "      if request.method == 'POST':\n",
        "          form = ImageUploadForm(request.POST, request.FILES)\n",
        "          if form.is_valid():\n",
        "              img_file = form.cleaned_data['image']\n",
        "              img_file = BytesIO(img_file.read())\n",
        "              img = load_img(img_file, target_size=(256, 256))\n",
        "              img_array = img_to_array(img)\n",
        "              img_array = img_array.reshape((1, 256, 256, 3))\n",
        "              img_array = img_array / 255\n",
        "              model_path = os.path.join(settings.BASE_DIR, 'prediction', 'models', 'model.h5')\n",
        "              model = load_model(model_path)\n",
        "              result = model.predict(img_array)\n",
        "              prediction = '猫' if result[0][0] > result[0][1] else '犬'\n",
        "              return render(request, 'home.html', {'form': form, 'prediction': prediction})\n",
        "  ```\n",
        "  予測モデルを用いてアップロードされた画像の判定を行い、結果を表示。\n",
        "\n",
        "- **ブラウザでの動作確認**:\n",
        "  - Webサーバ起動: `python manage.py runserver`\n",
        "  - 画像アップロードと判定結果の確認をブラウザで実施。"
      ],
      "metadata": {
        "id": "GNXQ_Hf2FueN"
      }
    },
    {
      "cell_type": "markdown",
      "source": [
        "# 画像表示機能を実装しよう"
      ],
      "metadata": {
        "id": "ZMzELylWGe7h"
      }
    },
    {
      "cell_type": "markdown",
      "source": [
        "- **目標**:\n",
        "  - アップロードされた画像のプレビュー機能の実装。\n",
        "  - 判定結果として、判定対象となった画像の表示。\n",
        "  - 新たに画像判定を開始する際、前回の判定結果をクリアする機能の実装。\n",
        "- **プロセス**:\n",
        "  - **プレビュー機能の実装**: jQueryを用いて、アップロードされた画像のプレビュー表示機能を実装。\n",
        "  - **判定結果での画像表示機能**: 判定結果と一緒に、判定対象となった画像を表示。\n",
        "  - **判定結果のクリア機能**: 新たな画像をアップロードする際、前回の判定結果をクリアする機能をJavaScriptで実装。\n",
        "\n",
        "\n",
        "この章では、画像をアップロードするとその画像がどう見えるかをプレビューできるようにしました。これで、判定する画像が正しいか確認できます。判定結果が出ると、その結果と一緒に判定した画像も表示されるようにしました。そして、新しい画像をアップロードする時は、前の判定結果が消えるようにしました。\n",
        "\n",
        "\n",
        "- **プレビュー機能のJavaScriptコード (`home.html`)**:\n",
        "  ```javascript\n",
        "  $(function() {\n",
        "      $('#id_image').on('change', function() {\n",
        "          var reader = new FileReader();\n",
        "          reader.onload = function () {\n",
        "              $(\"#preview\").attr('src', reader.result);\n",
        "              $(\"#preview\").show();\n",
        "          }\n",
        "          reader.readAsDataURL(this.files[0]);\n",
        "      });\n",
        "  });\n",
        "  ```\n",
        "  アップロードされた画像をプレビュー表示するためのコード。ファイル選択時にプレビューが表示される。\n",
        "\n",
        "- **判定結果での画像表示機能**:\n",
        "  - **Viewの修正 (`views.py`)**:\n",
        "    ```python\n",
        "    def predict(request):\n",
        "        # ...\n",
        "        if form.is_valid():\n",
        "            # ...\n",
        "            return render(request, 'home.html', {'form': form, 'prediction': prediction, 'img_data': img_data})\n",
        "    ```\n",
        "    判定結果を表示する際、アップロードした画像データも一緒に渡す。\n",
        "\n",
        "  - **HTMLテンプレートの修正 (`home.html`)**:\n",
        "    ```html\n",
        "    {% if prediction %}\n",
        "        <p>あなたのアップロードした画像は「{{ prediction }}」でしょう。</p>\n",
        "        <img src=\"{{ img_data }}\">\n",
        "    {% endif %}\n",
        "    ```\n",
        "    判定結果と一緒にアップロードした画像も表示。\n",
        "\n",
        "- **判定結果のクリア機能のJavaScriptコード (`home.html`)**:\n",
        "  ```javascript\n",
        "  $(function() {\n",
        "      $('#id_image').on('change', function() {\n",
        "          $(\"#prediction\").text('');\n",
        "          // その他のコード\n",
        "      });\n",
        "  });\n",
        "  ```\n",
        "  新しい画像をアップロードする際に、前回の判定結果をクリアするためのコード。"
      ],
      "metadata": {
        "id": "vy47nD23EpNT"
      }
    },
    {
      "cell_type": "markdown",
      "source": [
        "# Bootstrapでデザインを整えよう"
      ],
      "metadata": {
        "id": "KHN_x5xAHCwo"
      }
    },
    {
      "cell_type": "markdown",
      "source": [
        "- **目標**:\n",
        "  - Bootstrapを使用してアプリケーションのデザインを改善。\n",
        "- **プロセス**:\n",
        "  - **Bootstrapリンクの追加**: HTMLファイルにBootstrapのCSSリンクを追加。\n",
        "  - **ビューポート設定**: レスポンシブデザインのためのmetaタグの設定。\n",
        "  - **class属性によるデザイン適用**: HTML要素にBootstrapのクラスを追加しデザインを適用。\n",
        "\n",
        ">この章では、Bootstrapを使ってアプリの見た目をきれいにしました。まずはBootstrapのリンクをHTMLに入れて、ページがきちんと見えるようにビューポートを設定しました。それから、ボタンやフォームにBootstrapのクラスを追加して、全体的に見やすくしました。\n",
        "\n",
        "- **BootstrapのCSSリンク追加 (`home.html`)**:\n",
        "  ```html\n",
        "  <link href=\"https://cdn.jsdelivr.net/npm/bootstrap@5.0.2/dist/css/bootstrap.min.css\" rel=\"stylesheet\" integrity=\"sha384-EVSTQN3/azprG1Anm3QDgpJLIm9Nao0Yz1ztcQTwFspd3yD65VohhpuuCOmLASjC\" crossorigin=\"anonymous\">\n",
        "  ```\n",
        "  Bootstrapのデザイン機能を利用するための基本リンク。\n",
        "\n",
        "- **ビューポートのmetaタグ設定 (`home.html`)**:\n",
        "  ```html\n",
        "  <meta name=\"viewport\" content=\"width=device-width, initial-scale=1\" />\n",
        "  ```\n",
        "  レスポンシブデザインをサポートするためのビューポート設定。\n",
        "\n",
        "- **class属性によるデザイン適用 (`home.html`)**:\n",
        "  - フォーム部分のデザイン:\n",
        "    ```html\n",
        "    <div class=\"container py-5 text-center\">\n",
        "      <h2 class=\"mb-4\">犬か猫かを画像判定します</h2>\n",
        "      <form method=\"post\" enctype=\"multipart/form-data\">\n",
        "        <div class=\"mb-3\">\n",
        "          <!-- ... -->\n",
        "        </div>\n",
        "        <button type=\"submit\" class=\"btn btn-primary btn-lg\">判定</button>\n",
        "      </form>\n",
        "    </div>\n",
        "    ```\n",
        "    フォームとボタンにBootstrapのクラスを適用し、見た目を改善。\n",
        "\n",
        "  - 判定結果表示部分のデザイン:\n",
        "    ```html\n",
        "    <div id=\"prediction\">\n",
        "      <h2 class=\"mb-4\">判定結果</h2>\n",
        "      <p>あなたのアップロードした画像は「<strong>{{ prediction }}</strong>」でしょう。</p>\n",
        "      <img src=\"{{ img_data }}\" class=\"img-fluid mb-3\">\n",
        "    </div>\n",
        "    ```\n",
        "    判定結果と画像表示部分にBootstrapのクラスを適用。"
      ],
      "metadata": {
        "id": "DPxIheBoHIFI"
      }
    },
    {
      "cell_type": "markdown",
      "source": [
        "- **目標**:\n",
        "  - アップロードされた画像のプレビュー機能の実装。\n",
        "  - 判定結果として、判定対象となった画像の表示。\n",
        "  - 新たに画像判定を開始する際、前回の判定結果をクリアする機能の実装。\n",
        "- **プロセス**:\n",
        "  - **プレビュー機能の実装**: jQueryを用いて、アップロードされた画像のプレビュー表示機能を実装。\n",
        "  - **判定結果での画像表示機能**: 判定結果と一緒に、判定対象となった画像を表示。\n",
        "  - **判定結果のクリア機能**: 新たな画像をアップロードする際、前回の判定結果をクリアする機能をJavaScriptで実装。\n",
        "\n",
        "\n",
        "この章では、画像をアップロードするとその画像がどう見えるかをプレビューできるようにしました。これで、判定する画像が正しいか確認できます。判定結果が出ると、その結果と一緒に判定した画像も表示されるようにしました。そして、新しい画像をアップロードする時は、前の判定結果が消えるようにしました。\n",
        "\n",
        "- **プレビュー機能のJavaScriptコード (`home.html`)**:\n",
        "  ```javascript\n",
        "  $(function() {\n",
        "      $('#id_image').on('change', function() {\n",
        "          var reader = new FileReader();\n",
        "          reader.onload = function () {\n",
        "              $(\"#preview\").attr('src', reader.result);\n",
        "              $(\"#preview\").show();\n",
        "          }\n",
        "          reader.readAsDataURL(this.files[0]);\n",
        "      });\n",
        "  });\n",
        "  ```\n",
        "  アップロードされた画像をプレビュー表示するためのコード。ファイル選択時にプレビューが表示される。\n",
        "\n",
        "- **判定結果での画像表示機能**:\n",
        "  - **Viewの修正 (`views.py`)**:\n",
        "    ```python\n",
        "    def predict(request):\n",
        "        # ...\n",
        "        if form.is_valid():\n",
        "            # ...\n",
        "            return render(request, 'home.html', {'form': form, 'prediction': prediction, 'img_data': img_data})\n",
        "    ```\n",
        "    判定結果を表示する際、アップロードした画像データも一緒に渡す。\n",
        "\n",
        "  - **HTMLテンプレートの修正 (`home.html`)**:\n",
        "    ```html\n",
        "    {% if prediction %}\n",
        "        <p>あなたのアップロードした画像は「{{ prediction }}」でしょう。</p>\n",
        "        <img src=\"{{ img_data }}\">\n",
        "    {% endif %}\n",
        "    ```\n",
        "    判定結果と一緒にアップロードした画像も表示。\n",
        "\n",
        "- **判定結果のクリア機能のJavaScriptコード (`home.html`)**:\n",
        "  ```javascript\n",
        "  $(function() {\n",
        "      $('#id_image').on('change', function() {\n",
        "          $(\"#prediction\").text('');\n",
        "          // その他のコード\n",
        "      });\n",
        "  });\n",
        "  ```\n",
        "  新しい画像をアップロードする際に、前回の判定結果をクリアするためのコード。"
      ],
      "metadata": {
        "id": "6LaeEkhsGm9J"
      }
    },
    {
      "cell_type": "markdown",
      "source": [
        "# [課題]画像判定アプリケーションを作成しよう"
      ],
      "metadata": {
        "id": "lMFKwy0vH3KK"
      }
    },
    {
      "cell_type": "markdown",
      "source": [
        "- **目標**:\n",
        "  - Bootstrapを使用してアプリケーションのデザインを改善。\n",
        "- **プロセス**:\n",
        "  - **Bootstrapリンクの追加**: HTMLファイルにBootstrapのCSSリンクを追加。\n",
        "  - **ビューポート設定**: レスポンシブデザインのためのmetaタグの設定。\n",
        "  - **class属性によるデザイン適用**: HTML要素にBootstrapのクラスを追加しデザインを適用。\n",
        "\n",
        "\n",
        "この章では、Bootstrapを使ってアプリの見た目をきれいにしました。まずはBootstrapのリンクをHTMLに入れて、ページがきちんと見えるようにビューポートを設定しました。それから、ボタンやフォームにBootstrapのクラスを追加して、全体的に見やすくしました。\n",
        "\n",
        "- **BootstrapのCSSリンク追加 (`home.html`)**:\n",
        "  ```html\n",
        "  <link href=\"https://cdn.jsdelivr.net/npm/bootstrap@5.0.2/dist/css/bootstrap.min.css\" rel=\"stylesheet\" integrity=\"sha384-EVSTQN3/azprG1Anm3QDgpJLIm9Nao0Yz1ztcQTwFspd3yD65VohhpuuCOmLASjC\" crossorigin=\"anonymous\">\n",
        "  ```\n",
        "  Bootstrapのデザイン機能を利用するための基本リンク。\n",
        "\n",
        "- **ビューポートのmetaタグ設定 (`home.html`)**:\n",
        "  ```html\n",
        "  <meta name=\"viewport\" content=\"width=device-width, initial-scale=1\" />\n",
        "  ```\n",
        "  レスポンシブデザインをサポートするためのビューポート設定。\n",
        "\n",
        "- **class属性によるデザイン適用 (`home.html`)**:\n",
        "  - フォーム部分のデザイン:\n",
        "    ```html\n",
        "    <div class=\"container py-5 text-center\">\n",
        "      <h2 class=\"mb-4\">犬か猫かを画像判定します</h2>\n",
        "      <form method=\"post\" enctype=\"multipart/form-data\">\n",
        "        <div class=\"mb-3\">\n",
        "          <!-- ... -->\n",
        "        </div>\n",
        "        <button type=\"submit\" class=\"btn btn-primary btn-lg\">判定</button>\n",
        "      </form>\n",
        "    </div>\n",
        "    ```\n",
        "    フォームとボタンにBootstrapのクラスを適用し、見た目を改善。\n",
        "\n",
        "  - 判定結果表示部分のデザイン:\n",
        "    ```html\n",
        "    <div id=\"prediction\">\n",
        "      <h2 class=\"mb-4\">判定結果</h2>\n",
        "      <p>あなたのアップロードした画像は「<strong>{{ prediction }}</strong>」でしょう。</p>\n",
        "      <img src=\"{{ img_data }}\" class=\"img-fluid mb-3\">\n",
        "    </div>\n",
        "    ```\n",
        "    判定結果と画像表示部分にBootstrapのクラスを適用。"
      ],
      "metadata": {
        "id": "z7agd81SH8nW"
      }
    },
    {
      "cell_type": "markdown",
      "source": [
        "この課題の模範回答は、Djangoを使ったWebアプリケーションで、学習済みのVGG16モデルを使用して画像を判定するプログラムです。以下は、このアプリケーションの基本的な実装手順を示したコードの例です。\n",
        "\n",
        "### 基本的なステップ\n",
        "\n",
        "1. **Djangoプロジェクトとアプリケーションのセットアップ**\n",
        "2. **VGG16モデルの統合**\n",
        "3. **画像アップロード機能の実装**\n",
        "4. **画像判定機能の実装**\n",
        "5. **結果表示機能の実装**\n",
        "6. **追加機能とデザインの改善（オプション）**\n",
        "\n",
        "### コード例\n",
        "\n",
        "**Step 1: Djangoプロジェクトとアプリケーションのセットアップ**\n",
        "```python\n",
        "# Djangoプロジェクトのセットアップ\n",
        "# Djangoアプリケーションの作成（例: 'photoidentify'）\n",
        "```\n",
        "\n",
        "**Step 2: VGG16モデルの統合**\n",
        "```python\n",
        "from tensorflow.keras.applications.vgg16 import VGG16\n",
        "from tensorflow.keras.preprocessing import image\n",
        "from tensorflow.keras.applications.vgg16 import preprocess_input, decode_predictions\n",
        "import numpy as np\n",
        "\n",
        "model = VGG16(weights='imagenet')\n",
        "\n",
        "def predict_image(img_path):\n",
        "    img = image.load_img(img_path, target_size=(224, 224))\n",
        "    img_array = image.img_to_array(img)\n",
        "    img_array = np.expand_dims(img_array, axis=0)\n",
        "    img_array = preprocess_input(img_array)\n",
        "\n",
        "    predictions = model.predict(img_array)\n",
        "    return decode_predictions(predictions, top=5)[0]\n",
        "```\n",
        "\n",
        "**Step 3: 画像アップロード機能の実装**\n",
        "```python\n",
        "# Djangoのforms.pyで画像アップロードフォームを作成\n",
        "# HTMLテンプレートでフォームをレンダリング\n",
        "```\n",
        "\n",
        "**Step 4: 画像判定機能の実装**\n",
        "```python\n",
        "# views.pyで画像アップロードと判定結果のロジックを実装\n",
        "```\n",
        "\n",
        "**Step 5: 結果表示機能の実装**\n",
        "```python\n",
        "# 判定結果をHTMLテンプレートに渡す\n",
        "# 判定結果を表示するためのHTMLとCSSを作成\n",
        "```\n",
        "\n",
        "### 実装注意点\n",
        "- VGG16モデルの入力と出力形式を理解し、適切に処理する。\n",
        "- DjangoのMVCモデルに沿った実装を行う。\n",
        "- ユーザインターフェースは直感的でわかりやすくする。\n",
        "\n",
        "このコード例は概要を示しているため、実際の開発ではさらに詳細な設定やエラーハンドリング、ユーザインターフェースのデザインなどが必要になります。また、追加のJavaScript機能やBootstrapによるデザインの改善も考慮すると良いでしょう。"
      ],
      "metadata": {
        "id": "B-8Gdk4sIqK6"
      }
    },
    {
      "cell_type": "markdown",
      "source": [],
      "metadata": {
        "id": "Kz-ZqYlTJqEc"
      }
    },
    {
      "cell_type": "markdown",
      "source": [
        "# Herokuでアプリを公開しよう"
      ],
      "metadata": {
        "id": "V7LTljG_JqYV"
      }
    },
    {
      "cell_type": "markdown",
      "source": [
        "- **目標**:\n",
        "  - Herokuに画像判定アプリをデプロイし、インターネット上で公開。\n",
        "- **プロセス**:\n",
        "  - **動作確認**: ローカル環境でアプリが正しく動作することを確認。\n",
        "  - **デプロイの準備**: Git環境の設定、HerokuアカウントとCLIの準備。\n",
        "  - **設定ファイルの作成と編集**: `Procfile`、`.gitignore`、`runtime.txt`、`requirements.txt`を作成・編集。\n",
        "  - **Herokuへのデプロイ**: `git push`コマンドを使用してHerokuにアプリをデプロイ。\n",
        "  - **公開アプリの確認**: デプロイされたアプリをブラウザで確認。\n",
        "\n",
        "\n",
        "この章では、Herokuで作った画像判定アプリをネットに出しました。まずローカルでちゃんと動くか確認して、GitとHerokuの設定をしました。それから、Herokuに必要な`Procfile`や他のファイルを作って設定を変えて、最後に`git push`でHerokuにアップしました。最後にブラウザで新しいアプリをチェックしました。\n",
        "\n",
        "- **Herokuにログイン**:\n",
        "  ```bash\n",
        "  heroku login -i\n",
        "  ```\n",
        "  Herokuにログインするためのコマンド。\n",
        "\n",
        "- **Herokuアプリの作成**:\n",
        "  ```bash\n",
        "  heroku apps:create -a アプリ名\n",
        "  ```\n",
        "  新しいHerokuアプリを作成。\n",
        "\n",
        "- **Herokuアプリの設定変更**:\n",
        "  ```bash\n",
        "  heroku config:set DISABLE_COLLECTSTATIC=1\n",
        "  ```\n",
        "  Herokuに特有の設定を適用。\n",
        "\n",
        "- **.gitignoreファイルの作成**:\n",
        "  ```plaintext\n",
        "  .DS_Store\n",
        "  env/\n",
        "  *.log\n",
        "  *.pot\n",
        "  *.pyc\n",
        "  __pycache__\n",
        "  local_settings.py\n",
        "  db.sqlite3\n",
        "  media\n",
        "  ```\n",
        "  Herokuに不要なファイルやディレクトリをGitトラッキングから除外。\n",
        "\n",
        "- **Procfileファイルの作成**:\n",
        "  ```plaintext\n",
        "  web: gunicorn --workers=1 catordog.wsgi --timeout 300 --log-file -\n",
        "  ```\n",
        "  Herokuでアプリを実行するための設定。\n",
        "\n",
        "- **runtime.txtファイルの作成**:\n",
        "  ```plaintext\n",
        "  python-3.9.17\n",
        "  ```\n",
        "  Herokuで使用するPythonのバージョンを指定。\n",
        "\n",
        "- **requirements.txtファイルの作成**:\n",
        "  ```plaintext\n",
        "  Django==4.2.1\n",
        "  tensorflow-cpu==2.11.0\n",
        "  Pillow==9.5.0\n",
        "  gunicorn==20.1.0\n",
        "  ```\n",
        "  Herokuで必要なパッケージとそのバージョンを指定。\n",
        "\n",
        "- **Herokuへアプリをデプロイ**:\n",
        "  ```bash\n",
        "  git add .\n",
        "  git commit -m \"deploy to heroku\"\n",
        "  git branch -M main\n",
        "  git push heroku main\n",
        "  ```\n",
        "  Gitを使用してHerokuにアプリをデプロイ。"
      ],
      "metadata": {
        "id": "9815IJWDJq_s"
      }
    }
  ]
}