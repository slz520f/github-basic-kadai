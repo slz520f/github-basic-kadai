{
  "nbformat": 4,
  "nbformat_minor": 0,
  "metadata": {
    "colab": {
      "provenance": [],
      "collapsed_sections": [
        "aNk5wbsgjBvd"
      ],
      "toc_visible": true,
      "include_colab_link": true
    },
    "kernelspec": {
      "name": "python3",
      "display_name": "Python 3"
    },
    "language_info": {
      "name": "python"
    }
  },
  "cells": [
    {
      "cell_type": "markdown",
      "metadata": {
        "id": "view-in-github",
        "colab_type": "text"
      },
      "source": [
        "<a href=\"https://colab.research.google.com/github/slz520f/github-basic-kadai/blob/main/master_SQL_foundamental.ipynb\" target=\"_parent\"><img src=\"https://colab.research.google.com/assets/colab-badge.svg\" alt=\"Open In Colab\"/></a>"
      ]
    },
    {
      "cell_type": "markdown",
      "source": [
        "# データベースの概要を理解しよう"
      ],
      "metadata": {
        "id": "aNk5wbsgjBvd"
      }
    },
    {
      "cell_type": "markdown",
      "source": [
        "- **データベースの概要と重要性**\n",
        "  - データベースはWeb開発において不可欠であり、データを一元管理する重要な役割を担う。\n",
        "  - データベースにはリレーショナル型、階層型、ネットワーク型の3種類が存在し、リレーショナル型がWeb開発で広く採用されている。\n",
        "\n",
        "- **リレーショナル型データベース**\n",
        "  - テーブル間の関連性に基づくデータベースで、Excelの表のような形式でデータを管理する。\n",
        "  - MySQL、PostgreSQL、SQLite、Oracle、Microsoft SQL Serverなどがリレーショナル型データベースの例。\n",
        "\n",
        "- **データベースを扱う職種**\n",
        "  - Webエンジニア、機械学習エンジニア、データサイエンティスト、組み込み系エンジニアなどがデータベースを日常的に使用する。\n",
        "\n",
        "> データベースは、Web開発でとても大切なものです。これは、大量のデータを管理し、必要な情報をすぐに取り出せるようにするシステムのこと。特にリレーショナル型データベースは、Webアプリでよく使われていて、MySQLやPostgreSQLなどがあります。データベースを使う仕事は色々あって、Webエンジニアからデータサイエンティストまで、多くの人がデータベースに触れる機会があります。\n",
        "\n",
        "\n",
        "\n",
        "### 例文\n",
        "\n",
        "```python\n",
        "# データベースの接続と基本的な操作を行うPythonコードの例\n",
        "\n",
        "# MySQLデータベースへ接続するためのライブラリをインポート\n",
        "import mysql.connector\n",
        "\n",
        "# データベースに接続\n",
        "db = mysql.connector.connect(\n",
        "    host=\"localhost\",\n",
        "    user=\"your_username\",\n",
        "    passwd=\"your_password\",\n",
        "    database=\"your_database\"\n",
        ")\n",
        "\n",
        "# カーソルを作成\n",
        "cursor = db.cursor()\n",
        "\n",
        "# データベースの一覧を取得して表示\n",
        "cursor.execute(\"SHOW DATABASES\")\n",
        "for db in cursor:\n",
        "    print(db)\n",
        "\n",
        "# テーブルの一覧を取得して表示\n",
        "cursor.execute(\"SHOW TABLES\")\n",
        "for table in cursor:\n",
        "    print(table)\n",
        "\n",
        "# データベース接続を閉じる\n",
        "db.close()\n",
        "```\n",
        "\n",
        "\n",
        "> このコードは、Pythonを使ってMySQLデータベースに接続し、データベースとテーブルの一覧を取得する基本的な流れを示しています。実際には、`your_username`、`your_password`、`your_database`を実際の環境に合わせて変更する必要があります。また、MySQL以外のリレーショナル型データベースを使用する場合は、適切なドライバーをインストールし、接続情報を変更してください。\n",
        "\n"
      ],
      "metadata": {
        "id": "VwqlMl2lilb8"
      }
    },
    {
      "cell_type": "markdown",
      "source": [
        "# SQLの概要を理解しよう"
      ],
      "metadata": {
        "id": "s04_8moij_QL"
      }
    },
    {
      "cell_type": "markdown",
      "source": [
        "- **SQLの概要と基本コマンド**\n",
        "  - SQL（Structured Query Language）は、データベースを操作するための言語。主な操作にはデータの検索、追加、更新、削除が含まれる。\n",
        "  - SQLの特徴は、英語に似た構文が決まっており、データベース言語であること。ISOで標準化されている。\n",
        "  - 命令方法には対話型と埋め込み型の二つが存在。\n",
        "\n",
        "- **SQLとMySQLの違い**\n",
        "  - MySQLはデータベースそのものを指し、SQLはデータベースを操作するための言語である。\n",
        "  - SQLでよく使用される用語にはテーブル、カラム、レコード、フィールドがある。\n",
        "\n",
        "- **SQL文の命令の種類**\n",
        "  - DDL（Data Definition Language）は、データベースやテーブルの作成・削除などの定義を行う。\n",
        "  - DML（Data Manipulation Language）は、データの追加、更新、削除などの操作を行う。\n",
        "  - DCL（Data Control Language）は、データベースの権限設定を行う。\n",
        "\n",
        ">SQLはデータベースをいじるための特別な言語です。データを探したり、新しく入れたり、変更したり、消したりすることができます。SQLは決まった書き方があって、ちゃんとした英語のように使います。MySQLはデータベースの一種で、SQLはそれを動かすためのコマンドです。SQLにはデータベースを作る命令、データをいじる命令、権限を管理する命令があります。この言語を覚えると、Web開発など色んなところで役に立ちます。\n",
        "\n",
        "### 例文\n",
        "\n",
        "```python\n",
        "# SQLコマンドの基本例\n",
        "\n",
        "# テーブル作成\n",
        "create_table_sql = \"\"\"\n",
        "CREATE TABLE users (\n",
        "    id INT AUTO_INCREMENT PRIMARY KEY,\n",
        "    name VARCHAR(100),\n",
        "    age INT\n",
        ");\n",
        "\"\"\"\n",
        "\n",
        "# データ挿入\n",
        "insert_sql = \"INSERT INTO users (name, age) VALUES ('佐藤', 25);\"\n",
        "\n",
        "# データ検索\n",
        "select_sql = \"SELECT * FROM users;\"\n",
        "\n",
        "# データ更新\n",
        "update_sql = \"UPDATE users SET age = 26 WHERE name = '佐藤';\"\n",
        "\n",
        "# データ削除\n",
        "delete_sql = \"DELETE FROM users WHERE name = '佐藤';\"\n",
        "\n",
        "# 権限付与\n",
        "grant_sql = \"GRANT SELECT ON database_name.users TO 'username'@'localhost';\"\n",
        "\n",
        "# 権限剥奪\n",
        "revoke_sql = \"REVOKE SELECT ON database_name.users FROM 'username'@'localhost';\"\n",
        "\n",
        "# これらのSQLコマンドは、データベース管理ツールやプログラミング言語からデータベースに接続して実行することが可能です。\n",
        "# PythonでMySQLデータベースに接続し、これらのコマンドを実行するには、適切なライブラリ（例：mysql-connector-python）を使用します。\n",
        "```\n",
        "\n",
        "このコードブロックは、データベース操作の基本的なSQLコマンドを示しています。実際にこれらのコマンドを実行する際は、使用してい\n",
        "\n",
        "るデータベース管理システムやプログラミング環境に応じて、接続設定やライブラリの使用が必要になります。"
      ],
      "metadata": {
        "id": "Szfd1cDlj6Uz"
      }
    },
    {
      "cell_type": "markdown",
      "source": [
        "# データベースの学習環境を構築しよう\n"
      ],
      "metadata": {
        "id": "1fkgQGmalAkK"
      }
    },
    {
      "cell_type": "markdown",
      "source": [
        "- **phpMyAdminとは**\n",
        "  - phpMyAdminはWebベースでデータベースを視覚的に操作できるツール。Google Chromeなどのブラウザからアクセスし、SQLを直接使わずにデータベースやテーブルの作成、データの操作が可能。\n",
        "\n",
        "- **データベース環境の構築**\n",
        "  - XAMPPまたはMAMPを使用してデータベース環境を構築。これらのツールにはphpMyAdminが含まれており、インストール後、ブラウザを通じてアクセス可能。\n",
        "  - XAMPPはWindows、MAMPはMacユーザー向け。どちらもApacheサーバーとMySQLを起動させることで、ローカル環境でデータベースを操作できるようになる。\n",
        "\n",
        "- **phpMyAdminでのデータベース作成**\n",
        "  - phpMyAdminのインターフェースを通じて、新しいデータベースの作成が行える。照合順序は一般的に「utf8mb4_general_ci」を選択。\n",
        "  - 作成したデータベース内でテーブルの作成も可能。テーブル作成時には、カラム名、データ型、その他オプションを指定。\n",
        "\n",
        ">phpMyAdminっていうのは、データベースを簡単にいじれるツールだよ。Webブラウザから使えて、XAMPPやMAMPっていうソフトを使ってパソコンにセットアップするんだ。これがあれば、SQLを書かなくてもクリックだけでデータベースやテーブルを作れたりするから、めちゃくちゃ便利。WindowsユーザーはXAMPP、MacユーザーはMAMPを使うのが一般的。phpMyAdminで「新規作成」をポチッとするだけで、新しいデータベースを作ったり、テーブルを追加したりできるんだ。\n",
        "\n"
      ],
      "metadata": {
        "id": "GFntuFu_kb90"
      }
    },
    {
      "cell_type": "markdown",
      "source": [
        "# phpMyAdminでのデータベース作成"
      ],
      "metadata": {
        "id": "RDwC0PQ0like"
      }
    },
    {
      "cell_type": "markdown",
      "source": [
        "1. **phpMyAdminへのアクセス**  \n",
        "   - XAMPPまたはMAMPが起動している状態で、phpMyAdminにアクセスします。XAMPPの場合は、コントロールパネルの「MySQL」セクションの「Admin」ボタンをクリック。MAMPの場合は、MAMPスタートページから「Tools」メニューの「phpMyAdmin」を選択します。\n",
        "\n",
        "2. **データベースの新規作成**  \n",
        "   - phpMyAdminのトップページで、「新規作成」をクリックします。データベース名を入力するフィールドが表示されるので、任意のデータベース名を入力します。照合順序は「utf8mb4_general_ci」を選択して、「作成」ボタンをクリックします。\n",
        "\n",
        "### phpMyAdminでのテーブル作成\n",
        "\n",
        "1. **データベースの選択**  \n",
        "   - 作成したデータベースを左サイドバーから選択します。データベースを選択すると、そのデータベース内での操作が可能になります。\n",
        "\n",
        "2. **テーブルの作成**  \n",
        "   - 「名前」と「カラム数」を指定します。テーブル名を入力し、必要なカラム数（フィールド数）を指定したら、「実行」ボタンをクリックします。\n",
        "\n",
        "3. **カラムの設定**  \n",
        "   - 各カラム（フィールド）の名前、型、長さ/値、属性、デフォルト値、コラムコリメーション、属性、Null許容、インデックス、A_I（オートインクリメント）などの詳細を設定します。必要な情報を入力し、「保存」をクリックします。\n",
        "\n",
        "### 注意点\n",
        "\n",
        "- **照合順序の選択**  \n",
        "   - 照合順序は、文字の比較やソート時に使用されるルールを定義します。「utf8mb4_general_ci」は、一般的に多言語対応のために推奨される照合順序です。\n",
        "\n",
        "- **テーブル設定の重要性**  \n",
        "   - テーブルを作成する際には、将来のデータ操作や検索を効率的に行えるよう、適切なデータ型やインデックスを設定することが重要です。\n",
        "\n",
        "これらのステップに従って、phpMyAdminを使用してデータベースとテーブルを作成することができます。"
      ],
      "metadata": {
        "id": "mix4lwAulVG_"
      }
    },
    {
      "cell_type": "markdown",
      "source": [
        "### python例文"
      ],
      "metadata": {
        "id": "TgF5jqCAlXce"
      }
    },
    {
      "cell_type": "code",
      "source": [
        "# PythonでMySQLデータベースに接続し基本的な操作をする例\n",
        "\n",
        "import mysql.connector\n",
        "\n",
        "# データベース接続設定\n",
        "config = {\n",
        "    'user': 'root',\n",
        "    'password': 'your_password',\n",
        "    'host': 'localhost',\n",
        "    'database': 'your_database',\n",
        "    'raise_on_warnings': True,\n",
        "}\n",
        "\n",
        "# データベースに接続\n",
        "db = mysql.connector.connect(**config)\n",
        "\n",
        "# カーソルを作成\n",
        "cursor = db.cursor()\n",
        "\n",
        "# 新しいデータベースの作成\n",
        "cursor.execute(\"CREATE DATABASE mydatabase CHARACTER SET utf8mb4 COLLATE utf8mb4_general_ci;\")\n",
        "\n",
        "# データベースを選択\n",
        "cursor.execute(\"USE mydatabase;\")\n",
        "\n",
        "# 新しいテーブルの作成\n",
        "cursor.execute(\"\"\"\n",
        "CREATE TABLE mytable (\n",
        "    id INT AUTO_INCREMENT PRIMARY KEY,\n",
        "    name VARCHAR(255),\n",
        "    email VARCHAR(255),\n",
        "    age INT\n",
        ");\n",
        "\"\"\")\n",
        "\n",
        "# データベース接続を閉じる\n",
        "db.close()"
      ],
      "metadata": {
        "id": "ci5wrblKlHb2"
      },
      "execution_count": null,
      "outputs": []
    },
    {
      "cell_type": "markdown",
      "source": [
        ">このコードは、MySQLデータベースに接続し、新しいデータベースとテーブルを作成する基本的なプロセスを示しています。実際にこれらの操作を行う前に、`your_password`と`your_database`を適切な値に書き換え、必要に応じてMySQLサーバーが稼働していることを確認してください。また、phpMyAdminでの操作をコードで実行する場合、GUIの視覚的なフィードバックは得られませんが、同様の結果を得ることができます。"
      ],
      "metadata": {
        "id": "8uwEEf2OlMVr"
      }
    },
    {
      "cell_type": "markdown",
      "source": [
        "# データ型の種類を理解しよう"
      ],
      "metadata": {
        "id": "dRCRW-ZXmXen"
      }
    },
    {
      "cell_type": "markdown",
      "source": [
        "- **データ型の重要性**\n",
        "  - データベースに保管されるデータには様々な「型」があり、これを「データ型」と呼ぶ。データ型はデータの追加や取得時に非常に重要な概念であり、取り扱うデータに適した型を設定することが必要。\n",
        "\n",
        "- **データ型の種類**\n",
        "  - データ型には主に数値型、文字列型、日付型、論理型の4種類がある。これらの型は、テーブル作成時のカラム設定やデータ追加時に特定のデータ型のみを保管できるよう制限されている。\n",
        "\n",
        "- **数値型**\n",
        "  - 数値型には整数を扱う「int」や小数点を含む数値を扱う「float」がある。これらは金額や年齢、ユーザーIDなど数値情報の保管に用いられる。\n",
        "\n",
        "- **文字列型**\n",
        "  - 文字列型には可変長の文字列を保管する「varchar」や大量の文字を保管する「text」が含まれる。ユーザー名や住所などの文字情報の保管に適している。\n",
        "\n",
        "- **日付型**\n",
        "  - 日付型には「date」や「datetime」があり、それぞれ年月日のみ、または年月日と時刻の情報を保管できる。記事の公開日時やイベントの開催日時の保管に利用される。\n",
        "\n",
        "- **論理型**\n",
        "  - 論理型は「boolean」としても知られ、真偽値（TRUEまたはFALSE）を表す。記事の公開・非公開フラグなどの二択の状態を管理するのに用いられる。\n",
        "\n",
        ">データベースに入れるデータには「型」っていうのがあって、これがデータ型だよ。データ型には、数字や文字、日付、そしてYESかNOみたいな真偽値を扱うためのものがあるんだ。例えば、お金の金額や人の年齢は数値型、名前やメールアドレスは文字列型、記事が投稿された日は日付型、何かがオンかオフかみたいなのは論理型で扱うんだよ。これらの型をちゃんと使い分けることが、データベースをうまく管理するコツだね。\n",
        "\n",
        "### python例文\n",
        "データベースのデータ型を理解するためのPythonコード例を示すことは、直接的ではありませんが、Pythonを使用してデータベースに接続し、異なるデータ型を持つテーブルを作成する基本的な例を提供することは可能です。\n"
      ],
      "metadata": {
        "id": "8zMsf9GkmTj5"
      }
    },
    {
      "cell_type": "code",
      "source": [
        "# PythonでMySQLデータベースに接続し、異なるデータ型を持つテーブルを作成する例\n",
        "\n",
        "import mysql.connector\n",
        "\n",
        "# データベース接続設定\n",
        "config = {\n",
        "    'user': 'root',\n",
        "    'password': 'your_password',\n",
        "    'host': 'localhost',\n",
        "    'database': 'your_database',\n",
        "    'raise_on_warnings': True,\n",
        "}\n",
        "\n",
        "# データベースに接続\n",
        "db = mysql.connector.connect(**config)\n",
        "\n",
        "# カーソ\n",
        "\n",
        "ルを作成\n",
        "cursor = db.cursor()\n",
        "\n",
        "# テーブル作成SQL\n",
        "create_table_sql = \"\"\"\n",
        "CREATE TABLE sample_table (\n",
        "    id INT AUTO_INCREMENT PRIMARY KEY,\n",
        "    name VARCHAR(100),\n",
        "    email TEXT,\n",
        "    age INT,\n",
        "    registration_date DATE,\n",
        "    last_login_datetime DATETIME,\n",
        "    is_active BOOLEAN\n",
        ");\n",
        "\"\"\"\n",
        "\n",
        "# テーブル作成を実行\n",
        "cursor.execute(create_table_sql)\n",
        "\n",
        "# データベース接続を閉じる\n",
        "db.close()\n"
      ],
      "metadata": {
        "id": "FkmC1086mkEw"
      },
      "execution_count": null,
      "outputs": []
    },
    {
      "cell_type": "markdown",
      "source": [
        ">このコードは、異なるデータ型を持つテーブルを作成する方法を示しています。実際にこのスクリプトを実行する前に、`your_password`と`your_database`を適切な値に書き換える必要があります。また、このコードはMySQLデータベースを対象としていますが、使用しているデータベースに応じて適宜調整してください。"
      ],
      "metadata": {
        "id": "91GZ7l1Omqf6"
      }
    },
    {
      "cell_type": "markdown",
      "source": [
        "# SQLでデータベースとテーブルの操作\n"
      ],
      "metadata": {
        "id": "NOsvPmU_ncJj"
      }
    },
    {
      "cell_type": "markdown",
      "source": [
        "\n",
        "#### データベースやテーブルの作成：CREATE文の使用\n",
        "\n",
        "- **データベース作成**  \n",
        "  `CREATE DATABASE データベース名;`  \n",
        "  このコマンドで新しいデータベースを作成します。データベース名は英小文字で記述。\n",
        "\n",
        "- **テーブル作成**  \n",
        "  `CREATE TABLE テーブル名 (カラム名 データ型, ...);`  \n",
        "  テーブルを作成し、カラム名とデータ型を定義します。適切なデータ型を指定することで、保管するデータの性質を定めます。\n",
        "\n",
        "#### データベースやテーブルの一覧表示：SHOW文の使用\n",
        "\n",
        "- **データベース一覧の表示**  \n",
        "  `SHOW DATABASES;`  \n",
        "  システム上に存在するすべてのデータベースの一覧を表示します。\n",
        "\n",
        "- **テーブル一覧の表示**  \n",
        "  `SHOW TABLES;`  \n",
        "  現在選択しているデータベース内のテーブル一覧を表示します。\n",
        "\n",
        "#### データベースやテーブルの削除：DROP文の使用\n",
        "\n",
        "- **データベースの削除**  \n",
        "  `DROP DATABASE データベース名;`  \n",
        "  指定したデータベースを削除します。この操作は取り返しのつかないため、慎重に実行する必要があります。\n",
        "\n",
        "- **テーブルの削除**  \n",
        "  `DROP TABLE テーブル名;`  \n",
        "  指定したテーブルを削除します。データベースからテーブルを取り除くときに使用します。\n",
        "\n",
        "#### 実践：phpMyAdminでの操作\n",
        "\n",
        "- **CREATE文の実行**  \n",
        "  phpMyAdminの「SQL」タブから、上述のCREATE文を入力してデータベースやテーブルを作成します。操作画面でSQL文を直接入力し、「実行」ボタンをクリックすることでコマンドが実行されます。\n",
        "\n",
        "- **SHOW文による一覧表示**  \n",
        "  同じく「SQL」タブからSHOW文を実行し、データベースやテーブルの一覧を確認します。\n",
        "\n",
        "- **DROP文による削除操作**  \n",
        "  不要になったデータベースやテーブルを安全に削除するために、DROP文を利用します。「SQL」タブからDROP文を入力し、削除を実行します。\n",
        "\n",
        "### まとめ\n",
        "\n",
        "この章では、データベースやテーブルを作成・取得・削除する基本的なSQLコマンド（CREATE、SHOW、DROP文）の使い方を学びました。phpMyAdminを用いることで、これらの操作を視覚的に簡単に行うことができます。次章では、データの取得や操作に関するさらなるSQLコマンドについて学習していきます。"
      ],
      "metadata": {
        "id": "qWVwteiBnNY1"
      }
    },
    {
      "cell_type": "markdown",
      "source": [
        "# 課題：データベースとテーブルを作成し、データを取得・削除\n"
      ],
      "metadata": {
        "id": "WniRiYioiZA9"
      }
    },
    {
      "cell_type": "markdown",
      "source": [
        "\n",
        "- **データベースとテーブルの作成**\n",
        "  - データベース「lesson5」を作成する。\n",
        "  - 「products」テーブルを作成し、`id`, `name`, `brand`, `price`, `weight`といったカラムを含める。`id`は主キーとして設定。\n",
        "\n",
        "- **データの取得と削除**\n",
        "  - 作成したデータベースの一覧を取得する。\n",
        "  - 「products」テーブルの一覧を取得する。\n",
        "  - データベース「lesson5」を削除する。\n",
        "\n",
        "- **キャプチャの取得**\n",
        "  - 各ステップのコマンド実行と結果を「images」ディレクトリ内に保存し、ファイル名をステップに応じて命名する。\n",
        "\n",
        "これは、データベースとテーブルの作成からデータの取得、そして削除までを学ぶ課題です。最初に「lesson5」という名前のデータベースを作り、「products」というテーブルを用意します。このテーブルには商品のID、名前、ブランド、価格、重量を記録します。その後、データベースとテーブルの一覧を見て、最終的に「lesson5」データベースを削除します。作業の進行は、各ステップごとにスクリーンショットを撮り、それを「images」フォルダに保存することで確認できます。\n",
        "\n",
        "\n",
        "\n"
      ],
      "metadata": {
        "id": "RIc2xOvghhCS"
      }
    },
    {
      "cell_type": "markdown",
      "source": [
        "## SQL例文"
      ],
      "metadata": {
        "id": "bRNkJ_cgh7Pi"
      }
    },
    {
      "cell_type": "markdown",
      "source": [
        "\n",
        "\n",
        "```sql\n",
        "# データベースとテーブルの作成\n",
        "create_database = \"CREATE DATABASE lesson5;\"\n",
        "create_table = \"\"\"\n",
        "CREATE TABLE products (\n",
        "    id INT(11) NOT NULL AUTO_INCREMENT,\n",
        "    name VARCHAR(256) NOT NULL,\n",
        "    brand VARCHAR(256) NOT NULL,\n",
        "    price INT(11) NOT NULL,\n",
        "    weight INT(11),\n",
        "    PRIMARY KEY (id)\n",
        ");\n",
        "\"\"\"\n",
        "\n",
        "# データベースとテーブルの取得\n",
        "show_databases = \"SHOW DATABASES;\"\n",
        "show_tables = \"SHOW TABLES;\"\n",
        "\n",
        "# データベースの削除\n",
        "drop_database = \"DROP DATABASE lesson5;\"\n",
        "\n",
        "# 各SQLコマンドは、対応するデータベース管理システム上で実行する必要があります。\n",
        "# PythonのMySQLコネクタを使用してこれらのコマンドを実行することも可能です。\n",
        "```\n",
        "\n"
      ],
      "metadata": {
        "id": "rS7iMOc5oQ2M"
      }
    },
    {
      "cell_type": "markdown",
      "source": [
        "\n",
        "各コードブロックには、データベースやテーブルの作成、取得、削除を行うSQLコマンドが含まれています。これらのコマンドをPythonスクリプトやJupyter Notebook、Google Colab上でMySQLデータベースに接続して実行することで、課題の要件を満たすことができます。特に、`CREATE TABLE`文には`alt_text`の内容を反映させる形でテーブルの構造を定義しています。"
      ],
      "metadata": {
        "id": "ct0LbzbOhgTz"
      }
    },
    {
      "cell_type": "markdown",
      "source": [
        "# SQLでデータ操作：取得、追加、更新、削除\n"
      ],
      "metadata": {
        "id": "A6_Fb-jqoFYu"
      }
    },
    {
      "cell_type": "markdown",
      "source": [
        "\n",
        "#### データ操作の準備：データベースとテーブルの再構築\n",
        "\n",
        "- 再びデータベース`lesson`とテーブル`users`を作成します。前章で削除したこれらを、phpMyAdminで指定のSQL文を用いて再構築します。\n",
        "\n",
        "```sql\n",
        "CREATE DATABASE lesson;\n",
        "```\n",
        "\n",
        "```sql\n",
        "CREATE TABLE IF NOT EXISTS users (\n",
        "    id INT(11) NOT NULL AUTO_INCREMENT PRIMARY KEY,\n",
        "    name VARCHAR(256) NOT NULL,\n",
        "    furigana VARCHAR(256) NOT NULL,\n",
        "    email VARCHAR(256) NOT NULL,\n",
        "    age INT(11),\n",
        "    address VARCHAR(256)\n",
        ");\n",
        "```\n",
        "\n",
        "#### ダミーデータの追加：CSVファイルのインポート\n",
        "\n",
        "- phpMyAdminを用いてCSVファイルからダミーデータをテーブル`users`に追加します。これにより、実際のデータ操作をより実践的に学習できます。\n",
        "\n",
        "#### データの取得：SELECT文の使用\n",
        "\n",
        "- テーブルから特定のデータを取得する基本的なSQLコマンドは`SELECT`文です。このコマンドを使い、必要なデータを取り出します。\n",
        "\n",
        "```sql\n",
        "SELECT name FROM users;\n",
        "```\n",
        "\n",
        "#### データの追加：INSERT文の使用\n",
        "\n",
        "- 新しいデータをテーブルに追加するには`INSERT`文を使用します。このコマンドで新規データをテーブルに挿入できます。\n",
        "\n",
        "```sql\n",
        "INSERT INTO users (id, name, furigana, email, age, address) VALUES (31, '侍 太郎', 'さむらい たろう', 'samurai_taro@example.com', 36, '東京都');\n",
        "```\n",
        "\n",
        "#### データの更新：UPDATE文の使用\n",
        "\n",
        "- テーブル内の既存のデータを更新するには`UPDATE`文を利用します。特定の条件を満たすデータの値を変更できます。\n",
        "\n",
        "```sql\n",
        "UPDATE users SET age = 37, address = '沖縄県' WHERE id = 31;\n",
        "```\n",
        "\n",
        "#### データの削除：DELETE文の使用\n",
        "\n",
        "- テーブルから特定のデータを削除するには`DELETE`文を使います。不要になったデータを安全に削除できます。\n",
        "\n",
        "```sql\n",
        "DELETE FROM users WHERE id = 31;\n",
        "```\n",
        "\n",
        "#### テーブルのコメント追加：ALTER文の使用\n",
        "\n",
        "- テーブルに関する追加情報をコメントとして記載するには`ALTER`文を使用します。これにより、他の開発者への情報伝達が容易になります。\n",
        "\n",
        "```sql\n",
        "ALTER TABLE users COMMENT 'ユーザー情報';\n",
        "```\n",
        "\n",
        "### まとめ\n",
        "\n",
        "この章ではSQLの基本的なデータ操作コマンドを学習しました。これらのコマンドはデータベース管理において非常に重要であり、Web開発における様々なシナリオで使用されます。データの取得、追加、更新、削除はデータベース操作の基本であり、これらの技術をマスターすることは、効率的なデータ管理とアプリケーション開発に不可欠です。"
      ],
      "metadata": {
        "id": "OoSTpC2koCLV"
      }
    },
    {
      "cell_type": "markdown",
      "source": [
        "# SQLで特定のデータ検索"
      ],
      "metadata": {
        "id": "0WH9cKrOpT0H"
      }
    },
    {
      "cell_type": "markdown",
      "source": [
        "\n",
        "\n",
        "#### 目標\n",
        "\n",
        "- SQLを用いて特定のデータを検索する方法を学ぶ。\n",
        "- `WHERE`句で使用可能な演算子について理解する。\n",
        "\n",
        "#### `WHERE`句でのデータ検索\n",
        "\n",
        "- `WHERE`句を用いてテーブル内の特定条件を満たすデータを検索する。\n",
        "\n",
        "```sql\n",
        "SELECT * FROM users WHERE address = '東京都';\n",
        "```\n",
        "\n",
        "#### 演算子の種類\n",
        "\n",
        "- **比較演算子**と**論理演算子**があり、これらを使用してより詳細な検索条件を設定する。\n",
        "\n",
        "##### 比較演算子\n",
        "\n",
        "| 演算子 | 使用例 | 意味 |\n",
        "|--------|--------|------|\n",
        "| `=`    | `A = B` | AとBが等しい場合、TRUE |\n",
        "| `!=`   | `A != B` | AとBが等しくない場合、TRUE |\n",
        "| `<`    | `A < B` | AがBより小さい場合、TRUE |\n",
        "| `<=`   | `A <= B` | AがB以下の場合、TRUE |\n",
        "| `>`    | `A > B` | AがBより大きい場合、TRUE |\n",
        "| `>=`   | `A >= B` | AがB以上の場合、TRUE |\n",
        "| `IS NULL` | `A IS NULL` | AがNULLの場合、TRUE |\n",
        "| `IS NOT NULL` | `A IS NOT NULL` | AがNULLでない場合、TRUE |\n",
        "\n",
        "##### 論理演算子\n",
        "\n",
        "| 演算子 | 使用例 | 意味 |\n",
        "|--------|--------|------|\n",
        "| `AND`  | `A AND B` | AとBが両方TRUEの場合、TRUE |\n",
        "| `OR`   | `A OR B` | AまたはBのどちらかがTRUEの場合、TRUE |\n",
        "| `NOT`  | `NOT A` | AがFALSEの場合、TRUE |\n",
        "\n",
        "#### 演算子の使用例\n",
        "\n",
        "- **比較演算子**を使用して年齢が30歳以下のレコードを検索。\n",
        "\n",
        "```sql\n",
        "SELECT * FROM users WHERE age <= 30;\n",
        "```\n",
        "\n",
        "- **論理演算子**を使用して年齢が30歳以上かつ住所が神奈川県のレコードを検索。\n",
        "\n",
        "```sql\n",
        "SELECT * FROM users WHERE age >= 30 AND address = '神奈川県';\n",
        "```\n",
        "\n",
        "### まとめ\n",
        "\n",
        "この章では、SQLで特定の条件に合致するデータを検索する方法を学びました。`WHERE`句を用いて具体的な条件を設定し、比較演算子や論理演算子を活用することで、必要なデータを効率的に取り出すことが可能です。これらの知識は、アプリやサービス開発において重要なデータ操作の基礎となります。次章では、これらの概念をさらに応用し、複雑なデータ検索方法について学習していきます。"
      ],
      "metadata": {
        "id": "YzaCzQnapQ2r"
      }
    },
    {
      "cell_type": "markdown",
      "source": [
        "#SQLで特定のデータを検索しよう 2"
      ],
      "metadata": {
        "id": "-8fKZEIxp9dy"
      }
    },
    {
      "cell_type": "markdown",
      "source": [
        "#### 目標\n",
        "- 複数条件の指定 (AND, OR演算子)\n",
        "- 指定範囲のデータ抽出 (BETWEEN句)\n",
        "- 複数値一致のデータ抽出 (IN句)\n",
        "- あいまい検索 (LIKE句)\n",
        "\n",
        "#### WHERE句の復習\n",
        "```sql\n",
        "-- データ取得\n",
        "SELECT カラム名 FROM テーブル名 WHERE 条件式;\n",
        "-- データ更新\n",
        "UPDATE テーブル名 SET カラム名1 = 値1 WHERE 条件式;\n",
        "-- データ削除\n",
        "DELETE FROM テーブル名 WHERE 条件式;\n",
        "```\n",
        "\n",
        "#### 演算子の復習\n",
        "- **比較演算子**: =, !=, <, <=, >, >=, IS NULL, IS NOT NULL\n",
        "- **論理演算子**: AND, OR, NOT\n",
        "\n",
        "#### ANDとOR演算子\n",
        "- 複数条件の組み合わせに使用\n",
        "```sql\n",
        "-- 年齢が30歳以上かつ住所が神奈川県または大阪府\n",
        "SELECT * FROM users WHERE age >= 30 AND (address = '神奈川県' OR address = '大阪府');\n",
        "```\n",
        "\n",
        "#### BETWEEN句\n",
        "- 指定範囲のデータを抽出\n",
        "```sql\n",
        "-- 年齢が30歳以上40歳以下\n",
        "SELECT * FROM users WHERE age BETWEEN 30 AND 40;\n",
        "```\n",
        "\n",
        "#### IN句\n",
        "- 複数の値のうち一致するデータを抽出\n",
        "```sql\n",
        "-- 年齢が5, 15, 25, 35, 45, 55, 65, 75歳のユーザー\n",
        "SELECT * FROM users WHERE age IN (5, 15, 25, 35, 45, 55, 65, 75);\n",
        "```\n",
        "\n",
        "#### LIKE句\n",
        "- 文字列のあいまい検索\n",
        "```sql\n",
        "-- 氏名に「八」を含むユーザー\n",
        "SELECT * FROM users WHERE name LIKE '%八%';\n",
        "```\n",
        "\n",
        "#### まとめ\n",
        "- 複数条件の指定、範囲指定、複数値一致、あいまい検索をマスター\n",
        "- ワイルドカード (`%`, `_`) を使って柔軟な検索条件を作成\n",
        "\n",
        "次章では、SQLで取得するデータ数の上限を設定するLIMIT句について学びます。"
      ],
      "metadata": {
        "id": "AmsaFHTrp6gY"
      }
    },
    {
      "cell_type": "markdown",
      "source": [
        "# 課題: 複数の条件でデータを検索しよう\n"
      ],
      "metadata": {
        "id": "o1tg1qndrDv8"
      }
    },
    {
      "cell_type": "markdown",
      "source": [
        "#### 目標\n",
        "- SQLの基本構文とWHERE句を活用して特定のデータを検索\n",
        "- 複雑な条件でデータ検索\n",
        "\n",
        "#### 課題内容\n",
        "- 複数条件のデータ検索実施\n",
        "- データベース環境構築、基本SQL構文、特定データ検索法を活用\n",
        "\n",
        "#### 作業手順\n",
        "1. **環境準備**\n",
        "   - `kadai_008`ディレクトリとその下の`images`ディレクトリを作成\n",
        "   - 各ステップのコマンドと結果のスクリーンショットを`images`に保存\n",
        "\n",
        "2. **データベースとテーブル作成**\n",
        "   - `lesson`データベースと`users`テーブルを準備\n",
        "\n",
        "3. **WHERE句でのデータ検索**\n",
        "   - 年齢が50歳以下かつ住所が埼玉県のデータを検索\n",
        "\n",
        "4. **IN句でのデータ検索**\n",
        "   - 九州の7県に住むユーザーデータを検索\n",
        "\n",
        "#### 合格基準\n",
        "- SQLの基本構文とWHERE句を組み合わせた特定データ検索ができている\n",
        "- WHERE句と演算子を組み合わせた複雑な条件でのデータ検索ができている\n",
        "- 実行結果のスクリーンショットが添付されている\n",
        "\n",
        "\n",
        "\n"
      ],
      "metadata": {
        "id": "74_D_lFurBV8"
      }
    },
    {
      "cell_type": "markdown",
      "source": [
        "## 模範回答"
      ],
      "metadata": {
        "id": "oTZMYE4ErS9G"
      }
    },
    {
      "cell_type": "markdown",
      "source": [
        "##### Step3: WHERE句でのデータ検索\n",
        "```sql\n",
        "SELECT * FROM users WHERE age <= 50 AND address = '埼玉県';\n",
        "```\n",
        "\n",
        "##### Step4: IN句でのデータ検索\n",
        "```sql\n",
        "SELECT * FROM users WHERE address IN ('福岡県', '佐賀県', '長崎県', '熊本県', '大分県', '宮崎県', '鹿児島県');\n",
        "```\n"
      ],
      "metadata": {
        "id": "IA_v9SFMrQ8b"
      }
    },
    {
      "cell_type": "markdown",
      "source": [
        "# SQLで取得するデータ数の上限を設定しよう\n"
      ],
      "metadata": {
        "id": "s6uh3JjHr7Mz"
      }
    },
    {
      "cell_type": "markdown",
      "source": [
        "#### 目標\n",
        "この章では、SQLクエリで取得するデータの数に上限を設定する方法について学びます。\n",
        "\n",
        "#### LIMIT句で取得するデータ数の上限を設定しよう\n",
        "データを表示する際に一定数に限定する必要がある場面では、SQLの`LIMIT`句を使用します。これにより、例えば1ページあたりに表示するデータの数を制御することができます。\n",
        "\n",
        "##### LIMIT句の書き方\n",
        "LIMIT句を用いたSQLクエリの基本形式は以下の通りです。\n",
        "\n",
        "```sql\n",
        "SELECT カラム名 FROM テーブル名 LIMIT 最大件数;\n",
        "```\n",
        "\n",
        "##### LIMIT句の使用例\n",
        "最大10件のデータを取得するクエリ例です。\n",
        "\n",
        "```sql\n",
        "SELECT * FROM users LIMIT 10;\n",
        "```\n",
        "\n",
        "このクエリを実行すると、`users`テーブルから最大10件のデータが取得されます。これにより、データの取得件数を制限できます。\n",
        "\n",
        "#### まとめ\n",
        "この章では、データ取得時に`LIMIT`句を用いることで取得件数の上限を設定する方法を学びました。これにより、アプリケーションやサービスでユーザーに一度に表示する情報の量を制御することが可能になります。\n",
        "\n",
        "次の章では、取得したデータの並び替えについて学んでいきます。これまでの学習を基に、さらにデータベース操作のスキルを深めていきましょう。"
      ],
      "metadata": {
        "id": "4O-dBesBr4aN"
      }
    },
    {
      "cell_type": "markdown",
      "source": [
        "#SQLで取得するデータを並び替えよう"
      ],
      "metadata": {
        "id": "rEpz3iq2tKZO"
      }
    },
    {
      "cell_type": "markdown",
      "source": [
        "#### 目標\n",
        "- SQLにおけるデータの並び替え方法を習得する。\n",
        "- 複数カラム指定によるデータ並び替えを実践。\n",
        "- WHERE句との組み合わせにより、特定のデータのみを並び替える技術を学ぶ。\n",
        "\n",
        "#### ORDER BY句の基本\n",
        "- SQLのORDER BY句を利用して、データを昇順（ASC）または降順（DESC）で並び替える。\n",
        "- 昇順は数値の小さい順、文字列のアルファベット順（A→Z）、日時の古い順に並べる。\n",
        "- 降順は数値の大きい順、文字列のアルファベット逆順（Z→A）、日時の新しい順に並べる。\n",
        "- デフォルトは昇順（ASC）。\n",
        "\n",
        "```sql\n",
        "-- 昇順に並び替える例\n",
        "SELECT * FROM users ORDER BY age ASC;\n",
        "```\n",
        "\n",
        "```sql\n",
        "-- 降順に並び替える例\n",
        "SELECT * FROM users ORDER BY age DESC;\n",
        "```\n",
        "\n",
        "#### 複数カラムによる並び替え\n",
        "- ORDER BY句では、複数のカラムを指定して並び替えを行うことが可能。\n",
        "- 複数カラム指定時は、指定した順番に従って優先的に並び替えが実施される。\n",
        "\n",
        "```sql\n",
        "-- 年齢の降順、ふりがなの昇順で並び替える例\n",
        "SELECT * FROM users ORDER BY age DESC, furigana ASC;\n",
        "```\n",
        "\n",
        "#### WHERE句との組み合わせ\n",
        "- ORDER BY句はWHERE句と組み合わせて使用することで、条件に合致する特定のデータのみを並び替えることができる。\n",
        "\n",
        "```sql\n",
        "-- 30歳以上のユーザーを年齢の昇順で並び替える例\n",
        "SELECT * FROM users WHERE age >= 30 ORDER BY age ASC;\n",
        "```\n",
        "\n",
        ">SQLでは、ORDER BY句を使ってデータの並び替えができるんだ。昇順や降順で、数字や文字、日時の順番を整理できるよ。もし複数の項目で並び替えたいときは、カラムを複数指定して順番をつけられる。そして、特定のデータだけをピックアップして並び替えたい場合は、WHERE句と組み合わせるといいね。これで、例えば商品を価格順に並べたり、最新の投稿だけを上に表示したりすることが可能になるよ。\n",
        "\n",
        "### 教材内の例文を全て網羅し、Colabで展開可能なPythonコード\n",
        "この教材では、具体的なPythonコードは提示されていませんが、SQLの基本的な構文として、以下のSQL文が学習ポイントです。\n",
        "\n",
        "- 昇順に並び替える基本構文\n",
        "```sql\n",
        "SELECT * FROM users ORDER BY age ASC;\n",
        "```\n",
        "\n",
        "- 降順に並び替える基本構文\n",
        "```sql\n",
        "SELECT * FROM users ORDER BY age DESC;\n",
        "```\n",
        "\n",
        "- 複数カラムを指定して並び替える構文\n",
        "```sql\n",
        "SELECT * FROM users ORDER BY age DESC, furigana ASC;\n",
        "```\n",
        "\n",
        "- WHERE句と組み合わせた並び替え\n",
        "```sql\n",
        "SELECT * FROM users WHERE age >= 30 ORDER BY age ASC;\n",
        "```\n",
        "\n",
        "これらのコマンドは、SQLを実行できる環境であれば、そのまま利用可能です。PythonやColabで直接実行するには、適切なデータベース接続ライブラリ（例：`sqlite3`, `pymysql`など）を使用し、これらのSQL文を実行する必要があります。"
      ],
      "metadata": {
        "id": "rRBSinCptIuP"
      }
    },
    {
      "cell_type": "markdown",
      "source": [
        "#[課題]取得したデータをグループ化しよう"
      ],
      "metadata": {
        "id": "iKxlrlR9vwMC"
      }
    },
    {
      "cell_type": "markdown",
      "source": [
        "#### 目標\n",
        "- SQLを使用してデータのグループ化を実行できる能力の習得。\n",
        "\n",
        "#### 課題内容\n",
        "- 年齢別のユーザー数をグループ化し、特定の年齢（59歳）にデータを絞り込む。\n",
        "\n",
        "#### 参考章\n",
        "- 第3章: データベースの学習環境構築。\n",
        "- 第11章: SQLの関数を使ったデータ集計。\n",
        "- 第12章: データのグループ化。\n",
        "\n",
        "#### 作業手順\n",
        "1. ローカル環境に課題用ディレクトリ`kadai_012`と画像格納用の`images`ディレクトリを作成。\n",
        "2. データベース`lesson`と`users`テーブルを準備（画像キャプチャ不要）。\n",
        "3. `GROUP BY`句を用いて年齢別ユーザー数を集計し、`HAVING`句で年齢が59歳のデータに絞り込む。\n",
        "\n",
        "#### 合格基準\n",
        "- `COUNT`関数、`GROUP BY`句、`HAVING`句を組み合わせたデータ絞り込みの実行。\n",
        "- 実行結果の画像キャプチャ添付。\n",
        "\n",
        "#### 提出方法\n",
        "- GitHubリポジトリ`sql-basic-kadai`に`kadai_012`ディレクトリをプッシュ。\n",
        "- 提出物URLとして、GitHubのディレクトリURLを課題提出フォームに記入。\n",
        "- 成果物のスクリーンショットを課題提出フォームに貼り付け。\n",
        "\n",
        "。"
      ],
      "metadata": {
        "id": "eI-LHRqsvs7h"
      }
    },
    {
      "cell_type": "markdown",
      "source": [
        "## 模範回答"
      ],
      "metadata": {
        "id": "n_3eY6Ngv3PS"
      }
    },
    {
      "cell_type": "markdown",
      "source": [
        "```sql\n",
        "-- 年齢別ユーザー数の取得\n",
        "SELECT age, COUNT(*) AS user_count FROM users GROUP BY age;\n",
        "\n",
        "-- 年齢が59歳のユーザー数に絞り込む\n",
        "SELECT age, COUNT(*) AS user_count FROM users GROUP BY age HAVING age = 59;\n",
        "```\n",
        "\n",
        "このSQL文は、まず全ユーザーを年齢別にグループ化し、各グループのユーザー数を計算します。続いて、年齢が59歳のユーザーグループのみに絞り込み、そのユーザー数を表示します"
      ],
      "metadata": {
        "id": "w-1fziwtv54F"
      }
    },
    {
      "cell_type": "markdown",
      "source": [
        "#SQLで複数のテーブルを結合しよう\n"
      ],
      "metadata": {
        "id": "EFYCkDpFyndM"
      }
    },
    {
      "cell_type": "markdown",
      "source": [
        "\n",
        "#### 教材の要約\n",
        "\n",
        "- **目標**: SQLでのテーブル結合方法の習得、テーブル結合の種類の理解。\n",
        "- **内容**: 複数テーブルの結合方法、特に`JOIN`句の使用方法を詳述。\n",
        "- **方法**:\n",
        "  - **基本形式**: `SELECT カラム名 FROM テーブルA JOIN テーブルB ON 結合条件;`\n",
        "  - **結合種類**:\n",
        "    - `INNER JOIN`: 両テーブルで合致するレコードのみ結合。\n",
        "    - `LEFT OUTER JOIN`: 左テーブルを基準に結合。\n",
        "    - `RIGHT OUTER JOIN`: 右テーブルを基準に結合。\n",
        "    - `FULL OUTER JOIN`: 両テーブルの全レコードを基準に結合（MySQLでは非対応）。\n",
        "    - `CROSS JOIN`: 両テーブルのレコードを総当たりで結合。\n",
        "  - **3テーブル以上の結合**: 複数の`JOIN`句を連鎖させて使用。\n",
        "\n",
        "#### 補足\n",
        "\n",
        "- **外部キー**: 他のテーブルにあるカラムを参照するカラム。データの整合性保持に役立つ。\n",
        "- **結合順序**: `JOIN`句の順序によって、結果の表示順序や内容が変わる可能性があるため注意が必要。\n",
        "\n",
        ">SQLで複数のテーブルをうまく結合させる方法を学びました。結合にはいくつかの種類があり、それぞれに特徴があります。基本は`JOIN`句を使って、必要に応じて`INNER JOIN`、`LEFT OUTER JOIN`、`RIGHT OUTER JOIN`、`CROSS JOIN`などを選択します。また、外部キーを使ってテーブル間の関連を設定することで、データの整合性を保ちながら効率的に情報を取り出すことが可能です。複数の`JOIN`句を組み合わせることで、3つ以上のテーブルも結合できますが、結合の順序に注意が必要です。\n",
        "\n",
        "### 例文コード・コマンド\n",
        "\n",
        "```sql\n",
        "-- 内部結合: 社員テーブルと部署テーブルの結合例\n",
        "SELECT * FROM employees INNER JOIN departments ON departments.id = employees.dep_id;\n",
        "\n",
        "-- 左外部結合: 社員テーブルを基準に部署情報を取得\n",
        "SELECT * FROM employees LEFT OUTER JOIN departments ON departments.id = employees.dep_id;\n",
        "\n",
        "-- 右外部結合: 部署テーブルを基準に社員情報を取得\n",
        "SELECT * FROM employees RIGHT OUTER JOIN departments ON departments.id = employees.dep_id;\n",
        "\n",
        "-- 交差結合: 社員テーブルと部署テーブルの総当たり結合\n",
        "SELECT * FROM employees CROSS JOIN departments;\n",
        "```\n",
        "\n",
        "各SQL文は、特定の結合条件下でテーブル間のデータを結合し、関連する情報を取得するためのものです。`INNER JOIN`は両テーブルに共通するデータのみを結合、`LEFT OUTER JOIN`と`RIGHT OUTER JOIN`は片方のテーブルを基準に結合、`CROSS JOIN`は両テーブルの全データを組み合わせる形で結合します。"
      ],
      "metadata": {
        "id": "lwesqqyQyikY"
      }
    }
  ]
}