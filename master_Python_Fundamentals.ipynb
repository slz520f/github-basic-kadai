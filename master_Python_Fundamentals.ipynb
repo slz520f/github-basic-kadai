{
  "nbformat": 4,
  "nbformat_minor": 0,
  "metadata": {
    "colab": {
      "provenance": [],
      "collapsed_sections": [
        "LLDvYZBjgAjr",
        "LhYx2ZSggPUd",
        "uvk_y7h9g5X4",
        "I4D7Nikuhu1w",
        "YV3wp5bDi8U8",
        "G6_IdGFskGP6",
        "61JDtrMKkt7M",
        "ho0L5SHLlpRq",
        "be-vxcjBn0Ii",
        "dRvWaVfEr7Ye",
        "gFz1B8l-tc8B",
        "1yKz8PSxu_VS",
        "ZYEAV4HZ2jf_",
        "q00Oconz4bS6",
        "VglhVWWw4lbC",
        "DXsI3Pbr4zoS",
        "cdzFuV9f5H1M",
        "IM86gfOb59Cm",
        "RV2Ee9lo6qSl"
      ],
      "toc_visible": true,
      "include_colab_link": true
    },
    "kernelspec": {
      "name": "python3",
      "display_name": "Python 3"
    },
    "language_info": {
      "name": "python"
    }
  },
  "cells": [
    {
      "cell_type": "markdown",
      "metadata": {
        "id": "view-in-github",
        "colab_type": "text"
      },
      "source": [
        "<a href=\"https://colab.research.google.com/github/slz520f/github-basic-kadai/blob/main/master_Python_Fundamentals.ipynb\" target=\"_parent\"><img src=\"https://colab.research.google.com/assets/colab-badge.svg\" alt=\"Open In Colab\"/></a>"
      ]
    },
    {
      "cell_type": "markdown",
      "source": [
        "# Pythonの概要を理解しよう"
      ],
      "metadata": {
        "id": "LLDvYZBjgAjr"
      }
    },
    {
      "cell_type": "markdown",
      "source": [
        "- **Pythonの概要**: 高い汎用性を持ち、AIや機械学習、Webアプリ開発など多岐にわたる分野で使用されるプログラミング言語。\n",
        "- **目標**: Pythonの基本的な性質と用途の理解。\n",
        "- **特徴**:\n",
        "  - 初心者にも習得しやすい。\n",
        "  - 需要が高く、多くの求人が存在。\n",
        "  - 豊富なライブラリが利用可能。\n",
        "- **実現可能な開発分野**: AIと機械学習、Webアプリの開発。\n",
        "\n",
        "Pythonは、AIや機械学習、Webアプリの開発などで使われるプログラミング言語です。初心者にも学びやすく、仕事の求人も多いです。Pythonには便利なライブラリがたくさんあり、色々なものを作ることができます。\n"
      ],
      "metadata": {
        "id": "v1w8uchDf-fY"
      }
    },
    {
      "cell_type": "markdown",
      "source": [
        "# Pythonの開発環境を構築しよう"
      ],
      "metadata": {
        "id": "LhYx2ZSggPUd"
      }
    },
    {
      "cell_type": "markdown",
      "source": [
        "- **Python開発環境の構築**: Google Colaboratoryを使用してPythonのプログラミング環境を構築。\n",
        "- **Google Colaboratoryの特徴**:\n",
        "  - 簡単なアクセスと利用。\n",
        "  - プログラムの共有が容易。\n",
        "  - 高速データ処理（GPU/TPU使用可能）。\n",
        "- **基本的な使い方**:\n",
        "  - Googleアカウントでログイン。\n",
        "  - ノートブックの作成とプログラムの記述・実行。\n",
        "  - コードセルの追加と画面表示設定。\n",
        "  - GPU/TPUの設定。\n",
        "\n",
        "Google Colaboratoryを使ってPythonの開発環境を作ります。これはブラウザ上で使えて、プログラムを書いたり実行したりできるサービスです。Googleアカウントがあればすぐに使い始められ、共有もできます。GPUやTPUで高速処理も可能です。ノートブックを作って、プログラムを書いて試してみましょう。\n",
        "\n",
        "- **ノートブックの作成**:\n",
        "  1. Google Colaboratoryにアクセス。\n",
        "  2. 「ノートブックを新規作成」を選択。\n",
        "- **プログラムの記述と実行**:\n",
        "  - `print(1+1)` のようなコードをコードセルに記述。\n",
        "  - 実行ボタンを押すか、「Ctrl + Enter」（Windows）/「Command + Enter」（Mac）で実行。\n",
        "- **コードセルの追加**:\n",
        "  - 「＋コード」をクリックして新しいコードセルを追加。\n",
        "- **画面表示の設定**:\n",
        "  - 歯車マークから「ライトモード」を選択して設定。\n",
        "- **GPU/TPUの設定**:\n",
        "  - 「ランタイム」→「ランタイムのタイプを変更」→「ハードウェア アクセラレータ」でGPU/TPUを選択。\n",
        "\n",
        "これらの要約が教材の理解に役立つことを願っています。さらに詳細な情報が必要な場合は、お知らせください。"
      ],
      "metadata": {
        "id": "nLSVb9XEgblV"
      }
    },
    {
      "cell_type": "markdown",
      "source": [
        "# Pythonの基本的な書き方を理解しよう"
      ],
      "metadata": {
        "id": "uvk_y7h9g5X4"
      }
    },
    {
      "cell_type": "markdown",
      "source": [
        "- **Pythonの基本的な書き方**: JavaScriptとの比較を通じてPythonの書き方の特徴を理解。\n",
        "- **Pythonの基本ルール**:\n",
        "  - 文末のセミコロン不要。\n",
        "  - 中かっこではなくインデントを使用。\n",
        "  - コメントにはシャープ（#）またはクォーテーション3つ（'''または\"\"\"）を使用。\n",
        "- **サンプルコード**: 年齢に応じて出力を変える例（「ジュースで乾杯！」または「お酒で乾杯！」）。\n",
        "\n",
        "Pythonの書き方の基本をJavaScriptと比較しながら学びます。Pythonでは文末にセミコロンがいらないし、処理のまとまりはインデントで示します。コメントにはシャープ（#）かクォーテーション3つを使います。サンプルコードで、年齢によって異なるメッセージを出力する方法を見てみましょう。\n",
        "\n"
      ],
      "metadata": {
        "id": "CeDYjglHhad1"
      }
    },
    {
      "cell_type": "markdown",
      "source": [
        "- **サンプルコード（Python）**:"
      ],
      "metadata": {
        "id": "yLCSwZcghklI"
      }
    },
    {
      "cell_type": "code",
      "execution_count": null,
      "metadata": {
        "id": "Drg_ysn9e8gF",
        "colab": {
          "base_uri": "https://localhost:8080/"
        },
        "outputId": "0b6117e6-7cfe-4ef8-d943-a8b0b80cf3d2"
      },
      "outputs": [
        {
          "output_type": "stream",
          "name": "stdout",
          "text": [
            "ジュースで乾杯！\n"
          ]
        }
      ],
      "source": [
        "age = 19  # 年齢\n",
        "\n",
        "if age < 20:\n",
        "    # 未成年の場合\n",
        "    print(\"ジュースで乾杯！\")\n",
        "else:\n",
        "    # 成年の場合\n",
        "    print(\"お酒で乾杯！\")"
      ]
    },
    {
      "cell_type": "markdown",
      "source": [
        "- **解説**:\n",
        "  - 文末にセミコロンは不要。\n",
        "  - インデントにより処理のまとまりを表現（通常はスペース4つ）。\n",
        "  - コメントは「#」で始め、複数行の場合はクォーテーション3つで囲む。\n"
      ],
      "metadata": {
        "id": "KmvC5LEchrFZ"
      }
    },
    {
      "cell_type": "markdown",
      "source": [
        "# [課題]変数を使って四則演算しよう"
      ],
      "metadata": {
        "id": "I4D7Nikuhu1w"
      }
    },
    {
      "cell_type": "markdown",
      "source": [
        "- **課題目標**: Pythonで四則演算を用いたプログラムの作成、数値と文字列の組み合わせ。\n",
        "- **課題内容**: 上辺10cm、下辺20cm、高さ5cmの台形の面積を計算し、「◯◯cm²」という形式で出力する。\n",
        "- **公式**: 台形の面積 = (上辺 + 下辺) × 高さ ÷ 2\n",
        "- **合格基準**:\n",
        "  1. 台形の面積の計算結果が変数に代入されている。\n",
        "  2. 四則演算の計算式が正しく記述されている。\n",
        "  3. 数値と文字列が結合し出力されている。\n",
        "\n",
        "\n",
        "この課題では、Pythonを使って台形の面積を計算して、「◯◯cm²」と出力します。面積の計算は「(上辺 + 下辺) × 高さ ÷ 2」の公式を使います。課題では、計算した面積を変数に入れて、正しく四則演算して、数値と「cm²」を組み合わせて出力することが求められています。\n",
        "\n",
        "### 解答のためのヒント\n",
        "- **変数の使用**: 上辺、下辺、高さの値をそれぞれ変数に代入します。\n",
        "- **四則演算の適用**: 台形の面積の計算には加算（+）、乗算（×）、除算（÷）を使います。\n",
        "- **数値と文字列の結合**: `str()` 関数を使って数値を文字列に変換し、「cm²」と結合して出力します。\n",
        "\n"
      ],
      "metadata": {
        "id": "xlK1qheQh272"
      }
    },
    {
      "cell_type": "markdown",
      "source": [
        "### 模範回答"
      ],
      "metadata": {
        "id": "o3dEmCdqiy0i"
      }
    },
    {
      "cell_type": "code",
      "source": [
        "# 変数の設定\n",
        "top_length = 10  # 上辺\n",
        "bottom_length = 20  # 下辺\n",
        "height = 5  # 高さ\n",
        "\n",
        "# 台形の面積を計算\n",
        "area = (top_length + bottom_length) * height / 2\n",
        "\n",
        "# 結果の出力\n",
        "print(str(area) + \"cm²\")"
      ],
      "metadata": {
        "id": "XCjiRuxFixew",
        "colab": {
          "base_uri": "https://localhost:8080/"
        },
        "outputId": "adf9295a-34b8-4a50-f181-e1c5365a9516"
      },
      "execution_count": null,
      "outputs": [
        {
          "output_type": "stream",
          "name": "stdout",
          "text": [
            "75.0cm²\n"
          ]
        }
      ]
    },
    {
      "cell_type": "markdown",
      "source": [
        "# 配列（リスト・タプル・セット）を理解しよう"
      ],
      "metadata": {
        "id": "YV3wp5bDi8U8"
      }
    },
    {
      "cell_type": "markdown",
      "source": [
        "- **配列の概念**: 複数のデータをまとめた構造。主な形式はリスト、タプル、セット。\n",
        "- **リスト**: 要素の追加、変更、削除が可能。`[要素1, 要素2, ...]`の形式で表現。\n",
        "- **タプル**: 要素の変更不可。`(要素1, 要素2, ...)`の形式で表現。\n",
        "- **セット**: 順序なし、重複不可。`{要素1, 要素2, ...}`の形式で表現。\n",
        "- **操作**: 各配列には特有の操作方法があり、リストは最も柔軟な操作が可能。\n",
        "\n",
        "配列は、たくさんのデータを一緒に扱うための方法です。リストはデータを自由に変更できるし、タプルは変更不可で安定しています。セットはデータの重複や順序を気にしないときに使います。リストは`[ ]`で、タプルは`( )`で、セットは`{ }`でデータを囲みます。"
      ],
      "metadata": {
        "id": "V-r5JUQYjj1q"
      }
    },
    {
      "cell_type": "markdown",
      "source": [
        "- **リストの例**:\n"
      ],
      "metadata": {
        "id": "MkbmDdyUjsct"
      }
    },
    {
      "cell_type": "code",
      "source": [
        "user_names = [\"侍太郎\", \"侍一郎\", \"侍二郎\", \"侍三郎\", \"侍四郎\"]\n",
        "\n",
        "# 2番目の要素である「侍一郎」という文字列だけを取り出して表示する\n",
        "print(user_names[4])\n",
        "\n",
        "# すべての要素を取り出して表示する\n",
        "print(user_names)\n"
      ],
      "metadata": {
        "id": "Ccmjm7WdpvpO"
      },
      "execution_count": null,
      "outputs": []
    },
    {
      "cell_type": "code",
      "source": [
        "user_names = [\"侍太郎\", \"侍一郎\", \"侍二郎\", \"侍三郎\", \"侍四郎\"]\n",
        "\n",
        "# すべての要素を取り出して表示する\n",
        "print(user_names)\n",
        "\n",
        "# インデックス1番の要素を更新する\n",
        "user_names[1] = \"侍花子\"\n",
        "\n",
        "# すべての要素を取り出して表示する\n",
        "print(user_names)\n"
      ],
      "metadata": {
        "id": "XNWabbejqW2q"
      },
      "execution_count": null,
      "outputs": []
    },
    {
      "cell_type": "code",
      "source": [
        "user_names = [\"侍太郎\", \"侍一郎\", \"侍二郎\"]\n",
        "user_names.append(\"侍三郎\")  # 要素の追加\n",
        "user_names[1] = \"侍花子\"  # 要素の変更\n",
        "print(user_names[2])  # 要素の取り出し\n"
      ],
      "metadata": {
        "id": "FTLlm4Tbjtw7"
      },
      "execution_count": null,
      "outputs": []
    },
    {
      "cell_type": "markdown",
      "source": [
        "- **タプルの例**:\n"
      ],
      "metadata": {
        "id": "OSyNa75ajxbc"
      }
    },
    {
      "cell_type": "code",
      "source": [
        "  country_names = (\"日本\", \"アメリカ\", \"イギリス\")\n",
        "  print(country_names[2])  # 要素の取り出し\n"
      ],
      "metadata": {
        "id": "jxXFHM_Pj0PA"
      },
      "execution_count": null,
      "outputs": []
    },
    {
      "cell_type": "markdown",
      "source": [
        "- **セットの例**:\n"
      ],
      "metadata": {
        "id": "7t7xUl4mj19r"
      }
    },
    {
      "cell_type": "code",
      "source": [
        "prime_numbers = {2, 3, 5, 7}\n",
        "prime_numbers.add(11)  # 要素の追加\n",
        "prime_numbers.remove(3)  # 要素の削除\n",
        "print(prime_numbers)"
      ],
      "metadata": {
        "id": "JF5lEtkhj3-_"
      },
      "execution_count": null,
      "outputs": []
    },
    {
      "cell_type": "markdown",
      "source": [
        "# 連想配列（ディクショナリ）を理解しよう"
      ],
      "metadata": {
        "id": "G6_IdGFskGP6"
      }
    },
    {
      "cell_type": "markdown",
      "source": [
        "- **連想配列（ディクショナリ）の概念**: キーと値のペアでデータを管理する配列。\n",
        "- **作り方と使い方**:\n",
        "  - 作成: `{キー1: 値1, キー2: 値2, ...}`の形式。\n",
        "  - 取り出し: `連想配列名[キー]`で特定の値を取得。\n",
        "  - 更新・追加: `連想配列名[キー] = 新しい値`で値を更新または追加。\n",
        "  - 削除: `popメソッド`を使用。\n",
        "- **実際の使用例**: 個人データや商品の価格などの管理に有用。\n",
        "\n",
        "連想配列は、それぞれのデータにキー（名前）をつけて管理する方法です。データは`{キー: 値}`の形で書きます。特定のデータを取り出すときは、キーを使って取り出せます。新しいデータを追加したり、データを変更したりすることもできます。"
      ],
      "metadata": {
        "id": "t9J7xt16kIz-"
      }
    },
    {
      "cell_type": "markdown",
      "source": [
        "- **ディクショナリの作成と使用**:\n"
      ],
      "metadata": {
        "id": "g2Ceg72wkkZs"
      }
    },
    {
      "cell_type": "code",
      "source": [
        "personal_data = {\"name\": \"侍太郎\", \"age\": 36, \"gender\": \"男性\"}\n",
        "print(personal_data[\"name\"])  # キー「name」の値を表示\n",
        "personal_data[\"age\"] = 37  # キー「age」の値を更新\n",
        "personal_data[\"address\"] = \"東京都\"  # 新しいキーと値を追加\n",
        "print(personal_data)  # 更新後の連想配列を表示"
      ],
      "metadata": {
        "id": "gAysDV-_korP"
      },
      "execution_count": null,
      "outputs": []
    },
    {
      "cell_type": "markdown",
      "source": [
        "# [課題]リスト/ディクショナリを使いこなそう"
      ],
      "metadata": {
        "id": "61JDtrMKkt7M"
      }
    },
    {
      "cell_type": "markdown",
      "source": [
        "- **課題目標**: Pythonでリストとディクショナリの操作をマスターし、両者の違いを理解する。\n",
        "- **課題内容**: 与えられたリストとディクショナリから、水曜日の天気予報を取り出して表示する。\n",
        "- **データ構造**:\n",
        "  - リスト: 曜日ごとの天気が順番に格納。\n",
        "  - ディクショナリ: 曜日の略称をキーとし、対応する天気を値として格納。\n",
        "- **合格基準**:\n",
        "  1. リストとディクショナリの正確な初期化。\n",
        "  2. 指定されたデータをリストとディクショナリから正確に取り出し、出力。\n",
        "\n",
        "この課題では、リストとディクショナリから水曜日の天気予報を探して表示します。リストは天気予報が曜日順に並んでいて、ディクショナリは曜日ごとに天気を示しています。どちらも正しく扱って、水曜日の天気を出力することが目標です。\n",
        "\n",
        "### 解答のためのヒント\n",
        "- リストからはインデックスを使って水曜日の天気予報を取り出します。リストは0から数え始めるので、水曜日は2番目の要素になります。\n",
        "- ディクショナリからはキーを使って水曜日の天気予報を取り出します。水曜日はキー「wed」に対応しています。\n"
      ],
      "metadata": {
        "id": "-Kb55rNXkyZi"
      }
    },
    {
      "cell_type": "markdown",
      "source": [
        "\n",
        "### 模範回答\n"
      ],
      "metadata": {
        "id": "n_ku5-WClYZ-"
      }
    },
    {
      "cell_type": "code",
      "source": [
        "# リストとディクショナリの初期化\n",
        "weather_list = [\n",
        "    \"月曜日は晴れです\",\n",
        "    \"火曜日は雨です\",\n",
        "    \"水曜日は晴れです\",\n",
        "    \"木曜日は晴れです\",\n",
        "    \"金曜日は曇りです\",\n",
        "    \"土曜日は曇りのち雨です\",\n",
        "    \"日曜日は雷雨です\"]\n",
        "\n",
        "weather_dictionary = {\n",
        "    \"mon\": \"晴れ\",\n",
        "    \"tue\": \"雨\",\n",
        "    \"wed\": \"晴れ\",\n",
        "    \"thu\": \"晴れ\",\n",
        "    \"fri\": \"曇り\",\n",
        "    \"sat\": \"曇りのち雨\",\n",
        "    \"sun\": \"雷雨\",\n",
        "}\n",
        "\n",
        "# リストから水曜日の天気を取り出し\n",
        "print(weather_list[2])  # 水曜日はリストの3番目の要素\n",
        "\n",
        "# ディクショナリから水曜日の天気を取り出し\n",
        "print(\"水曜日は\" + weather_dictionary[\"wed\"] + \"です\")  # キー「wed」で水曜日の天気を取得\n"
      ],
      "metadata": {
        "id": "soM29KaUlYDM"
      },
      "execution_count": null,
      "outputs": []
    },
    {
      "cell_type": "markdown",
      "source": [
        ">このプログラムはリストとディクショナリから水曜日の天気を正確に取り出し、出力します。リストではインデックス、ディクショナリではキーを使う点に注意してください。"
      ],
      "metadata": {
        "id": "mU-zfCzPlfwJ"
      }
    },
    {
      "cell_type": "markdown",
      "source": [
        "# 条件分岐のif文を理解しよう"
      ],
      "metadata": {
        "id": "ho0L5SHLlpRq"
      }
    },
    {
      "cell_type": "markdown",
      "source": [
        "- **条件分岐の概念**: 条件に応じて異なる処理を実行するテクニック。\n",
        "- **if文の使用**: 条件が真（True）の場合に特定の処理を実行する構文。\n",
        "- **比較演算子**: 条件式で使用され、条件の真偽を評価するための演算子（例: `==`, `!=`, `>`, `<` など）。\n",
        "- **論理演算子**: 複数の条件式を組み合わせるための演算子（`and`, `or`）。\n",
        "- **実際のコード例**: 特定の条件下でメッセージを表示するシンプルなif文の例。\n",
        "\n",
        "条件分岐とは、プログラムの中で「もし～なら、これをする」という選択をする方法です。if文を使って、条件が当てはまる時だけ特定の処理をします。比較演算子で条件を作り、`and`や`or`で複数の条件を組み合わせることもできます。\n",
        "\n",
        "\n"
      ],
      "metadata": {
        "id": "4G06yiZvlrRZ"
      }
    },
    {
      "cell_type": "markdown",
      "source": [
        "- **基本的なif文**:\n"
      ],
      "metadata": {
        "id": "M7q78pbcmSQl"
      }
    },
    {
      "cell_type": "code",
      "source": [
        "num = 50\n",
        "if num > 10:\n",
        "    print(\"変数numは10より大きいです\")\n"
      ],
      "metadata": {
        "id": "8Fwj9q-4mU_L"
      },
      "execution_count": null,
      "outputs": []
    },
    {
      "cell_type": "markdown",
      "source": [
        "- **if-else文**:\n"
      ],
      "metadata": {
        "id": "W5dO2XRKmYry"
      }
    },
    {
      "cell_type": "code",
      "source": [
        "num = 50\n",
        "if num > 10:\n",
        "    print(\"変数numは10より大きいです\")\n",
        "else:\n",
        "    print(\"変数numは10以下です\")"
      ],
      "metadata": {
        "id": "ivtttypMmcCH"
      },
      "execution_count": null,
      "outputs": []
    },
    {
      "cell_type": "markdown",
      "source": [
        "- **if-elif-else文**:\n"
      ],
      "metadata": {
        "id": "7s3CM-ZzmfY8"
      }
    },
    {
      "cell_type": "code",
      "source": [
        "num = random.randint(0, 4)\n",
        "if num == 4:\n",
        "    print(\"大当たりです\")\n",
        "elif num == 3:\n",
        "    print(\"当たりです\")\n",
        "elif num == 2:\n",
        "    print(\"おしいです\")\n",
        "else:\n",
        "    print(\"はずれです\")"
      ],
      "metadata": {
        "id": "m517fcUKmhCC",
        "colab": {
          "base_uri": "https://localhost:8080/",
          "height": 250
        },
        "outputId": "506b9ec7-be7d-448b-d665-dfc904fc4a1c"
      },
      "execution_count": null,
      "outputs": [
        {
          "output_type": "error",
          "ename": "NameError",
          "evalue": "name 'random' is not defined",
          "traceback": [
            "\u001b[0;31m---------------------------------------------------------------------------\u001b[0m",
            "\u001b[0;31mNameError\u001b[0m                                 Traceback (most recent call last)",
            "\u001b[0;32m<ipython-input-1-b2a04fa0cb1a>\u001b[0m in \u001b[0;36m<cell line: 1>\u001b[0;34m()\u001b[0m\n\u001b[0;32m----> 1\u001b[0;31m \u001b[0mnum\u001b[0m \u001b[0;34m=\u001b[0m \u001b[0mrandom\u001b[0m\u001b[0;34m.\u001b[0m\u001b[0mrandint\u001b[0m\u001b[0;34m(\u001b[0m\u001b[0;36m0\u001b[0m\u001b[0;34m,\u001b[0m \u001b[0;36m4\u001b[0m\u001b[0;34m)\u001b[0m\u001b[0;34m\u001b[0m\u001b[0;34m\u001b[0m\u001b[0m\n\u001b[0m\u001b[1;32m      2\u001b[0m \u001b[0;32mif\u001b[0m \u001b[0mnum\u001b[0m \u001b[0;34m==\u001b[0m \u001b[0;36m4\u001b[0m\u001b[0;34m:\u001b[0m\u001b[0;34m\u001b[0m\u001b[0;34m\u001b[0m\u001b[0m\n\u001b[1;32m      3\u001b[0m     \u001b[0mprint\u001b[0m\u001b[0;34m(\u001b[0m\u001b[0;34m\"大当たりです\"\u001b[0m\u001b[0;34m)\u001b[0m\u001b[0;34m\u001b[0m\u001b[0;34m\u001b[0m\u001b[0m\n\u001b[1;32m      4\u001b[0m \u001b[0;32melif\u001b[0m \u001b[0mnum\u001b[0m \u001b[0;34m==\u001b[0m \u001b[0;36m3\u001b[0m\u001b[0;34m:\u001b[0m\u001b[0;34m\u001b[0m\u001b[0;34m\u001b[0m\u001b[0m\n\u001b[1;32m      5\u001b[0m     \u001b[0mprint\u001b[0m\u001b[0;34m(\u001b[0m\u001b[0;34m\"当たりです\"\u001b[0m\u001b[0;34m)\u001b[0m\u001b[0;34m\u001b[0m\u001b[0;34m\u001b[0m\u001b[0m\n",
            "\u001b[0;31mNameError\u001b[0m: name 'random' is not defined"
          ]
        }
      ]
    },
    {
      "cell_type": "markdown",
      "source": [
        "- **論理演算子の使用例**:\n"
      ],
      "metadata": {
        "id": "gZ0o-CVUmkVP"
      }
    },
    {
      "cell_type": "code",
      "source": [
        "num = 50\n",
        "if 10 < num and num < 30:\n",
        "    print(\"変数numは10より大きく、30より小さいです\")"
      ],
      "metadata": {
        "id": "GFHGJnF9mleQ"
      },
      "execution_count": null,
      "outputs": []
    },
    {
      "cell_type": "markdown",
      "source": [
        "# [課題]条件分岐のif文で処理を切り替えよう"
      ],
      "metadata": {
        "id": "_aa-FWMsmsqd"
      }
    },
    {
      "cell_type": "markdown",
      "source": [
        "- **課題目標**: Pythonで条件分岐のプログラムを作成する能力を身につける。\n",
        "- **課題内容**: 変数`var`が特定の条件（3の倍数、5の倍数、両方の倍数、どちらでもない）に基づいて、適切な文字列（「Fizz」、「Buzz」、「FizzBuzz」）または数値を出力する。\n",
        "- **合格基準**:\n",
        "  1. 変数`var`に正の整数が代入されている。\n",
        "  2. if文を使用し、各条件に応じた適切な出力を行っている。\n",
        "\n",
        "FizzBuzz問題では、変数`var`の値によって異なる結果を出力します。3の倍数なら「Fizz」、5の倍数なら「Buzz」、両方の倍数なら「FizzBuzz」を出力し、それ以外の場合は数値をそのまま出力します。このプログラムはif文で条件分岐を使う練習になります。\n",
        "\n",
        "### 解答のためのヒント\n",
        "- 3の倍数かどうかは`var % 3 == 0`で判断できます（`%`は剰余演算子で、左辺を右辺で割った余りを返します）。\n",
        "- 5の倍数かどうかは`var % 5 == 0`で判断します。\n",
        "- 3の倍数かつ5の倍数の場合（つまり15の倍数）は、両方の条件が真であるかどうかを判断します。\n",
        "- 複数の条件を組み合わせる際は、`elif`を使用してください。\n"
      ],
      "metadata": {
        "id": "CdWY8MG8mvil"
      }
    },
    {
      "cell_type": "markdown",
      "source": [
        "### 模範回答\n"
      ],
      "metadata": {
        "id": "HuzIiYn_nciI"
      }
    },
    {
      "cell_type": "code",
      "source": [
        "var = 15  # ここに任意の正の整数を代入\n",
        "\n",
        "if var % 3 == 0 and var % 5 == 0:\n",
        "    print(\"FizzBuzz\")\n",
        "elif var % 3 == 0:\n",
        "    print(\"Fizz\")\n",
        "elif var % 5 == 0:\n",
        "    print(\"Buzz\")\n",
        "else:\n",
        "    print(var)\n"
      ],
      "metadata": {
        "id": "6mT0EPeyneIt",
        "colab": {
          "base_uri": "https://localhost:8080/"
        },
        "outputId": "b9ef1e1e-f061-4cff-9bff-afcd3b840ff9"
      },
      "execution_count": null,
      "outputs": [
        {
          "output_type": "stream",
          "name": "stdout",
          "text": [
            "FizzBuzz\n"
          ]
        }
      ]
    },
    {
      "cell_type": "markdown",
      "source": [
        ">このプログラムは、変数`var`が3の倍数、5の倍数、または両方の倍数に応じて、それぞれ「Fizz」、「Buzz」、「FizzBuzz」を出力し、どの条件にも当てはまらない場合は変数`var`の値をそのまま出力します。"
      ],
      "metadata": {
        "id": "bUDNkzmEng_q"
      }
    },
    {
      "cell_type": "markdown",
      "source": [
        "# 繰り返し処理のfor文を理解しよう"
      ],
      "metadata": {
        "id": "be-vxcjBn0Ii"
      }
    },
    {
      "cell_type": "markdown",
      "source": [
        "- **繰り返し処理**: 決まった回数や条件を満たす間、同じ処理を続ける方法。\n",
        "- **for文**: 決まった回数の処理を行うために使われる。形式は `for ループ変数 in 反復可能オブジェクト:`。\n",
        "- **反復可能オブジェクト**: 複数の要素を持ち、繰り返し処理が可能なオブジェクト（例: 配列、辞書、文字列）。\n",
        "- **break文とcontinue文**: 繰り返し処理中に特定の条件でループを抜ける（break）または次のループに進む（continue）ために使う。\n",
        "\n",
        "for文はプログラミングでよく使われる繰り返し処理です。この文は、あらかじめ決められた回数だけ何かの処理を繰り返したいときに便利です。Pythonでは、リストや辞書など、さまざまな反復可能オブジェクトに対してfor文を使えます。また、break文やcontinue文を使えば、繰り返しの中で特定の条件下で処理を止めたりスキップしたりすることもできます。"
      ],
      "metadata": {
        "id": "0S60N_ken14j"
      }
    },
    {
      "cell_type": "markdown",
      "source": [
        "1. **基本的なfor文**:"
      ],
      "metadata": {
        "id": "BcqALXQ9pT0m"
      }
    },
    {
      "cell_type": "code",
      "source": [
        "for i in range(1, 11):\n",
        "    print(i)"
      ],
      "metadata": {
        "id": "Ave_0hRqpU6a",
        "colab": {
          "base_uri": "https://localhost:8080/"
        },
        "outputId": "08dd61ee-2b15-4038-8156-43bc270e9818"
      },
      "execution_count": null,
      "outputs": [
        {
          "output_type": "stream",
          "name": "stdout",
          "text": [
            "1\n",
            "2\n",
            "3\n",
            "4\n",
            "5\n",
            "6\n",
            "7\n",
            "8\n",
            "9\n",
            "10\n"
          ]
        }
      ]
    },
    {
      "cell_type": "markdown",
      "source": [
        "   - 1から10までの数を順番に出力する。"
      ],
      "metadata": {
        "id": "OHPsqM_jpW-3"
      }
    },
    {
      "cell_type": "markdown",
      "source": [
        "2. **break文を用いたfor文**:"
      ],
      "metadata": {
        "id": "iDN_nsk2pYXa"
      }
    },
    {
      "cell_type": "code",
      "source": [
        "for i in range(1, 11):\n",
        "    if i == 5:\n",
        "        break\n",
        "    print(i)"
      ],
      "metadata": {
        "id": "S6P1GcvupZ4j",
        "colab": {
          "base_uri": "https://localhost:8080/"
        },
        "outputId": "f5c85a85-d8d1-4f59-9fc4-84337f4f7b6e"
      },
      "execution_count": null,
      "outputs": [
        {
          "output_type": "stream",
          "name": "stdout",
          "text": [
            "1\n",
            "2\n",
            "3\n",
            "4\n"
          ]
        }
      ]
    },
    {
      "cell_type": "markdown",
      "source": [
        "   - 1から5まで出力した後、ループを中断する。"
      ],
      "metadata": {
        "id": "wZcXgGMKpbEM"
      }
    },
    {
      "cell_type": "markdown",
      "source": [
        "3. **continue文を用いたfor文**:"
      ],
      "metadata": {
        "id": "eTO6opMxpcie"
      }
    },
    {
      "cell_type": "code",
      "source": [
        "for i in range(1, 11):\n",
        "    if i % 2 == 0:\n",
        "        continue\n",
        "    print(i)"
      ],
      "metadata": {
        "id": "o9hospYKpde6"
      },
      "execution_count": null,
      "outputs": []
    },
    {
      "cell_type": "markdown",
      "source": [
        "   - 偶数の場合は出力をスキップし、奇数だけを出力する。"
      ],
      "metadata": {
        "id": "0e_MTc84pev6"
      }
    },
    {
      "cell_type": "markdown",
      "source": [
        "# 繰り返し処理のwhile文を理解しよう"
      ],
      "metadata": {
        "id": "dRvWaVfEr7Ye"
      }
    },
    {
      "cell_type": "markdown",
      "source": [
        "- **while文の学習**: 「条件を満たしている間」繰り返し処理を行うwhile文の使い方を習得。\n",
        "- **while文の基本構造**: `while 条件式: 処理`の形式で記述。条件式がTrueの間、処理が繰り返される。\n",
        "- **無限ループの危険性**: 条件式が常にTrueを返す場合、無限ループに陥る可能性がある。\n",
        "- **break文とcontinue文の使用**: break文でループを強制終了、continue文で現在のループをスキップし次のループへ進む。\n",
        "\n",
        "while文は、「条件を満たしている間、繰り返し行う処理」を実行するために使います。ただし、無限ループに注意する必要があります。break文はループを途中で止め、continue文は一部の処理をスキップしてループを続けます。これらの文は、if文と組み合わせて使うことが多いです。\n",
        "\n"
      ],
      "metadata": {
        "id": "ciM3Cv_Er87e"
      }
    },
    {
      "cell_type": "markdown",
      "source": [
        "- **基本的なwhile文**:"
      ],
      "metadata": {
        "id": "MWb40yk0ssnO"
      }
    },
    {
      "cell_type": "code",
      "source": [
        "# ランダムな整数を生成するために必要\n",
        "import random\n",
        "num = random.randint(0, 100)\n",
        "while num != 0:\n",
        "    num = random.randint(0, 100)\n",
        "    print(num)"
      ],
      "metadata": {
        "id": "SOVsSMajsurC",
        "colab": {
          "base_uri": "https://localhost:8080/"
        },
        "outputId": "2aa63d05-107f-4c18-dc1a-f3c687cb37c3"
      },
      "execution_count": null,
      "outputs": [
        {
          "output_type": "stream",
          "name": "stdout",
          "text": [
            "9\n",
            "58\n",
            "44\n",
            "53\n",
            "97\n",
            "71\n",
            "34\n",
            "43\n",
            "80\n",
            "6\n",
            "40\n",
            "56\n",
            "15\n",
            "52\n",
            "67\n",
            "71\n",
            "75\n",
            "59\n",
            "25\n",
            "11\n",
            "31\n",
            "60\n",
            "94\n",
            "7\n",
            "75\n",
            "26\n",
            "55\n",
            "21\n",
            "39\n",
            "94\n",
            "67\n",
            "6\n",
            "99\n",
            "68\n",
            "89\n",
            "89\n",
            "85\n",
            "14\n",
            "41\n",
            "36\n",
            "7\n",
            "44\n",
            "70\n",
            "50\n",
            "22\n",
            "78\n",
            "18\n",
            "4\n",
            "99\n",
            "8\n",
            "82\n",
            "18\n",
            "45\n",
            "55\n",
            "83\n",
            "99\n",
            "75\n",
            "68\n",
            "37\n",
            "96\n",
            "90\n",
            "20\n",
            "15\n",
            "81\n",
            "93\n",
            "46\n",
            "88\n",
            "0\n"
          ]
        }
      ]
    },
    {
      "cell_type": "markdown",
      "source": [
        ">条件が`num != 0`の間、numの値を出力し続ける。\n"
      ],
      "metadata": {
        "id": "1ZoBu10esye1"
      }
    },
    {
      "cell_type": "markdown",
      "source": [
        "- **break文の使用例**:"
      ],
      "metadata": {
        "id": "0v6B_AV5s0MP"
      }
    },
    {
      "cell_type": "code",
      "source": [
        "import random\n",
        "num = random.randint(0, 4)\n",
        "i = 1\n",
        "print(f\"最初の値は{num}です。\")\n",
        "while num != 0:\n",
        "    num = random.randint(0, 4)\n",
        "    if i == 5:\n",
        "        print(\"5回目なので繰り返し処理を強制終了します。\")\n",
        "        break\n",
        "    print(f\"現在の値は{num}です。\")\n",
        "    i = i + 1\n"
      ],
      "metadata": {
        "id": "oSnd2265s2-J"
      },
      "execution_count": null,
      "outputs": []
    },
    {
      "cell_type": "markdown",
      "source": [
        ">    i = i + 1<br>\n",
        ">5回目のループでbreak文が実行され、ループが終了する。\n",
        "\n",
        "- **continue文の使用例**:\n"
      ],
      "metadata": {
        "id": "Gj9cpPvcs9GE"
      }
    },
    {
      "cell_type": "code",
      "source": [
        "import random\n",
        "sum = 0\n",
        "while sum < 20:\n",
        "    num = random.randint(1, 10)\n",
        "    print(f\"{num}が出ました。\")\n",
        "    if num % 2 == 0:\n",
        "        print(\"偶数なので加算しません。\")\n",
        "        continue\n",
        "    sum = sum + num\n",
        "    print(f\"現在の合計は{sum}です。\")"
      ],
      "metadata": {
        "id": "RATVCkDgtS9P"
      },
      "execution_count": null,
      "outputs": []
    },
    {
      "cell_type": "markdown",
      "source": [
        ">偶数が出た場合、continue文でその後の加算処理をスキップし、次のループへ進む。"
      ],
      "metadata": {
        "id": "BuXOCglHs2DT"
      }
    },
    {
      "cell_type": "markdown",
      "source": [
        "# 配列や辞書の繰り返し処理を理解しよう"
      ],
      "metadata": {
        "id": "gFz1B8l-tc8B"
      }
    },
    {
      "cell_type": "markdown",
      "source": [
        "- **目標**: 配列や辞書を用いた繰り返し処理の技術を習得。\n",
        "- **繰り返し処理**: 決まった回数や条件を満たす間、同じ処理を繰り返す。\n",
        "- **for文とwhile文**: それぞれ異なるケースに適用。for文は決まった回数や配列、辞書で使用。while文は不確定な回数の場合に使用。\n",
        "- **配列の処理**: `for user_name in user_names:` の形式で、配列内の各要素に対して処理を実行。\n",
        "- **辞書の処理**: `for key, value in personal_data.items():` の形式で、辞書内のキーと値を繰り返し処理。\n",
        "- **break文とcontinue文**: for文の中で条件に応じてループを中断またはスキップ。\n",
        "- **enumerate関数**: 配列内の各要素とそのインデックスを取得。\n",
        "\n",
        "本章では、配列や辞書を使った繰り返し処理の方法について学びました。for文は、配列の各要素や辞書のキーと値に対する処理に使い、while文は特定の条件を満たす間繰り返す場合に適しています。また、break文とcontinue文を使って、特定の条件でループを中断したり、次の繰り返しに進んだりできます。この章の学びを通じて、繰り返し処理の様々な応用ができるようになります。\n"
      ],
      "metadata": {
        "id": "fDYVYZ9NtjhB"
      }
    },
    {
      "cell_type": "markdown",
      "source": [
        "1. **配列の例文**:"
      ],
      "metadata": {
        "id": "GPX-73yquWJ8"
      }
    },
    {
      "cell_type": "code",
      "source": [
        "user_names = [\"侍太郎\", \"侍一郎\", \"侍二郎\", \"侍三郎\", \"侍四郎\"]\n",
        "for user_name in user_names:\n",
        "    print(user_name)"
      ],
      "metadata": {
        "id": "2PWGECt6uY8Q"
      },
      "execution_count": null,
      "outputs": []
    },
    {
      "cell_type": "markdown",
      "source": [
        "   - 配列`user_names`内の各要素に対してprint関数を適用。"
      ],
      "metadata": {
        "id": "RC6o_O45uaRo"
      }
    },
    {
      "cell_type": "markdown",
      "source": [
        "2. **辞書の例文**:"
      ],
      "metadata": {
        "id": "EQRLbvRbudyp"
      }
    },
    {
      "cell_type": "code",
      "source": [
        "personal_data = {\"name\": \"侍太郎\", \"age\": 36, \"gender\": \"男性\"}\n",
        "for key, value in personal_data.items():\n",
        "    print(f\"{key}は{value}です。\")"
      ],
      "metadata": {
        "id": "vYP2V3xOufkw"
      },
      "execution_count": null,
      "outputs": []
    },
    {
      "cell_type": "markdown",
      "source": [
        "   - 辞書`personal_data`の各キーと値に対して繰り返し処理。"
      ],
      "metadata": {
        "id": "Hw9g9bzluhMw"
      }
    },
    {
      "cell_type": "markdown",
      "source": [
        "3. **break文の使用例（配列）**:"
      ],
      "metadata": {
        "id": "j4AadSRYuimy"
      }
    },
    {
      "cell_type": "code",
      "source": [
        "user_names = [\"侍太郎\", \"侍一郎\", \"侍二郎\", \"侍三郎\", \"侍四郎\"]\n",
        "for user_name in user_names:\n",
        "    if user_name == \"侍二郎\":\n",
        "        break\n",
        "    print(user_name)"
      ],
      "metadata": {
        "id": "WKPezkoJukjx"
      },
      "execution_count": null,
      "outputs": []
    },
    {
      "cell_type": "markdown",
      "source": [
        "- 配列内で\"侍二郎\"が見つかった時点でループ中断。"
      ],
      "metadata": {
        "id": "Ve6sP0G2ulq8"
      }
    },
    {
      "cell_type": "markdown",
      "source": [
        "4. **continue文の使用例（辞書）**:"
      ],
      "metadata": {
        "id": "slrKiN82unQR"
      }
    },
    {
      "cell_type": "code",
      "source": [
        "score = {\"国語\": 80, \"数学\": 55, \"理科\": 70, \"社会\": 85, \"英語\": 60}\n",
        "for key, value in score.items():\n",
        "    if value < 70:\n",
        "        continue\n",
        "    print(f\"{key} : {value}点\")"
      ],
      "metadata": {
        "id": "FyR8cCTYumzg"
      },
      "execution_count": null,
      "outputs": []
    },
    {
      "cell_type": "markdown",
      "source": [
        "- 辞書`score`内で70点未満の科目をスキップし、それ以外の科目と点数を出力。"
      ],
      "metadata": {
        "id": "ekqlO2gJurW_"
      }
    },
    {
      "cell_type": "markdown",
      "source": [
        "# [課題]繰り返し処理を使いこなそう"
      ],
      "metadata": {
        "id": "1yKz8PSxu_VS"
      }
    },
    {
      "cell_type": "markdown",
      "source": [
        "リストの中身を先頭から全て取り出して、出力結果が以下のようになるプログラムを、for、while、それぞれを利用して記述して下さい。\n",
        "\n",
        "\n",
        "```\n",
        "list = [\"水\",\"金\",\"地\",\"火\",\"木\",\"土\",\"天\",\"海\",\"冥\"]\n",
        "```\n",
        "\n"
      ],
      "metadata": {
        "id": "YGaFEgq2u-CA"
      }
    },
    {
      "cell_type": "markdown",
      "source": [
        ">この課題では、与えられたリスト `list = [\"水\",\"金\",\"地\",\"火\",\"木\",\"土\",\"天\",\"海\",\"冥\"]` の全要素を先頭から出力することが求められています。これを `for` 文と `while` 文を使って記述することが目的です。\n",
        "\n",
        "  - `for` 文を使用し、リストの各要素を順に出力する。\n",
        "  - `while` 文を使用し、リストの長さを条件として、全要素を出力する。\n",
        "\n"
      ],
      "metadata": {
        "id": "HWZ6TQtivqvG"
      }
    },
    {
      "cell_type": "markdown",
      "source": [
        "### 模範解答\n",
        "\n",
        "- **for文を使用した解答例**:\n"
      ],
      "metadata": {
        "id": "yZDGrzBRv-I4"
      }
    },
    {
      "cell_type": "code",
      "source": [
        "list = [\"水\",\"金\",\"地\",\"火\",\"木\",\"土\",\"天\",\"海\",\"冥\"]\n",
        "for element in list:\n",
        "    print(element)"
      ],
      "metadata": {
        "id": "h58dM1vOv47-"
      },
      "execution_count": null,
      "outputs": []
    },
    {
      "cell_type": "markdown",
      "source": [
        "- **while文を使用した解答例**:\n"
      ],
      "metadata": {
        "id": "bxRrcmspwB--"
      }
    },
    {
      "cell_type": "code",
      "source": [
        "list = [\"水\",\"金\",\"地\",\"火\",\"木\",\"土\",\"天\",\"海\",\"冥\"]\n",
        "while list:\n",
        "    print(list.pop(0))  # リストの先頭要素を取り出して出力"
      ],
      "metadata": {
        "id": "36ig361jwDQt"
      },
      "execution_count": null,
      "outputs": []
    },
    {
      "cell_type": "markdown",
      "source": [
        ">`for` 文はリスト内の各要素に対して自動的に繰り返し処理を行います。一方、`while` 文では条件（この場合はリストが空になるまで）が満たされている間、繰り返し処理を実行します。この違いを理解することが、この課題の重要な目的の一つです。"
      ],
      "metadata": {
        "id": "rtvoK9-Cv6n3"
      }
    },
    {
      "cell_type": "markdown",
      "source": [
        "# 関数を理解しよう"
      ],
      "metadata": {
        "id": "gpNPV7o2wH-R"
      }
    },
    {
      "cell_type": "markdown",
      "source": [
        "- **関数の基本**: プログラミングにおける関数は、一連の処理をひとまとめにして再利用可能にする仕組み。\n",
        "- **定義方法**: `def` キーワードを用いて `def 関数名():` の形で定義。処理内容は関数内に記述。\n",
        "- **呼び出し方**: 定義した関数は、関数名の記述により呼び出し可能。例: `say_good_morning()`。\n",
        "- **実行機序**: 関数は定義されても自動実行されず、明示的な呼び出しで実行される。\n",
        "\n",
        "関数はプログラミングで使われる便利なツールです。一連の処理を関数としてまとめることで、何度も簡単に同じ処理を実行できるようになります。関数を作るには `def` を使い、関数名を決めて処理内容を書きます。実行するには、その関数名をコード内で呼び出します。ただし、関数は自動的には実行されないので、必要なときに呼び出す必要があります。\n"
      ],
      "metadata": {
        "id": "Sro8OnzvwHD-"
      }
    },
    {
      "cell_type": "markdown",
      "source": [
        "\n",
        "- **朝のあいさつ関数の定義**:\n"
      ],
      "metadata": {
        "id": "12mKnNSQw408"
      }
    },
    {
      "cell_type": "code",
      "source": [
        "print(\"おはようございます！\")\n",
        "print(\"昨日はよく眠れましたか？\")\n",
        "print(\"今日も一日頑張りましょう！\")"
      ],
      "metadata": {
        "colab": {
          "base_uri": "https://localhost:8080/"
        },
        "id": "UdgnKL48g9C7",
        "outputId": "92d7874d-744d-4323-b2bc-46a54fe26d37"
      },
      "execution_count": null,
      "outputs": [
        {
          "output_type": "stream",
          "name": "stdout",
          "text": [
            "おはようございます！\n",
            "昨日はよく眠れましたか？\n",
            "今日も一日頑張りましょう！\n"
          ]
        }
      ]
    },
    {
      "cell_type": "code",
      "source": [
        "def say_good_morning():\n",
        "    print(\"おはようございます！\")\n",
        "    print(\"昨日はよく眠れましたか？\")\n",
        "    print(\"今日も一日頑張りましょう！\")"
      ],
      "metadata": {
        "id": "xnTe_YBdw6J-"
      },
      "execution_count": null,
      "outputs": []
    },
    {
      "cell_type": "markdown",
      "source": [
        "  - `say_good_morning`: 関数名。\n",
        "  - `print`: あいさつのメッセージを出力する処理を関数内に記述。\n"
      ],
      "metadata": {
        "id": "MnAlF07NxKN0"
      }
    },
    {
      "cell_type": "markdown",
      "source": [
        "\n",
        "- **関数の呼び出し**:\n"
      ],
      "metadata": {
        "id": "54jqx4azw7md"
      }
    },
    {
      "cell_type": "code",
      "source": [
        "say_good_morning()"
      ],
      "metadata": {
        "id": "t7UjyEggxBqE",
        "colab": {
          "base_uri": "https://localhost:8080/"
        },
        "outputId": "4e9ad42e-e47e-44ae-f475-6009ae017056"
      },
      "execution_count": null,
      "outputs": [
        {
          "output_type": "stream",
          "name": "stdout",
          "text": [
            "おはようございます！\n",
            "昨日はよく眠れましたか？\n",
            "今日も一日頑張りましょう！\n"
          ]
        }
      ]
    },
    {
      "cell_type": "markdown",
      "source": [
        "  - 関数 `say_good_morning` を呼び出し、あいさつメッセージを出力。\n",
        "\n"
      ],
      "metadata": {
        "id": "XVurNMzgw-Ik"
      }
    },
    {
      "cell_type": "markdown",
      "source": [
        "- **夜のあいさつ関数の定義と呼び出し**:\n"
      ],
      "metadata": {
        "id": "j_qh6wvExE6x"
      }
    },
    {
      "cell_type": "code",
      "source": [
        "def say_good_evening():\n",
        "    print(\"こんばんは！\")\n",
        "    print(\"今日も一日お疲れさまでした。\")"
      ],
      "metadata": {
        "id": "PbaPX5qPxSEU"
      },
      "execution_count": null,
      "outputs": []
    },
    {
      "cell_type": "code",
      "source": [
        "say_good_evening()"
      ],
      "metadata": {
        "id": "bCBtCRIExTyk"
      },
      "execution_count": null,
      "outputs": []
    },
    {
      "cell_type": "markdown",
      "source": [
        "  - `say_good_evening`: 別の関数を定義し、夜のあいさつを出力。\n",
        "  - 関数を呼び出して、夜のあいさつメッセージを出力。"
      ],
      "metadata": {
        "id": "hQBTFMrqxWIi"
      }
    },
    {
      "cell_type": "code",
      "source": [
        "def say_good_morning(skip_second_line=False):\n",
        "    print(\"おはようございます！\")\n",
        "    if not skip_second_line:\n",
        "        print(\"昨日はよく眠れましたか？\")\n",
        "    print(\"今日も一日頑張りましょう！\")\n",
        "\n",
        "# 2行目を省略せずに関数を呼び出す\n",
        "say_good_morning()\n",
        "\n",
        "# 2行目を省略して関数を呼び出す\n",
        "say_good_morning(skip_second_line=True)"
      ],
      "metadata": {
        "colab": {
          "base_uri": "https://localhost:8080/"
        },
        "id": "AiGrjqONq2XI",
        "outputId": "17f1d184-63e9-4fc2-f9cb-0c2a98746a02"
      },
      "execution_count": null,
      "outputs": [
        {
          "output_type": "stream",
          "name": "stdout",
          "text": [
            "おはようございます！\n",
            "昨日はよく眠れましたか？\n",
            "今日も一日頑張りましょう！\n",
            "おはようございます！\n",
            "今日も一日頑張りましょう！\n"
          ]
        }
      ]
    },
    {
      "cell_type": "markdown",
      "source": [
        "# 関数の引数・戻り値を理解しよう"
      ],
      "metadata": {
        "id": "SkctAkM9xfR2"
      }
    },
    {
      "cell_type": "markdown",
      "source": [
        "- **引数の概念**: 関数に与えるデータ。決まっていない値を用いる際に必要。\n",
        "- **戻り値の役割**: 関数の処理結果を返す。他のコードで利用可能。\n",
        "- **型ヒントの意義**: 引数と戻り値のデータ型を明示。エラー防止とコードの明確化に役立つ。\n",
        "\n",
        "関数で複雑な処理を行うためには、引数と戻り値が重要です。引数は関数に与えるデータで、戻り値は関数の結果を表します。型ヒントを使えば、引数や戻り値のデータ型を指定できて、エラーを防ぐのに役立ちます。"
      ],
      "metadata": {
        "id": "eJFrCZvfxgXt"
      }
    },
    {
      "cell_type": "markdown",
      "source": [
        "- **引数を使った関数の例**:\n"
      ],
      "metadata": {
        "id": "ETNjnJsjyD3I"
      }
    },
    {
      "cell_type": "code",
      "source": [
        "def calculate_total(price):\n",
        "    total = price + 500\n",
        "    print(f\"{total}円\")\n",
        "calculate_total(1200)"
      ],
      "metadata": {
        "id": "QTzB2gBFyFTy"
      },
      "execution_count": null,
      "outputs": []
    },
    {
      "cell_type": "markdown",
      "source": [
        "  - `calculate_total`: 購入金額に送料を加算する関数。\n",
        "  - `price`: 関数に与える引数。\n",
        "  - `total`: 購入金額と送料の合計。\n",
        "\n"
      ],
      "metadata": {
        "id": "WnKo1Tx1yHEL"
      }
    },
    {
      "cell_type": "markdown",
      "source": [
        "- **複数引数の関数**:"
      ],
      "metadata": {
        "id": "B7rEpI4UyIx0"
      }
    },
    {
      "cell_type": "code",
      "source": [
        "def add_two_arguments(price, shipping_fee):\n",
        "    total = price + shipping_fee\n",
        "    print(f\"{total}円\")\n",
        "add_two_arguments(1200, 500)"
      ],
      "metadata": {
        "id": "L42dpmK4yIXz"
      },
      "execution_count": null,
      "outputs": []
    },
    {
      "cell_type": "markdown",
      "source": [
        "  - `add_two_arguments`: 購入金額と送料を加算する関数。\n",
        "  - `price`, `shipping_fee`: それぞれ購入金額と送料の引数。"
      ],
      "metadata": {
        "id": "nDy7DK7oyMIa"
      }
    },
    {
      "cell_type": "markdown",
      "source": [
        "- **戻り値を持つ関数の例**:"
      ],
      "metadata": {
        "id": "8XBfDCwyyN1M"
      }
    },
    {
      "cell_type": "code",
      "source": [
        "def is_purchased():\n",
        "    purchased = True\n",
        "    if purchased:\n",
        "        return True\n",
        "    else:\n",
        "        return False\n",
        "if is_purchased():\n",
        "    print(\"商品は購入済みです。\")\n"
      ],
      "metadata": {
        "id": "1rv0jY-nyQTd"
      },
      "execution_count": null,
      "outputs": []
    },
    {
      "cell_type": "markdown",
      "source": [
        "  - `is_purchased`: 商品が購入されたかどうかを返す関数。\n",
        "  - `return`: 関数の戻り値を指定。"
      ],
      "metadata": {
        "id": "0rIROPFFySM6"
      }
    },
    {
      "cell_type": "markdown",
      "source": [
        "- **型ヒントを使用した関数**:"
      ],
      "metadata": {
        "id": "J3cu_RxYyUXW"
      }
    },
    {
      "cell_type": "code",
      "source": [
        "def double(num: int) -> int:\n",
        "    return num * 2"
      ],
      "metadata": {
        "id": "1C43pJIHyWC6"
      },
      "execution_count": null,
      "outputs": []
    },
    {
      "cell_type": "markdown",
      "source": [
        "  - `double`: 数値を2倍にする関数。\n",
        "  - `num: int`: 整数型の引数。\n",
        "  - `-> int`: 戻り値の型ヒント。"
      ],
      "metadata": {
        "id": "4q4OkxuhyXXL"
      }
    },
    {
      "cell_type": "markdown",
      "source": [
        "# [課題]関数を使いこなそう"
      ],
      "metadata": {
        "id": "akoKL1Bnyh3C"
      }
    },
    {
      "cell_type": "markdown",
      "source": [
        "- **目標**: Pythonで関数を使用したプログラムの作成能力を身につける。\n",
        "- **課題内容**: 商品購入時の消費税を計算する関数を作成する。第1引数には商品金額、第2引数には消費税率（10%）を設定する。\n",
        "- **注意事項**: 計算結果に小数点がある場合、そのまま表示する。切り捨てや四捨五入は不要。\n",
        "- **合格基準**: 要件に沿った関数の定義と、その関数の呼び出しと使用。\n",
        "\n",
        "\n",
        "- この課題の目的は、Pythonで関数を使って商品の消費税を計算するプログラムを作ることです。商品の価格と消費税率（10%）を引数に取る関数を作ります。計算結果に小数点があってもそのまま表示しましょう。この関数を正しく作成し、呼び出して使うことが合格の条件です。\n",
        "\n",
        "- 関数は `def` キーワードを使って定義します。\n",
        "- 引数を2つ持つ関数を作成します。1つ目は商品価格、2つ目は消費税率です。\n",
        "- 関数内で価格に消費税率を適用し、結果を計算します。\n",
        "- `return` 文を使用して計算結果を戻り値として返します。\n",
        "\n"
      ],
      "metadata": {
        "id": "Qekgsyyxyo13"
      }
    },
    {
      "cell_type": "markdown",
      "source": [
        "#### 模範解答\n"
      ],
      "metadata": {
        "id": "2xYbA62Wzv0V"
      }
    },
    {
      "cell_type": "code",
      "source": [
        "def calculate_total(price, tax_rate):\n",
        "    \"\"\"商品価格に消費税を加えた合計額を計算する関数\"\"\"\n",
        "    total = price + (price * tax_rate)\n",
        "    return total\n",
        "\n",
        "# 関数の呼び出し例\n",
        "print(calculate_total(1000, 0.1))  # 1000円の商品に10%の消費税を適用"
      ],
      "metadata": {
        "id": "Lo5HQp3Xzw3F"
      },
      "execution_count": null,
      "outputs": []
    },
    {
      "cell_type": "markdown",
      "source": [
        ">このコードでは、`calculate_total` 関数が商品の価格と消費税率を引数として受け取り、税込み価格を計算して返します。"
      ],
      "metadata": {
        "id": "wiPHmTAvzyKC"
      }
    },
    {
      "cell_type": "markdown",
      "source": [
        "# 変数のスコープを理解しよう"
      ],
      "metadata": {
        "id": "CvQ7rXfzz3o6"
      }
    },
    {
      "cell_type": "markdown",
      "source": [
        "- **スコープの定義**: 変数が使える範囲（有効範囲）。\n",
        "- **ローカルスコープ**: 関数内で定義された変数（ローカル変数）の有効範囲。関数内のみで使用可能。\n",
        "- **グローバルスコープ**: 関数の外で定義された変数（グローバル変数）の有効範囲。関数の外のみで使用可能。\n",
        "- **ローカル変数の利用**: ローカルスコープ内では正常に機能するが、外で使用するとエラーが発生。\n",
        "- **グローバル変数の利用**: グローバルスコープ内で定義された変数は、関数の外で使用可能。\n",
        "\n",
        "変数の「スコープ」っていうのは、変数が使える範囲のことなんです。関数内で使う「ローカル変数」と関数の外で使う「グローバル変数」があって、それぞれの有効範囲が異なります。関数内で定義したローカル変数を外で使おうとするとエラーになるし、グローバル変数は関数の外でしか使えません。このスコープを理解することで、関数の中と外で変数をうまく使い分けられます。\n",
        "\n"
      ],
      "metadata": {
        "id": "1CuzPS5pz8DF"
      }
    },
    {
      "cell_type": "markdown",
      "source": [
        "1. **ローカル変数の利用例**:\n",
        "   - 関数`show_user_name`内でローカル変数`user_name`を定義。\n",
        "   - 関数内で`user_name`をプリントする。"
      ],
      "metadata": {
        "id": "SCEzE3_r2O88"
      }
    },
    {
      "cell_type": "code",
      "source": [
        "def show_user_name():\n",
        "    user_name = \"侍太郎\"\n",
        "    print(user_name)"
      ],
      "metadata": {
        "id": "vNgV8aeO2UAR"
      },
      "execution_count": null,
      "outputs": []
    },
    {
      "cell_type": "markdown",
      "source": [
        "2. **グローバル変数の利用例**:\n",
        "   - `user_name`をグローバル変数として定義。\n",
        "   - 関数内では`user_name`のローカル変数を定義し、関数の外でグローバル変数をプリント。"
      ],
      "metadata": {
        "id": "Twd2OZ7Y2U9o"
      }
    },
    {
      "cell_type": "code",
      "source": [
        "user_name = \"侍花子\"\n",
        "\n",
        "def show_user_name():\n",
        "    user_name = \"侍太郎\"\n",
        "    print(user_name)\n",
        "\n",
        "show_user_name()\n",
        "print(user_name)\n"
      ],
      "metadata": {
        "id": "h-qL12t32XNJ"
      },
      "execution_count": null,
      "outputs": []
    },
    {
      "cell_type": "code",
      "source": [
        "user_name = \"侍さん\"\n",
        "\n",
        "def show_user_name():\n",
        "    # ローカル変数を定義する\n",
        "    user_name = \"侍太郎\"\n",
        "\n",
        "    # ローカルスコープの範囲内でローカル変数を使う\n",
        "    print(user_name)\n",
        "\n",
        "show_user_name()\n",
        "\n",
        "# ローカルスコープの範囲外でローカル変数を使う（エラーが発生する）\n",
        "print(user_name)"
      ],
      "metadata": {
        "colab": {
          "base_uri": "https://localhost:8080/"
        },
        "id": "Wlh-M4JBzoeL",
        "outputId": "20c5afb1-93a8-49a3-9bc0-4f3b1b2b1caf"
      },
      "execution_count": null,
      "outputs": [
        {
          "output_type": "stream",
          "name": "stdout",
          "text": [
            "侍太郎\n",
            "侍さん\n"
          ]
        }
      ]
    },
    {
      "cell_type": "markdown",
      "source": [
        "# [課題]変数スコープを正しく使おう"
      ],
      "metadata": {
        "id": "ZYEAV4HZ2jf_"
      }
    },
    {
      "cell_type": "markdown",
      "source": [
        "```python\n",
        "price1 = 100\n",
        "price2 = 200\n",
        "\n",
        "def total():\n",
        "    tax = 1.1\n",
        "    return price1 + price2\n",
        "\n",
        "print (total() * tax)\n",
        "```"
      ],
      "metadata": {
        "id": "Pf4WOCzt3e3i"
      }
    },
    {
      "cell_type": "markdown",
      "source": [
        "- **課題の内容**: スコープに関するエラーを含むプログラムの修正。\n",
        "- **問題点**: `total`関数内で計算された結果がグローバル変数`tax`を使用していないため、エラーが発生。\n",
        "- **解決策**: `tax`変数を適切なスコープに配置し、正しく計算結果を出力させる。\n",
        "\n",
        ">この課題では、スコープに関するエラーがあるプログラムを直す必要があります。プログラムには`total`関数があるんですが、この関数内で使われるべき`tax`変数が適切に使われていないのが問題です。変数のスコープ、つまり変数がどこで有効かを意識して、`tax`を正しい位置に置いて計算が正しく行われるように修正する必要があります。\n",
        "\n",
        "- `tax`変数が関数`total`内で使用されていないため、スコープのエラーが発生しています。\n",
        "- `tax`変数を関数内で定義するか、もしくは関数の戻り値として使用することで、エラーを解消できます。\n",
        "\n"
      ],
      "metadata": {
        "id": "a5E5elv32lmB"
      }
    },
    {
      "cell_type": "markdown",
      "source": [
        "### 模範解答\n"
      ],
      "metadata": {
        "id": "gsSJATW-3F3r"
      }
    },
    {
      "cell_type": "code",
      "source": [
        "# グローバル変数の定義\n",
        "price1 = 100\n",
        "price2 = 200\n",
        "tax = 1.1\n",
        "\n",
        "# total関数の定義\n",
        "def total():\n",
        "    # 関数内での計算\n",
        "    return (price1 + price2) * tax\n",
        "\n",
        "# total関数の実行と結果の出力\n",
        "print(total())"
      ],
      "metadata": {
        "colab": {
          "base_uri": "https://localhost:8080/"
        },
        "id": "R5wu-QMp3Hgk",
        "outputId": "b825e813-1835-4db1-9599-43925e0da7f1"
      },
      "execution_count": null,
      "outputs": [
        {
          "output_type": "stream",
          "name": "stdout",
          "text": [
            "330.0\n"
          ]
        }
      ]
    },
    {
      "cell_type": "markdown",
      "source": [
        ">このコードでは、`tax`変数をグローバルスコープで定義し、`total`関数内でこの変数を使用して計算しています。これにより、エラーが解消され、正しい計算結果が出力されます。"
      ],
      "metadata": {
        "id": "ByAPkHlm3KZY"
      }
    },
    {
      "cell_type": "markdown",
      "source": [
        "\n",
        "- **課題の内容**: スコープに関するエラーを含むプログラムの修正。\n",
        "- **問題点**: `total`関数内で計算された結果がグローバル変数`tax`を使用していないため、エラーが発生。\n",
        "- **解決策**: `tax`変数を適切なスコープに配置し、正しく計算結果を出力させる。\n",
        "\n",
        "この課題では、スコープに関するエラーがあるプログラムを直す必要があります。プログラムには`total`関数があるんですが、この関数内で使われるべき`tax`変数が適切に使われていないのが問題です。変数のスコープ、つまり変数がどこで有効かを意識して、`tax`を正しい位置に置いて計算が正しく行われるように修正する必要があります。\n",
        "\n",
        "### 解答につながるヒント\n",
        "\n",
        "- `tax`変数が関数`total`内で使用されていないため、スコープのエラーが発生しています。\n",
        "- `tax`変数を関数内で定義するか、もしくは関数の戻り値として使用することで、エラーを解消できます。\n",
        "\n",
        "### 模範解答\n",
        "\n",
        "```python\n",
        "# グローバル変数の定義\n",
        "price1 = 100\n",
        "price2 = 200\n",
        "tax = 1.1\n",
        "\n",
        "# total関数の定義\n",
        "def total():\n",
        "    # 関数内での計算\n",
        "    return (price1 + price2) * tax\n",
        "\n",
        "# total関数の実行と結果の出力\n",
        "print(total())\n",
        "```\n",
        "\n",
        "このコードでは、`tax`変数をグローバルスコープで定義し、`total`関数内でこの変数を使用して計算しています。これにより、エラーが解消され、正しい計算結果が出力されます。"
      ],
      "metadata": {
        "id": "lEMF2_YC3ln0"
      }
    },
    {
      "cell_type": "markdown",
      "source": [
        "# クラスを理解しよう"
      ],
      "metadata": {
        "id": "q00Oconz4bS6"
      }
    },
    {
      "cell_type": "markdown",
      "source": [
        "- **目標**: クラスを理解し、類似のオブジェクトを大量に作成する技術を習得。\n",
        "- **クラス**: オブジェクトの設計図。共通特徴を持つデータを大量生産。\n",
        "- **インスタンス**: クラスから作られたオブジェクト。インスタンス化で生成。\n",
        "- **属性**: オブジェクトが持つデータ（変数）。コンストラクタ内で定義。\n",
        "- **メソッド**: オブジェクトに属する関数。属性や他のデータを操作。\n",
        "- **コンストラクタ**: インスタンス化時の初期化処理。属性値の設定に使用。\n",
        "\n",
        ">クラスはオブジェクトを作るための設計図です。これを使えば、似た特徴を持つものをたくさん作れます。インスタンスはクラスを実体化したもの。クラスには属性（データ）とメソッド（関数）があり、コンストラクタを使って初期化します。これで、例えばショッピングサイトの商品データのようなものを効率的に作ることができます。\n",
        "\n",
        "- **クラスの定義**\n",
        "  - `class Product:`: 商品データのクラス定義。\n",
        "- **コンストラクタの定義**\n",
        "  - `def __init__(self):`: インスタンス化時に自動実行される初期化関数。\n",
        "- **メソッドの定義**\n",
        "  - `def set_name(self, name):`: 商品名を設定するメソッド。\n",
        "  - `def show_name(self):`: 商品名を表示するメソッド。\n",
        "- **インスタンス化**\n",
        "  - `shampoo = Product()`: `Product` クラスのインスタンス `shampoo` を作成。\n",
        "- **属性へのアクセス**\n",
        "  - `shampoo.name = \"シャンプー\"`: `shampoo` の `name` 属性に値を代入。\n",
        "- **メソッドへのアクセス**\n",
        "  - `shampoo.show_name()`: `shampoo` の `show_name` メソッドを実行。"
      ],
      "metadata": {
        "id": "YNJexzOV4cyE"
      }
    },
    {
      "cell_type": "markdown",
      "source": [
        "#### クラス定義とインスタンス化\n"
      ],
      "metadata": {
        "id": "VglhVWWw4lbC"
      }
    },
    {
      "cell_type": "code",
      "source": [
        "# 商品データのクラス定義\n",
        "class Product:\n",
        "    def __init__(self, name=\"\", price=0.0, category=\"\"):\n",
        "        # 初期化\n",
        "        self.name = name\n",
        "        self.price = price\n",
        "        self.category = category\n",
        "\n",
        "    # 商品名を設定するメソッド\n",
        "    def set_name(self, name):\n",
        "        self.name = name\n",
        "\n",
        "    # 商品名を表示するメソッド\n",
        "    def show_name(self):\n",
        "        print(f\"商品名: {self.name}\")\n",
        "\n",
        "    # 価格とカテゴリーを表示するメソッド\n",
        "    def show_details(self):\n",
        "        print(f\"価格: {self.price}円, カテゴリー: {self.category}\")\n",
        "\n",
        "# Productクラスのインスタンス化\n",
        "shampoo = Product(\"シャンプー\", 500, \"美容・ケア\")\n",
        "coffee = Product(\"コーヒー\", 300, \"飲料\")\n",
        "\n",
        "\n"
      ],
      "metadata": {
        "id": "t0LHCWAx4qVr"
      },
      "execution_count": null,
      "outputs": []
    },
    {
      "cell_type": "markdown",
      "source": [
        "#### 属性へのアクセスとメソッドの使用\n"
      ],
      "metadata": {
        "id": "DXsI3Pbr4zoS"
      }
    },
    {
      "cell_type": "code",
      "source": [
        "# 属性へのアクセスと変更\n",
        "shampoo.set_name(\"リニューアルシャンプー\")\n",
        "coffee.set_name(\"プレミアムコーヒー\")\n",
        "\n",
        "# メソッドを使って属性を表示\n",
        "shampoo.show_name()\n",
        "shampoo.show_details()\n",
        "coffee.show_name()\n",
        "coffee.show_details()\n"
      ],
      "metadata": {
        "colab": {
          "base_uri": "https://localhost:8080/"
        },
        "id": "2G-t0F7V44fS",
        "outputId": "84bbcb0d-5144-4aca-98d8-9a24c7335b4d"
      },
      "execution_count": null,
      "outputs": [
        {
          "output_type": "stream",
          "name": "stdout",
          "text": [
            "商品名: リニューアルシャンプー\n",
            "価格: 500円, カテゴリー: 美容・ケア\n",
            "商品名: プレミアムコーヒー\n",
            "価格: 300円, カテゴリー: 飲料\n"
          ]
        }
      ]
    },
    {
      "cell_type": "markdown",
      "source": [
        ">このコードを実行すると、`Product` クラスから作成された2つのインスタンス（`shampoo` と `coffee`）を操作し、それぞれの属性にアクセスし、値を変更したり、表示したりすることができます。"
      ],
      "metadata": {
        "id": "LJf0uPzp49ND"
      }
    },
    {
      "cell_type": "markdown",
      "source": [
        "# [課題]クラスを使いこなそう"
      ],
      "metadata": {
        "id": "cdzFuV9f5H1M"
      }
    },
    {
      "cell_type": "markdown",
      "source": [
        "名前(name)と年齢(age)の属性を持つHumanクラスを作成してください。\n",
        "\n",
        "nameとageを標準出力(print)するメソッド(printinfo)を追加してください。\n",
        "\n",
        "Humanクラスのインスタンスは、変数に代入してプログラム内で使用してください。"
      ],
      "metadata": {
        "id": "e2lIcI-B6aUH"
      }
    },
    {
      "cell_type": "markdown",
      "source": [
        "1. **目標:** Pythonでクラスを使ったプログラムの作成、属性とメソッドの理解。\n",
        "2. **課題内容:**\n",
        "   - `Human`クラスの定義。\n",
        "   - 属性: 名前(`name`)、年齢(`age`)。\n",
        "   - メソッド: `printinfo`（名前と年齢を標準出力）。\n",
        "3. **使用:** クラスのインスタンスを変数に代入し使用。\n",
        "4. **合格基準:**\n",
        "   - 指定されたクラスの正確な定義。\n",
        "   - クラスのインスタンス化。\n",
        "   - `printinfo`メソッドによる名前と年齢の出力。\n",
        "\n",
        ">この課題では、Pythonで`Human`クラスを作って、名前と年齢の属性を持たせてみます。このクラスには、名前と年齢を表示する`printinfo`メソッドも必要です。クラスを作ったら、インスタンスを作成して、そのメソッドを使って名前と年齢を出力しましょう。\n",
        "\n",
        "---\n",
        "\n",
        "### 解答につながるヒント：\n",
        "1. クラス定義時に`__init__`メソッドを使って、`name`と`age`属性を初期化します。\n",
        "2. `printinfo`メソッドでは、`self.name`と`self.age`を出力します。\n",
        "3. クラスのインスタンスを作成し、`printinfo`メソッドを呼び出して情報を出力します。\n",
        "\n"
      ],
      "metadata": {
        "id": "xLBFVMcI5Hc0"
      }
    },
    {
      "cell_type": "markdown",
      "source": [
        "### 模範解答：\n"
      ],
      "metadata": {
        "id": "IM86gfOb59Cm"
      }
    },
    {
      "cell_type": "code",
      "source": [
        "# Humanクラスの定義\n",
        "class Human:\n",
        "    def __init__(self, name, age):\n",
        "        self.name = name\n",
        "        self.age = age\n",
        "\n",
        "    def printinfo(self):\n",
        "        print(f\"名前: {self.name}, 年齢: {self.age}\")\n",
        "\n",
        "# Humanクラスのインスタンス化\n",
        "person = Human(\"太郎\", 30)\n",
        "\n",
        "# printinfoメソッドの呼び出し\n",
        "person.printinfo()\n"
      ],
      "metadata": {
        "id": "qyluN1BW5-qG"
      },
      "execution_count": null,
      "outputs": []
    },
    {
      "cell_type": "markdown",
      "source": [
        "\n",
        ">このコードでは、`Human`クラスが定義され、`name`と`age`属性を持ちます。`printinfo`メソッドを通じて、これらの属性が出力されます。"
      ],
      "metadata": {
        "id": "-Jyo8X9R6A7c"
      }
    },
    {
      "cell_type": "markdown",
      "source": [
        "# 日付・時刻の処理を理解しよう"
      ],
      "metadata": {
        "id": "RV2Ee9lo6qSl"
      }
    },
    {
      "cell_type": "markdown",
      "source": [
        "1. **目標**: Pythonにおける日付や時刻の取得方法、datetimeモジュールとtimedelta関数の使用法を学ぶ。\n",
        "2. **timeモジュール**: 現在のUNIXタイムスタンプやフォーマットされた日時の取得が可能。\n",
        "   - `time.time()`: UNIXタイムスタンプの取得。\n",
        "   - `time.strftime()`: フォーマットされた現在時刻の取得。\n",
        "3. **datetimeモジュール**: 日時の取得、比較、計算に便利なクラスが用意されている。\n",
        "   - クラス: datetime.datetime, datetime.date, datetime.time, datetime.timedelta。\n",
        "   - 代表的な関数: `now()`, `strptime()`, `strftime()`。\n",
        "4. **日時のフォーマット**: '%Y', '%m', '%d' などの特殊文字を用いる。\n",
        "5. **timedeltaオブジェクト**: 日時の加算・減算が可能。\n",
        "6. **使い分け**: timeモジュールは経過時間計算に、datetimeモジュールは日時の取得・比較・計算に適している。\n",
        "\n",
        ">Pythonで日時を扱うには、timeモジュールとdatetimeモジュールが便利です。timeモジュールで現在の時刻やUNIXタイムスタンプを取得できます。datetimeモジュールは日時の操作がより幅広く、特定の日時の取得や日時の加減算などができます。日時を表示する際のフォーマットには特殊な文字を使いますが、これらを覚える必要はありません。\n",
        "\n"
      ],
      "metadata": {
        "id": "VYhDXBi36nNm"
      }
    },
    {
      "cell_type": "markdown",
      "source": [
        "\n",
        "1. **timeモジュールの使用例**:\n"
      ],
      "metadata": {
        "id": "RkdXpJUX8q2w"
      }
    },
    {
      "cell_type": "code",
      "source": [
        "import time\n",
        "\n",
        "# UNIXタイムスタンプの取得\n",
        "print(time.time())\n",
        "\n",
        "# フォーマットされた現在時刻の取得\n",
        "print(time.strftime(\"%Y年%m月%d日%H時%M分%S秒\", time.localtime()))"
      ],
      "metadata": {
        "colab": {
          "base_uri": "https://localhost:8080/"
        },
        "id": "BxNIH-US8sU_",
        "outputId": "c1cbbca6-717f-47b1-94a0-01f2be147cc5"
      },
      "execution_count": null,
      "outputs": [
        {
          "output_type": "stream",
          "name": "stdout",
          "text": [
            "1702467182.9324412\n",
            "2023年12月13日11時33分02秒\n"
          ]
        }
      ]
    },
    {
      "cell_type": "markdown",
      "source": [
        "2. **datetimeモジュールの使用例**:\n"
      ],
      "metadata": {
        "id": "Z1hwFa3x8t2q"
      }
    },
    {
      "cell_type": "code",
      "source": [
        "import datetime\n",
        "\n",
        "# 現在時刻の取得\n",
        "now = datetime.datetime.now()\n",
        "\n",
        "# 特定日時の取得\n",
        "date_time = datetime.datetime.strptime(\"2015-03-19 12:15:30\", \"%Y-%m-%d %H:%M:%S\")\n",
        "\n",
        "# 日時のフォーマット変換\n",
        "print(date_time.strftime(\"%Y年%m月%d日%H時%M分%S秒\"))\n",
        "\n",
        "# 日時の加算・減算\n",
        "td_1y = datetime.timedelta(days=365)\n",
        "add = now + td_1y\n",
        "td_3d = datetime.timedelta(days=3)\n",
        "sub = now - td_3d\n",
        "print(add.strftime(\"現在から1年後は%Y年%m月%d日%H時%M分%S秒です。\"))\n",
        "print(sub.strftime(\"現在から3日前は%Y年%m月%d日%H時%M分%S秒です。\"))"
      ],
      "metadata": {
        "colab": {
          "base_uri": "https://localhost:8080/"
        },
        "id": "niRprKqB8vKo",
        "outputId": "05319989-f548-4ffc-a60f-4fa45c01e3ca"
      },
      "execution_count": null,
      "outputs": [
        {
          "output_type": "stream",
          "name": "stdout",
          "text": [
            "2015年03月19日12時15分30秒\n",
            "現在から1年後は2024年12月12日11時33分03秒です。\n",
            "現在から3日前は2023年12月10日11時33分03秒です。\n"
          ]
        }
      ]
    },
    {
      "cell_type": "markdown",
      "source": [
        "# パッケージ・モジュールについて理解しよう"
      ],
      "metadata": {
        "id": "6yiN6bfF89tJ"
      }
    },
    {
      "cell_type": "markdown",
      "source": [
        "1. **目標**: Pythonのモジュールとパッケージの理解、import文の使用方法の習得。\n",
        "2. **モジュール**: プログラムを機能ごとに分割した個々のファイル。複雑なプログラムを分かりやすく管理するために利用。\n",
        "3. **パッケージ**: 複数のモジュールをひとまとめにしたもの。第三者が作成・配布し、他者の開発に貢献することが可能。\n",
        "4. **標準ライブラリ**: Pythonに組み込まれているパッケージ。インストール不要で直接利用可能。\n",
        "   - 例: `sys`, `math`, `datetime`。\n",
        "5. **外部ライブラリ**: 有志による追加のライブラリ。数値計算、グラフ描画、データ処理などに利用。\n",
        "   - 例: `Numpy`, `matplotlib`, `pandas`, `sklearn`。\n",
        "6. **パッケージ管理システム：pip**: 外部ライブラリのインストールに用いる。`pip install パッケージ名`でインストール。\n",
        "7. **import文の使用**: モジュールやパッケージを利用するために必要。`import モジュール名`で利用可能に。\n",
        "\n",
        ">Pythonのプログラムを整理し、効率化するためにモジュールとパッケージがあります。モジュールは機能ごとに分割されたファイルで、パッケージは複数のモジュールの集合体です。Pythonには標準ライブラリが組み込まれていて、外部ライブラリはpipを使ってインストールします。モジュールやパッケージを使うときは、import文を記述して利用開始します。\n",
        "\n"
      ],
      "metadata": {
        "id": "jG-xFbHs89IQ"
      }
    },
    {
      "cell_type": "markdown",
      "source": [
        "1. **外部パッケージのインストール**:\n"
      ],
      "metadata": {
        "id": "D0T68pidAtbq"
      }
    },
    {
      "cell_type": "code",
      "source": [
        "# Djangoパッケージのインストール\n",
        "!pip install Django"
      ],
      "metadata": {
        "colab": {
          "base_uri": "https://localhost:8080/"
        },
        "id": "41yB5FILAvAj",
        "outputId": "31d1d19b-11d8-415e-ee7c-68418bda3344"
      },
      "execution_count": null,
      "outputs": [
        {
          "output_type": "stream",
          "name": "stdout",
          "text": [
            "Collecting Django\n",
            "  Downloading Django-5.0-py3-none-any.whl (8.1 MB)\n",
            "\u001b[2K     \u001b[90m━━━━━━━━━━━━━━━━━━━━━━━━━━━━━━━━━━━━━━━━\u001b[0m \u001b[32m8.1/8.1 MB\u001b[0m \u001b[31m45.1 MB/s\u001b[0m eta \u001b[36m0:00:00\u001b[0m\n",
            "\u001b[?25hCollecting asgiref>=3.7.0 (from Django)\n",
            "  Downloading asgiref-3.7.2-py3-none-any.whl (24 kB)\n",
            "Requirement already satisfied: sqlparse>=0.3.1 in /usr/local/lib/python3.10/dist-packages (from Django) (0.4.4)\n",
            "Requirement already satisfied: typing-extensions>=4 in /usr/local/lib/python3.10/dist-packages (from asgiref>=3.7.0->Django) (4.5.0)\n",
            "Installing collected packages: asgiref, Django\n",
            "Successfully installed Django-5.0 asgiref-3.7.2\n"
          ]
        }
      ]
    },
    {
      "cell_type": "markdown",
      "source": [
        "2. **モジュールのインポートと使用**:"
      ],
      "metadata": {
        "id": "bnIiX3PEAy0p"
      }
    },
    {
      "cell_type": "code",
      "source": [
        "import django\n",
        "\n",
        "# Djangoのバージョンの取得と表示\n",
        "print(django.get_version())"
      ],
      "metadata": {
        "colab": {
          "base_uri": "https://localhost:8080/"
        },
        "id": "ZFBLwk4zA22E",
        "outputId": "6a8e34f3-8ac1-44e9-c7ed-8b0731f636b9"
      },
      "execution_count": null,
      "outputs": [
        {
          "output_type": "stream",
          "name": "stdout",
          "text": [
            "5.0\n"
          ]
        }
      ]
    },
    {
      "cell_type": "markdown",
      "source": [
        "\n",
        ">次章では、より実践的な内容に進んでいきます。Python基礎編の教材はこれで終了ですが、引き続き、学習やアウトプットを重ねていただければと思います。プログラミングの基礎能力と思考能力が身についていますので、自信を持って学習を続けてください。"
      ],
      "metadata": {
        "id": "ZnO9cL11A0ZS"
      }
    },
    {
      "cell_type": "markdown",
      "source": [
        "# [課題]学習したことを組み合わせてコードを書こう"
      ],
      "metadata": {
        "id": "ryOIGrcTBlU9"
      }
    },
    {
      "cell_type": "markdown",
      "source": [
        "- **課題の目標**: 教材で学んだスキルを組み合わせてプログラムを作成。\n",
        "- **課題の内容**:\n",
        "  1. 名前(name)と年齢(age)の属性を持つHumanクラスを作成。\n",
        "  2. Humanクラスには、年齢が20歳以上の場合「大人」と出力するcheck_adultメソッドを追加。\n",
        "  3. Humanクラスのインスタンスを複数作成し、リストに追加後、各インスタンスでcheck_adultメソッドを実行。\n",
        "- **合格基準**: リスト、ディクショナリ、条件分岐、繰り返し処理、関数、変数のスコープ、クラスを用いて指定されたプログラムを記述。\n",
        "\n",
        ">この課題では、名前と年齢を持つHumanクラスを作り、20歳以上かどうかを判断するメソッドを追加します。Humanのインスタンスをいくつか作成し、それぞれが成人かどうかをチェックするプログラムを作成してください。\n",
        "\n",
        "#### 解答につながるヒント\n",
        "- Humanクラスの定義には、`__init__` メソッドを使用して名前と年齢の属性を設定します。\n",
        "- `check_adult` メソッドでは、`if` 文を用いて年齢が20歳以上かどうかをチェックします。\n",
        "- 複数のHumanインスタンスをリストに格納し、`for` ループを使って各インスタンスの `check_adult` メソッドを呼び出します。\n",
        "\n"
      ],
      "metadata": {
        "id": "fjnOHskfBkR1"
      }
    },
    {
      "cell_type": "markdown",
      "source": [
        "#### 模範解答\n"
      ],
      "metadata": {
        "id": "BxhdqgwECHkb"
      }
    },
    {
      "cell_type": "code",
      "source": [
        "class Human:\n",
        "    def __init__(self, name, age):\n",
        "        self.name = name\n",
        "        self.age = age\n",
        "\n",
        "    def check_adult(self):\n",
        "        if self.age >= 20:\n",
        "            print(f\"{self.name} は大人です。\")\n",
        "        else:\n",
        "            print(f\"{self.name} は大人ではありません。\")\n",
        "\n",
        "# インスタンスの作成とリストへの追加\n",
        "humans = [\n",
        "    Human(\"山田太郎\", 25),\n",
        "    Human(\"鈴木花子\", 18)\n",
        "]\n",
        "\n",
        "# 各インスタンスでcheck_adultメソッドを実行\n",
        "for human in humans:\n",
        "    human.check_adult()"
      ],
      "metadata": {
        "id": "-OiJtU3DCI9f"
      },
      "execution_count": null,
      "outputs": []
    },
    {
      "cell_type": "markdown",
      "source": [
        ">このコードは、Humanクラスを定義し、名前と年齢の属性を持つインスタンスを作成します。それぞれのインスタンスで成人かどうかを判断し、結果を出力します。"
      ],
      "metadata": {
        "id": "TwBk-_QyCLd4"
      }
    },
    {
      "cell_type": "markdown",
      "source": [
        "# SQLの関数を使ってデータを集計しよう"
      ],
      "metadata": {
        "id": "AymJidI4uIyB"
      }
    },
    {
      "cell_type": "markdown",
      "source": [
        "\n",
        "\n",
        "#### 目標\n",
        "- SQLの集計関数（COUNT, SUM, AVG, MAX, MIN）を用いたデータ集計技術の習得。\n",
        "- レコード数、合計値、平均値、最大値、最小値の取得方法の習得。\n",
        "\n",
        "#### COUNT関数\n",
        "- レコード数の取得に使用。`SELECT COUNT(*) FROM テーブル名;`でテーブルの全レコード数を、`SELECT COUNT(カラム名) FROM テーブル名;`でNULLを除外したレコード数を取得。\n",
        "\n",
        "#### SUM関数\n",
        "- 指定カラムの合計値を算出。`SELECT SUM(カラム名) FROM テーブル名;`により、カラム値の合計を取得。\n",
        "\n",
        "#### AVG関数\n",
        "- 指定カラムの平均値を求める。`SELECT AVG(カラム名) FROM テーブル名;`で、カラム値の平均を算出。\n",
        "\n",
        "#### MAX関数とMIN関数\n",
        "- カラムの最大値、最小値を取得。`SELECT MAX(カラム名) FROM テーブル名;`と`SELECT MIN(カラム名) FROM テーブル名;`でそれぞれ最大値、最小値を算出。\n",
        "\n",
        ">SQLの関数を使うと、データベース内の情報を集計できる。例えば、全ユーザーの数や年齢の合計、平均を求めたり、年齢の最大値や最小値を見つけることができる。これらの情報は、アプリやサービスを分析するときにすごく役立つ。\n",
        "\n",
        "### 教材内の例文を全て網羅し、Colabで展開可能なPythonコード\n",
        "本教材では、直接Pythonコードの例は示されていませんが、SQLの基本的な集計関数の使用例を挙げています。これらの関数は、PythonでSQLを実行する際に、データベース接続ライブラリ（例：`sqlite3`, `pymysql`）を介して使用可能です。\n",
        "\n",
        "- レコード数の取得（COUNT関数）\n",
        "```sql\n",
        "SELECT COUNT(*) FROM users;\n",
        "```\n",
        "\n",
        "- 合計値の取得（SUM関数）\n",
        "```sql\n",
        "SELECT SUM(age) FROM users;\n",
        "```\n",
        "\n",
        "- 平均値の取得（AVG関数）\n",
        "```sql\n",
        "SELECT AVG(age) FROM users;\n",
        "```\n",
        "\n",
        "- 最大値の取得（MAX関数）\n",
        "```sql\n",
        "SELECT MAX(age) FROM users;\n",
        "```\n",
        "\n",
        "- 最小値の取得（MIN関数）\n",
        "```sql\n",
        "SELECT MIN(age) FROM users;\n",
        "```\n",
        "\n",
        "これらのSQL文は、適切なデータベース環境下で実行することで、所望の集計結果を得ることができます。"
      ],
      "metadata": {
        "id": "yQ9UnevkuEbx"
      }
    },
    {
      "cell_type": "markdown",
      "source": [
        "#SQLで取得するデータをグループ化しよう"
      ],
      "metadata": {
        "id": "NZH7PVuBuxwx"
      }
    },
    {
      "cell_type": "markdown",
      "source": [
        "#### 目標\n",
        "- SQLでデータを効率的にグループ化する技術の習得。\n",
        "- グループ化されたデータのさらなる絞り込み方法の習得。\n",
        "\n",
        "#### GROUP BY句\n",
        "- 特定のカラムに基づきデータをグループ化。`SELECT カラム名 FROM テーブル名 GROUP BY カラム名;`を用いる。\n",
        "- 複数カラムの指定により、その組み合わせでグループ化。`SELECT COUNT(*) FROM users GROUP BY address;`で住所ごとのユーザー数を集計。\n",
        "\n",
        "#### HAVING句\n",
        "- GROUP BY句によってグループ化された後のデータに対し、特定の条件で絞り込む。`SELECT カラム名 FROM テーブル名 GROUP BY カラム名 HAVING 条件式;`の形式で利用。\n",
        "- 例: `SELECT address, COUNT(*) FROM users GROUP BY address HAVING address = '神奈川県';`で神奈川県のユーザー数のみを抽出。\n",
        "\n",
        ">GROUP BY句を使うと、たとえば都道府県ごとにユーザー数をまとめることができるんだ。そして、HAVING句でさらに「神奈川県のユーザーだけを見たい」とか、特定の条件に合うデータだけに絞り込むことが可能になるよ。これでデータの分析がもっと簡単に、もっと詳しくできるようになるんだよ。\n",
        "\n",
        "### 教材内の例文を全て網羅し、Colabで展開可能なPythonコード\n",
        "直接的なPythonコードの例は提供されていませんが、SQL文の実行例は以下の通りです。PythonでSQLを扱う場合は、データベース接続用のライブラリ（例: `sqlite3`, `pymysql`）を介してこれらのSQL文を実行します。\n",
        "\n",
        "- グループ化して集計する例（GROUP BY句）\n",
        "```sql\n",
        "SELECT address, COUNT(*) FROM users GROUP BY address;\n",
        "```\n",
        "\n",
        "- グループ化したデータを条件で絞り込む例（HAVING句）\n",
        "```sql\n",
        "SELECT address, COUNT(*) FROM users GROUP BY address HAVING address = '神奈川県';\n",
        "```\n",
        "\n",
        "これらのSQL文を実行することで、特定の条件に基づいたデータ集計や、条件に合うグループのデータのみを抽出することができます。"
      ],
      "metadata": {
        "id": "1APR4AWbuPvY"
      }
    }
  ]
}