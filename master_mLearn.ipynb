{
  "nbformat": 4,
  "nbformat_minor": 0,
  "metadata": {
    "colab": {
      "provenance": [],
      "collapsed_sections": [
        "17-CDHLnemky",
        "3H8NS6MYfuJE",
        "-n5gDtTbgN53",
        "wvJpYyoR8RKr"
      ],
      "toc_visible": true,
      "include_colab_link": true
    },
    "kernelspec": {
      "name": "python3",
      "display_name": "Python 3"
    },
    "language_info": {
      "name": "python"
    }
  },
  "cells": [
    {
      "cell_type": "markdown",
      "metadata": {
        "id": "view-in-github",
        "colab_type": "text"
      },
      "source": [
        "<a href=\"https://colab.research.google.com/github/slz520f/github-basic-kadai/blob/main/master_mLearn.ipynb\" target=\"_parent\"><img src=\"https://colab.research.google.com/assets/colab-badge.svg\" alt=\"Open In Colab\"/></a>"
      ]
    },
    {
      "cell_type": "markdown",
      "source": [
        "#統計学を学ぼう（確率・統計学の用語の学習）"
      ],
      "metadata": {
        "id": "17-CDHLnemky"
      }
    },
    {
      "cell_type": "markdown",
      "source": [
        "\n",
        ">本章では、確率と統計学の基本用語を学び、それらが機械学習の理解と実装にどう関連しているかを探ります。確率と統計学は不確実性を扱う学問であり、機械学習ではこれらの概念を予測や判断の基礎として利用します。平均値、中央値、最頻値、分散、標準偏差、相関、確率分布、期待値などの基本用語と概念を理解することが、本章の主な目標です。\n",
        "\n",
        "\n",
        "- **平均値**：データセット内の全数値の合計をデータの個数で割った値。データセットの「中心」を示します。\n",
        "- **中央値**：データセットを数値の小さい順に並べた際に、ちょうど真ん中に位置する数値。\n",
        "- **最頻値**：データセット内で最も頻繁に現れる数値。\n",
        "- **分散**：データの値が平均値からどれだけ散らばっているかを示す指標。データのバラつきを数値化します。\n",
        "- **標準偏差**：分散の平方根であり、データが平均値からどれくらい離れて分布しているかを示す指標。\n",
        "- **相関**：二つの変数がどのように関連して変動するかを示す指標。相関係数はこの関連の強さと方向を数値で表します。\n",
        "- **確率分布**：ある事象が起こる確率を数値で表したもの。サイコロの出目や身長の分布などが例です。\n",
        "- **期待値**：ある試行を無限に繰り返した場合に平均して得られると期待される値。\n",
        "\n",
        ">本章では、機械学習の基盤となる確率と統計学の基本概念を探ります。これらの概念は、不確実性を数学的にモデル化し、データから洞察を得るために欠かせません。データの中心傾向を示す平均値、中央値、最頻値や、データの分布を示す分散と標準偏差、変数間の関連性を示す相関、そして確率的な事象のモデリングに用いる確率分布や期待値は、機械学習アルゴリズムを理解し実装する際の基礎を形成します。これらの概念の理解は、機械学習の文脈での予測、分類、クラスタリングなどのタスクを適切に行うために不可欠です。\n"
      ],
      "metadata": {
        "id": "p35H_Ex-ehhn"
      }
    },
    {
      "cell_type": "markdown",
      "source": [
        "#統計学を学ぼう（回帰）"
      ],
      "metadata": {
        "id": "Qwy_sbL-fpXB"
      }
    },
    {
      "cell_type": "markdown",
      "source": [
        "\n",
        ">この章では、回帰分析の基本を学び、機械学習での回帰の利用シーン、流れ、そして代表的な予測モデルについて詳しく掘り下げます。回帰分析は数値データの予測に使われ、機械学習ではこれを利用して、具体的な数値予測問題を解決します。ここでの主な目標は、回帰分析の流れを理解し、異なる予測モデルの基本的な概念を掴むことです。\n",
        "\n",
        "\n",
        "- **回帰の流れ**: 予測モデルの選択、パラメータの推定、性能評価というステップを含みます。\n",
        "- **予測モデル**: 単回帰、重回帰、ニューラルネットワーク、Ridge回帰、LASSO回帰、サポートベクター回帰 (SVR) などがあり、それぞれ異なる特性を持ちます。\n",
        "- **パラメータ推定**: 最小二乗法などの手法を用いて、モデルがデータに適合するようにパラメータを調整します。\n",
        "- **性能評価**: 決定係数などの指標を用いてモデルの予測精度を評価します。\n",
        "\n",
        ">回帰分析は、機械学習において数値予測問題を解決するための基本的なアプローチです。このプロセスでは、データのパターンを学習し、未知のデータに対して予測を行うことが可能になります。予測モデルの選択からパラメータの最適化、そして予測性能の評価まで、一連のステップを通じて、実際の問題に対する数値予測モデルを構築し、評価する方法を学びます。異なる予測モデルは、特定の問題やデータの特性に応じて選択され、機械学習実装者はこれらのモデルを適切に適用し、調整することで、より精度の高い予測を実現します。\n"
      ],
      "metadata": {
        "id": "tcyCh28QfoBV"
      }
    },
    {
      "cell_type": "markdown",
      "source": [
        "#統計学を学ぼう（分類）"
      ],
      "metadata": {
        "id": "3H8NS6MYfuJE"
      }
    },
    {
      "cell_type": "markdown",
      "source": [
        ">本章では、分類の基本的な概念、機械学習での分類の利用シーン、分類の流れ、および分類に用いられる代表的なモデルについて学びます。分類はデータを事前に定義されたカテゴリーに割り当てるプロセスで、機械学習において重要な役割を果たします。本章の目的は、分類の基本的な流れを理解し、異なる分類モデルの特徴を把握することです。\n",
        "\n",
        "- **分類の流れ**: 予測モデルの選択、パラメータ推定、モデルの性能評価の3つのステップで構成されます。\n",
        "- **予測モデル**: 決定木、ランダムフォレスト、ロジスティック回帰、ニューラルネットワークなどがあり、各モデルは特定の問題に対して異なるアプローチを提供します。\n",
        "- **パラメータ推定**: モデルが提供する条件分岐や確率推定を通じて、データを適切なカテゴリに分類するためのルールを定義します。\n",
        "- **性能評価**: 正解率、再現率、特異度、適合率、F値などの指標を用いて、モデルの分類精度を評価します。\n",
        "\n",
        ">分類は、複雑なデータセット内のパターンを識別し、データを適切なカテゴリに割り当てることで、データの理解や予測を可能にします。このプロセスは、特にカテゴリーデータに関する意思決定や予測が必要な場合に役立ちます。異なる分類モデルを理解し適切に選択することで、具体的な問題解決に向けた予測モデルを構築し、評価する能力を養います。分類は、機械学習においてデータから洞察を引き出し、意思決定を支援する基礎的な手法の一つです。\n"
      ],
      "metadata": {
        "id": "blwfA3acfyEm"
      }
    },
    {
      "cell_type": "markdown",
      "source": [
        "#統計学を学ぼう（クラスタリング）"
      ],
      "metadata": {
        "id": "-n5gDtTbgN53"
      }
    },
    {
      "cell_type": "markdown",
      "source": [
        ">本章ではクラスタリングに焦点を当て、その概要、異なる手法、そして機械学習でのクラスタリングの利用シーンについて学びます。クラスタリングは、類似性に基づきデータをグループ化する教師なし学習手法です。このプロセスでは、予測結果の正解が存在しないため、探索的データ分析や新しい洞察の獲得に特に有用です。本章の目的は、クラスタリングの基本的な理解と、代表的なクラスタリング手法の概要を把握することです。\n",
        "\n",
        "- **クラスタリングの概要**: データを類似性に基づいてグループに分けるプロセスです。正解が存在しないため、データから新しい知見を発見することが主な目的です。\n",
        "- **代表的な手法**:\n",
        "  - **k-means法**: データセットからk個のクラスタを形成します。各データポイントを最も近いクラスタ中心に割り当て、クラスタ中心を更新してこのプロセスを繰り返します。\n",
        "  - **階層的クラスタリング**: データポイント間またはクラスタ間の類似度に基づき、クラスタを逐次的にマージまたは分割していきます。この手法は、データの階層的な構造を可視化しやすいという特徴があります。\n",
        "- **活用シーン**: 顧客セグメンテーションや画像データのグループ化など、データを意味のあるグループに分けたい場合に有用です。\n",
        "\n",
        ">クラスタリングは、データセット内のパターンや関係性を理解するための強力なツールです。これにより、類似性に基づいて自然にデータをグループ化し、それぞれのグループが持つ特性や傾向を分析することができます。代表的なクラスタリング手法を理解し適切に選択することで、具体的な問題解決に向けたデータ分析の精度を高めることができます。クラスタリングは、データから洞察を引き出し、意思決定を支援する基礎的な教師なし学習手法の一つです。\n"
      ],
      "metadata": {
        "id": "rHyCYIikgRw3"
      }
    },
    {
      "cell_type": "markdown",
      "source": [
        "# 機械学習 概要"
      ],
      "metadata": {
        "id": "wvJpYyoR8RKr"
      }
    },
    {
      "cell_type": "code",
      "source": [
        "import pandas as pd\n",
        "\n",
        "# データを辞書として定義\n",
        "overview = {\n",
        "    \"項目\": [\"前処理\", \"回帰\", \"分類\", \"クラスタリング\", \"時系列分析\"],\n",
        "    \"説明\": [\n",
        "        \"データを機械学習モデルで利用しやすくするために、欠損値の処理やスケーリング、カテゴリデータの変換などを行う作業。\",\n",
        "        \"連続値（例えば価格や温度）の予測を目的とし、入力と出力の関係をモデリングする手法。\",\n",
        "        \"データを事前に定義されたカテゴリ（例えばスパムメールか否か）に分けるためのアルゴリズム。\",\n",
        "        \"似た特徴を持つデータをグループ化し、明確なラベルがないデータの構造を発見する手法。\",\n",
        "        \"時間に沿って集められたデータ（例えば株価や気温）を分析し、傾向やパターンを予測する手法。\"\n",
        "    ]\n",
        "}\n",
        "\n",
        "# データフレームを作成\n",
        "ml_summary_df = pd.DataFrame(overview)\n",
        "\n",
        "# データフレームのスタイルを設定\n",
        "styles = [\n",
        "    dict(selector=\"th\", props=[(\"text-align\", \"left\")]),  # ヘッダー（タイトル）を左揃えに\n",
        "    dict(selector=\"td\", props=[(\"text-align\", \"left\")])  # データ部分を左揃えに\n",
        "]\n",
        "ml_summary_df_styled = ml_summary_df.style.set_table_styles(styles)\n",
        "\n",
        "# スタイル適用されたデータフレームを表示\n",
        "ml_summary_df_styled\n"
      ],
      "metadata": {
        "id": "PRPZ8xTe8T2q"
      },
      "execution_count": null,
      "outputs": []
    },
    {
      "cell_type": "markdown",
      "source": [
        "# 前処理"
      ],
      "metadata": {
        "id": "qio3wRRhVdjQ"
      }
    },
    {
      "cell_type": "markdown",
      "source": [
        "**目標と概要**：\n",
        "- 目標：データの前処理の概要、修正ポイント、実施方法を学ぶ。\n",
        "- 前処理：データ分析前にデータを整理し、きれいな状態にする工程。\n",
        "\n",
        "**前処理の重要性**：\n",
        "- データが不完全や間違っている場合が多い。\n",
        "- 正確な分析のために前処理が必要。\n",
        "\n",
        "**前処理のステップ**：\n",
        "1. データの取り込みと概要理解。\n",
        "2. データの問題点を特定し、修正。\n",
        "3. 前処理済みのデータの保存。\n",
        "\n",
        "**主要な修正ポイント**：\n",
        "- 欠損データの対処（例：平均値代入、削除）。\n",
        "- 外れ値の対処（修正または除外）。\n",
        "- 表記ゆれの修正。\n",
        "- 新しい列の作成（例：日付列、曜日列の作成）。\n",
        "- 不要な行や列の削除。\n",
        "\n",
        "**実践的なアプローチ**：\n",
        "- seabornとPandasを利用したデータの可視化。\n",
        "- データの理解に基づく修正の実施。\n",
        "- サンプルデータセット（例：カリフォルニア住宅価格データセット）を使用。\n",
        "\n",
        "**結論**：\n",
        "- データの前処理はデータ分析の重要な部分。\n",
        "- 時間がかかる場合があるが、正確な分析結果を得るために不可欠。"
      ],
      "metadata": {
        "id": "HpEPVphzP6ka"
      }
    },
    {
      "cell_type": "markdown",
      "source": [
        "**1. データの取り込み**"
      ],
      "metadata": {
        "id": "qwwvldcBfFyp"
      }
    },
    {
      "cell_type": "code",
      "execution_count": null,
      "metadata": {
        "id": "EzG0vUEtO2MM"
      },
      "outputs": [],
      "source": [
        "import pandas as pd\n",
        "import seaborn as sb\n"
      ]
    },
    {
      "cell_type": "code",
      "source": [
        "from sklearn.datasets import fetch_california_housing\n"
      ],
      "metadata": {
        "id": "3VnGS1UMPDli"
      },
      "execution_count": null,
      "outputs": []
    },
    {
      "cell_type": "code",
      "source": [
        "dataset = fetch_california_housing()\n",
        "dataset\n"
      ],
      "metadata": {
        "id": "vO_d7GuNPJvB"
      },
      "execution_count": null,
      "outputs": []
    },
    {
      "cell_type": "code",
      "source": [
        "df = pd.DataFrame(dataset.data, columns=dataset.feature_names)\n",
        "df.head()\n"
      ],
      "metadata": {
        "id": "g12Jc_xcPLph"
      },
      "execution_count": null,
      "outputs": []
    },
    {
      "cell_type": "code",
      "source": [
        "df['Price'] = dataset.target\n",
        "df.head()\n"
      ],
      "metadata": {
        "id": "AroD0qg8PNeQ"
      },
      "execution_count": null,
      "outputs": []
    },
    {
      "cell_type": "markdown",
      "source": [
        "**2. データの概要理解**"
      ],
      "metadata": {
        "id": "jhlPZdT6gYNz"
      }
    },
    {
      "cell_type": "code",
      "source": [
        "print(dataset.DESCR)\n"
      ],
      "metadata": {
        "id": "WHXq0AGdPPaH"
      },
      "execution_count": null,
      "outputs": []
    },
    {
      "cell_type": "code",
      "source": [
        "pip install japanize-matplotlib"
      ],
      "metadata": {
        "id": "el9ew_6T3lIu"
      },
      "execution_count": null,
      "outputs": []
    },
    {
      "cell_type": "code",
      "source": [
        "import japanize_matplotlib"
      ],
      "metadata": {
        "id": "ac1cyM_x3s7D"
      },
      "execution_count": null,
      "outputs": []
    },
    {
      "cell_type": "markdown",
      "source": [
        "日本語への変換"
      ],
      "metadata": {
        "id": "6V7jq9u_fckI"
      }
    },
    {
      "cell_type": "code",
      "source": [
        "feature_names_JPN = ['所得', '築年数', '部屋数', '寝室数', '地域人口', '世帯人数', '緯度', '経度', '住宅価格']\n",
        "df.columns = feature_names_JPN\n",
        "df.head()\n"
      ],
      "metadata": {
        "id": "m9bKJSTZPT9D"
      },
      "execution_count": null,
      "outputs": []
    },
    {
      "cell_type": "markdown",
      "source": [
        "データの行数・列数を確認"
      ],
      "metadata": {
        "id": "GrNYIxDLglgk"
      }
    },
    {
      "cell_type": "code",
      "source": [
        "df.shape"
      ],
      "metadata": {
        "id": "pDbxBCbPfica"
      },
      "execution_count": null,
      "outputs": []
    },
    {
      "cell_type": "markdown",
      "source": [
        "データに欠損がないことを確認"
      ],
      "metadata": {
        "id": "t1Hkwa6GgqGD"
      }
    },
    {
      "cell_type": "code",
      "source": [
        "df.info()\n"
      ],
      "metadata": {
        "id": "hfGl2cHiPV4H"
      },
      "execution_count": null,
      "outputs": []
    },
    {
      "cell_type": "markdown",
      "source": [
        "各列の統計情報（平均値、標準偏差、最大値など）を確認"
      ],
      "metadata": {
        "id": "nn-aWstLgxyc"
      }
    },
    {
      "cell_type": "code",
      "source": [
        "df.describe()\n"
      ],
      "metadata": {
        "id": "ffDtgeIzPYGq"
      },
      "execution_count": null,
      "outputs": []
    },
    {
      "cell_type": "markdown",
      "source": [
        "表示されるヒストグラムのサイズを調整"
      ],
      "metadata": {
        "id": "wNnnsZ-8g-Lf"
      }
    },
    {
      "cell_type": "code",
      "source": [
        "df.hist(bins=30, figsize=(12, 10))\n"
      ],
      "metadata": {
        "id": "n9U3sYo7PdKR"
      },
      "execution_count": null,
      "outputs": []
    },
    {
      "cell_type": "markdown",
      "source": [
        "3. データの前処理\n",
        "\n",
        "  所得・経度・緯度\n",
        "  所得・経度・緯度のデータは、ヒストグラムを見る限り正常な分布で、外れ値もなさそうです。したがって、前処理は不要と判断します。"
      ],
      "metadata": {
        "id": "GJFc5O5Ufwt0"
      }
    },
    {
      "cell_type": "markdown",
      "source": [
        "  dataパラメータに対象のDataFrameを、xパラメータに描画させたい列名を指定"
      ],
      "metadata": {
        "id": "b-TStjJ1hTyL"
      }
    },
    {
      "cell_type": "code",
      "source": [
        "sb.stripplot(x='地域人口', data=df)\n"
      ],
      "metadata": {
        "id": "TxEr-x49PfYy"
      },
      "execution_count": null,
      "outputs": []
    },
    {
      "cell_type": "markdown",
      "source": [
        "**築年数**\n",
        "\n",
        "  築年数が52であるデータの数を確認"
      ],
      "metadata": {
        "id": "r--V4-UIhehO"
      }
    },
    {
      "cell_type": "code",
      "source": [
        "df.query('築年数 == 52').shape\n"
      ],
      "metadata": {
        "id": "iHJd3GBPPhT_"
      },
      "execution_count": null,
      "outputs": []
    },
    {
      "cell_type": "markdown",
      "source": [
        "築年数が52のデータ数が1273件と多すぎるため、これらは不適切と判断し、除外してdfに再代入します。"
      ],
      "metadata": {
        "id": "WbWYgnDMh4Go"
      }
    },
    {
      "cell_type": "code",
      "source": [
        "df = df[df['築年数'] != 52]"
      ],
      "metadata": {
        "id": "TDoWJ0lqPi5u"
      },
      "execution_count": null,
      "outputs": []
    },
    {
      "cell_type": "markdown",
      "source": [
        "ヒストグラムで最も高い住宅価格のバーとdescribeメソッドでの最大値5.000010から、この価格のデータ数を確認します。"
      ],
      "metadata": {
        "id": "PQrMDbMJiIqS"
      }
    },
    {
      "cell_type": "code",
      "source": [
        "df.query('住宅価格 == 5.000010').shape\n"
      ],
      "metadata": {
        "id": "rwE857WlPk2F"
      },
      "execution_count": null,
      "outputs": []
    },
    {
      "cell_type": "markdown",
      "source": [
        "住宅価格が5.000010のデータ数は795であり、これらは5を超える価格が一律に5.000010で記録された不適切なデータである可能性が高いため、除外し、5.000010以外のデータのみでdfを再構成します。"
      ],
      "metadata": {
        "id": "oO1iR8WCiWSA"
      }
    },
    {
      "cell_type": "code",
      "source": [
        "df = df[df['住宅価格'] != 5.000010]\n"
      ],
      "metadata": {
        "id": "Y5NjeJpPPmiu"
      },
      "execution_count": null,
      "outputs": []
    },
    {
      "cell_type": "markdown",
      "source": [
        "**部屋数、寝室数、世帯人数**"
      ],
      "metadata": {
        "id": "OBQ7GseDiev-"
      }
    },
    {
      "cell_type": "markdown",
      "source": [
        "部屋数、寝室数、世帯人数のデータは小さな値が多く、大きな値が少数存在するため、これらの分布をseabornのstripplot関数を使って個別に可視化し、詳細な状況を確認します。"
      ],
      "metadata": {
        "id": "hU_XMo7XigYf"
      }
    },
    {
      "cell_type": "code",
      "source": [
        "sb.stripplot(x='部屋数', data=df)\n"
      ],
      "metadata": {
        "id": "qlq-EsrfPoKa"
      },
      "execution_count": null,
      "outputs": []
    },
    {
      "cell_type": "code",
      "source": [
        "sb.stripplot(x='部屋数', data=df)\n"
      ],
      "metadata": {
        "id": "d_Hss6sDL0w_"
      },
      "execution_count": null,
      "outputs": []
    },
    {
      "cell_type": "code",
      "source": [
        "sb.stripplot(x='寝室数', data=df)\n"
      ],
      "metadata": {
        "id": "nF5FD07Ei0YJ"
      },
      "execution_count": null,
      "outputs": []
    },
    {
      "cell_type": "code",
      "source": [
        "sb.stripplot(x='世帯人数', data=df)\n"
      ],
      "metadata": {
        "id": "7-2pskbyPsOm"
      },
      "execution_count": null,
      "outputs": []
    },
    {
      "cell_type": "markdown",
      "source": [
        "部屋数120以上、寝室数30以上、世帯人数400以上の非現実的データは、世帯数の少なさから発生する計算上の歪みであると考えられ、これらのデータは分析から除外し、代わりに人口1名あたりの平均部屋数や寝室数を新指標として利用します。"
      ],
      "metadata": {
        "id": "MusvZaUwjRIB"
      }
    },
    {
      "cell_type": "code",
      "source": [
        "df['世帯数'] = df['地域人口']/df['世帯人数']\n",
        "df.head()\n"
      ],
      "metadata": {
        "id": "ak-bS5pmPuQj"
      },
      "execution_count": null,
      "outputs": []
    },
    {
      "cell_type": "markdown",
      "source": [
        "次に、部屋数（1世帯あたりの平均部屋数）に世帯数をかけて、全部屋数（ブロックの全住宅の部屋数合計）の列を新たに作成します。"
      ],
      "metadata": {
        "id": "fT48uXNljYsa"
      }
    },
    {
      "cell_type": "code",
      "source": [
        "df['全部屋数'] = df['部屋数']*df['世帯数']\n",
        "df['全寝室数'] = df['寝室数']*df['世帯数']\n",
        "df.head()\n"
      ],
      "metadata": {
        "id": "hPk3qfqnPv7J"
      },
      "execution_count": null,
      "outputs": []
    },
    {
      "cell_type": "markdown",
      "source": [
        "部屋数/人の列を新たに作成"
      ],
      "metadata": {
        "id": "cmSy-nQOjfzv"
      }
    },
    {
      "cell_type": "code",
      "source": [
        "df['部屋数/人'] = df['全部屋数']/df['地域人口']\n",
        "df['寝室数/人'] = df['全寝室数']/df['地域人口']\n",
        "df.head()\n"
      ],
      "metadata": {
        "id": "_CQpNRvVTlmu"
      },
      "execution_count": null,
      "outputs": []
    },
    {
      "cell_type": "markdown",
      "source": [
        "seabornを利用して、部屋数/人と寝室数/人のデータ分布を確認"
      ],
      "metadata": {
        "id": "rYJBcPktjjsW"
      }
    },
    {
      "cell_type": "code",
      "source": [
        "sb.scatterplot(x='部屋数/人', y='寝室数/人', data=df)\n"
      ],
      "metadata": {
        "id": "_9ml4UXkPxtj"
      },
      "execution_count": null,
      "outputs": []
    },
    {
      "cell_type": "markdown",
      "source": [
        "地域人口1人あたり部屋数50以上、寝室数14以上のデータは現実的にあり得るが、部屋数・寝室数・世帯人数の情報はデータ分析に利用せず、部屋数/人・寝室数/人の算出のために作成した世帯数・全部屋数・全寝室数の列をDataFrameから削除します。"
      ],
      "metadata": {
        "id": "7rw4kKHZjvDi"
      }
    },
    {
      "cell_type": "code",
      "source": [
        "df = df.drop(columns = ['部屋数', '寝室数', '世帯人数', '世帯数', '全部屋数', '全寝室数'])\n"
      ],
      "metadata": {
        "id": "zMNP69ZvPzoy"
      },
      "execution_count": null,
      "outputs": []
    },
    {
      "cell_type": "code",
      "source": [
        "df"
      ],
      "metadata": {
        "id": "azXAIG_DnPSV"
      },
      "execution_count": null,
      "outputs": []
    },
    {
      "cell_type": "markdown",
      "source": [
        "改めてヒストグラムで現状を確認"
      ],
      "metadata": {
        "id": "v0K0rLI3jypG"
      }
    },
    {
      "cell_type": "code",
      "source": [
        "df.hist(figsize=(12, 10), bins=30)\n"
      ],
      "metadata": {
        "id": "utJUyxSxP1Cx"
      },
      "execution_count": null,
      "outputs": []
    },
    {
      "cell_type": "markdown",
      "source": [
        "データの削除を行ったため、残りのデータ数を確認"
      ],
      "metadata": {
        "id": "G32o6PDDj24Y"
      }
    },
    {
      "cell_type": "code",
      "source": [
        "df.shape"
      ],
      "metadata": {
        "id": "Ae-SVL7qP2ZA"
      },
      "execution_count": null,
      "outputs": []
    },
    {
      "cell_type": "markdown",
      "source": [
        "前処理済のデータをCSVファイルとして保管"
      ],
      "metadata": {
        "id": "BIJDB-zwj9hK"
      }
    },
    {
      "cell_type": "code",
      "source": [
        "df.to_csv('california_housing_cleansing.csv')\n"
      ],
      "metadata": {
        "id": "G6HzBkMZP30x"
      },
      "execution_count": null,
      "outputs": []
    },
    {
      "cell_type": "markdown",
      "source": [
        "# 回帰１"
      ],
      "metadata": {
        "id": "tyEkiaPpVpJR"
      }
    },
    {
      "cell_type": "markdown",
      "source": [
        "**目標と概要**：\n",
        "- 目標：機械学習を活用した回帰を実施できること。\n",
        "- 回帰：数値予測を行う分析手法。\n",
        "\n",
        "**回帰の活用**：\n",
        "- 例：住宅価格、試合の観客数、河川の水位などの予測。\n",
        "- 予測モデル：インプットされた情報から別の情報を出力する変換法則。\n",
        "\n",
        "**教師あり学習**：\n",
        "- 説明変数と目的変数がセットになったデータで学習。\n",
        "- 回帰を用いた機械学習は、この学習方法に基づく。\n",
        "\n",
        "**回帰実践のプロセス**：\n",
        "1. 課題把握とゴール設定。\n",
        "2. ライブラリのインポート（Numpy, Pandas, seaborn等）。\n",
        "3. データセットの準備と分割。\n",
        "4. 予測モデルの学習（scikit-learnのLinearRegression利用）。\n",
        "5. 予測モデルの評価（決定係数による）。\n",
        "6. 予測の実施。\n",
        "7. 分析ゴールに対する考察。\n",
        "\n",
        "**ゴール**：\n",
        "- 住宅価格を予測する計算式の決定。\n",
        "- 住宅に関する各要素が住宅価格に与える影響度合いの分析。\n",
        "\n",
        "**まとめ**：\n",
        "- 重回帰分析の重要性とスケール統一の必要性の理解。"
      ],
      "metadata": {
        "id": "A7_DVYVUP9vy"
      }
    },
    {
      "cell_type": "markdown",
      "source": [
        "**2. 必要なライブラリのインポート**"
      ],
      "metadata": {
        "id": "SALJDkzQkCsa"
      }
    },
    {
      "cell_type": "code",
      "source": [
        "import numpy as np\n",
        "import pandas as pd\n",
        "import seaborn as sb\n"
      ],
      "metadata": {
        "id": "w1gvsxgsP_jc"
      },
      "execution_count": null,
      "outputs": []
    },
    {
      "cell_type": "markdown",
      "source": [
        "日本語の文字化けを回避"
      ],
      "metadata": {
        "id": "6nRliAzPkLAv"
      }
    },
    {
      "cell_type": "code",
      "source": [
        "!pip install japanize-matplotlib"
      ],
      "metadata": {
        "id": "_DioiQywQGLx"
      },
      "execution_count": null,
      "outputs": []
    },
    {
      "cell_type": "code",
      "source": [
        "import japanize_matplotlib\n"
      ],
      "metadata": {
        "id": "kllLMijuQH1g"
      },
      "execution_count": null,
      "outputs": []
    },
    {
      "cell_type": "markdown",
      "source": [
        "**データセットの準備**\n",
        "\n",
        "[california_housing_cleansing.csv](/content/california_housing_cleansing.csv)"
      ],
      "metadata": {
        "id": "oiBMy3nkZDKp"
      }
    },
    {
      "cell_type": "code",
      "source": [
        "df = pd.read_csv('/content/california_housing_cleansing.csv')\n",
        "df.head()\n"
      ],
      "metadata": {
        "id": "c2_CbHT7QKmX"
      },
      "execution_count": null,
      "outputs": []
    },
    {
      "cell_type": "markdown",
      "source": [
        "必要のない「Unnamed: 0」の列を削除"
      ],
      "metadata": {
        "id": "bed2uqiDkqbI"
      }
    },
    {
      "cell_type": "code",
      "source": [
        "df = df.drop(columns = ['Unnamed: 0'])\n",
        "\n"
      ],
      "metadata": {
        "id": "Lc6YcRfYQMhz"
      },
      "execution_count": null,
      "outputs": []
    },
    {
      "cell_type": "code",
      "source": [
        "df.head()"
      ],
      "metadata": {
        "id": "m8CoK3nILAgg"
      },
      "execution_count": null,
      "outputs": []
    },
    {
      "cell_type": "markdown",
      "source": [
        "「california_housing_cleansing.csv」の全18572行のデータが取り込まれているか確認"
      ],
      "metadata": {
        "id": "1eOnJiOgkwJE"
      }
    },
    {
      "cell_type": "code",
      "source": [
        "df.shape\n"
      ],
      "metadata": {
        "id": "Z3y1xEStQOD5"
      },
      "execution_count": null,
      "outputs": []
    },
    {
      "cell_type": "markdown",
      "source": [
        "\n",
        "\n",
        "*   カリフォルニアの住宅データから住宅価格を予測するため、説明変数Xは住宅価格以外の全データ、目的変数yは住宅価格として設定します。\n",
        "*  データセットの形式はPandasのDataFrameでもNumpyのndarrayでも良く、ndarrayへの変換はDataFrameのto_numpy()メソッドで行います。\n",
        "\n"
      ],
      "metadata": {
        "id": "iNLHmWbtkxOR"
      }
    },
    {
      "cell_type": "code",
      "source": [
        "X = df.drop(columns=['住宅価格']).to_numpy()\n",
        "y = df['住宅価格'].to_numpy()\n"
      ],
      "metadata": {
        "id": "TvtTi2_-QPd6"
      },
      "execution_count": null,
      "outputs": []
    },
    {
      "cell_type": "markdown",
      "source": [
        "Xとyをそれぞれ、学習データとテストデータに分割します。\n",
        "\n",
        "train_test_split関数をインポート"
      ],
      "metadata": {
        "id": "V-bz0SXVlmBo"
      }
    },
    {
      "cell_type": "code",
      "source": [
        "from sklearn.model_selection import train_test_split\n"
      ],
      "metadata": {
        "id": "fNG7V9bOQQwH"
      },
      "execution_count": null,
      "outputs": []
    },
    {
      "cell_type": "markdown",
      "source": [
        "比率7:3で学習データとテストデータに分割"
      ],
      "metadata": {
        "id": "3ltURvmElr2J"
      }
    },
    {
      "cell_type": "code",
      "source": [
        "X_train, X_test, y_train, y_test = train_test_split(X, y, test_size=0.3, random_state=0)"
      ],
      "metadata": {
        "id": "eHFDuzy5QSFq"
      },
      "execution_count": null,
      "outputs": []
    },
    {
      "cell_type": "markdown",
      "source": [
        "問題なく7:3に分割されたか、データ数を確認"
      ],
      "metadata": {
        "id": "0zGQrcCwlu9R"
      }
    },
    {
      "cell_type": "code",
      "source": [
        "print(X_train.shape, X_test.shape, y_train.shape, y_test.shape)\n"
      ],
      "metadata": {
        "id": "8rJWOIjDQTay"
      },
      "execution_count": null,
      "outputs": []
    },
    {
      "cell_type": "markdown",
      "source": [
        "**予測モデルの学習**\n",
        "\n",
        "重回帰分析にて、scikit-learnのLinearRegressionクラスを活用します。\n",
        "\n",
        "linear_modelモジュールのLinearRegressionクラスをインポートします"
      ],
      "metadata": {
        "id": "ZgjmoqVzlxrb"
      }
    },
    {
      "cell_type": "code",
      "source": [
        "from sklearn.linear_model import LinearRegression\n"
      ],
      "metadata": {
        "id": "SJfNAjBQQVV6"
      },
      "execution_count": null,
      "outputs": []
    },
    {
      "cell_type": "markdown",
      "source": [
        "LinearRegressionクラスをインスタンス化して、modelという変数に代入"
      ],
      "metadata": {
        "id": "QjJEGHUCmFz0"
      }
    },
    {
      "cell_type": "code",
      "source": [
        "model = LinearRegression()\n"
      ],
      "metadata": {
        "id": "4qoHWHCnQWxQ"
      },
      "execution_count": null,
      "outputs": []
    },
    {
      "cell_type": "markdown",
      "source": [
        "学習データで学習を実行"
      ],
      "metadata": {
        "id": "GZAmrlQ9mJAD"
      }
    },
    {
      "cell_type": "code",
      "source": [
        "model.fit(X_train, y_train)\n"
      ],
      "metadata": {
        "id": "I1X52ZG2pHYh"
      },
      "execution_count": null,
      "outputs": []
    },
    {
      "cell_type": "markdown",
      "source": [
        "**予測モデルの評価**\n",
        "\n",
        "\n",
        "> 決定係数を用いて、学習データとテストデータの両方で予測モデルの評価を行います。決定係数が高いほど予測の当てはまりが良く、学習データとテストデータでの決定係数の大きな差は過学習の可能性を示します。まず学習データで決定係数を算出します。\n",
        "\n"
      ],
      "metadata": {
        "id": "Tc6EhDADmN5y"
      }
    },
    {
      "cell_type": "code",
      "source": [
        "model.score(X_train, y_train)\n"
      ],
      "metadata": {
        "id": "6OHjA1IFQYun"
      },
      "execution_count": null,
      "outputs": []
    },
    {
      "cell_type": "markdown",
      "source": [
        "テストデータを用いて決定係数を算出"
      ],
      "metadata": {
        "id": "ERaARuPLmpAy"
      }
    },
    {
      "cell_type": "code",
      "source": [
        "model.score(X_test, y_test)\n"
      ],
      "metadata": {
        "id": "SGn75H3MQaCI"
      },
      "execution_count": null,
      "outputs": []
    },
    {
      "cell_type": "markdown",
      "source": [
        "**予測**\n",
        "\n",
        "| 所得 | 築年数 | 地域人口 | 緯度 | 経度  | 部屋数/人 | 寝室数/人 |\n",
        "|------|--------|---------|------|------|----------|---------|\n",
        "| 8    | 41     | 500     | 37   | -120 | 1        | 0.2     |\n",
        "| 2    | 10     | 2000    | 38   | -122 | 1.5      | 0.5     |\n",
        "| 1    | 25     | 1000    | 38   | -121 | 2        | 1       |\n",
        "\n",
        "\n",
        ">予測対象の説明変数を ndarray 形式で X_new に格納して、住宅価格を予測します。\n",
        "\n"
      ],
      "metadata": {
        "id": "4Qur0XtYm-VE"
      }
    },
    {
      "cell_type": "code",
      "source": [
        "X_new = np.array([[8, 41, 500, 37, -120, 1, 0.2],\n",
        "                  [2, 10, 2000, 38, -122, 1.5, 0.5],\n",
        "                  [1, 25, 1000, 38, -121, 2, 1]])\n"
      ],
      "metadata": {
        "id": "PM9_CE0FQbmI"
      },
      "execution_count": null,
      "outputs": []
    },
    {
      "cell_type": "markdown",
      "source": [
        "予測モデルを利用して、X_newから予測値を算出"
      ],
      "metadata": {
        "id": "N5Cny2zXnv-k"
      }
    },
    {
      "cell_type": "code",
      "source": [
        "model.predict(X_new)"
      ],
      "metadata": {
        "id": "W2tLMcOYQdjg"
      },
      "execution_count": null,
      "outputs": []
    },
    {
      "cell_type": "markdown",
      "source": [
        "**設定したゴールに対する考察**"
      ],
      "metadata": {
        "id": "eqLBbPwanzUc"
      }
    },
    {
      "cell_type": "markdown",
      "source": [
        "分析の目標を簡潔にまとめると以下のようになります：\n",
        "\n",
        "1. 重回帰モデルを使用して住宅価格の予測式を作成する。\n",
        "2. 住宅関連の各要素が住宅価格に与える影響を分析する。"
      ],
      "metadata": {
        "id": "QUKU54uen09s"
      }
    },
    {
      "cell_type": "code",
      "source": [
        "print(model.coef_)\n",
        "print(model.intercept_)\n"
      ],
      "metadata": {
        "id": "yLWmTkQrQftj"
      },
      "execution_count": null,
      "outputs": []
    },
    {
      "cell_type": "markdown",
      "source": [
        "住宅価格の予測式を使用して、所与のデータから住宅価格を計算し、**「予測」**セクションでの結果と一致することを確認します。"
      ],
      "metadata": {
        "id": "BOY2DYrpoRZU"
      }
    },
    {
      "cell_type": "code",
      "source": [
        "sns.barplot(x = ['所得', '築年数', '地域人口', '緯度', '経度', '部屋数/人', '寝室数/人'], y=model.coef_)\n"
      ],
      "metadata": {
        "id": "2O16w0K4QiNo"
      },
      "execution_count": null,
      "outputs": []
    },
    {
      "cell_type": "markdown",
      "source": [
        "\n",
        "\n",
        "> この結果を見ると、寝室数/人が最も影響度の高い指標であるかのように思えます。しかし、この考察は正しいとは限りません。なぜなら、各要素のスケールが異なるためです。\n",
        "\n"
      ],
      "metadata": {
        "id": "cinB0q4oocRH"
      }
    },
    {
      "cell_type": "markdown",
      "source": [
        "住宅データの各指標を改めて確認します"
      ],
      "metadata": {
        "id": "CpwhFr5zogt0"
      }
    },
    {
      "cell_type": "code",
      "source": [
        "df.describe()\n"
      ],
      "metadata": {
        "id": "AJl3Nhm4QjrQ"
      },
      "execution_count": null,
      "outputs": []
    },
    {
      "cell_type": "markdown",
      "source": [
        "\n",
        "\n",
        "> 地域人口と寝室数/人のスケールの違いが住宅価格の予測重みに影響を与えるため、スケール統一が必要。次章では、このスケール統一と多重共線性の問題に対処する方法を解説します。\n",
        "\n"
      ],
      "metadata": {
        "id": "5yOGjMV_ovAF"
      }
    },
    {
      "cell_type": "markdown",
      "source": [],
      "metadata": {
        "id": "MXlAtVQ7gcp2"
      }
    },
    {
      "cell_type": "markdown",
      "source": [
        "# 回帰２"
      ],
      "metadata": {
        "id": "u-e_Bok2Vyup"
      }
    },
    {
      "cell_type": "markdown",
      "source": [
        "**目標と概要**：\n",
        "- 目標：標準化と多重共線性への対処を含む回帰を実施できること。\n",
        "- 内容：スケールの統一と多重共線性の問題解決を目指し、改善された回帰手法を学ぶ。\n",
        "\n",
        "**回帰手法の改善**：\n",
        "1. **標準化**：データを平均値0、標準偏差1に変換し、スケールを統一。\n",
        "2. **多重共線性の対処**：説明変数間の高い相関を解消し、予測モデルの正確性を向上。\n",
        "\n",
        "**データ準備**：\n",
        "- 前章と同じデータを使用し、必要なライブラリをインポート。\n",
        "- 「california_housing_cleansing.csv」を用いてデータセットを準備。\n",
        "\n",
        "**標準化のプロセス**：\n",
        "- StandardScalerクラスを使用して標準化の変換モデルを生成し、スケール変換を実施。\n",
        "- 学習データとテストデータのスケール変換を行う。\n",
        "\n",
        "**多重共線性への対処**：\n",
        "- 相関係数を確認し、高い相関関係を持つ要素の中から適切な要素を選択。\n",
        "- 相関の高い要素群から1要素のみを分析に使用し、他は排除。\n",
        "\n",
        "**改善された回帰プロセス**：\n",
        "1. **予測モデルの学習**：LinearRegressionクラスを利用してモデルを学習。\n",
        "2. **モデルの評価**：学習データとテストデータを用いて決定係数を計算し、モデルの精度を評価。\n",
        "3. **予測実施**：新しいデータに対して予測を行う。\n",
        "\n",
        "**考察**：\n",
        "- 住宅価格を予測する計算式の確定。\n",
        "- 重要度の高い要素の確認と影響度合いの分析。\n",
        "\n",
        "**まとめ**：\n",
        "- 標準化と多重共線性対処の重要性を学び、改善された回帰手法を実践。\n",
        "- 回帰分析における各ステップの理解と、分析プロセスの完遂。"
      ],
      "metadata": {
        "id": "-4iETEkrBxwq"
      }
    },
    {
      "cell_type": "markdown",
      "source": [
        "\n",
        "\n",
        "> 同じデータを利用して、重回帰を行います。\n",
        "\n"
      ],
      "metadata": {
        "id": "HspFMfyaprYO"
      }
    },
    {
      "cell_type": "code",
      "source": [
        "import numpy as np\n",
        "import pandas as pd\n",
        "import seaborn as sns\n"
      ],
      "metadata": {
        "id": "9V4uSAIUQvRo"
      },
      "execution_count": null,
      "outputs": []
    },
    {
      "cell_type": "code",
      "source": [
        "pip install japanize-matplotlib\n"
      ],
      "metadata": {
        "id": "9LqDEqehQw0j",
        "colab": {
          "base_uri": "https://localhost:8080/"
        },
        "outputId": "24bc2df6-fd51-4c3b-cf6c-7ff775d1708e"
      },
      "execution_count": null,
      "outputs": [
        {
          "output_type": "stream",
          "name": "stdout",
          "text": [
            "Requirement already satisfied: japanize-matplotlib in /usr/local/lib/python3.10/dist-packages (1.1.3)\n",
            "Requirement already satisfied: matplotlib in /usr/local/lib/python3.10/dist-packages (from japanize-matplotlib) (3.7.1)\n",
            "Requirement already satisfied: contourpy>=1.0.1 in /usr/local/lib/python3.10/dist-packages (from matplotlib->japanize-matplotlib) (1.2.1)\n",
            "Requirement already satisfied: cycler>=0.10 in /usr/local/lib/python3.10/dist-packages (from matplotlib->japanize-matplotlib) (0.12.1)\n",
            "Requirement already satisfied: fonttools>=4.22.0 in /usr/local/lib/python3.10/dist-packages (from matplotlib->japanize-matplotlib) (4.50.0)\n",
            "Requirement already satisfied: kiwisolver>=1.0.1 in /usr/local/lib/python3.10/dist-packages (from matplotlib->japanize-matplotlib) (1.4.5)\n",
            "Requirement already satisfied: numpy>=1.20 in /usr/local/lib/python3.10/dist-packages (from matplotlib->japanize-matplotlib) (1.25.2)\n",
            "Requirement already satisfied: packaging>=20.0 in /usr/local/lib/python3.10/dist-packages (from matplotlib->japanize-matplotlib) (24.0)\n",
            "Requirement already satisfied: pillow>=6.2.0 in /usr/local/lib/python3.10/dist-packages (from matplotlib->japanize-matplotlib) (9.4.0)\n",
            "Requirement already satisfied: pyparsing>=2.3.1 in /usr/local/lib/python3.10/dist-packages (from matplotlib->japanize-matplotlib) (3.1.2)\n",
            "Requirement already satisfied: python-dateutil>=2.7 in /usr/local/lib/python3.10/dist-packages (from matplotlib->japanize-matplotlib) (2.8.2)\n",
            "Requirement already satisfied: six>=1.5 in /usr/local/lib/python3.10/dist-packages (from python-dateutil>=2.7->matplotlib->japanize-matplotlib) (1.16.0)\n"
          ]
        }
      ]
    },
    {
      "cell_type": "code",
      "source": [
        "import japanize_matplotlib\n"
      ],
      "metadata": {
        "id": "T1uKwYK3Qyei"
      },
      "execution_count": null,
      "outputs": []
    },
    {
      "cell_type": "code",
      "source": [
        "df = pd.read_csv('/content/california_housing_cleansing.csv')\n",
        "df.head()"
      ],
      "metadata": {
        "colab": {
          "base_uri": "https://localhost:8080/",
          "height": 206
        },
        "id": "T1V8Hg3S2SxC",
        "outputId": "25830aff-9935-41fa-973c-13b616faa62f"
      },
      "execution_count": null,
      "outputs": [
        {
          "output_type": "execute_result",
          "data": {
            "text/plain": [
              "   Unnamed: 0      所得   築年数    地域人口     緯度      経度   住宅価格     部屋数/人     寝室数/人\n",
              "0           0  8.3252  41.0   322.0  37.88 -122.23  4.526  2.732919  0.400621\n",
              "1           1  8.3014  21.0  2401.0  37.86 -122.22  3.585  2.956685  0.460641\n",
              "2           8  2.0804  42.0  1206.0  37.84 -122.26  2.267  2.118574  0.551410\n",
              "3          15  2.1250  50.0   697.0  37.85 -122.26  1.400  1.606887  0.406026\n",
              "4          18  1.9911  50.0   990.0  37.84 -122.26  1.587  2.261616  0.459596"
            ],
            "text/html": [
              "\n",
              "  <div id=\"df-80261f54-148c-47a1-bc0a-fa9d6594d69e\" class=\"colab-df-container\">\n",
              "    <div>\n",
              "<style scoped>\n",
              "    .dataframe tbody tr th:only-of-type {\n",
              "        vertical-align: middle;\n",
              "    }\n",
              "\n",
              "    .dataframe tbody tr th {\n",
              "        vertical-align: top;\n",
              "    }\n",
              "\n",
              "    .dataframe thead th {\n",
              "        text-align: right;\n",
              "    }\n",
              "</style>\n",
              "<table border=\"1\" class=\"dataframe\">\n",
              "  <thead>\n",
              "    <tr style=\"text-align: right;\">\n",
              "      <th></th>\n",
              "      <th>Unnamed: 0</th>\n",
              "      <th>所得</th>\n",
              "      <th>築年数</th>\n",
              "      <th>地域人口</th>\n",
              "      <th>緯度</th>\n",
              "      <th>経度</th>\n",
              "      <th>住宅価格</th>\n",
              "      <th>部屋数/人</th>\n",
              "      <th>寝室数/人</th>\n",
              "    </tr>\n",
              "  </thead>\n",
              "  <tbody>\n",
              "    <tr>\n",
              "      <th>0</th>\n",
              "      <td>0</td>\n",
              "      <td>8.3252</td>\n",
              "      <td>41.0</td>\n",
              "      <td>322.0</td>\n",
              "      <td>37.88</td>\n",
              "      <td>-122.23</td>\n",
              "      <td>4.526</td>\n",
              "      <td>2.732919</td>\n",
              "      <td>0.400621</td>\n",
              "    </tr>\n",
              "    <tr>\n",
              "      <th>1</th>\n",
              "      <td>1</td>\n",
              "      <td>8.3014</td>\n",
              "      <td>21.0</td>\n",
              "      <td>2401.0</td>\n",
              "      <td>37.86</td>\n",
              "      <td>-122.22</td>\n",
              "      <td>3.585</td>\n",
              "      <td>2.956685</td>\n",
              "      <td>0.460641</td>\n",
              "    </tr>\n",
              "    <tr>\n",
              "      <th>2</th>\n",
              "      <td>8</td>\n",
              "      <td>2.0804</td>\n",
              "      <td>42.0</td>\n",
              "      <td>1206.0</td>\n",
              "      <td>37.84</td>\n",
              "      <td>-122.26</td>\n",
              "      <td>2.267</td>\n",
              "      <td>2.118574</td>\n",
              "      <td>0.551410</td>\n",
              "    </tr>\n",
              "    <tr>\n",
              "      <th>3</th>\n",
              "      <td>15</td>\n",
              "      <td>2.1250</td>\n",
              "      <td>50.0</td>\n",
              "      <td>697.0</td>\n",
              "      <td>37.85</td>\n",
              "      <td>-122.26</td>\n",
              "      <td>1.400</td>\n",
              "      <td>1.606887</td>\n",
              "      <td>0.406026</td>\n",
              "    </tr>\n",
              "    <tr>\n",
              "      <th>4</th>\n",
              "      <td>18</td>\n",
              "      <td>1.9911</td>\n",
              "      <td>50.0</td>\n",
              "      <td>990.0</td>\n",
              "      <td>37.84</td>\n",
              "      <td>-122.26</td>\n",
              "      <td>1.587</td>\n",
              "      <td>2.261616</td>\n",
              "      <td>0.459596</td>\n",
              "    </tr>\n",
              "  </tbody>\n",
              "</table>\n",
              "</div>\n",
              "    <div class=\"colab-df-buttons\">\n",
              "\n",
              "  <div class=\"colab-df-container\">\n",
              "    <button class=\"colab-df-convert\" onclick=\"convertToInteractive('df-80261f54-148c-47a1-bc0a-fa9d6594d69e')\"\n",
              "            title=\"Convert this dataframe to an interactive table.\"\n",
              "            style=\"display:none;\">\n",
              "\n",
              "  <svg xmlns=\"http://www.w3.org/2000/svg\" height=\"24px\" viewBox=\"0 -960 960 960\">\n",
              "    <path d=\"M120-120v-720h720v720H120Zm60-500h600v-160H180v160Zm220 220h160v-160H400v160Zm0 220h160v-160H400v160ZM180-400h160v-160H180v160Zm440 0h160v-160H620v160ZM180-180h160v-160H180v160Zm440 0h160v-160H620v160Z\"/>\n",
              "  </svg>\n",
              "    </button>\n",
              "\n",
              "  <style>\n",
              "    .colab-df-container {\n",
              "      display:flex;\n",
              "      gap: 12px;\n",
              "    }\n",
              "\n",
              "    .colab-df-convert {\n",
              "      background-color: #E8F0FE;\n",
              "      border: none;\n",
              "      border-radius: 50%;\n",
              "      cursor: pointer;\n",
              "      display: none;\n",
              "      fill: #1967D2;\n",
              "      height: 32px;\n",
              "      padding: 0 0 0 0;\n",
              "      width: 32px;\n",
              "    }\n",
              "\n",
              "    .colab-df-convert:hover {\n",
              "      background-color: #E2EBFA;\n",
              "      box-shadow: 0px 1px 2px rgba(60, 64, 67, 0.3), 0px 1px 3px 1px rgba(60, 64, 67, 0.15);\n",
              "      fill: #174EA6;\n",
              "    }\n",
              "\n",
              "    .colab-df-buttons div {\n",
              "      margin-bottom: 4px;\n",
              "    }\n",
              "\n",
              "    [theme=dark] .colab-df-convert {\n",
              "      background-color: #3B4455;\n",
              "      fill: #D2E3FC;\n",
              "    }\n",
              "\n",
              "    [theme=dark] .colab-df-convert:hover {\n",
              "      background-color: #434B5C;\n",
              "      box-shadow: 0px 1px 3px 1px rgba(0, 0, 0, 0.15);\n",
              "      filter: drop-shadow(0px 1px 2px rgba(0, 0, 0, 0.3));\n",
              "      fill: #FFFFFF;\n",
              "    }\n",
              "  </style>\n",
              "\n",
              "    <script>\n",
              "      const buttonEl =\n",
              "        document.querySelector('#df-80261f54-148c-47a1-bc0a-fa9d6594d69e button.colab-df-convert');\n",
              "      buttonEl.style.display =\n",
              "        google.colab.kernel.accessAllowed ? 'block' : 'none';\n",
              "\n",
              "      async function convertToInteractive(key) {\n",
              "        const element = document.querySelector('#df-80261f54-148c-47a1-bc0a-fa9d6594d69e');\n",
              "        const dataTable =\n",
              "          await google.colab.kernel.invokeFunction('convertToInteractive',\n",
              "                                                    [key], {});\n",
              "        if (!dataTable) return;\n",
              "\n",
              "        const docLinkHtml = 'Like what you see? Visit the ' +\n",
              "          '<a target=\"_blank\" href=https://colab.research.google.com/notebooks/data_table.ipynb>data table notebook</a>'\n",
              "          + ' to learn more about interactive tables.';\n",
              "        element.innerHTML = '';\n",
              "        dataTable['output_type'] = 'display_data';\n",
              "        await google.colab.output.renderOutput(dataTable, element);\n",
              "        const docLink = document.createElement('div');\n",
              "        docLink.innerHTML = docLinkHtml;\n",
              "        element.appendChild(docLink);\n",
              "      }\n",
              "    </script>\n",
              "  </div>\n",
              "\n",
              "\n",
              "<div id=\"df-f453af1f-082f-4cd1-b1d1-f5bc946dc880\">\n",
              "  <button class=\"colab-df-quickchart\" onclick=\"quickchart('df-f453af1f-082f-4cd1-b1d1-f5bc946dc880')\"\n",
              "            title=\"Suggest charts\"\n",
              "            style=\"display:none;\">\n",
              "\n",
              "<svg xmlns=\"http://www.w3.org/2000/svg\" height=\"24px\"viewBox=\"0 0 24 24\"\n",
              "     width=\"24px\">\n",
              "    <g>\n",
              "        <path d=\"M19 3H5c-1.1 0-2 .9-2 2v14c0 1.1.9 2 2 2h14c1.1 0 2-.9 2-2V5c0-1.1-.9-2-2-2zM9 17H7v-7h2v7zm4 0h-2V7h2v10zm4 0h-2v-4h2v4z\"/>\n",
              "    </g>\n",
              "</svg>\n",
              "  </button>\n",
              "\n",
              "<style>\n",
              "  .colab-df-quickchart {\n",
              "      --bg-color: #E8F0FE;\n",
              "      --fill-color: #1967D2;\n",
              "      --hover-bg-color: #E2EBFA;\n",
              "      --hover-fill-color: #174EA6;\n",
              "      --disabled-fill-color: #AAA;\n",
              "      --disabled-bg-color: #DDD;\n",
              "  }\n",
              "\n",
              "  [theme=dark] .colab-df-quickchart {\n",
              "      --bg-color: #3B4455;\n",
              "      --fill-color: #D2E3FC;\n",
              "      --hover-bg-color: #434B5C;\n",
              "      --hover-fill-color: #FFFFFF;\n",
              "      --disabled-bg-color: #3B4455;\n",
              "      --disabled-fill-color: #666;\n",
              "  }\n",
              "\n",
              "  .colab-df-quickchart {\n",
              "    background-color: var(--bg-color);\n",
              "    border: none;\n",
              "    border-radius: 50%;\n",
              "    cursor: pointer;\n",
              "    display: none;\n",
              "    fill: var(--fill-color);\n",
              "    height: 32px;\n",
              "    padding: 0;\n",
              "    width: 32px;\n",
              "  }\n",
              "\n",
              "  .colab-df-quickchart:hover {\n",
              "    background-color: var(--hover-bg-color);\n",
              "    box-shadow: 0 1px 2px rgba(60, 64, 67, 0.3), 0 1px 3px 1px rgba(60, 64, 67, 0.15);\n",
              "    fill: var(--button-hover-fill-color);\n",
              "  }\n",
              "\n",
              "  .colab-df-quickchart-complete:disabled,\n",
              "  .colab-df-quickchart-complete:disabled:hover {\n",
              "    background-color: var(--disabled-bg-color);\n",
              "    fill: var(--disabled-fill-color);\n",
              "    box-shadow: none;\n",
              "  }\n",
              "\n",
              "  .colab-df-spinner {\n",
              "    border: 2px solid var(--fill-color);\n",
              "    border-color: transparent;\n",
              "    border-bottom-color: var(--fill-color);\n",
              "    animation:\n",
              "      spin 1s steps(1) infinite;\n",
              "  }\n",
              "\n",
              "  @keyframes spin {\n",
              "    0% {\n",
              "      border-color: transparent;\n",
              "      border-bottom-color: var(--fill-color);\n",
              "      border-left-color: var(--fill-color);\n",
              "    }\n",
              "    20% {\n",
              "      border-color: transparent;\n",
              "      border-left-color: var(--fill-color);\n",
              "      border-top-color: var(--fill-color);\n",
              "    }\n",
              "    30% {\n",
              "      border-color: transparent;\n",
              "      border-left-color: var(--fill-color);\n",
              "      border-top-color: var(--fill-color);\n",
              "      border-right-color: var(--fill-color);\n",
              "    }\n",
              "    40% {\n",
              "      border-color: transparent;\n",
              "      border-right-color: var(--fill-color);\n",
              "      border-top-color: var(--fill-color);\n",
              "    }\n",
              "    60% {\n",
              "      border-color: transparent;\n",
              "      border-right-color: var(--fill-color);\n",
              "    }\n",
              "    80% {\n",
              "      border-color: transparent;\n",
              "      border-right-color: var(--fill-color);\n",
              "      border-bottom-color: var(--fill-color);\n",
              "    }\n",
              "    90% {\n",
              "      border-color: transparent;\n",
              "      border-bottom-color: var(--fill-color);\n",
              "    }\n",
              "  }\n",
              "</style>\n",
              "\n",
              "  <script>\n",
              "    async function quickchart(key) {\n",
              "      const quickchartButtonEl =\n",
              "        document.querySelector('#' + key + ' button');\n",
              "      quickchartButtonEl.disabled = true;  // To prevent multiple clicks.\n",
              "      quickchartButtonEl.classList.add('colab-df-spinner');\n",
              "      try {\n",
              "        const charts = await google.colab.kernel.invokeFunction(\n",
              "            'suggestCharts', [key], {});\n",
              "      } catch (error) {\n",
              "        console.error('Error during call to suggestCharts:', error);\n",
              "      }\n",
              "      quickchartButtonEl.classList.remove('colab-df-spinner');\n",
              "      quickchartButtonEl.classList.add('colab-df-quickchart-complete');\n",
              "    }\n",
              "    (() => {\n",
              "      let quickchartButtonEl =\n",
              "        document.querySelector('#df-f453af1f-082f-4cd1-b1d1-f5bc946dc880 button');\n",
              "      quickchartButtonEl.style.display =\n",
              "        google.colab.kernel.accessAllowed ? 'block' : 'none';\n",
              "    })();\n",
              "  </script>\n",
              "</div>\n",
              "\n",
              "    </div>\n",
              "  </div>\n"
            ],
            "application/vnd.google.colaboratory.intrinsic+json": {
              "type": "dataframe",
              "variable_name": "df",
              "summary": "{\n  \"name\": \"df\",\n  \"rows\": 18572,\n  \"fields\": [\n    {\n      \"column\": \"Unnamed: 0\",\n      \"properties\": {\n        \"dtype\": \"number\",\n        \"std\": 5933,\n        \"min\": 0,\n        \"max\": 20639,\n        \"num_unique_values\": 18572,\n        \"samples\": [\n          12869,\n          8961,\n          20309\n        ],\n        \"semantic_type\": \"\",\n        \"description\": \"\"\n      }\n    },\n    {\n      \"column\": \"\\u6240\\u5f97\",\n      \"properties\": {\n        \"dtype\": \"number\",\n        \"std\": 1.5700448604339163,\n        \"min\": 0.4999,\n        \"max\": 15.0001,\n        \"num_unique_values\": 11739,\n        \"samples\": [\n          6.196,\n          3.6417,\n          6.3639\n        ],\n        \"semantic_type\": \"\",\n        \"description\": \"\"\n      }\n    },\n    {\n      \"column\": \"\\u7bc9\\u5e74\\u6570\",\n      \"properties\": {\n        \"dtype\": \"number\",\n        \"std\": 11.431815300080467,\n        \"min\": 1.0,\n        \"max\": 51.0,\n        \"num_unique_values\": 51,\n        \"samples\": [\n          6.0,\n          25.0,\n          7.0\n        ],\n        \"semantic_type\": \"\",\n        \"description\": \"\"\n      }\n    },\n    {\n      \"column\": \"\\u5730\\u57df\\u4eba\\u53e3\",\n      \"properties\": {\n        \"dtype\": \"number\",\n        \"std\": 1162.944307244388,\n        \"min\": 3.0,\n        \"max\": 35682.0,\n        \"num_unique_values\": 3853,\n        \"samples\": [\n          2294.0,\n          913.0,\n          1901.0\n        ],\n        \"semantic_type\": \"\",\n        \"description\": \"\"\n      }\n    },\n    {\n      \"column\": \"\\u7def\\u5ea6\",\n      \"properties\": {\n        \"dtype\": \"number\",\n        \"std\": 2.147711684136212,\n        \"min\": 32.54,\n        \"max\": 41.95,\n        \"num_unique_values\": 860,\n        \"samples\": [\n          39.9,\n          34.49,\n          38.24\n        ],\n        \"semantic_type\": \"\",\n        \"description\": \"\"\n      }\n    },\n    {\n      \"column\": \"\\u7d4c\\u5ea6\",\n      \"properties\": {\n        \"dtype\": \"number\",\n        \"std\": 1.9808648071162764,\n        \"min\": -124.3,\n        \"max\": -114.31,\n        \"num_unique_values\": 840,\n        \"samples\": [\n          -116.95,\n          -123.0,\n          -122.04\n        ],\n        \"semantic_type\": \"\",\n        \"description\": \"\"\n      }\n    },\n    {\n      \"column\": \"\\u4f4f\\u5b85\\u4fa1\\u683c\",\n      \"properties\": {\n        \"dtype\": \"number\",\n        \"std\": 0.9579023727944934,\n        \"min\": 0.14999,\n        \"max\": 5.0,\n        \"num_unique_values\": 3766,\n        \"samples\": [\n          4.572,\n          4.359,\n          1.358\n        ],\n        \"semantic_type\": \"\",\n        \"description\": \"\"\n      }\n    },\n    {\n      \"column\": \"\\u90e8\\u5c4b\\u6570/\\u4eba\",\n      \"properties\": {\n        \"dtype\": \"number\",\n        \"std\": 1.1224956281068896,\n        \"min\": 0.0025469168900804,\n        \"max\": 55.22222222222222,\n        \"num_unique_values\": 18278,\n        \"samples\": [\n          2.125514403292181,\n          1.538672142368241,\n          1.7852614896988908\n        ],\n        \"semantic_type\": \"\",\n        \"description\": \"\"\n      }\n    },\n    {\n      \"column\": \"\\u5bdd\\u5ba4\\u6570/\\u4eba\",\n      \"properties\": {\n        \"dtype\": \"number\",\n        \"std\": 0.24247920254739955,\n        \"min\": 0.0006702412868632,\n        \"max\": 14.194444444444446,\n        \"num_unique_values\": 17519,\n        \"samples\": [\n          0.349009900990099,\n          0.3653846153846153,\n          0.357830271216098\n        ],\n        \"semantic_type\": \"\",\n        \"description\": \"\"\n      }\n    }\n  ]\n}"
            }
          },
          "metadata": {},
          "execution_count": 4
        }
      ]
    },
    {
      "cell_type": "markdown",
      "source": [
        "Unnamed: 0'の行は削除"
      ],
      "metadata": {
        "id": "BffQYeyy2tpj"
      }
    },
    {
      "cell_type": "code",
      "source": [
        "df = pd.read_csv('/content/california_housing_cleansing.csv')\n",
        "\n"
      ],
      "metadata": {
        "id": "kbI7xC8JQz1h"
      },
      "execution_count": null,
      "outputs": []
    },
    {
      "cell_type": "code",
      "source": [
        "df = df.drop(columns = ['Unnamed: 0'])\n",
        "df.head()"
      ],
      "metadata": {
        "id": "yToZPkADOqGQ",
        "colab": {
          "base_uri": "https://localhost:8080/",
          "height": 206
        },
        "outputId": "182888e6-dc5e-45db-bac3-efd2291ee7f6"
      },
      "execution_count": null,
      "outputs": [
        {
          "output_type": "execute_result",
          "data": {
            "text/plain": [
              "       所得   築年数    地域人口     緯度      経度   住宅価格     部屋数/人     寝室数/人\n",
              "0  8.3252  41.0   322.0  37.88 -122.23  4.526  2.732919  0.400621\n",
              "1  8.3014  21.0  2401.0  37.86 -122.22  3.585  2.956685  0.460641\n",
              "2  2.0804  42.0  1206.0  37.84 -122.26  2.267  2.118574  0.551410\n",
              "3  2.1250  50.0   697.0  37.85 -122.26  1.400  1.606887  0.406026\n",
              "4  1.9911  50.0   990.0  37.84 -122.26  1.587  2.261616  0.459596"
            ],
            "text/html": [
              "\n",
              "  <div id=\"df-869298a1-b7dc-42f3-a920-20c2f181dd37\" class=\"colab-df-container\">\n",
              "    <div>\n",
              "<style scoped>\n",
              "    .dataframe tbody tr th:only-of-type {\n",
              "        vertical-align: middle;\n",
              "    }\n",
              "\n",
              "    .dataframe tbody tr th {\n",
              "        vertical-align: top;\n",
              "    }\n",
              "\n",
              "    .dataframe thead th {\n",
              "        text-align: right;\n",
              "    }\n",
              "</style>\n",
              "<table border=\"1\" class=\"dataframe\">\n",
              "  <thead>\n",
              "    <tr style=\"text-align: right;\">\n",
              "      <th></th>\n",
              "      <th>所得</th>\n",
              "      <th>築年数</th>\n",
              "      <th>地域人口</th>\n",
              "      <th>緯度</th>\n",
              "      <th>経度</th>\n",
              "      <th>住宅価格</th>\n",
              "      <th>部屋数/人</th>\n",
              "      <th>寝室数/人</th>\n",
              "    </tr>\n",
              "  </thead>\n",
              "  <tbody>\n",
              "    <tr>\n",
              "      <th>0</th>\n",
              "      <td>8.3252</td>\n",
              "      <td>41.0</td>\n",
              "      <td>322.0</td>\n",
              "      <td>37.88</td>\n",
              "      <td>-122.23</td>\n",
              "      <td>4.526</td>\n",
              "      <td>2.732919</td>\n",
              "      <td>0.400621</td>\n",
              "    </tr>\n",
              "    <tr>\n",
              "      <th>1</th>\n",
              "      <td>8.3014</td>\n",
              "      <td>21.0</td>\n",
              "      <td>2401.0</td>\n",
              "      <td>37.86</td>\n",
              "      <td>-122.22</td>\n",
              "      <td>3.585</td>\n",
              "      <td>2.956685</td>\n",
              "      <td>0.460641</td>\n",
              "    </tr>\n",
              "    <tr>\n",
              "      <th>2</th>\n",
              "      <td>2.0804</td>\n",
              "      <td>42.0</td>\n",
              "      <td>1206.0</td>\n",
              "      <td>37.84</td>\n",
              "      <td>-122.26</td>\n",
              "      <td>2.267</td>\n",
              "      <td>2.118574</td>\n",
              "      <td>0.551410</td>\n",
              "    </tr>\n",
              "    <tr>\n",
              "      <th>3</th>\n",
              "      <td>2.1250</td>\n",
              "      <td>50.0</td>\n",
              "      <td>697.0</td>\n",
              "      <td>37.85</td>\n",
              "      <td>-122.26</td>\n",
              "      <td>1.400</td>\n",
              "      <td>1.606887</td>\n",
              "      <td>0.406026</td>\n",
              "    </tr>\n",
              "    <tr>\n",
              "      <th>4</th>\n",
              "      <td>1.9911</td>\n",
              "      <td>50.0</td>\n",
              "      <td>990.0</td>\n",
              "      <td>37.84</td>\n",
              "      <td>-122.26</td>\n",
              "      <td>1.587</td>\n",
              "      <td>2.261616</td>\n",
              "      <td>0.459596</td>\n",
              "    </tr>\n",
              "  </tbody>\n",
              "</table>\n",
              "</div>\n",
              "    <div class=\"colab-df-buttons\">\n",
              "\n",
              "  <div class=\"colab-df-container\">\n",
              "    <button class=\"colab-df-convert\" onclick=\"convertToInteractive('df-869298a1-b7dc-42f3-a920-20c2f181dd37')\"\n",
              "            title=\"Convert this dataframe to an interactive table.\"\n",
              "            style=\"display:none;\">\n",
              "\n",
              "  <svg xmlns=\"http://www.w3.org/2000/svg\" height=\"24px\" viewBox=\"0 -960 960 960\">\n",
              "    <path d=\"M120-120v-720h720v720H120Zm60-500h600v-160H180v160Zm220 220h160v-160H400v160Zm0 220h160v-160H400v160ZM180-400h160v-160H180v160Zm440 0h160v-160H620v160ZM180-180h160v-160H180v160Zm440 0h160v-160H620v160Z\"/>\n",
              "  </svg>\n",
              "    </button>\n",
              "\n",
              "  <style>\n",
              "    .colab-df-container {\n",
              "      display:flex;\n",
              "      gap: 12px;\n",
              "    }\n",
              "\n",
              "    .colab-df-convert {\n",
              "      background-color: #E8F0FE;\n",
              "      border: none;\n",
              "      border-radius: 50%;\n",
              "      cursor: pointer;\n",
              "      display: none;\n",
              "      fill: #1967D2;\n",
              "      height: 32px;\n",
              "      padding: 0 0 0 0;\n",
              "      width: 32px;\n",
              "    }\n",
              "\n",
              "    .colab-df-convert:hover {\n",
              "      background-color: #E2EBFA;\n",
              "      box-shadow: 0px 1px 2px rgba(60, 64, 67, 0.3), 0px 1px 3px 1px rgba(60, 64, 67, 0.15);\n",
              "      fill: #174EA6;\n",
              "    }\n",
              "\n",
              "    .colab-df-buttons div {\n",
              "      margin-bottom: 4px;\n",
              "    }\n",
              "\n",
              "    [theme=dark] .colab-df-convert {\n",
              "      background-color: #3B4455;\n",
              "      fill: #D2E3FC;\n",
              "    }\n",
              "\n",
              "    [theme=dark] .colab-df-convert:hover {\n",
              "      background-color: #434B5C;\n",
              "      box-shadow: 0px 1px 3px 1px rgba(0, 0, 0, 0.15);\n",
              "      filter: drop-shadow(0px 1px 2px rgba(0, 0, 0, 0.3));\n",
              "      fill: #FFFFFF;\n",
              "    }\n",
              "  </style>\n",
              "\n",
              "    <script>\n",
              "      const buttonEl =\n",
              "        document.querySelector('#df-869298a1-b7dc-42f3-a920-20c2f181dd37 button.colab-df-convert');\n",
              "      buttonEl.style.display =\n",
              "        google.colab.kernel.accessAllowed ? 'block' : 'none';\n",
              "\n",
              "      async function convertToInteractive(key) {\n",
              "        const element = document.querySelector('#df-869298a1-b7dc-42f3-a920-20c2f181dd37');\n",
              "        const dataTable =\n",
              "          await google.colab.kernel.invokeFunction('convertToInteractive',\n",
              "                                                    [key], {});\n",
              "        if (!dataTable) return;\n",
              "\n",
              "        const docLinkHtml = 'Like what you see? Visit the ' +\n",
              "          '<a target=\"_blank\" href=https://colab.research.google.com/notebooks/data_table.ipynb>data table notebook</a>'\n",
              "          + ' to learn more about interactive tables.';\n",
              "        element.innerHTML = '';\n",
              "        dataTable['output_type'] = 'display_data';\n",
              "        await google.colab.output.renderOutput(dataTable, element);\n",
              "        const docLink = document.createElement('div');\n",
              "        docLink.innerHTML = docLinkHtml;\n",
              "        element.appendChild(docLink);\n",
              "      }\n",
              "    </script>\n",
              "  </div>\n",
              "\n",
              "\n",
              "<div id=\"df-70753cf1-14ba-4905-96dd-b5f290ea0c53\">\n",
              "  <button class=\"colab-df-quickchart\" onclick=\"quickchart('df-70753cf1-14ba-4905-96dd-b5f290ea0c53')\"\n",
              "            title=\"Suggest charts\"\n",
              "            style=\"display:none;\">\n",
              "\n",
              "<svg xmlns=\"http://www.w3.org/2000/svg\" height=\"24px\"viewBox=\"0 0 24 24\"\n",
              "     width=\"24px\">\n",
              "    <g>\n",
              "        <path d=\"M19 3H5c-1.1 0-2 .9-2 2v14c0 1.1.9 2 2 2h14c1.1 0 2-.9 2-2V5c0-1.1-.9-2-2-2zM9 17H7v-7h2v7zm4 0h-2V7h2v10zm4 0h-2v-4h2v4z\"/>\n",
              "    </g>\n",
              "</svg>\n",
              "  </button>\n",
              "\n",
              "<style>\n",
              "  .colab-df-quickchart {\n",
              "      --bg-color: #E8F0FE;\n",
              "      --fill-color: #1967D2;\n",
              "      --hover-bg-color: #E2EBFA;\n",
              "      --hover-fill-color: #174EA6;\n",
              "      --disabled-fill-color: #AAA;\n",
              "      --disabled-bg-color: #DDD;\n",
              "  }\n",
              "\n",
              "  [theme=dark] .colab-df-quickchart {\n",
              "      --bg-color: #3B4455;\n",
              "      --fill-color: #D2E3FC;\n",
              "      --hover-bg-color: #434B5C;\n",
              "      --hover-fill-color: #FFFFFF;\n",
              "      --disabled-bg-color: #3B4455;\n",
              "      --disabled-fill-color: #666;\n",
              "  }\n",
              "\n",
              "  .colab-df-quickchart {\n",
              "    background-color: var(--bg-color);\n",
              "    border: none;\n",
              "    border-radius: 50%;\n",
              "    cursor: pointer;\n",
              "    display: none;\n",
              "    fill: var(--fill-color);\n",
              "    height: 32px;\n",
              "    padding: 0;\n",
              "    width: 32px;\n",
              "  }\n",
              "\n",
              "  .colab-df-quickchart:hover {\n",
              "    background-color: var(--hover-bg-color);\n",
              "    box-shadow: 0 1px 2px rgba(60, 64, 67, 0.3), 0 1px 3px 1px rgba(60, 64, 67, 0.15);\n",
              "    fill: var(--button-hover-fill-color);\n",
              "  }\n",
              "\n",
              "  .colab-df-quickchart-complete:disabled,\n",
              "  .colab-df-quickchart-complete:disabled:hover {\n",
              "    background-color: var(--disabled-bg-color);\n",
              "    fill: var(--disabled-fill-color);\n",
              "    box-shadow: none;\n",
              "  }\n",
              "\n",
              "  .colab-df-spinner {\n",
              "    border: 2px solid var(--fill-color);\n",
              "    border-color: transparent;\n",
              "    border-bottom-color: var(--fill-color);\n",
              "    animation:\n",
              "      spin 1s steps(1) infinite;\n",
              "  }\n",
              "\n",
              "  @keyframes spin {\n",
              "    0% {\n",
              "      border-color: transparent;\n",
              "      border-bottom-color: var(--fill-color);\n",
              "      border-left-color: var(--fill-color);\n",
              "    }\n",
              "    20% {\n",
              "      border-color: transparent;\n",
              "      border-left-color: var(--fill-color);\n",
              "      border-top-color: var(--fill-color);\n",
              "    }\n",
              "    30% {\n",
              "      border-color: transparent;\n",
              "      border-left-color: var(--fill-color);\n",
              "      border-top-color: var(--fill-color);\n",
              "      border-right-color: var(--fill-color);\n",
              "    }\n",
              "    40% {\n",
              "      border-color: transparent;\n",
              "      border-right-color: var(--fill-color);\n",
              "      border-top-color: var(--fill-color);\n",
              "    }\n",
              "    60% {\n",
              "      border-color: transparent;\n",
              "      border-right-color: var(--fill-color);\n",
              "    }\n",
              "    80% {\n",
              "      border-color: transparent;\n",
              "      border-right-color: var(--fill-color);\n",
              "      border-bottom-color: var(--fill-color);\n",
              "    }\n",
              "    90% {\n",
              "      border-color: transparent;\n",
              "      border-bottom-color: var(--fill-color);\n",
              "    }\n",
              "  }\n",
              "</style>\n",
              "\n",
              "  <script>\n",
              "    async function quickchart(key) {\n",
              "      const quickchartButtonEl =\n",
              "        document.querySelector('#' + key + ' button');\n",
              "      quickchartButtonEl.disabled = true;  // To prevent multiple clicks.\n",
              "      quickchartButtonEl.classList.add('colab-df-spinner');\n",
              "      try {\n",
              "        const charts = await google.colab.kernel.invokeFunction(\n",
              "            'suggestCharts', [key], {});\n",
              "      } catch (error) {\n",
              "        console.error('Error during call to suggestCharts:', error);\n",
              "      }\n",
              "      quickchartButtonEl.classList.remove('colab-df-spinner');\n",
              "      quickchartButtonEl.classList.add('colab-df-quickchart-complete');\n",
              "    }\n",
              "    (() => {\n",
              "      let quickchartButtonEl =\n",
              "        document.querySelector('#df-70753cf1-14ba-4905-96dd-b5f290ea0c53 button');\n",
              "      quickchartButtonEl.style.display =\n",
              "        google.colab.kernel.accessAllowed ? 'block' : 'none';\n",
              "    })();\n",
              "  </script>\n",
              "</div>\n",
              "\n",
              "    </div>\n",
              "  </div>\n"
            ],
            "application/vnd.google.colaboratory.intrinsic+json": {
              "type": "dataframe",
              "variable_name": "df",
              "summary": "{\n  \"name\": \"df\",\n  \"rows\": 18572,\n  \"fields\": [\n    {\n      \"column\": \"\\u6240\\u5f97\",\n      \"properties\": {\n        \"dtype\": \"number\",\n        \"std\": 1.5700448604339163,\n        \"min\": 0.4999,\n        \"max\": 15.0001,\n        \"num_unique_values\": 11739,\n        \"samples\": [\n          6.196,\n          3.6417,\n          6.3639\n        ],\n        \"semantic_type\": \"\",\n        \"description\": \"\"\n      }\n    },\n    {\n      \"column\": \"\\u7bc9\\u5e74\\u6570\",\n      \"properties\": {\n        \"dtype\": \"number\",\n        \"std\": 11.431815300080467,\n        \"min\": 1.0,\n        \"max\": 51.0,\n        \"num_unique_values\": 51,\n        \"samples\": [\n          6.0,\n          25.0,\n          7.0\n        ],\n        \"semantic_type\": \"\",\n        \"description\": \"\"\n      }\n    },\n    {\n      \"column\": \"\\u5730\\u57df\\u4eba\\u53e3\",\n      \"properties\": {\n        \"dtype\": \"number\",\n        \"std\": 1162.944307244388,\n        \"min\": 3.0,\n        \"max\": 35682.0,\n        \"num_unique_values\": 3853,\n        \"samples\": [\n          2294.0,\n          913.0,\n          1901.0\n        ],\n        \"semantic_type\": \"\",\n        \"description\": \"\"\n      }\n    },\n    {\n      \"column\": \"\\u7def\\u5ea6\",\n      \"properties\": {\n        \"dtype\": \"number\",\n        \"std\": 2.147711684136212,\n        \"min\": 32.54,\n        \"max\": 41.95,\n        \"num_unique_values\": 860,\n        \"samples\": [\n          39.9,\n          34.49,\n          38.24\n        ],\n        \"semantic_type\": \"\",\n        \"description\": \"\"\n      }\n    },\n    {\n      \"column\": \"\\u7d4c\\u5ea6\",\n      \"properties\": {\n        \"dtype\": \"number\",\n        \"std\": 1.9808648071162764,\n        \"min\": -124.3,\n        \"max\": -114.31,\n        \"num_unique_values\": 840,\n        \"samples\": [\n          -116.95,\n          -123.0,\n          -122.04\n        ],\n        \"semantic_type\": \"\",\n        \"description\": \"\"\n      }\n    },\n    {\n      \"column\": \"\\u4f4f\\u5b85\\u4fa1\\u683c\",\n      \"properties\": {\n        \"dtype\": \"number\",\n        \"std\": 0.9579023727944934,\n        \"min\": 0.14999,\n        \"max\": 5.0,\n        \"num_unique_values\": 3766,\n        \"samples\": [\n          4.572,\n          4.359,\n          1.358\n        ],\n        \"semantic_type\": \"\",\n        \"description\": \"\"\n      }\n    },\n    {\n      \"column\": \"\\u90e8\\u5c4b\\u6570/\\u4eba\",\n      \"properties\": {\n        \"dtype\": \"number\",\n        \"std\": 1.1224956281068896,\n        \"min\": 0.0025469168900804,\n        \"max\": 55.22222222222222,\n        \"num_unique_values\": 18278,\n        \"samples\": [\n          2.125514403292181,\n          1.538672142368241,\n          1.7852614896988908\n        ],\n        \"semantic_type\": \"\",\n        \"description\": \"\"\n      }\n    },\n    {\n      \"column\": \"\\u5bdd\\u5ba4\\u6570/\\u4eba\",\n      \"properties\": {\n        \"dtype\": \"number\",\n        \"std\": 0.24247920254739955,\n        \"min\": 0.0006702412868632,\n        \"max\": 14.194444444444446,\n        \"num_unique_values\": 17519,\n        \"samples\": [\n          0.349009900990099,\n          0.3653846153846153,\n          0.357830271216098\n        ],\n        \"semantic_type\": \"\",\n        \"description\": \"\"\n      }\n    }\n  ]\n}"
            }
          },
          "metadata": {},
          "execution_count": 25
        }
      ]
    },
    {
      "cell_type": "code",
      "source": [
        "df.shape\n"
      ],
      "metadata": {
        "colab": {
          "base_uri": "https://localhost:8080/"
        },
        "id": "gvZ2jeaP20Gp",
        "outputId": "39bec55f-5bbc-4252-931c-ab908f6a5c4f"
      },
      "execution_count": null,
      "outputs": [
        {
          "output_type": "execute_result",
          "data": {
            "text/plain": [
              "(18572, 8)"
            ]
          },
          "metadata": {},
          "execution_count": 26
        }
      ]
    },
    {
      "cell_type": "markdown",
      "source": [
        "\n",
        "> 説明変数と目的変数をそれぞれ、学習データとテストデータに分割\n",
        "\n"
      ],
      "metadata": {
        "id": "sAkz5SwPqGx_"
      }
    },
    {
      "cell_type": "code",
      "source": [
        "# 説明変数の定義\n",
        "X = df.drop(columns=['住宅価格']).to_numpy()\n",
        "# 目的変数の定義\n",
        "y = df['住宅価格'].to_numpy()\n",
        "\n",
        "# 学習データとテストデータに分割\n",
        "from sklearn.model_selection import train_test_split\n",
        "X_train, X_test, y_train, y_test = train_test_split(X, y, test_size=0.3, random_state=0)\n"
      ],
      "metadata": {
        "id": "HLxvLSdZQ1am"
      },
      "execution_count": null,
      "outputs": []
    },
    {
      "cell_type": "code",
      "source": [
        "print(X_train.shape, X_test.shape, y_train.shape, y_test.shape)\n"
      ],
      "metadata": {
        "colab": {
          "base_uri": "https://localhost:8080/"
        },
        "id": "X_gO1N3q3Zti",
        "outputId": "f97b8803-38af-4c7c-e1a8-50820239e63c"
      },
      "execution_count": null,
      "outputs": [
        {
          "output_type": "stream",
          "name": "stdout",
          "text": [
            "(13000, 7) (5572, 7) (13000,) (5572,)\n"
          ]
        }
      ]
    },
    {
      "cell_type": "code",
      "source": [
        "from sklearn.linear_model import LinearRegression\n"
      ],
      "metadata": {
        "id": "q90HlA-v3pLJ"
      },
      "execution_count": null,
      "outputs": []
    },
    {
      "cell_type": "code",
      "source": [
        "model = LinearRegression()\n"
      ],
      "metadata": {
        "id": "Lz5d5XwP3zUh"
      },
      "execution_count": null,
      "outputs": []
    },
    {
      "cell_type": "code",
      "source": [
        "model.fit(X_train, y_train)\n"
      ],
      "metadata": {
        "colab": {
          "base_uri": "https://localhost:8080/",
          "height": 74
        },
        "id": "CvxOj8Yt34Ny",
        "outputId": "9171efb4-accb-4080-a539-6dbc7d5da4b9"
      },
      "execution_count": null,
      "outputs": [
        {
          "output_type": "execute_result",
          "data": {
            "text/plain": [
              "LinearRegression()"
            ],
            "text/html": [
              "<style>#sk-container-id-1 {color: black;background-color: white;}#sk-container-id-1 pre{padding: 0;}#sk-container-id-1 div.sk-toggleable {background-color: white;}#sk-container-id-1 label.sk-toggleable__label {cursor: pointer;display: block;width: 100%;margin-bottom: 0;padding: 0.3em;box-sizing: border-box;text-align: center;}#sk-container-id-1 label.sk-toggleable__label-arrow:before {content: \"▸\";float: left;margin-right: 0.25em;color: #696969;}#sk-container-id-1 label.sk-toggleable__label-arrow:hover:before {color: black;}#sk-container-id-1 div.sk-estimator:hover label.sk-toggleable__label-arrow:before {color: black;}#sk-container-id-1 div.sk-toggleable__content {max-height: 0;max-width: 0;overflow: hidden;text-align: left;background-color: #f0f8ff;}#sk-container-id-1 div.sk-toggleable__content pre {margin: 0.2em;color: black;border-radius: 0.25em;background-color: #f0f8ff;}#sk-container-id-1 input.sk-toggleable__control:checked~div.sk-toggleable__content {max-height: 200px;max-width: 100%;overflow: auto;}#sk-container-id-1 input.sk-toggleable__control:checked~label.sk-toggleable__label-arrow:before {content: \"▾\";}#sk-container-id-1 div.sk-estimator input.sk-toggleable__control:checked~label.sk-toggleable__label {background-color: #d4ebff;}#sk-container-id-1 div.sk-label input.sk-toggleable__control:checked~label.sk-toggleable__label {background-color: #d4ebff;}#sk-container-id-1 input.sk-hidden--visually {border: 0;clip: rect(1px 1px 1px 1px);clip: rect(1px, 1px, 1px, 1px);height: 1px;margin: -1px;overflow: hidden;padding: 0;position: absolute;width: 1px;}#sk-container-id-1 div.sk-estimator {font-family: monospace;background-color: #f0f8ff;border: 1px dotted black;border-radius: 0.25em;box-sizing: border-box;margin-bottom: 0.5em;}#sk-container-id-1 div.sk-estimator:hover {background-color: #d4ebff;}#sk-container-id-1 div.sk-parallel-item::after {content: \"\";width: 100%;border-bottom: 1px solid gray;flex-grow: 1;}#sk-container-id-1 div.sk-label:hover label.sk-toggleable__label {background-color: #d4ebff;}#sk-container-id-1 div.sk-serial::before {content: \"\";position: absolute;border-left: 1px solid gray;box-sizing: border-box;top: 0;bottom: 0;left: 50%;z-index: 0;}#sk-container-id-1 div.sk-serial {display: flex;flex-direction: column;align-items: center;background-color: white;padding-right: 0.2em;padding-left: 0.2em;position: relative;}#sk-container-id-1 div.sk-item {position: relative;z-index: 1;}#sk-container-id-1 div.sk-parallel {display: flex;align-items: stretch;justify-content: center;background-color: white;position: relative;}#sk-container-id-1 div.sk-item::before, #sk-container-id-1 div.sk-parallel-item::before {content: \"\";position: absolute;border-left: 1px solid gray;box-sizing: border-box;top: 0;bottom: 0;left: 50%;z-index: -1;}#sk-container-id-1 div.sk-parallel-item {display: flex;flex-direction: column;z-index: 1;position: relative;background-color: white;}#sk-container-id-1 div.sk-parallel-item:first-child::after {align-self: flex-end;width: 50%;}#sk-container-id-1 div.sk-parallel-item:last-child::after {align-self: flex-start;width: 50%;}#sk-container-id-1 div.sk-parallel-item:only-child::after {width: 0;}#sk-container-id-1 div.sk-dashed-wrapped {border: 1px dashed gray;margin: 0 0.4em 0.5em 0.4em;box-sizing: border-box;padding-bottom: 0.4em;background-color: white;}#sk-container-id-1 div.sk-label label {font-family: monospace;font-weight: bold;display: inline-block;line-height: 1.2em;}#sk-container-id-1 div.sk-label-container {text-align: center;}#sk-container-id-1 div.sk-container {/* jupyter's `normalize.less` sets `[hidden] { display: none; }` but bootstrap.min.css set `[hidden] { display: none !important; }` so we also need the `!important` here to be able to override the default hidden behavior on the sphinx rendered scikit-learn.org. See: https://github.com/scikit-learn/scikit-learn/issues/21755 */display: inline-block !important;position: relative;}#sk-container-id-1 div.sk-text-repr-fallback {display: none;}</style><div id=\"sk-container-id-1\" class=\"sk-top-container\"><div class=\"sk-text-repr-fallback\"><pre>LinearRegression()</pre><b>In a Jupyter environment, please rerun this cell to show the HTML representation or trust the notebook. <br />On GitHub, the HTML representation is unable to render, please try loading this page with nbviewer.org.</b></div><div class=\"sk-container\" hidden><div class=\"sk-item\"><div class=\"sk-estimator sk-toggleable\"><input class=\"sk-toggleable__control sk-hidden--visually\" id=\"sk-estimator-id-1\" type=\"checkbox\" checked><label for=\"sk-estimator-id-1\" class=\"sk-toggleable__label sk-toggleable__label-arrow\">LinearRegression</label><div class=\"sk-toggleable__content\"><pre>LinearRegression()</pre></div></div></div></div></div>"
            ]
          },
          "metadata": {},
          "execution_count": 12
        }
      ]
    },
    {
      "cell_type": "markdown",
      "source": [
        "決定係数を出力"
      ],
      "metadata": {
        "id": "bRH-zf-e4LB5"
      }
    },
    {
      "cell_type": "code",
      "source": [
        "model.score(X_train, y_train)\n"
      ],
      "metadata": {
        "colab": {
          "base_uri": "https://localhost:8080/"
        },
        "id": "bmAELLh_4CAj",
        "outputId": "9d83c25d-8a0b-44ca-fa58-fdd80f9466bf"
      },
      "execution_count": null,
      "outputs": [
        {
          "output_type": "execute_result",
          "data": {
            "text/plain": [
              "0.5967954005117011"
            ]
          },
          "metadata": {},
          "execution_count": 13
        }
      ]
    },
    {
      "cell_type": "code",
      "source": [
        "model.score(X_test, y_test)\n"
      ],
      "metadata": {
        "colab": {
          "base_uri": "https://localhost:8080/"
        },
        "id": "f-02wF_w4XHR",
        "outputId": "a886c787-620c-4e01-9354-f6d37106866a"
      },
      "execution_count": null,
      "outputs": [
        {
          "output_type": "execute_result",
          "data": {
            "text/plain": [
              "0.5752388860477959"
            ]
          },
          "metadata": {},
          "execution_count": 14
        }
      ]
    },
    {
      "cell_type": "markdown",
      "source": [
        "過学習もなく、適切な状態です。"
      ],
      "metadata": {
        "id": "puK49pSQ4uOq"
      }
    },
    {
      "cell_type": "markdown",
      "source": [],
      "metadata": {
        "id": "F32R_tiB51JL"
      }
    },
    {
      "cell_type": "code",
      "source": [
        "X_new = np.array([[8, 41, 500, 37, -120, 1, 0.2],\n",
        "                  [2, 10, 2000, 38, -122, 1.5, 0.5],\n",
        "                  [1, 25, 1000, 38, -121, 2, 1]])\n"
      ],
      "metadata": {
        "id": "mhkqw9dG6HrL"
      },
      "execution_count": null,
      "outputs": []
    },
    {
      "cell_type": "markdown",
      "source": [
        "###予測"
      ],
      "metadata": {
        "id": "P4TGIDYd6Ujj"
      }
    },
    {
      "cell_type": "code",
      "source": [
        "model.predict(X_new)"
      ],
      "metadata": {
        "colab": {
          "base_uri": "https://localhost:8080/"
        },
        "id": "tyhEivTR6adr",
        "outputId": "ed8a2c7d-cc70-42ab-b9d4-f6f6551cde0d"
      },
      "execution_count": null,
      "outputs": [
        {
          "output_type": "execute_result",
          "data": {
            "text/plain": [
              "array([3.2387497 , 1.42228534, 1.43428255])"
            ]
          },
          "metadata": {},
          "execution_count": 16
        }
      ]
    },
    {
      "cell_type": "code",
      "source": [
        "print(model.coef_)\n",
        "print(model.intercept_)\n"
      ],
      "metadata": {
        "colab": {
          "base_uri": "https://localhost:8080/"
        },
        "id": "B39Wsa8y7WyD",
        "outputId": "d671564a-6f8f-4e99-ea25-f2c14084e84f"
      },
      "execution_count": null,
      "outputs": [
        {
          "output_type": "stream",
          "name": "stdout",
          "text": [
            "[ 4.08110906e-01  6.92312594e-03  1.70628946e-05 -4.04061927e-01\n",
            " -4.10380169e-01 -2.08486703e-01  1.69589529e+00]\n",
            "-34.74453851952332\n"
          ]
        }
      ]
    },
    {
      "cell_type": "code",
      "source": [
        "sns.barplot(x = ['所得', '築年数', '地域人口', '緯度', '経度', '部屋数/人', '寝室数/人'], y=model.coef_)\n"
      ],
      "metadata": {
        "colab": {
          "base_uri": "https://localhost:8080/",
          "height": 447
        },
        "id": "COHov-ep8JmE",
        "outputId": "1be71c45-f4c0-4e0a-b3e4-e6504b4e17f5"
      },
      "execution_count": null,
      "outputs": [
        {
          "output_type": "execute_result",
          "data": {
            "text/plain": [
              "<Axes: >"
            ]
          },
          "metadata": {},
          "execution_count": 18
        },
        {
          "output_type": "display_data",
          "data": {
            "text/plain": [
              "<Figure size 640x480 with 1 Axes>"
            ],
            "image/png": "[encoded data removed]"
          },
          "metadata": {}
        }
      ]
    },
    {
      "cell_type": "code",
      "source": [
        "df.describe()\n"
      ],
      "metadata": {
        "colab": {
          "base_uri": "https://localhost:8080/",
          "height": 300
        },
        "id": "GvyaHOo-8zFM",
        "outputId": "6b94e1df-38ac-4673-a53e-6e0720868e46"
      },
      "execution_count": null,
      "outputs": [
        {
          "output_type": "execute_result",
          "data": {
            "text/plain": [
              "                 所得           築年数          地域人口            緯度            経度  \\\n",
              "count  18572.000000  18572.000000  18572.000000  18572.000000  18572.000000   \n",
              "mean       3.693262     26.983847   1470.392957     35.593231   -119.484929   \n",
              "std        1.570045     11.431815   1162.944307      2.147712      1.980865   \n",
              "min        0.499900      1.000000      3.000000     32.540000   -124.300000   \n",
              "25%        2.537275     17.000000    811.000000     33.920000   -121.550000   \n",
              "50%        3.468350     27.000000   1203.000000     34.240000   -118.450000   \n",
              "75%        4.616100     36.000000   1781.000000     37.670000   -117.970000   \n",
              "max       15.000100     51.000000  35682.000000     41.950000   -114.310000   \n",
              "\n",
              "               住宅価格         部屋数/人         寝室数/人  \n",
              "count  18572.000000  18572.000000  18572.000000  \n",
              "mean       1.896076      1.936448      0.398033  \n",
              "std        0.957902      1.122496      0.242479  \n",
              "min        0.149990      0.002547      0.000670  \n",
              "25%        1.154000      1.490197      0.311688  \n",
              "50%        1.712000      1.905719      0.366856  \n",
              "75%        2.432250      2.239138      0.435936  \n",
              "max        5.000000     55.222222     14.194444  "
            ],
            "text/html": [
              "\n",
              "  <div id=\"df-b7e6ba57-6b71-4859-878e-f7569a42e3de\" class=\"colab-df-container\">\n",
              "    <div>\n",
              "<style scoped>\n",
              "    .dataframe tbody tr th:only-of-type {\n",
              "        vertical-align: middle;\n",
              "    }\n",
              "\n",
              "    .dataframe tbody tr th {\n",
              "        vertical-align: top;\n",
              "    }\n",
              "\n",
              "    .dataframe thead th {\n",
              "        text-align: right;\n",
              "    }\n",
              "</style>\n",
              "<table border=\"1\" class=\"dataframe\">\n",
              "  <thead>\n",
              "    <tr style=\"text-align: right;\">\n",
              "      <th></th>\n",
              "      <th>所得</th>\n",
              "      <th>築年数</th>\n",
              "      <th>地域人口</th>\n",
              "      <th>緯度</th>\n",
              "      <th>経度</th>\n",
              "      <th>住宅価格</th>\n",
              "      <th>部屋数/人</th>\n",
              "      <th>寝室数/人</th>\n",
              "    </tr>\n",
              "  </thead>\n",
              "  <tbody>\n",
              "    <tr>\n",
              "      <th>count</th>\n",
              "      <td>18572.000000</td>\n",
              "      <td>18572.000000</td>\n",
              "      <td>18572.000000</td>\n",
              "      <td>18572.000000</td>\n",
              "      <td>18572.000000</td>\n",
              "      <td>18572.000000</td>\n",
              "      <td>18572.000000</td>\n",
              "      <td>18572.000000</td>\n",
              "    </tr>\n",
              "    <tr>\n",
              "      <th>mean</th>\n",
              "      <td>3.693262</td>\n",
              "      <td>26.983847</td>\n",
              "      <td>1470.392957</td>\n",
              "      <td>35.593231</td>\n",
              "      <td>-119.484929</td>\n",
              "      <td>1.896076</td>\n",
              "      <td>1.936448</td>\n",
              "      <td>0.398033</td>\n",
              "    </tr>\n",
              "    <tr>\n",
              "      <th>std</th>\n",
              "      <td>1.570045</td>\n",
              "      <td>11.431815</td>\n",
              "      <td>1162.944307</td>\n",
              "      <td>2.147712</td>\n",
              "      <td>1.980865</td>\n",
              "      <td>0.957902</td>\n",
              "      <td>1.122496</td>\n",
              "      <td>0.242479</td>\n",
              "    </tr>\n",
              "    <tr>\n",
              "      <th>min</th>\n",
              "      <td>0.499900</td>\n",
              "      <td>1.000000</td>\n",
              "      <td>3.000000</td>\n",
              "      <td>32.540000</td>\n",
              "      <td>-124.300000</td>\n",
              "      <td>0.149990</td>\n",
              "      <td>0.002547</td>\n",
              "      <td>0.000670</td>\n",
              "    </tr>\n",
              "    <tr>\n",
              "      <th>25%</th>\n",
              "      <td>2.537275</td>\n",
              "      <td>17.000000</td>\n",
              "      <td>811.000000</td>\n",
              "      <td>33.920000</td>\n",
              "      <td>-121.550000</td>\n",
              "      <td>1.154000</td>\n",
              "      <td>1.490197</td>\n",
              "      <td>0.311688</td>\n",
              "    </tr>\n",
              "    <tr>\n",
              "      <th>50%</th>\n",
              "      <td>3.468350</td>\n",
              "      <td>27.000000</td>\n",
              "      <td>1203.000000</td>\n",
              "      <td>34.240000</td>\n",
              "      <td>-118.450000</td>\n",
              "      <td>1.712000</td>\n",
              "      <td>1.905719</td>\n",
              "      <td>0.366856</td>\n",
              "    </tr>\n",
              "    <tr>\n",
              "      <th>75%</th>\n",
              "      <td>4.616100</td>\n",
              "      <td>36.000000</td>\n",
              "      <td>1781.000000</td>\n",
              "      <td>37.670000</td>\n",
              "      <td>-117.970000</td>\n",
              "      <td>2.432250</td>\n",
              "      <td>2.239138</td>\n",
              "      <td>0.435936</td>\n",
              "    </tr>\n",
              "    <tr>\n",
              "      <th>max</th>\n",
              "      <td>15.000100</td>\n",
              "      <td>51.000000</td>\n",
              "      <td>35682.000000</td>\n",
              "      <td>41.950000</td>\n",
              "      <td>-114.310000</td>\n",
              "      <td>5.000000</td>\n",
              "      <td>55.222222</td>\n",
              "      <td>14.194444</td>\n",
              "    </tr>\n",
              "  </tbody>\n",
              "</table>\n",
              "</div>\n",
              "    <div class=\"colab-df-buttons\">\n",
              "\n",
              "  <div class=\"colab-df-container\">\n",
              "    <button class=\"colab-df-convert\" onclick=\"convertToInteractive('df-b7e6ba57-6b71-4859-878e-f7569a42e3de')\"\n",
              "            title=\"Convert this dataframe to an interactive table.\"\n",
              "            style=\"display:none;\">\n",
              "\n",
              "  <svg xmlns=\"http://www.w3.org/2000/svg\" height=\"24px\" viewBox=\"0 -960 960 960\">\n",
              "    <path d=\"M120-120v-720h720v720H120Zm60-500h600v-160H180v160Zm220 220h160v-160H400v160Zm0 220h160v-160H400v160ZM180-400h160v-160H180v160Zm440 0h160v-160H620v160ZM180-180h160v-160H180v160Zm440 0h160v-160H620v160Z\"/>\n",
              "  </svg>\n",
              "    </button>\n",
              "\n",
              "  <style>\n",
              "    .colab-df-container {\n",
              "      display:flex;\n",
              "      gap: 12px;\n",
              "    }\n",
              "\n",
              "    .colab-df-convert {\n",
              "      background-color: #E8F0FE;\n",
              "      border: none;\n",
              "      border-radius: 50%;\n",
              "      cursor: pointer;\n",
              "      display: none;\n",
              "      fill: #1967D2;\n",
              "      height: 32px;\n",
              "      padding: 0 0 0 0;\n",
              "      width: 32px;\n",
              "    }\n",
              "\n",
              "    .colab-df-convert:hover {\n",
              "      background-color: #E2EBFA;\n",
              "      box-shadow: 0px 1px 2px rgba(60, 64, 67, 0.3), 0px 1px 3px 1px rgba(60, 64, 67, 0.15);\n",
              "      fill: #174EA6;\n",
              "    }\n",
              "\n",
              "    .colab-df-buttons div {\n",
              "      margin-bottom: 4px;\n",
              "    }\n",
              "\n",
              "    [theme=dark] .colab-df-convert {\n",
              "      background-color: #3B4455;\n",
              "      fill: #D2E3FC;\n",
              "    }\n",
              "\n",
              "    [theme=dark] .colab-df-convert:hover {\n",
              "      background-color: #434B5C;\n",
              "      box-shadow: 0px 1px 3px 1px rgba(0, 0, 0, 0.15);\n",
              "      filter: drop-shadow(0px 1px 2px rgba(0, 0, 0, 0.3));\n",
              "      fill: #FFFFFF;\n",
              "    }\n",
              "  </style>\n",
              "\n",
              "    <script>\n",
              "      const buttonEl =\n",
              "        document.querySelector('#df-b7e6ba57-6b71-4859-878e-f7569a42e3de button.colab-df-convert');\n",
              "      buttonEl.style.display =\n",
              "        google.colab.kernel.accessAllowed ? 'block' : 'none';\n",
              "\n",
              "      async function convertToInteractive(key) {\n",
              "        const element = document.querySelector('#df-b7e6ba57-6b71-4859-878e-f7569a42e3de');\n",
              "        const dataTable =\n",
              "          await google.colab.kernel.invokeFunction('convertToInteractive',\n",
              "                                                    [key], {});\n",
              "        if (!dataTable) return;\n",
              "\n",
              "        const docLinkHtml = 'Like what you see? Visit the ' +\n",
              "          '<a target=\"_blank\" href=https://colab.research.google.com/notebooks/data_table.ipynb>data table notebook</a>'\n",
              "          + ' to learn more about interactive tables.';\n",
              "        element.innerHTML = '';\n",
              "        dataTable['output_type'] = 'display_data';\n",
              "        await google.colab.output.renderOutput(dataTable, element);\n",
              "        const docLink = document.createElement('div');\n",
              "        docLink.innerHTML = docLinkHtml;\n",
              "        element.appendChild(docLink);\n",
              "      }\n",
              "    </script>\n",
              "  </div>\n",
              "\n",
              "\n",
              "<div id=\"df-02610de5-8ec8-4ca6-a46b-2fe0b1eeaa13\">\n",
              "  <button class=\"colab-df-quickchart\" onclick=\"quickchart('df-02610de5-8ec8-4ca6-a46b-2fe0b1eeaa13')\"\n",
              "            title=\"Suggest charts\"\n",
              "            style=\"display:none;\">\n",
              "\n",
              "<svg xmlns=\"http://www.w3.org/2000/svg\" height=\"24px\"viewBox=\"0 0 24 24\"\n",
              "     width=\"24px\">\n",
              "    <g>\n",
              "        <path d=\"M19 3H5c-1.1 0-2 .9-2 2v14c0 1.1.9 2 2 2h14c1.1 0 2-.9 2-2V5c0-1.1-.9-2-2-2zM9 17H7v-7h2v7zm4 0h-2V7h2v10zm4 0h-2v-4h2v4z\"/>\n",
              "    </g>\n",
              "</svg>\n",
              "  </button>\n",
              "\n",
              "<style>\n",
              "  .colab-df-quickchart {\n",
              "      --bg-color: #E8F0FE;\n",
              "      --fill-color: #1967D2;\n",
              "      --hover-bg-color: #E2EBFA;\n",
              "      --hover-fill-color: #174EA6;\n",
              "      --disabled-fill-color: #AAA;\n",
              "      --disabled-bg-color: #DDD;\n",
              "  }\n",
              "\n",
              "  [theme=dark] .colab-df-quickchart {\n",
              "      --bg-color: #3B4455;\n",
              "      --fill-color: #D2E3FC;\n",
              "      --hover-bg-color: #434B5C;\n",
              "      --hover-fill-color: #FFFFFF;\n",
              "      --disabled-bg-color: #3B4455;\n",
              "      --disabled-fill-color: #666;\n",
              "  }\n",
              "\n",
              "  .colab-df-quickchart {\n",
              "    background-color: var(--bg-color);\n",
              "    border: none;\n",
              "    border-radius: 50%;\n",
              "    cursor: pointer;\n",
              "    display: none;\n",
              "    fill: var(--fill-color);\n",
              "    height: 32px;\n",
              "    padding: 0;\n",
              "    width: 32px;\n",
              "  }\n",
              "\n",
              "  .colab-df-quickchart:hover {\n",
              "    background-color: var(--hover-bg-color);\n",
              "    box-shadow: 0 1px 2px rgba(60, 64, 67, 0.3), 0 1px 3px 1px rgba(60, 64, 67, 0.15);\n",
              "    fill: var(--button-hover-fill-color);\n",
              "  }\n",
              "\n",
              "  .colab-df-quickchart-complete:disabled,\n",
              "  .colab-df-quickchart-complete:disabled:hover {\n",
              "    background-color: var(--disabled-bg-color);\n",
              "    fill: var(--disabled-fill-color);\n",
              "    box-shadow: none;\n",
              "  }\n",
              "\n",
              "  .colab-df-spinner {\n",
              "    border: 2px solid var(--fill-color);\n",
              "    border-color: transparent;\n",
              "    border-bottom-color: var(--fill-color);\n",
              "    animation:\n",
              "      spin 1s steps(1) infinite;\n",
              "  }\n",
              "\n",
              "  @keyframes spin {\n",
              "    0% {\n",
              "      border-color: transparent;\n",
              "      border-bottom-color: var(--fill-color);\n",
              "      border-left-color: var(--fill-color);\n",
              "    }\n",
              "    20% {\n",
              "      border-color: transparent;\n",
              "      border-left-color: var(--fill-color);\n",
              "      border-top-color: var(--fill-color);\n",
              "    }\n",
              "    30% {\n",
              "      border-color: transparent;\n",
              "      border-left-color: var(--fill-color);\n",
              "      border-top-color: var(--fill-color);\n",
              "      border-right-color: var(--fill-color);\n",
              "    }\n",
              "    40% {\n",
              "      border-color: transparent;\n",
              "      border-right-color: var(--fill-color);\n",
              "      border-top-color: var(--fill-color);\n",
              "    }\n",
              "    60% {\n",
              "      border-color: transparent;\n",
              "      border-right-color: var(--fill-color);\n",
              "    }\n",
              "    80% {\n",
              "      border-color: transparent;\n",
              "      border-right-color: var(--fill-color);\n",
              "      border-bottom-color: var(--fill-color);\n",
              "    }\n",
              "    90% {\n",
              "      border-color: transparent;\n",
              "      border-bottom-color: var(--fill-color);\n",
              "    }\n",
              "  }\n",
              "</style>\n",
              "\n",
              "  <script>\n",
              "    async function quickchart(key) {\n",
              "      const quickchartButtonEl =\n",
              "        document.querySelector('#' + key + ' button');\n",
              "      quickchartButtonEl.disabled = true;  // To prevent multiple clicks.\n",
              "      quickchartButtonEl.classList.add('colab-df-spinner');\n",
              "      try {\n",
              "        const charts = await google.colab.kernel.invokeFunction(\n",
              "            'suggestCharts', [key], {});\n",
              "      } catch (error) {\n",
              "        console.error('Error during call to suggestCharts:', error);\n",
              "      }\n",
              "      quickchartButtonEl.classList.remove('colab-df-spinner');\n",
              "      quickchartButtonEl.classList.add('colab-df-quickchart-complete');\n",
              "    }\n",
              "    (() => {\n",
              "      let quickchartButtonEl =\n",
              "        document.querySelector('#df-02610de5-8ec8-4ca6-a46b-2fe0b1eeaa13 button');\n",
              "      quickchartButtonEl.style.display =\n",
              "        google.colab.kernel.accessAllowed ? 'block' : 'none';\n",
              "    })();\n",
              "  </script>\n",
              "</div>\n",
              "\n",
              "    </div>\n",
              "  </div>\n"
            ],
            "application/vnd.google.colaboratory.intrinsic+json": {
              "type": "dataframe",
              "summary": "{\n  \"name\": \"df\",\n  \"rows\": 8,\n  \"fields\": [\n    {\n      \"column\": \"\\u6240\\u5f97\",\n      \"properties\": {\n        \"dtype\": \"number\",\n        \"std\": 6564.609914452867,\n        \"min\": 0.4999,\n        \"max\": 18572.0,\n        \"num_unique_values\": 8,\n        \"samples\": [\n          3.693262158087443,\n          3.46835,\n          18572.0\n        ],\n        \"semantic_type\": \"\",\n        \"description\": \"\"\n      }\n    },\n    {\n      \"column\": \"\\u7bc9\\u5e74\\u6570\",\n      \"properties\": {\n        \"dtype\": \"number\",\n        \"std\": 6557.603990883006,\n        \"min\": 1.0,\n        \"max\": 18572.0,\n        \"num_unique_values\": 8,\n        \"samples\": [\n          26.98384665087228,\n          27.0,\n          18572.0\n        ],\n        \"semantic_type\": \"\",\n        \"description\": \"\"\n      }\n    },\n    {\n      \"column\": \"\\u5730\\u57df\\u4eba\\u53e3\",\n      \"properties\": {\n        \"dtype\": \"number\",\n        \"std\": 12909.447996656512,\n        \"min\": 3.0,\n        \"max\": 35682.0,\n        \"num_unique_values\": 8,\n        \"samples\": [\n          1470.3929571397803,\n          1203.0,\n          18572.0\n        ],\n        \"semantic_type\": \"\",\n        \"description\": \"\"\n      }\n    },\n    {\n      \"column\": \"\\u7def\\u5ea6\",\n      \"properties\": {\n        \"dtype\": \"number\",\n        \"std\": 6555.191152689294,\n        \"min\": 2.147711684136212,\n        \"max\": 18572.0,\n        \"num_unique_values\": 8,\n        \"samples\": [\n          35.59323120827052,\n          34.24,\n          18572.0\n        ],\n        \"semantic_type\": \"\",\n        \"description\": \"\"\n      }\n    },\n    {\n      \"column\": \"\\u7d4c\\u5ea6\",\n      \"properties\": {\n        \"dtype\": \"number\",\n        \"std\": 6602.397382444505,\n        \"min\": -124.3,\n        \"max\": 18572.0,\n        \"num_unique_values\": 8,\n        \"samples\": [\n          -119.4849294637088,\n          -118.45,\n          18572.0\n        ],\n        \"semantic_type\": \"\",\n        \"description\": \"\"\n      }\n    },\n    {\n      \"column\": \"\\u4f4f\\u5b85\\u4fa1\\u683c\",\n      \"properties\": {\n        \"dtype\": \"number\",\n        \"std\": 6565.521863653363,\n        \"min\": 0.14999,\n        \"max\": 18572.0,\n        \"num_unique_values\": 8,\n        \"samples\": [\n          1.8960760806590566,\n          1.712,\n          18572.0\n        ],\n        \"semantic_type\": \"\",\n        \"description\": \"\"\n      }\n    },\n    {\n      \"column\": \"\\u90e8\\u5c4b\\u6570/\\u4eba\",\n      \"properties\": {\n        \"dtype\": \"number\",\n        \"std\": 6562.992194742081,\n        \"min\": 0.0025469168900804,\n        \"max\": 18572.0,\n        \"num_unique_values\": 8,\n        \"samples\": [\n          1.9364476619915583,\n          1.9057188250754606,\n          18572.0\n        ],\n        \"semantic_type\": \"\",\n        \"description\": \"\"\n      }\n    },\n    {\n      \"column\": \"\\u5bdd\\u5ba4\\u6570/\\u4eba\",\n      \"properties\": {\n        \"dtype\": \"number\",\n        \"std\": 6565.3897716078045,\n        \"min\": 0.0006702412868632,\n        \"max\": 18572.0,\n        \"num_unique_values\": 8,\n        \"samples\": [\n          0.39803323632742804,\n          0.3668555240793201,\n          18572.0\n        ],\n        \"semantic_type\": \"\",\n        \"description\": \"\"\n      }\n    }\n  ]\n}"
            }
          },
          "metadata": {},
          "execution_count": 19
        }
      ]
    },
    {
      "cell_type": "markdown",
      "source": [
        "**回帰手法の改善（標準化の活用）**"
      ],
      "metadata": {
        "id": "QtlXS3HpqN0l"
      }
    },
    {
      "cell_type": "markdown",
      "source": [
        "重回帰モデルで各要素の重要度を比較するためには、標準化を通してスケールの統一が必要です。標準化はデータを平均0、標準偏差1に変換する手法です。scikit-learnのStandardScalerクラスを用いて、以下のステップで標準化を行います：\n",
        "\n",
        "1. StandardScalerクラスのインポート\n",
        "2. StandardScalerクラスのインスタンス化\n",
        "3. 標準化の変換モデルの生成\n",
        "4. 標準化の変換モデルを利用したスケールの変換\n",
        "\n",
        "この手順に従い、標準化を実施します。"
      ],
      "metadata": {
        "id": "aNmeqE7_qRhO"
      }
    },
    {
      "cell_type": "code",
      "source": [
        "from sklearn.preprocessing import StandardScaler\n"
      ],
      "metadata": {
        "id": "5Y1HS0EHQ3fi"
      },
      "execution_count": null,
      "outputs": []
    },
    {
      "cell_type": "markdown",
      "source": [
        "\n",
        "\n",
        "> StandardScalerクラスのインスタンス化\n",
        "\n"
      ],
      "metadata": {
        "id": "rx7eK-Kxqpjm"
      }
    },
    {
      "cell_type": "code",
      "source": [
        "scaler = StandardScaler()\n"
      ],
      "metadata": {
        "id": "935iTOiVQ4xt"
      },
      "execution_count": null,
      "outputs": []
    },
    {
      "cell_type": "markdown",
      "source": [
        "**標準化の変換モデルの生成**"
      ],
      "metadata": {
        "id": "c4ZuWxNWqufY"
      }
    },
    {
      "cell_type": "markdown",
      "source": [
        "\n",
        "\n",
        "> 説明変数の学習データX_trainを用いて、標準化の変換モデルを生成します。データセットを引数に指定してfitメソッドを実行すると、指定したデータセットを標準化する変換ロジックが、scalerにインプットされます。\n",
        "\n"
      ],
      "metadata": {
        "id": "TrD65VDKq4R5"
      }
    },
    {
      "cell_type": "code",
      "source": [
        "scaler.fit(X_train)"
      ],
      "metadata": {
        "id": "dqIx-PAyQ6NR",
        "colab": {
          "base_uri": "https://localhost:8080/",
          "height": 74
        },
        "outputId": "91103e15-9e11-4970-8c0d-62538b7758f0"
      },
      "execution_count": null,
      "outputs": [
        {
          "output_type": "execute_result",
          "data": {
            "text/plain": [
              "StandardScaler()"
            ],
            "text/html": [
              "<style>#sk-container-id-2 {color: black;background-color: white;}#sk-container-id-2 pre{padding: 0;}#sk-container-id-2 div.sk-toggleable {background-color: white;}#sk-container-id-2 label.sk-toggleable__label {cursor: pointer;display: block;width: 100%;margin-bottom: 0;padding: 0.3em;box-sizing: border-box;text-align: center;}#sk-container-id-2 label.sk-toggleable__label-arrow:before {content: \"▸\";float: left;margin-right: 0.25em;color: #696969;}#sk-container-id-2 label.sk-toggleable__label-arrow:hover:before {color: black;}#sk-container-id-2 div.sk-estimator:hover label.sk-toggleable__label-arrow:before {color: black;}#sk-container-id-2 div.sk-toggleable__content {max-height: 0;max-width: 0;overflow: hidden;text-align: left;background-color: #f0f8ff;}#sk-container-id-2 div.sk-toggleable__content pre {margin: 0.2em;color: black;border-radius: 0.25em;background-color: #f0f8ff;}#sk-container-id-2 input.sk-toggleable__control:checked~div.sk-toggleable__content {max-height: 200px;max-width: 100%;overflow: auto;}#sk-container-id-2 input.sk-toggleable__control:checked~label.sk-toggleable__label-arrow:before {content: \"▾\";}#sk-container-id-2 div.sk-estimator input.sk-toggleable__control:checked~label.sk-toggleable__label {background-color: #d4ebff;}#sk-container-id-2 div.sk-label input.sk-toggleable__control:checked~label.sk-toggleable__label {background-color: #d4ebff;}#sk-container-id-2 input.sk-hidden--visually {border: 0;clip: rect(1px 1px 1px 1px);clip: rect(1px, 1px, 1px, 1px);height: 1px;margin: -1px;overflow: hidden;padding: 0;position: absolute;width: 1px;}#sk-container-id-2 div.sk-estimator {font-family: monospace;background-color: #f0f8ff;border: 1px dotted black;border-radius: 0.25em;box-sizing: border-box;margin-bottom: 0.5em;}#sk-container-id-2 div.sk-estimator:hover {background-color: #d4ebff;}#sk-container-id-2 div.sk-parallel-item::after {content: \"\";width: 100%;border-bottom: 1px solid gray;flex-grow: 1;}#sk-container-id-2 div.sk-label:hover label.sk-toggleable__label {background-color: #d4ebff;}#sk-container-id-2 div.sk-serial::before {content: \"\";position: absolute;border-left: 1px solid gray;box-sizing: border-box;top: 0;bottom: 0;left: 50%;z-index: 0;}#sk-container-id-2 div.sk-serial {display: flex;flex-direction: column;align-items: center;background-color: white;padding-right: 0.2em;padding-left: 0.2em;position: relative;}#sk-container-id-2 div.sk-item {position: relative;z-index: 1;}#sk-container-id-2 div.sk-parallel {display: flex;align-items: stretch;justify-content: center;background-color: white;position: relative;}#sk-container-id-2 div.sk-item::before, #sk-container-id-2 div.sk-parallel-item::before {content: \"\";position: absolute;border-left: 1px solid gray;box-sizing: border-box;top: 0;bottom: 0;left: 50%;z-index: -1;}#sk-container-id-2 div.sk-parallel-item {display: flex;flex-direction: column;z-index: 1;position: relative;background-color: white;}#sk-container-id-2 div.sk-parallel-item:first-child::after {align-self: flex-end;width: 50%;}#sk-container-id-2 div.sk-parallel-item:last-child::after {align-self: flex-start;width: 50%;}#sk-container-id-2 div.sk-parallel-item:only-child::after {width: 0;}#sk-container-id-2 div.sk-dashed-wrapped {border: 1px dashed gray;margin: 0 0.4em 0.5em 0.4em;box-sizing: border-box;padding-bottom: 0.4em;background-color: white;}#sk-container-id-2 div.sk-label label {font-family: monospace;font-weight: bold;display: inline-block;line-height: 1.2em;}#sk-container-id-2 div.sk-label-container {text-align: center;}#sk-container-id-2 div.sk-container {/* jupyter's `normalize.less` sets `[hidden] { display: none; }` but bootstrap.min.css set `[hidden] { display: none !important; }` so we also need the `!important` here to be able to override the default hidden behavior on the sphinx rendered scikit-learn.org. See: https://github.com/scikit-learn/scikit-learn/issues/21755 */display: inline-block !important;position: relative;}#sk-container-id-2 div.sk-text-repr-fallback {display: none;}</style><div id=\"sk-container-id-2\" class=\"sk-top-container\"><div class=\"sk-text-repr-fallback\"><pre>StandardScaler()</pre><b>In a Jupyter environment, please rerun this cell to show the HTML representation or trust the notebook. <br />On GitHub, the HTML representation is unable to render, please try loading this page with nbviewer.org.</b></div><div class=\"sk-container\" hidden><div class=\"sk-item\"><div class=\"sk-estimator sk-toggleable\"><input class=\"sk-toggleable__control sk-hidden--visually\" id=\"sk-estimator-id-2\" type=\"checkbox\" checked><label for=\"sk-estimator-id-2\" class=\"sk-toggleable__label sk-toggleable__label-arrow\">StandardScaler</label><div class=\"sk-toggleable__content\"><pre>StandardScaler()</pre></div></div></div></div></div>"
            ]
          },
          "metadata": {},
          "execution_count": 29
        }
      ]
    },
    {
      "cell_type": "markdown",
      "source": [
        "**標準化の変換モデルを利用したスケールの変換**"
      ],
      "metadata": {
        "id": "jocEl5FZrBfn"
      }
    },
    {
      "cell_type": "markdown",
      "source": [
        "\n",
        "\n",
        "> 標準化の変換モデルを使って、説明変数X_trainのスケールを統一します。これにはtransformメソッドを使用し、変換後のデータをX_train_scaledという新しい変数に格納します。\n",
        "\n"
      ],
      "metadata": {
        "id": "-cUWR75MrDkJ"
      }
    },
    {
      "cell_type": "code",
      "source": [
        "X_train_scaled = scaler.transform(X_train)\n"
      ],
      "metadata": {
        "id": "l7wTAm0QQ7_o"
      },
      "execution_count": null,
      "outputs": []
    },
    {
      "cell_type": "markdown",
      "source": [
        "\n",
        "\n",
        "> X_trainと、X_train_scaledをDataFrame形式で表示させて、変換前後の状態を比較\n",
        "\n"
      ],
      "metadata": {
        "id": "jhFasKuLrQpC"
      }
    },
    {
      "cell_type": "code",
      "source": [
        "df_X_train = pd.DataFrame(X_train, columns=['所得', '築年数', '地域人口', '緯度', '経度', '部屋数', '寝室数'])\n",
        "df_X_train.head()\n"
      ],
      "metadata": {
        "id": "I37Ob3zfQ9Os",
        "colab": {
          "base_uri": "https://localhost:8080/",
          "height": 206
        },
        "outputId": "6b393f33-8c04-4856-df93-e086380272b5"
      },
      "execution_count": null,
      "outputs": [
        {
          "output_type": "execute_result",
          "data": {
            "text/plain": [
              "       所得   築年数    地域人口     緯度      経度       部屋数       寝室数\n",
              "0  3.7500  29.0  1390.0  34.04 -117.98  1.056115  0.223022\n",
              "1  3.1187  25.0   588.0  33.01 -117.07  3.605442  0.647959\n",
              "2  4.6406  45.0  1180.0  33.90 -118.07  1.505085  0.299153\n",
              "3  5.9010  18.0  2882.0  34.33 -118.43  2.044067  0.319223\n",
              "4  2.6167  42.0  1271.0  37.99 -122.34  1.204563  0.256491"
            ],
            "text/html": [
              "\n",
              "  <div id=\"df-d2f1e312-cb24-415e-8dc3-336f47a50bec\" class=\"colab-df-container\">\n",
              "    <div>\n",
              "<style scoped>\n",
              "    .dataframe tbody tr th:only-of-type {\n",
              "        vertical-align: middle;\n",
              "    }\n",
              "\n",
              "    .dataframe tbody tr th {\n",
              "        vertical-align: top;\n",
              "    }\n",
              "\n",
              "    .dataframe thead th {\n",
              "        text-align: right;\n",
              "    }\n",
              "</style>\n",
              "<table border=\"1\" class=\"dataframe\">\n",
              "  <thead>\n",
              "    <tr style=\"text-align: right;\">\n",
              "      <th></th>\n",
              "      <th>所得</th>\n",
              "      <th>築年数</th>\n",
              "      <th>地域人口</th>\n",
              "      <th>緯度</th>\n",
              "      <th>経度</th>\n",
              "      <th>部屋数</th>\n",
              "      <th>寝室数</th>\n",
              "    </tr>\n",
              "  </thead>\n",
              "  <tbody>\n",
              "    <tr>\n",
              "      <th>0</th>\n",
              "      <td>3.7500</td>\n",
              "      <td>29.0</td>\n",
              "      <td>1390.0</td>\n",
              "      <td>34.04</td>\n",
              "      <td>-117.98</td>\n",
              "      <td>1.056115</td>\n",
              "      <td>0.223022</td>\n",
              "    </tr>\n",
              "    <tr>\n",
              "      <th>1</th>\n",
              "      <td>3.1187</td>\n",
              "      <td>25.0</td>\n",
              "      <td>588.0</td>\n",
              "      <td>33.01</td>\n",
              "      <td>-117.07</td>\n",
              "      <td>3.605442</td>\n",
              "      <td>0.647959</td>\n",
              "    </tr>\n",
              "    <tr>\n",
              "      <th>2</th>\n",
              "      <td>4.6406</td>\n",
              "      <td>45.0</td>\n",
              "      <td>1180.0</td>\n",
              "      <td>33.90</td>\n",
              "      <td>-118.07</td>\n",
              "      <td>1.505085</td>\n",
              "      <td>0.299153</td>\n",
              "    </tr>\n",
              "    <tr>\n",
              "      <th>3</th>\n",
              "      <td>5.9010</td>\n",
              "      <td>18.0</td>\n",
              "      <td>2882.0</td>\n",
              "      <td>34.33</td>\n",
              "      <td>-118.43</td>\n",
              "      <td>2.044067</td>\n",
              "      <td>0.319223</td>\n",
              "    </tr>\n",
              "    <tr>\n",
              "      <th>4</th>\n",
              "      <td>2.6167</td>\n",
              "      <td>42.0</td>\n",
              "      <td>1271.0</td>\n",
              "      <td>37.99</td>\n",
              "      <td>-122.34</td>\n",
              "      <td>1.204563</td>\n",
              "      <td>0.256491</td>\n",
              "    </tr>\n",
              "  </tbody>\n",
              "</table>\n",
              "</div>\n",
              "    <div class=\"colab-df-buttons\">\n",
              "\n",
              "  <div class=\"colab-df-container\">\n",
              "    <button class=\"colab-df-convert\" onclick=\"convertToInteractive('df-d2f1e312-cb24-415e-8dc3-336f47a50bec')\"\n",
              "            title=\"Convert this dataframe to an interactive table.\"\n",
              "            style=\"display:none;\">\n",
              "\n",
              "  <svg xmlns=\"http://www.w3.org/2000/svg\" height=\"24px\" viewBox=\"0 -960 960 960\">\n",
              "    <path d=\"M120-120v-720h720v720H120Zm60-500h600v-160H180v160Zm220 220h160v-160H400v160Zm0 220h160v-160H400v160ZM180-400h160v-160H180v160Zm440 0h160v-160H620v160ZM180-180h160v-160H180v160Zm440 0h160v-160H620v160Z\"/>\n",
              "  </svg>\n",
              "    </button>\n",
              "\n",
              "  <style>\n",
              "    .colab-df-container {\n",
              "      display:flex;\n",
              "      gap: 12px;\n",
              "    }\n",
              "\n",
              "    .colab-df-convert {\n",
              "      background-color: #E8F0FE;\n",
              "      border: none;\n",
              "      border-radius: 50%;\n",
              "      cursor: pointer;\n",
              "      display: none;\n",
              "      fill: #1967D2;\n",
              "      height: 32px;\n",
              "      padding: 0 0 0 0;\n",
              "      width: 32px;\n",
              "    }\n",
              "\n",
              "    .colab-df-convert:hover {\n",
              "      background-color: #E2EBFA;\n",
              "      box-shadow: 0px 1px 2px rgba(60, 64, 67, 0.3), 0px 1px 3px 1px rgba(60, 64, 67, 0.15);\n",
              "      fill: #174EA6;\n",
              "    }\n",
              "\n",
              "    .colab-df-buttons div {\n",
              "      margin-bottom: 4px;\n",
              "    }\n",
              "\n",
              "    [theme=dark] .colab-df-convert {\n",
              "      background-color: #3B4455;\n",
              "      fill: #D2E3FC;\n",
              "    }\n",
              "\n",
              "    [theme=dark] .colab-df-convert:hover {\n",
              "      background-color: #434B5C;\n",
              "      box-shadow: 0px 1px 3px 1px rgba(0, 0, 0, 0.15);\n",
              "      filter: drop-shadow(0px 1px 2px rgba(0, 0, 0, 0.3));\n",
              "      fill: #FFFFFF;\n",
              "    }\n",
              "  </style>\n",
              "\n",
              "    <script>\n",
              "      const buttonEl =\n",
              "        document.querySelector('#df-d2f1e312-cb24-415e-8dc3-336f47a50bec button.colab-df-convert');\n",
              "      buttonEl.style.display =\n",
              "        google.colab.kernel.accessAllowed ? 'block' : 'none';\n",
              "\n",
              "      async function convertToInteractive(key) {\n",
              "        const element = document.querySelector('#df-d2f1e312-cb24-415e-8dc3-336f47a50bec');\n",
              "        const dataTable =\n",
              "          await google.colab.kernel.invokeFunction('convertToInteractive',\n",
              "                                                    [key], {});\n",
              "        if (!dataTable) return;\n",
              "\n",
              "        const docLinkHtml = 'Like what you see? Visit the ' +\n",
              "          '<a target=\"_blank\" href=https://colab.research.google.com/notebooks/data_table.ipynb>data table notebook</a>'\n",
              "          + ' to learn more about interactive tables.';\n",
              "        element.innerHTML = '';\n",
              "        dataTable['output_type'] = 'display_data';\n",
              "        await google.colab.output.renderOutput(dataTable, element);\n",
              "        const docLink = document.createElement('div');\n",
              "        docLink.innerHTML = docLinkHtml;\n",
              "        element.appendChild(docLink);\n",
              "      }\n",
              "    </script>\n",
              "  </div>\n",
              "\n",
              "\n",
              "<div id=\"df-45b35b08-265d-4386-b20b-47e006e0675d\">\n",
              "  <button class=\"colab-df-quickchart\" onclick=\"quickchart('df-45b35b08-265d-4386-b20b-47e006e0675d')\"\n",
              "            title=\"Suggest charts\"\n",
              "            style=\"display:none;\">\n",
              "\n",
              "<svg xmlns=\"http://www.w3.org/2000/svg\" height=\"24px\"viewBox=\"0 0 24 24\"\n",
              "     width=\"24px\">\n",
              "    <g>\n",
              "        <path d=\"M19 3H5c-1.1 0-2 .9-2 2v14c0 1.1.9 2 2 2h14c1.1 0 2-.9 2-2V5c0-1.1-.9-2-2-2zM9 17H7v-7h2v7zm4 0h-2V7h2v10zm4 0h-2v-4h2v4z\"/>\n",
              "    </g>\n",
              "</svg>\n",
              "  </button>\n",
              "\n",
              "<style>\n",
              "  .colab-df-quickchart {\n",
              "      --bg-color: #E8F0FE;\n",
              "      --fill-color: #1967D2;\n",
              "      --hover-bg-color: #E2EBFA;\n",
              "      --hover-fill-color: #174EA6;\n",
              "      --disabled-fill-color: #AAA;\n",
              "      --disabled-bg-color: #DDD;\n",
              "  }\n",
              "\n",
              "  [theme=dark] .colab-df-quickchart {\n",
              "      --bg-color: #3B4455;\n",
              "      --fill-color: #D2E3FC;\n",
              "      --hover-bg-color: #434B5C;\n",
              "      --hover-fill-color: #FFFFFF;\n",
              "      --disabled-bg-color: #3B4455;\n",
              "      --disabled-fill-color: #666;\n",
              "  }\n",
              "\n",
              "  .colab-df-quickchart {\n",
              "    background-color: var(--bg-color);\n",
              "    border: none;\n",
              "    border-radius: 50%;\n",
              "    cursor: pointer;\n",
              "    display: none;\n",
              "    fill: var(--fill-color);\n",
              "    height: 32px;\n",
              "    padding: 0;\n",
              "    width: 32px;\n",
              "  }\n",
              "\n",
              "  .colab-df-quickchart:hover {\n",
              "    background-color: var(--hover-bg-color);\n",
              "    box-shadow: 0 1px 2px rgba(60, 64, 67, 0.3), 0 1px 3px 1px rgba(60, 64, 67, 0.15);\n",
              "    fill: var(--button-hover-fill-color);\n",
              "  }\n",
              "\n",
              "  .colab-df-quickchart-complete:disabled,\n",
              "  .colab-df-quickchart-complete:disabled:hover {\n",
              "    background-color: var(--disabled-bg-color);\n",
              "    fill: var(--disabled-fill-color);\n",
              "    box-shadow: none;\n",
              "  }\n",
              "\n",
              "  .colab-df-spinner {\n",
              "    border: 2px solid var(--fill-color);\n",
              "    border-color: transparent;\n",
              "    border-bottom-color: var(--fill-color);\n",
              "    animation:\n",
              "      spin 1s steps(1) infinite;\n",
              "  }\n",
              "\n",
              "  @keyframes spin {\n",
              "    0% {\n",
              "      border-color: transparent;\n",
              "      border-bottom-color: var(--fill-color);\n",
              "      border-left-color: var(--fill-color);\n",
              "    }\n",
              "    20% {\n",
              "      border-color: transparent;\n",
              "      border-left-color: var(--fill-color);\n",
              "      border-top-color: var(--fill-color);\n",
              "    }\n",
              "    30% {\n",
              "      border-color: transparent;\n",
              "      border-left-color: var(--fill-color);\n",
              "      border-top-color: var(--fill-color);\n",
              "      border-right-color: var(--fill-color);\n",
              "    }\n",
              "    40% {\n",
              "      border-color: transparent;\n",
              "      border-right-color: var(--fill-color);\n",
              "      border-top-color: var(--fill-color);\n",
              "    }\n",
              "    60% {\n",
              "      border-color: transparent;\n",
              "      border-right-color: var(--fill-color);\n",
              "    }\n",
              "    80% {\n",
              "      border-color: transparent;\n",
              "      border-right-color: var(--fill-color);\n",
              "      border-bottom-color: var(--fill-color);\n",
              "    }\n",
              "    90% {\n",
              "      border-color: transparent;\n",
              "      border-bottom-color: var(--fill-color);\n",
              "    }\n",
              "  }\n",
              "</style>\n",
              "\n",
              "  <script>\n",
              "    async function quickchart(key) {\n",
              "      const quickchartButtonEl =\n",
              "        document.querySelector('#' + key + ' button');\n",
              "      quickchartButtonEl.disabled = true;  // To prevent multiple clicks.\n",
              "      quickchartButtonEl.classList.add('colab-df-spinner');\n",
              "      try {\n",
              "        const charts = await google.colab.kernel.invokeFunction(\n",
              "            'suggestCharts', [key], {});\n",
              "      } catch (error) {\n",
              "        console.error('Error during call to suggestCharts:', error);\n",
              "      }\n",
              "      quickchartButtonEl.classList.remove('colab-df-spinner');\n",
              "      quickchartButtonEl.classList.add('colab-df-quickchart-complete');\n",
              "    }\n",
              "    (() => {\n",
              "      let quickchartButtonEl =\n",
              "        document.querySelector('#df-45b35b08-265d-4386-b20b-47e006e0675d button');\n",
              "      quickchartButtonEl.style.display =\n",
              "        google.colab.kernel.accessAllowed ? 'block' : 'none';\n",
              "    })();\n",
              "  </script>\n",
              "</div>\n",
              "\n",
              "    </div>\n",
              "  </div>\n"
            ],
            "application/vnd.google.colaboratory.intrinsic+json": {
              "type": "dataframe",
              "variable_name": "df_X_train",
              "summary": "{\n  \"name\": \"df_X_train\",\n  \"rows\": 13000,\n  \"fields\": [\n    {\n      \"column\": \"\\u6240\\u5f97\",\n      \"properties\": {\n        \"dtype\": \"number\",\n        \"std\": 1.5675147318538218,\n        \"min\": 0.4999,\n        \"max\": 15.0001,\n        \"num_unique_values\": 8895,\n        \"samples\": [\n          5.0862,\n          3.975,\n          1.5547\n        ],\n        \"semantic_type\": \"\",\n        \"description\": \"\"\n      }\n    },\n    {\n      \"column\": \"\\u7bc9\\u5e74\\u6570\",\n      \"properties\": {\n        \"dtype\": \"number\",\n        \"std\": 11.471538794141908,\n        \"min\": 1.0,\n        \"max\": 51.0,\n        \"num_unique_values\": 51,\n        \"samples\": [\n          46.0,\n          31.0,\n          49.0\n        ],\n        \"semantic_type\": \"\",\n        \"description\": \"\"\n      }\n    },\n    {\n      \"column\": \"\\u5730\\u57df\\u4eba\\u53e3\",\n      \"properties\": {\n        \"dtype\": \"number\",\n        \"std\": 1158.4108210147929,\n        \"min\": 8.0,\n        \"max\": 35682.0,\n        \"num_unique_values\": 3447,\n        \"samples\": [\n          834.0,\n          794.0,\n          563.0\n        ],\n        \"semantic_type\": \"\",\n        \"description\": \"\"\n      }\n    },\n    {\n      \"column\": \"\\u7def\\u5ea6\",\n      \"properties\": {\n        \"dtype\": \"number\",\n        \"std\": 2.143066736873748,\n        \"min\": 32.55,\n        \"max\": 41.88,\n        \"num_unique_values\": 820,\n        \"samples\": [\n          40.5,\n          33.74,\n          37.13\n        ],\n        \"semantic_type\": \"\",\n        \"description\": \"\"\n      }\n    },\n    {\n      \"column\": \"\\u7d4c\\u5ea6\",\n      \"properties\": {\n        \"dtype\": \"number\",\n        \"std\": 1.9779095760272085,\n        \"min\": -124.27,\n        \"max\": -114.31,\n        \"num_unique_values\": 799,\n        \"samples\": [\n          -122.85,\n          -123.17,\n          -118.48\n        ],\n        \"semantic_type\": \"\",\n        \"description\": \"\"\n      }\n    },\n    {\n      \"column\": \"\\u90e8\\u5c4b\\u6570\",\n      \"properties\": {\n        \"dtype\": \"number\",\n        \"std\": 1.0397679157383755,\n        \"min\": 0.0025469168900804,\n        \"max\": 41.333333333333336,\n        \"num_unique_values\": 12856,\n        \"samples\": [\n          1.504688832054561,\n          2.575187969924812,\n          2.6745762711864405\n        ],\n        \"semantic_type\": \"\",\n        \"description\": \"\"\n      }\n    },\n    {\n      \"column\": \"\\u5bdd\\u5ba4\\u6570\",\n      \"properties\": {\n        \"dtype\": \"number\",\n        \"std\": 0.2133134768772599,\n        \"min\": 0.0006702412868632,\n        \"max\": 8.75,\n        \"num_unique_values\": 12437,\n        \"samples\": [\n          0.4754098360655737,\n          0.3845726970033296,\n          0.3216292134831461\n        ],\n        \"semantic_type\": \"\",\n        \"description\": \"\"\n      }\n    }\n  ]\n}"
            }
          },
          "metadata": {},
          "execution_count": 31
        }
      ]
    },
    {
      "cell_type": "markdown",
      "source": [
        "\n",
        "\n",
        "> 変換後の状態を表示\n",
        "\n"
      ],
      "metadata": {
        "id": "Yph8ErtOrUXv"
      }
    },
    {
      "cell_type": "code",
      "source": [
        "df_X_train_scaled = pd.DataFrame(X_train_scaled, columns=['所得', '築年数', '地域人口', '緯度', '経度', '部屋数', '寝室数'])\n",
        "df_X_train_scaled.head()\n"
      ],
      "metadata": {
        "id": "J3KHUmIkQ-1D",
        "colab": {
          "base_uri": "https://localhost:8080/",
          "height": 206
        },
        "outputId": "d96eb649-fc68-4328-d21a-0f3fa7c406c9"
      },
      "execution_count": null,
      "outputs": [
        {
          "output_type": "execute_result",
          "data": {
            "text/plain": [
              "         所得       築年数      地域人口        緯度        経度       部屋数       寝室数\n",
              "0  0.034653  0.178247 -0.075532 -0.723337  0.760166 -0.837592 -0.809192\n",
              "1 -0.368102 -0.170455 -0.767887 -1.203976  1.220266  1.614325  1.182965\n",
              "2  0.602835  1.573057 -0.256822 -0.788667  0.714662 -0.405778 -0.452281\n",
              "3  1.406941 -0.780684  1.212489 -0.588012  0.532645  0.112610 -0.358190\n",
              "4 -0.688367  1.311530 -0.178263  1.119887 -1.444266 -0.694816 -0.652284"
            ],
            "text/html": [
              "\n",
              "  <div id=\"df-037808e2-4aa4-4878-8f1c-36899774e4f6\" class=\"colab-df-container\">\n",
              "    <div>\n",
              "<style scoped>\n",
              "    .dataframe tbody tr th:only-of-type {\n",
              "        vertical-align: middle;\n",
              "    }\n",
              "\n",
              "    .dataframe tbody tr th {\n",
              "        vertical-align: top;\n",
              "    }\n",
              "\n",
              "    .dataframe thead th {\n",
              "        text-align: right;\n",
              "    }\n",
              "</style>\n",
              "<table border=\"1\" class=\"dataframe\">\n",
              "  <thead>\n",
              "    <tr style=\"text-align: right;\">\n",
              "      <th></th>\n",
              "      <th>所得</th>\n",
              "      <th>築年数</th>\n",
              "      <th>地域人口</th>\n",
              "      <th>緯度</th>\n",
              "      <th>経度</th>\n",
              "      <th>部屋数</th>\n",
              "      <th>寝室数</th>\n",
              "    </tr>\n",
              "  </thead>\n",
              "  <tbody>\n",
              "    <tr>\n",
              "      <th>0</th>\n",
              "      <td>0.034653</td>\n",
              "      <td>0.178247</td>\n",
              "      <td>-0.075532</td>\n",
              "      <td>-0.723337</td>\n",
              "      <td>0.760166</td>\n",
              "      <td>-0.837592</td>\n",
              "      <td>-0.809192</td>\n",
              "    </tr>\n",
              "    <tr>\n",
              "      <th>1</th>\n",
              "      <td>-0.368102</td>\n",
              "      <td>-0.170455</td>\n",
              "      <td>-0.767887</td>\n",
              "      <td>-1.203976</td>\n",
              "      <td>1.220266</td>\n",
              "      <td>1.614325</td>\n",
              "      <td>1.182965</td>\n",
              "    </tr>\n",
              "    <tr>\n",
              "      <th>2</th>\n",
              "      <td>0.602835</td>\n",
              "      <td>1.573057</td>\n",
              "      <td>-0.256822</td>\n",
              "      <td>-0.788667</td>\n",
              "      <td>0.714662</td>\n",
              "      <td>-0.405778</td>\n",
              "      <td>-0.452281</td>\n",
              "    </tr>\n",
              "    <tr>\n",
              "      <th>3</th>\n",
              "      <td>1.406941</td>\n",
              "      <td>-0.780684</td>\n",
              "      <td>1.212489</td>\n",
              "      <td>-0.588012</td>\n",
              "      <td>0.532645</td>\n",
              "      <td>0.112610</td>\n",
              "      <td>-0.358190</td>\n",
              "    </tr>\n",
              "    <tr>\n",
              "      <th>4</th>\n",
              "      <td>-0.688367</td>\n",
              "      <td>1.311530</td>\n",
              "      <td>-0.178263</td>\n",
              "      <td>1.119887</td>\n",
              "      <td>-1.444266</td>\n",
              "      <td>-0.694816</td>\n",
              "      <td>-0.652284</td>\n",
              "    </tr>\n",
              "  </tbody>\n",
              "</table>\n",
              "</div>\n",
              "    <div class=\"colab-df-buttons\">\n",
              "\n",
              "  <div class=\"colab-df-container\">\n",
              "    <button class=\"colab-df-convert\" onclick=\"convertToInteractive('df-037808e2-4aa4-4878-8f1c-36899774e4f6')\"\n",
              "            title=\"Convert this dataframe to an interactive table.\"\n",
              "            style=\"display:none;\">\n",
              "\n",
              "  <svg xmlns=\"http://www.w3.org/2000/svg\" height=\"24px\" viewBox=\"0 -960 960 960\">\n",
              "    <path d=\"M120-120v-720h720v720H120Zm60-500h600v-160H180v160Zm220 220h160v-160H400v160Zm0 220h160v-160H400v160ZM180-400h160v-160H180v160Zm440 0h160v-160H620v160ZM180-180h160v-160H180v160Zm440 0h160v-160H620v160Z\"/>\n",
              "  </svg>\n",
              "    </button>\n",
              "\n",
              "  <style>\n",
              "    .colab-df-container {\n",
              "      display:flex;\n",
              "      gap: 12px;\n",
              "    }\n",
              "\n",
              "    .colab-df-convert {\n",
              "      background-color: #E8F0FE;\n",
              "      border: none;\n",
              "      border-radius: 50%;\n",
              "      cursor: pointer;\n",
              "      display: none;\n",
              "      fill: #1967D2;\n",
              "      height: 32px;\n",
              "      padding: 0 0 0 0;\n",
              "      width: 32px;\n",
              "    }\n",
              "\n",
              "    .colab-df-convert:hover {\n",
              "      background-color: #E2EBFA;\n",
              "      box-shadow: 0px 1px 2px rgba(60, 64, 67, 0.3), 0px 1px 3px 1px rgba(60, 64, 67, 0.15);\n",
              "      fill: #174EA6;\n",
              "    }\n",
              "\n",
              "    .colab-df-buttons div {\n",
              "      margin-bottom: 4px;\n",
              "    }\n",
              "\n",
              "    [theme=dark] .colab-df-convert {\n",
              "      background-color: #3B4455;\n",
              "      fill: #D2E3FC;\n",
              "    }\n",
              "\n",
              "    [theme=dark] .colab-df-convert:hover {\n",
              "      background-color: #434B5C;\n",
              "      box-shadow: 0px 1px 3px 1px rgba(0, 0, 0, 0.15);\n",
              "      filter: drop-shadow(0px 1px 2px rgba(0, 0, 0, 0.3));\n",
              "      fill: #FFFFFF;\n",
              "    }\n",
              "  </style>\n",
              "\n",
              "    <script>\n",
              "      const buttonEl =\n",
              "        document.querySelector('#df-037808e2-4aa4-4878-8f1c-36899774e4f6 button.colab-df-convert');\n",
              "      buttonEl.style.display =\n",
              "        google.colab.kernel.accessAllowed ? 'block' : 'none';\n",
              "\n",
              "      async function convertToInteractive(key) {\n",
              "        const element = document.querySelector('#df-037808e2-4aa4-4878-8f1c-36899774e4f6');\n",
              "        const dataTable =\n",
              "          await google.colab.kernel.invokeFunction('convertToInteractive',\n",
              "                                                    [key], {});\n",
              "        if (!dataTable) return;\n",
              "\n",
              "        const docLinkHtml = 'Like what you see? Visit the ' +\n",
              "          '<a target=\"_blank\" href=https://colab.research.google.com/notebooks/data_table.ipynb>data table notebook</a>'\n",
              "          + ' to learn more about interactive tables.';\n",
              "        element.innerHTML = '';\n",
              "        dataTable['output_type'] = 'display_data';\n",
              "        await google.colab.output.renderOutput(dataTable, element);\n",
              "        const docLink = document.createElement('div');\n",
              "        docLink.innerHTML = docLinkHtml;\n",
              "        element.appendChild(docLink);\n",
              "      }\n",
              "    </script>\n",
              "  </div>\n",
              "\n",
              "\n",
              "<div id=\"df-6a1ed94e-8b8e-4ffc-aa4f-8af3c2e56166\">\n",
              "  <button class=\"colab-df-quickchart\" onclick=\"quickchart('df-6a1ed94e-8b8e-4ffc-aa4f-8af3c2e56166')\"\n",
              "            title=\"Suggest charts\"\n",
              "            style=\"display:none;\">\n",
              "\n",
              "<svg xmlns=\"http://www.w3.org/2000/svg\" height=\"24px\"viewBox=\"0 0 24 24\"\n",
              "     width=\"24px\">\n",
              "    <g>\n",
              "        <path d=\"M19 3H5c-1.1 0-2 .9-2 2v14c0 1.1.9 2 2 2h14c1.1 0 2-.9 2-2V5c0-1.1-.9-2-2-2zM9 17H7v-7h2v7zm4 0h-2V7h2v10zm4 0h-2v-4h2v4z\"/>\n",
              "    </g>\n",
              "</svg>\n",
              "  </button>\n",
              "\n",
              "<style>\n",
              "  .colab-df-quickchart {\n",
              "      --bg-color: #E8F0FE;\n",
              "      --fill-color: #1967D2;\n",
              "      --hover-bg-color: #E2EBFA;\n",
              "      --hover-fill-color: #174EA6;\n",
              "      --disabled-fill-color: #AAA;\n",
              "      --disabled-bg-color: #DDD;\n",
              "  }\n",
              "\n",
              "  [theme=dark] .colab-df-quickchart {\n",
              "      --bg-color: #3B4455;\n",
              "      --fill-color: #D2E3FC;\n",
              "      --hover-bg-color: #434B5C;\n",
              "      --hover-fill-color: #FFFFFF;\n",
              "      --disabled-bg-color: #3B4455;\n",
              "      --disabled-fill-color: #666;\n",
              "  }\n",
              "\n",
              "  .colab-df-quickchart {\n",
              "    background-color: var(--bg-color);\n",
              "    border: none;\n",
              "    border-radius: 50%;\n",
              "    cursor: pointer;\n",
              "    display: none;\n",
              "    fill: var(--fill-color);\n",
              "    height: 32px;\n",
              "    padding: 0;\n",
              "    width: 32px;\n",
              "  }\n",
              "\n",
              "  .colab-df-quickchart:hover {\n",
              "    background-color: var(--hover-bg-color);\n",
              "    box-shadow: 0 1px 2px rgba(60, 64, 67, 0.3), 0 1px 3px 1px rgba(60, 64, 67, 0.15);\n",
              "    fill: var(--button-hover-fill-color);\n",
              "  }\n",
              "\n",
              "  .colab-df-quickchart-complete:disabled,\n",
              "  .colab-df-quickchart-complete:disabled:hover {\n",
              "    background-color: var(--disabled-bg-color);\n",
              "    fill: var(--disabled-fill-color);\n",
              "    box-shadow: none;\n",
              "  }\n",
              "\n",
              "  .colab-df-spinner {\n",
              "    border: 2px solid var(--fill-color);\n",
              "    border-color: transparent;\n",
              "    border-bottom-color: var(--fill-color);\n",
              "    animation:\n",
              "      spin 1s steps(1) infinite;\n",
              "  }\n",
              "\n",
              "  @keyframes spin {\n",
              "    0% {\n",
              "      border-color: transparent;\n",
              "      border-bottom-color: var(--fill-color);\n",
              "      border-left-color: var(--fill-color);\n",
              "    }\n",
              "    20% {\n",
              "      border-color: transparent;\n",
              "      border-left-color: var(--fill-color);\n",
              "      border-top-color: var(--fill-color);\n",
              "    }\n",
              "    30% {\n",
              "      border-color: transparent;\n",
              "      border-left-color: var(--fill-color);\n",
              "      border-top-color: var(--fill-color);\n",
              "      border-right-color: var(--fill-color);\n",
              "    }\n",
              "    40% {\n",
              "      border-color: transparent;\n",
              "      border-right-color: var(--fill-color);\n",
              "      border-top-color: var(--fill-color);\n",
              "    }\n",
              "    60% {\n",
              "      border-color: transparent;\n",
              "      border-right-color: var(--fill-color);\n",
              "    }\n",
              "    80% {\n",
              "      border-color: transparent;\n",
              "      border-right-color: var(--fill-color);\n",
              "      border-bottom-color: var(--fill-color);\n",
              "    }\n",
              "    90% {\n",
              "      border-color: transparent;\n",
              "      border-bottom-color: var(--fill-color);\n",
              "    }\n",
              "  }\n",
              "</style>\n",
              "\n",
              "  <script>\n",
              "    async function quickchart(key) {\n",
              "      const quickchartButtonEl =\n",
              "        document.querySelector('#' + key + ' button');\n",
              "      quickchartButtonEl.disabled = true;  // To prevent multiple clicks.\n",
              "      quickchartButtonEl.classList.add('colab-df-spinner');\n",
              "      try {\n",
              "        const charts = await google.colab.kernel.invokeFunction(\n",
              "            'suggestCharts', [key], {});\n",
              "      } catch (error) {\n",
              "        console.error('Error during call to suggestCharts:', error);\n",
              "      }\n",
              "      quickchartButtonEl.classList.remove('colab-df-spinner');\n",
              "      quickchartButtonEl.classList.add('colab-df-quickchart-complete');\n",
              "    }\n",
              "    (() => {\n",
              "      let quickchartButtonEl =\n",
              "        document.querySelector('#df-6a1ed94e-8b8e-4ffc-aa4f-8af3c2e56166 button');\n",
              "      quickchartButtonEl.style.display =\n",
              "        google.colab.kernel.accessAllowed ? 'block' : 'none';\n",
              "    })();\n",
              "  </script>\n",
              "</div>\n",
              "\n",
              "    </div>\n",
              "  </div>\n"
            ],
            "application/vnd.google.colaboratory.intrinsic+json": {
              "type": "dataframe",
              "variable_name": "df_X_train_scaled",
              "summary": "{\n  \"name\": \"df_X_train_scaled\",\n  \"rows\": 13000,\n  \"fields\": [\n    {\n      \"column\": \"\\u6240\\u5f97\",\n      \"properties\": {\n        \"dtype\": \"number\",\n        \"std\": 1.0000384637575388,\n        \"min\": -2.0388367423905103,\n        \"max\": 7.2119584415423,\n        \"num_unique_values\": 8895,\n        \"samples\": [\n          0.8871175170039152,\n          0.17819739118591713,\n          -1.3658985236064707\n        ],\n        \"semantic_type\": \"\",\n        \"description\": \"\"\n      }\n    },\n    {\n      \"column\": \"\\u7bc9\\u5e74\\u6570\",\n      \"properties\": {\n        \"dtype\": \"number\",\n        \"std\": 1.0000384637575408,\n        \"min\": -2.262669943131308,\n        \"max\": 2.096110869553663,\n        \"num_unique_values\": 51,\n        \"samples\": [\n          1.660232788285166,\n          0.35259854447967465,\n          1.9217596370462642\n        ],\n        \"semantic_type\": \"\",\n        \"description\": \"\"\n      }\n    },\n    {\n      \"column\": \"\\u5730\\u57df\\u4eba\\u53e3\",\n      \"properties\": {\n        \"dtype\": \"number\",\n        \"std\": 1.0000384637575377,\n        \"min\": -1.2685919127547485,\n        \"max\": 29.528230344856766,\n        \"num_unique_values\": 3447,\n        \"samples\": [\n          -0.5555186609526767,\n          -0.5900500532917601,\n          -0.7894688440499665\n        ],\n        \"semantic_type\": \"\",\n        \"description\": \"\"\n      }\n    },\n    {\n      \"column\": \"\\u7def\\u5ea6\",\n      \"properties\": {\n        \"dtype\": \"number\",\n        \"std\": 1.0000384637575392,\n        \"min\": -1.418629504447782,\n        \"max\": 2.9351121249280454,\n        \"num_unique_values\": 820,\n        \"samples\": [\n          2.291150340518758,\n          -0.8633291251383229,\n          0.7185769974323146\n        ],\n        \"semantic_type\": \"\",\n        \"description\": \"\"\n      }\n    },\n    {\n      \"column\": \"\\u7d4c\\u5ea6\",\n      \"properties\": {\n        \"dtype\": \"number\",\n        \"std\": 1.0000384637575381,\n        \"min\": -2.4200812098692097,\n        \"max\": 2.61573196366894,\n        \"num_unique_values\": 799,\n        \"samples\": [\n          -1.702123910027424,\n          -1.8639171043579708,\n          0.5073644000490499\n        ],\n        \"semantic_type\": \"\",\n        \"description\": \"\"\n      }\n    },\n    {\n      \"column\": \"\\u90e8\\u5c4b\\u6570\",\n      \"properties\": {\n        \"dtype\": \"number\",\n        \"std\": 1.0000384637575381,\n        \"min\": -1.8509035729479737,\n        \"max\": 37.90063667768504,\n        \"num_unique_values\": 12856,\n        \"samples\": [\n          -0.40615838467186804,\n          0.6234370635867049,\n          0.7190277455116885\n        ],\n        \"semantic_type\": \"\",\n        \"description\": \"\"\n      }\n    },\n    {\n      \"column\": \"\\u5bdd\\u5ba4\\u6570\",\n      \"properties\": {\n        \"dtype\": \"number\",\n        \"std\": 1.000038463757536,\n        \"min\": -1.8516012346897432,\n        \"max\": 39.1662773302268,\n        \"num_unique_values\": 12437,\n        \"samples\": [\n          0.37403336654340513,\n          -0.051821738018065035,\n          -0.34690813145438315\n        ],\n        \"semantic_type\": \"\",\n        \"description\": \"\"\n      }\n    }\n  ]\n}"
            }
          },
          "metadata": {},
          "execution_count": 32
        }
      ]
    },
    {
      "cell_type": "markdown",
      "source": [
        "\n",
        "\n",
        "> df_X_train_scaledの各要素の平均値と標準偏差を確認し、問題なく標準化されているかチェック\n",
        "\n"
      ],
      "metadata": {
        "id": "uLqFuIRpreUI"
      }
    },
    {
      "cell_type": "code",
      "source": [
        "df_X_train_scaled.describe()\n"
      ],
      "metadata": {
        "id": "Z_-_HmFsRAfl",
        "colab": {
          "base_uri": "https://localhost:8080/",
          "height": 300
        },
        "outputId": "0e23929b-bbd8-4cbc-98a8-94c13b39859c"
      },
      "execution_count": null,
      "outputs": [
        {
          "output_type": "execute_result",
          "data": {
            "text/plain": [
              "                 所得           築年数          地域人口            緯度            経度  \\\n",
              "count  1.300000e+04  1.300000e+04  1.300000e+04  1.300000e+04  1.300000e+04   \n",
              "mean   4.533263e-15  7.651999e-17  8.280556e-17 -3.489093e-14 -8.354643e-14   \n",
              "std    1.000038e+00  1.000038e+00  1.000038e+00  1.000038e+00  1.000038e+00   \n",
              "min   -2.038837e+00 -2.262670e+00 -1.268592e+00 -1.418630e+00 -2.420081e+00   \n",
              "25%   -7.374752e-01 -8.678601e-01 -5.701945e-01 -7.793341e-01 -1.034727e+00   \n",
              "50%   -1.394514e-01  3.896079e-03 -2.291970e-01 -6.300096e-01  5.225325e-01   \n",
              "75%    5.805695e-01  7.884766e-01  2.622279e-01  9.752284e-01  7.652223e-01   \n",
              "max    7.211958e+00  2.096111e+00  2.952823e+01  2.935112e+00  2.615732e+00   \n",
              "\n",
              "                部屋数           寝室数  \n",
              "count  1.300000e+04  1.300000e+04  \n",
              "mean   1.134163e-14 -1.848504e-15  \n",
              "std    1.000038e+00  1.000038e+00  \n",
              "min   -1.850904e+00 -1.851601e+00  \n",
              "25%   -4.232155e-01 -3.998158e-01  \n",
              "50%   -2.454245e-02 -1.384252e-01  \n",
              "75%    2.989548e-01  1.855580e-01  \n",
              "max    3.790064e+01  3.916628e+01  "
            ],
            "text/html": [
              "\n",
              "  <div id=\"df-d65e5f9c-0fbe-4950-b496-dcf2422f3ebd\" class=\"colab-df-container\">\n",
              "    <div>\n",
              "<style scoped>\n",
              "    .dataframe tbody tr th:only-of-type {\n",
              "        vertical-align: middle;\n",
              "    }\n",
              "\n",
              "    .dataframe tbody tr th {\n",
              "        vertical-align: top;\n",
              "    }\n",
              "\n",
              "    .dataframe thead th {\n",
              "        text-align: right;\n",
              "    }\n",
              "</style>\n",
              "<table border=\"1\" class=\"dataframe\">\n",
              "  <thead>\n",
              "    <tr style=\"text-align: right;\">\n",
              "      <th></th>\n",
              "      <th>所得</th>\n",
              "      <th>築年数</th>\n",
              "      <th>地域人口</th>\n",
              "      <th>緯度</th>\n",
              "      <th>経度</th>\n",
              "      <th>部屋数</th>\n",
              "      <th>寝室数</th>\n",
              "    </tr>\n",
              "  </thead>\n",
              "  <tbody>\n",
              "    <tr>\n",
              "      <th>count</th>\n",
              "      <td>1.300000e+04</td>\n",
              "      <td>1.300000e+04</td>\n",
              "      <td>1.300000e+04</td>\n",
              "      <td>1.300000e+04</td>\n",
              "      <td>1.300000e+04</td>\n",
              "      <td>1.300000e+04</td>\n",
              "      <td>1.300000e+04</td>\n",
              "    </tr>\n",
              "    <tr>\n",
              "      <th>mean</th>\n",
              "      <td>4.533263e-15</td>\n",
              "      <td>7.651999e-17</td>\n",
              "      <td>8.280556e-17</td>\n",
              "      <td>-3.489093e-14</td>\n",
              "      <td>-8.354643e-14</td>\n",
              "      <td>1.134163e-14</td>\n",
              "      <td>-1.848504e-15</td>\n",
              "    </tr>\n",
              "    <tr>\n",
              "      <th>std</th>\n",
              "      <td>1.000038e+00</td>\n",
              "      <td>1.000038e+00</td>\n",
              "      <td>1.000038e+00</td>\n",
              "      <td>1.000038e+00</td>\n",
              "      <td>1.000038e+00</td>\n",
              "      <td>1.000038e+00</td>\n",
              "      <td>1.000038e+00</td>\n",
              "    </tr>\n",
              "    <tr>\n",
              "      <th>min</th>\n",
              "      <td>-2.038837e+00</td>\n",
              "      <td>-2.262670e+00</td>\n",
              "      <td>-1.268592e+00</td>\n",
              "      <td>-1.418630e+00</td>\n",
              "      <td>-2.420081e+00</td>\n",
              "      <td>-1.850904e+00</td>\n",
              "      <td>-1.851601e+00</td>\n",
              "    </tr>\n",
              "    <tr>\n",
              "      <th>25%</th>\n",
              "      <td>-7.374752e-01</td>\n",
              "      <td>-8.678601e-01</td>\n",
              "      <td>-5.701945e-01</td>\n",
              "      <td>-7.793341e-01</td>\n",
              "      <td>-1.034727e+00</td>\n",
              "      <td>-4.232155e-01</td>\n",
              "      <td>-3.998158e-01</td>\n",
              "    </tr>\n",
              "    <tr>\n",
              "      <th>50%</th>\n",
              "      <td>-1.394514e-01</td>\n",
              "      <td>3.896079e-03</td>\n",
              "      <td>-2.291970e-01</td>\n",
              "      <td>-6.300096e-01</td>\n",
              "      <td>5.225325e-01</td>\n",
              "      <td>-2.454245e-02</td>\n",
              "      <td>-1.384252e-01</td>\n",
              "    </tr>\n",
              "    <tr>\n",
              "      <th>75%</th>\n",
              "      <td>5.805695e-01</td>\n",
              "      <td>7.884766e-01</td>\n",
              "      <td>2.622279e-01</td>\n",
              "      <td>9.752284e-01</td>\n",
              "      <td>7.652223e-01</td>\n",
              "      <td>2.989548e-01</td>\n",
              "      <td>1.855580e-01</td>\n",
              "    </tr>\n",
              "    <tr>\n",
              "      <th>max</th>\n",
              "      <td>7.211958e+00</td>\n",
              "      <td>2.096111e+00</td>\n",
              "      <td>2.952823e+01</td>\n",
              "      <td>2.935112e+00</td>\n",
              "      <td>2.615732e+00</td>\n",
              "      <td>3.790064e+01</td>\n",
              "      <td>3.916628e+01</td>\n",
              "    </tr>\n",
              "  </tbody>\n",
              "</table>\n",
              "</div>\n",
              "    <div class=\"colab-df-buttons\">\n",
              "\n",
              "  <div class=\"colab-df-container\">\n",
              "    <button class=\"colab-df-convert\" onclick=\"convertToInteractive('df-d65e5f9c-0fbe-4950-b496-dcf2422f3ebd')\"\n",
              "            title=\"Convert this dataframe to an interactive table.\"\n",
              "            style=\"display:none;\">\n",
              "\n",
              "  <svg xmlns=\"http://www.w3.org/2000/svg\" height=\"24px\" viewBox=\"0 -960 960 960\">\n",
              "    <path d=\"M120-120v-720h720v720H120Zm60-500h600v-160H180v160Zm220 220h160v-160H400v160Zm0 220h160v-160H400v160ZM180-400h160v-160H180v160Zm440 0h160v-160H620v160ZM180-180h160v-160H180v160Zm440 0h160v-160H620v160Z\"/>\n",
              "  </svg>\n",
              "    </button>\n",
              "\n",
              "  <style>\n",
              "    .colab-df-container {\n",
              "      display:flex;\n",
              "      gap: 12px;\n",
              "    }\n",
              "\n",
              "    .colab-df-convert {\n",
              "      background-color: #E8F0FE;\n",
              "      border: none;\n",
              "      border-radius: 50%;\n",
              "      cursor: pointer;\n",
              "      display: none;\n",
              "      fill: #1967D2;\n",
              "      height: 32px;\n",
              "      padding: 0 0 0 0;\n",
              "      width: 32px;\n",
              "    }\n",
              "\n",
              "    .colab-df-convert:hover {\n",
              "      background-color: #E2EBFA;\n",
              "      box-shadow: 0px 1px 2px rgba(60, 64, 67, 0.3), 0px 1px 3px 1px rgba(60, 64, 67, 0.15);\n",
              "      fill: #174EA6;\n",
              "    }\n",
              "\n",
              "    .colab-df-buttons div {\n",
              "      margin-bottom: 4px;\n",
              "    }\n",
              "\n",
              "    [theme=dark] .colab-df-convert {\n",
              "      background-color: #3B4455;\n",
              "      fill: #D2E3FC;\n",
              "    }\n",
              "\n",
              "    [theme=dark] .colab-df-convert:hover {\n",
              "      background-color: #434B5C;\n",
              "      box-shadow: 0px 1px 3px 1px rgba(0, 0, 0, 0.15);\n",
              "      filter: drop-shadow(0px 1px 2px rgba(0, 0, 0, 0.3));\n",
              "      fill: #FFFFFF;\n",
              "    }\n",
              "  </style>\n",
              "\n",
              "    <script>\n",
              "      const buttonEl =\n",
              "        document.querySelector('#df-d65e5f9c-0fbe-4950-b496-dcf2422f3ebd button.colab-df-convert');\n",
              "      buttonEl.style.display =\n",
              "        google.colab.kernel.accessAllowed ? 'block' : 'none';\n",
              "\n",
              "      async function convertToInteractive(key) {\n",
              "        const element = document.querySelector('#df-d65e5f9c-0fbe-4950-b496-dcf2422f3ebd');\n",
              "        const dataTable =\n",
              "          await google.colab.kernel.invokeFunction('convertToInteractive',\n",
              "                                                    [key], {});\n",
              "        if (!dataTable) return;\n",
              "\n",
              "        const docLinkHtml = 'Like what you see? Visit the ' +\n",
              "          '<a target=\"_blank\" href=https://colab.research.google.com/notebooks/data_table.ipynb>data table notebook</a>'\n",
              "          + ' to learn more about interactive tables.';\n",
              "        element.innerHTML = '';\n",
              "        dataTable['output_type'] = 'display_data';\n",
              "        await google.colab.output.renderOutput(dataTable, element);\n",
              "        const docLink = document.createElement('div');\n",
              "        docLink.innerHTML = docLinkHtml;\n",
              "        element.appendChild(docLink);\n",
              "      }\n",
              "    </script>\n",
              "  </div>\n",
              "\n",
              "\n",
              "<div id=\"df-957e09fc-77b0-4b86-b855-4cae1508b211\">\n",
              "  <button class=\"colab-df-quickchart\" onclick=\"quickchart('df-957e09fc-77b0-4b86-b855-4cae1508b211')\"\n",
              "            title=\"Suggest charts\"\n",
              "            style=\"display:none;\">\n",
              "\n",
              "<svg xmlns=\"http://www.w3.org/2000/svg\" height=\"24px\"viewBox=\"0 0 24 24\"\n",
              "     width=\"24px\">\n",
              "    <g>\n",
              "        <path d=\"M19 3H5c-1.1 0-2 .9-2 2v14c0 1.1.9 2 2 2h14c1.1 0 2-.9 2-2V5c0-1.1-.9-2-2-2zM9 17H7v-7h2v7zm4 0h-2V7h2v10zm4 0h-2v-4h2v4z\"/>\n",
              "    </g>\n",
              "</svg>\n",
              "  </button>\n",
              "\n",
              "<style>\n",
              "  .colab-df-quickchart {\n",
              "      --bg-color: #E8F0FE;\n",
              "      --fill-color: #1967D2;\n",
              "      --hover-bg-color: #E2EBFA;\n",
              "      --hover-fill-color: #174EA6;\n",
              "      --disabled-fill-color: #AAA;\n",
              "      --disabled-bg-color: #DDD;\n",
              "  }\n",
              "\n",
              "  [theme=dark] .colab-df-quickchart {\n",
              "      --bg-color: #3B4455;\n",
              "      --fill-color: #D2E3FC;\n",
              "      --hover-bg-color: #434B5C;\n",
              "      --hover-fill-color: #FFFFFF;\n",
              "      --disabled-bg-color: #3B4455;\n",
              "      --disabled-fill-color: #666;\n",
              "  }\n",
              "\n",
              "  .colab-df-quickchart {\n",
              "    background-color: var(--bg-color);\n",
              "    border: none;\n",
              "    border-radius: 50%;\n",
              "    cursor: pointer;\n",
              "    display: none;\n",
              "    fill: var(--fill-color);\n",
              "    height: 32px;\n",
              "    padding: 0;\n",
              "    width: 32px;\n",
              "  }\n",
              "\n",
              "  .colab-df-quickchart:hover {\n",
              "    background-color: var(--hover-bg-color);\n",
              "    box-shadow: 0 1px 2px rgba(60, 64, 67, 0.3), 0 1px 3px 1px rgba(60, 64, 67, 0.15);\n",
              "    fill: var(--button-hover-fill-color);\n",
              "  }\n",
              "\n",
              "  .colab-df-quickchart-complete:disabled,\n",
              "  .colab-df-quickchart-complete:disabled:hover {\n",
              "    background-color: var(--disabled-bg-color);\n",
              "    fill: var(--disabled-fill-color);\n",
              "    box-shadow: none;\n",
              "  }\n",
              "\n",
              "  .colab-df-spinner {\n",
              "    border: 2px solid var(--fill-color);\n",
              "    border-color: transparent;\n",
              "    border-bottom-color: var(--fill-color);\n",
              "    animation:\n",
              "      spin 1s steps(1) infinite;\n",
              "  }\n",
              "\n",
              "  @keyframes spin {\n",
              "    0% {\n",
              "      border-color: transparent;\n",
              "      border-bottom-color: var(--fill-color);\n",
              "      border-left-color: var(--fill-color);\n",
              "    }\n",
              "    20% {\n",
              "      border-color: transparent;\n",
              "      border-left-color: var(--fill-color);\n",
              "      border-top-color: var(--fill-color);\n",
              "    }\n",
              "    30% {\n",
              "      border-color: transparent;\n",
              "      border-left-color: var(--fill-color);\n",
              "      border-top-color: var(--fill-color);\n",
              "      border-right-color: var(--fill-color);\n",
              "    }\n",
              "    40% {\n",
              "      border-color: transparent;\n",
              "      border-right-color: var(--fill-color);\n",
              "      border-top-color: var(--fill-color);\n",
              "    }\n",
              "    60% {\n",
              "      border-color: transparent;\n",
              "      border-right-color: var(--fill-color);\n",
              "    }\n",
              "    80% {\n",
              "      border-color: transparent;\n",
              "      border-right-color: var(--fill-color);\n",
              "      border-bottom-color: var(--fill-color);\n",
              "    }\n",
              "    90% {\n",
              "      border-color: transparent;\n",
              "      border-bottom-color: var(--fill-color);\n",
              "    }\n",
              "  }\n",
              "</style>\n",
              "\n",
              "  <script>\n",
              "    async function quickchart(key) {\n",
              "      const quickchartButtonEl =\n",
              "        document.querySelector('#' + key + ' button');\n",
              "      quickchartButtonEl.disabled = true;  // To prevent multiple clicks.\n",
              "      quickchartButtonEl.classList.add('colab-df-spinner');\n",
              "      try {\n",
              "        const charts = await google.colab.kernel.invokeFunction(\n",
              "            'suggestCharts', [key], {});\n",
              "      } catch (error) {\n",
              "        console.error('Error during call to suggestCharts:', error);\n",
              "      }\n",
              "      quickchartButtonEl.classList.remove('colab-df-spinner');\n",
              "      quickchartButtonEl.classList.add('colab-df-quickchart-complete');\n",
              "    }\n",
              "    (() => {\n",
              "      let quickchartButtonEl =\n",
              "        document.querySelector('#df-957e09fc-77b0-4b86-b855-4cae1508b211 button');\n",
              "      quickchartButtonEl.style.display =\n",
              "        google.colab.kernel.accessAllowed ? 'block' : 'none';\n",
              "    })();\n",
              "  </script>\n",
              "</div>\n",
              "\n",
              "    </div>\n",
              "  </div>\n"
            ],
            "application/vnd.google.colaboratory.intrinsic+json": {
              "type": "dataframe",
              "summary": "{\n  \"name\": \"df_X_train_scaled\",\n  \"rows\": 8,\n  \"fields\": [\n    {\n      \"column\": \"\\u6240\\u5f97\",\n      \"properties\": {\n        \"dtype\": \"number\",\n        \"std\": 4595.898080156896,\n        \"min\": -2.0388367423905103,\n        \"max\": 13000.0,\n        \"num_unique_values\": 8,\n        \"samples\": [\n          4.533262654149439e-15,\n          -0.13945139449153188,\n          13000.0\n        ],\n        \"semantic_type\": \"\",\n        \"description\": \"\"\n      }\n    },\n    {\n      \"column\": \"\\u7bc9\\u5e74\\u6570\",\n      \"properties\": {\n        \"dtype\": \"number\",\n        \"std\": 4596.155976814688,\n        \"min\": -2.262669943131308,\n        \"max\": 13000.0,\n        \"num_unique_values\": 8,\n        \"samples\": [\n          7.651998692801079e-17,\n          0.0038960794648769423,\n          13000.0\n        ],\n        \"semantic_type\": \"\",\n        \"description\": \"\"\n      }\n    },\n    {\n      \"column\": \"\\u5730\\u57df\\u4eba\\u53e3\",\n      \"properties\": {\n        \"dtype\": \"number\",\n        \"std\": 4594.755141637865,\n        \"min\": -1.2685919127547485,\n        \"max\": 13000.0,\n        \"num_unique_values\": 8,\n        \"samples\": [\n          8.280555728281167e-17,\n          -0.22919700334833873,\n          13000.0\n        ],\n        \"semantic_type\": \"\",\n        \"description\": \"\"\n      }\n    },\n    {\n      \"column\": \"\\u7def\\u5ea6\",\n      \"properties\": {\n        \"dtype\": \"number\",\n        \"std\": 4596.089101803384,\n        \"min\": -1.418629504447782,\n        \"max\": 13000.0,\n        \"num_unique_values\": 8,\n        \"samples\": [\n          -3.489092775383212e-14,\n          -0.6300096380335092,\n          13000.0\n        ],\n        \"semantic_type\": \"\",\n        \"description\": \"\"\n      }\n    },\n    {\n      \"column\": \"\\u7d4c\\u5ea6\",\n      \"properties\": {\n        \"dtype\": \"number\",\n        \"std\": 4596.121144670797,\n        \"min\": -2.4200812098692097,\n        \"max\": 13000.0,\n        \"num_unique_values\": 8,\n        \"samples\": [\n          -8.354643472767538e-14,\n          0.5225325120175389,\n          13000.0\n        ],\n        \"semantic_type\": \"\",\n        \"description\": \"\"\n      }\n    },\n    {\n      \"column\": \"\\u90e8\\u5c4b\\u6570\",\n      \"properties\": {\n        \"dtype\": \"number\",\n        \"std\": 4594.349678773384,\n        \"min\": -1.8509035729479737,\n        \"max\": 13000.0,\n        \"num_unique_values\": 8,\n        \"samples\": [\n          1.1341628491069199e-14,\n          -0.02454245032896537,\n          13000.0\n        ],\n        \"semantic_type\": \"\",\n        \"description\": \"\"\n      }\n    },\n    {\n      \"column\": \"\\u5bdd\\u5ba4\\u6570\",\n      \"properties\": {\n        \"dtype\": \"number\",\n        \"std\": 4594.2974264241375,\n        \"min\": -1.8516012346897432,\n        \"max\": 13000.0,\n        \"num_unique_values\": 8,\n        \"samples\": [\n          -1.848504255646661e-15,\n          -0.13842519441276196,\n          13000.0\n        ],\n        \"semantic_type\": \"\",\n        \"description\": \"\"\n      }\n    }\n  ]\n}"
            }
          },
          "metadata": {},
          "execution_count": 33
        }
      ]
    },
    {
      "cell_type": "markdown",
      "source": [
        "平均値は限りなく0に近い値で、標準偏差も限りなく1に近い値になっています\n",
        "\n",
        "> 生成した標準化の変換モデルを利用して、説明変数のテストデータX_testを変換\n",
        "\n"
      ],
      "metadata": {
        "id": "XZBuAR7prlKj"
      }
    },
    {
      "cell_type": "code",
      "source": [
        "X_test_scaled  = scaler.transform(X_test)\n"
      ],
      "metadata": {
        "id": "nkv-0eU6RBvS"
      },
      "execution_count": null,
      "outputs": []
    },
    {
      "cell_type": "markdown",
      "source": [
        "X_testと、X_test_scaledをDataFrame形式で表示させて、変換前後の状態を比較します。"
      ],
      "metadata": {
        "id": "YYbMzDX-rvf5"
      }
    },
    {
      "cell_type": "markdown",
      "source": [
        "> 変換前"
      ],
      "metadata": {
        "id": "HuB8beFprzdB"
      }
    },
    {
      "cell_type": "code",
      "source": [
        "df_X_test = pd.DataFrame(X_test, columns=['所得', '築年数', '地域人口', '緯度', '経度', '部屋数', '寝室数'])\n",
        "df_X_test.head()\n"
      ],
      "metadata": {
        "id": "oWDvVYiZRDFd",
        "colab": {
          "base_uri": "https://localhost:8080/",
          "height": 206
        },
        "outputId": "8c8c42b0-ba6b-4b27-d67f-586515323fad"
      },
      "execution_count": null,
      "outputs": [
        {
          "output_type": "execute_result",
          "data": {
            "text/plain": [
              "       所得   築年数    地域人口     緯度      経度       部屋数       寝室数\n",
              "0  2.9628  36.0  2388.0  34.13 -117.27  1.397404  0.287688\n",
              "1  2.2279  37.0    72.0  37.65 -120.95  1.888889  0.277778\n",
              "2  4.5781   9.0  2235.0  33.18 -117.26  2.031320  0.354810\n",
              "3  5.5209  35.0  1052.0  34.22 -118.52  1.539924  0.258555\n",
              "4  2.2361  46.0   101.0  38.02 -121.82  1.742574  0.425743"
            ],
            "text/html": [
              "\n",
              "  <div id=\"df-2eef4e93-a6ee-4372-aad7-8748959d77f7\" class=\"colab-df-container\">\n",
              "    <div>\n",
              "<style scoped>\n",
              "    .dataframe tbody tr th:only-of-type {\n",
              "        vertical-align: middle;\n",
              "    }\n",
              "\n",
              "    .dataframe tbody tr th {\n",
              "        vertical-align: top;\n",
              "    }\n",
              "\n",
              "    .dataframe thead th {\n",
              "        text-align: right;\n",
              "    }\n",
              "</style>\n",
              "<table border=\"1\" class=\"dataframe\">\n",
              "  <thead>\n",
              "    <tr style=\"text-align: right;\">\n",
              "      <th></th>\n",
              "      <th>所得</th>\n",
              "      <th>築年数</th>\n",
              "      <th>地域人口</th>\n",
              "      <th>緯度</th>\n",
              "      <th>経度</th>\n",
              "      <th>部屋数</th>\n",
              "      <th>寝室数</th>\n",
              "    </tr>\n",
              "  </thead>\n",
              "  <tbody>\n",
              "    <tr>\n",
              "      <th>0</th>\n",
              "      <td>2.9628</td>\n",
              "      <td>36.0</td>\n",
              "      <td>2388.0</td>\n",
              "      <td>34.13</td>\n",
              "      <td>-117.27</td>\n",
              "      <td>1.397404</td>\n",
              "      <td>0.287688</td>\n",
              "    </tr>\n",
              "    <tr>\n",
              "      <th>1</th>\n",
              "      <td>2.2279</td>\n",
              "      <td>37.0</td>\n",
              "      <td>72.0</td>\n",
              "      <td>37.65</td>\n",
              "      <td>-120.95</td>\n",
              "      <td>1.888889</td>\n",
              "      <td>0.277778</td>\n",
              "    </tr>\n",
              "    <tr>\n",
              "      <th>2</th>\n",
              "      <td>4.5781</td>\n",
              "      <td>9.0</td>\n",
              "      <td>2235.0</td>\n",
              "      <td>33.18</td>\n",
              "      <td>-117.26</td>\n",
              "      <td>2.031320</td>\n",
              "      <td>0.354810</td>\n",
              "    </tr>\n",
              "    <tr>\n",
              "      <th>3</th>\n",
              "      <td>5.5209</td>\n",
              "      <td>35.0</td>\n",
              "      <td>1052.0</td>\n",
              "      <td>34.22</td>\n",
              "      <td>-118.52</td>\n",
              "      <td>1.539924</td>\n",
              "      <td>0.258555</td>\n",
              "    </tr>\n",
              "    <tr>\n",
              "      <th>4</th>\n",
              "      <td>2.2361</td>\n",
              "      <td>46.0</td>\n",
              "      <td>101.0</td>\n",
              "      <td>38.02</td>\n",
              "      <td>-121.82</td>\n",
              "      <td>1.742574</td>\n",
              "      <td>0.425743</td>\n",
              "    </tr>\n",
              "  </tbody>\n",
              "</table>\n",
              "</div>\n",
              "    <div class=\"colab-df-buttons\">\n",
              "\n",
              "  <div class=\"colab-df-container\">\n",
              "    <button class=\"colab-df-convert\" onclick=\"convertToInteractive('df-2eef4e93-a6ee-4372-aad7-8748959d77f7')\"\n",
              "            title=\"Convert this dataframe to an interactive table.\"\n",
              "            style=\"display:none;\">\n",
              "\n",
              "  <svg xmlns=\"http://www.w3.org/2000/svg\" height=\"24px\" viewBox=\"0 -960 960 960\">\n",
              "    <path d=\"M120-120v-720h720v720H120Zm60-500h600v-160H180v160Zm220 220h160v-160H400v160Zm0 220h160v-160H400v160ZM180-400h160v-160H180v160Zm440 0h160v-160H620v160ZM180-180h160v-160H180v160Zm440 0h160v-160H620v160Z\"/>\n",
              "  </svg>\n",
              "    </button>\n",
              "\n",
              "  <style>\n",
              "    .colab-df-container {\n",
              "      display:flex;\n",
              "      gap: 12px;\n",
              "    }\n",
              "\n",
              "    .colab-df-convert {\n",
              "      background-color: #E8F0FE;\n",
              "      border: none;\n",
              "      border-radius: 50%;\n",
              "      cursor: pointer;\n",
              "      display: none;\n",
              "      fill: #1967D2;\n",
              "      height: 32px;\n",
              "      padding: 0 0 0 0;\n",
              "      width: 32px;\n",
              "    }\n",
              "\n",
              "    .colab-df-convert:hover {\n",
              "      background-color: #E2EBFA;\n",
              "      box-shadow: 0px 1px 2px rgba(60, 64, 67, 0.3), 0px 1px 3px 1px rgba(60, 64, 67, 0.15);\n",
              "      fill: #174EA6;\n",
              "    }\n",
              "\n",
              "    .colab-df-buttons div {\n",
              "      margin-bottom: 4px;\n",
              "    }\n",
              "\n",
              "    [theme=dark] .colab-df-convert {\n",
              "      background-color: #3B4455;\n",
              "      fill: #D2E3FC;\n",
              "    }\n",
              "\n",
              "    [theme=dark] .colab-df-convert:hover {\n",
              "      background-color: #434B5C;\n",
              "      box-shadow: 0px 1px 3px 1px rgba(0, 0, 0, 0.15);\n",
              "      filter: drop-shadow(0px 1px 2px rgba(0, 0, 0, 0.3));\n",
              "      fill: #FFFFFF;\n",
              "    }\n",
              "  </style>\n",
              "\n",
              "    <script>\n",
              "      const buttonEl =\n",
              "        document.querySelector('#df-2eef4e93-a6ee-4372-aad7-8748959d77f7 button.colab-df-convert');\n",
              "      buttonEl.style.display =\n",
              "        google.colab.kernel.accessAllowed ? 'block' : 'none';\n",
              "\n",
              "      async function convertToInteractive(key) {\n",
              "        const element = document.querySelector('#df-2eef4e93-a6ee-4372-aad7-8748959d77f7');\n",
              "        const dataTable =\n",
              "          await google.colab.kernel.invokeFunction('convertToInteractive',\n",
              "                                                    [key], {});\n",
              "        if (!dataTable) return;\n",
              "\n",
              "        const docLinkHtml = 'Like what you see? Visit the ' +\n",
              "          '<a target=\"_blank\" href=https://colab.research.google.com/notebooks/data_table.ipynb>data table notebook</a>'\n",
              "          + ' to learn more about interactive tables.';\n",
              "        element.innerHTML = '';\n",
              "        dataTable['output_type'] = 'display_data';\n",
              "        await google.colab.output.renderOutput(dataTable, element);\n",
              "        const docLink = document.createElement('div');\n",
              "        docLink.innerHTML = docLinkHtml;\n",
              "        element.appendChild(docLink);\n",
              "      }\n",
              "    </script>\n",
              "  </div>\n",
              "\n",
              "\n",
              "<div id=\"df-89cd90e3-b36a-4b40-9f81-6477b2d85e1e\">\n",
              "  <button class=\"colab-df-quickchart\" onclick=\"quickchart('df-89cd90e3-b36a-4b40-9f81-6477b2d85e1e')\"\n",
              "            title=\"Suggest charts\"\n",
              "            style=\"display:none;\">\n",
              "\n",
              "<svg xmlns=\"http://www.w3.org/2000/svg\" height=\"24px\"viewBox=\"0 0 24 24\"\n",
              "     width=\"24px\">\n",
              "    <g>\n",
              "        <path d=\"M19 3H5c-1.1 0-2 .9-2 2v14c0 1.1.9 2 2 2h14c1.1 0 2-.9 2-2V5c0-1.1-.9-2-2-2zM9 17H7v-7h2v7zm4 0h-2V7h2v10zm4 0h-2v-4h2v4z\"/>\n",
              "    </g>\n",
              "</svg>\n",
              "  </button>\n",
              "\n",
              "<style>\n",
              "  .colab-df-quickchart {\n",
              "      --bg-color: #E8F0FE;\n",
              "      --fill-color: #1967D2;\n",
              "      --hover-bg-color: #E2EBFA;\n",
              "      --hover-fill-color: #174EA6;\n",
              "      --disabled-fill-color: #AAA;\n",
              "      --disabled-bg-color: #DDD;\n",
              "  }\n",
              "\n",
              "  [theme=dark] .colab-df-quickchart {\n",
              "      --bg-color: #3B4455;\n",
              "      --fill-color: #D2E3FC;\n",
              "      --hover-bg-color: #434B5C;\n",
              "      --hover-fill-color: #FFFFFF;\n",
              "      --disabled-bg-color: #3B4455;\n",
              "      --disabled-fill-color: #666;\n",
              "  }\n",
              "\n",
              "  .colab-df-quickchart {\n",
              "    background-color: var(--bg-color);\n",
              "    border: none;\n",
              "    border-radius: 50%;\n",
              "    cursor: pointer;\n",
              "    display: none;\n",
              "    fill: var(--fill-color);\n",
              "    height: 32px;\n",
              "    padding: 0;\n",
              "    width: 32px;\n",
              "  }\n",
              "\n",
              "  .colab-df-quickchart:hover {\n",
              "    background-color: var(--hover-bg-color);\n",
              "    box-shadow: 0 1px 2px rgba(60, 64, 67, 0.3), 0 1px 3px 1px rgba(60, 64, 67, 0.15);\n",
              "    fill: var(--button-hover-fill-color);\n",
              "  }\n",
              "\n",
              "  .colab-df-quickchart-complete:disabled,\n",
              "  .colab-df-quickchart-complete:disabled:hover {\n",
              "    background-color: var(--disabled-bg-color);\n",
              "    fill: var(--disabled-fill-color);\n",
              "    box-shadow: none;\n",
              "  }\n",
              "\n",
              "  .colab-df-spinner {\n",
              "    border: 2px solid var(--fill-color);\n",
              "    border-color: transparent;\n",
              "    border-bottom-color: var(--fill-color);\n",
              "    animation:\n",
              "      spin 1s steps(1) infinite;\n",
              "  }\n",
              "\n",
              "  @keyframes spin {\n",
              "    0% {\n",
              "      border-color: transparent;\n",
              "      border-bottom-color: var(--fill-color);\n",
              "      border-left-color: var(--fill-color);\n",
              "    }\n",
              "    20% {\n",
              "      border-color: transparent;\n",
              "      border-left-color: var(--fill-color);\n",
              "      border-top-color: var(--fill-color);\n",
              "    }\n",
              "    30% {\n",
              "      border-color: transparent;\n",
              "      border-left-color: var(--fill-color);\n",
              "      border-top-color: var(--fill-color);\n",
              "      border-right-color: var(--fill-color);\n",
              "    }\n",
              "    40% {\n",
              "      border-color: transparent;\n",
              "      border-right-color: var(--fill-color);\n",
              "      border-top-color: var(--fill-color);\n",
              "    }\n",
              "    60% {\n",
              "      border-color: transparent;\n",
              "      border-right-color: var(--fill-color);\n",
              "    }\n",
              "    80% {\n",
              "      border-color: transparent;\n",
              "      border-right-color: var(--fill-color);\n",
              "      border-bottom-color: var(--fill-color);\n",
              "    }\n",
              "    90% {\n",
              "      border-color: transparent;\n",
              "      border-bottom-color: var(--fill-color);\n",
              "    }\n",
              "  }\n",
              "</style>\n",
              "\n",
              "  <script>\n",
              "    async function quickchart(key) {\n",
              "      const quickchartButtonEl =\n",
              "        document.querySelector('#' + key + ' button');\n",
              "      quickchartButtonEl.disabled = true;  // To prevent multiple clicks.\n",
              "      quickchartButtonEl.classList.add('colab-df-spinner');\n",
              "      try {\n",
              "        const charts = await google.colab.kernel.invokeFunction(\n",
              "            'suggestCharts', [key], {});\n",
              "      } catch (error) {\n",
              "        console.error('Error during call to suggestCharts:', error);\n",
              "      }\n",
              "      quickchartButtonEl.classList.remove('colab-df-spinner');\n",
              "      quickchartButtonEl.classList.add('colab-df-quickchart-complete');\n",
              "    }\n",
              "    (() => {\n",
              "      let quickchartButtonEl =\n",
              "        document.querySelector('#df-89cd90e3-b36a-4b40-9f81-6477b2d85e1e button');\n",
              "      quickchartButtonEl.style.display =\n",
              "        google.colab.kernel.accessAllowed ? 'block' : 'none';\n",
              "    })();\n",
              "  </script>\n",
              "</div>\n",
              "\n",
              "    </div>\n",
              "  </div>\n"
            ],
            "application/vnd.google.colaboratory.intrinsic+json": {
              "type": "dataframe",
              "variable_name": "df_X_test",
              "summary": "{\n  \"name\": \"df_X_test\",\n  \"rows\": 5572,\n  \"fields\": [\n    {\n      \"column\": \"\\u6240\\u5f97\",\n      \"properties\": {\n        \"dtype\": \"number\",\n        \"std\": 1.576058607456179,\n        \"min\": 0.4999,\n        \"max\": 15.0001,\n        \"num_unique_values\": 4492,\n        \"samples\": [\n          2.025,\n          6.2456,\n          2.8125\n        ],\n        \"semantic_type\": \"\",\n        \"description\": \"\"\n      }\n    },\n    {\n      \"column\": \"\\u7bc9\\u5e74\\u6570\",\n      \"properties\": {\n        \"dtype\": \"number\",\n        \"std\": 11.339341029929654,\n        \"min\": 2.0,\n        \"max\": 51.0,\n        \"num_unique_values\": 50,\n        \"samples\": [\n          17.0,\n          43.0,\n          12.0\n        ],\n        \"semantic_type\": \"\",\n        \"description\": \"\"\n      }\n    },\n    {\n      \"column\": \"\\u5730\\u57df\\u4eba\\u53e3\",\n      \"properties\": {\n        \"dtype\": \"number\",\n        \"std\": 1173.3906550449951,\n        \"min\": 3.0,\n        \"max\": 28566.0,\n        \"num_unique_values\": 2483,\n        \"samples\": [\n          119.0,\n          950.0,\n          1278.0\n        ],\n        \"semantic_type\": \"\",\n        \"description\": \"\"\n      }\n    },\n    {\n      \"column\": \"\\u7def\\u5ea6\",\n      \"properties\": {\n        \"dtype\": \"number\",\n        \"std\": 2.1586851542292687,\n        \"min\": 32.54,\n        \"max\": 41.95,\n        \"num_unique_values\": 704,\n        \"samples\": [\n          34.38,\n          33.8,\n          38.48\n        ],\n        \"semantic_type\": \"\",\n        \"description\": \"\"\n      }\n    },\n    {\n      \"column\": \"\\u7d4c\\u5ea6\",\n      \"properties\": {\n        \"dtype\": \"number\",\n        \"std\": 1.9879163236412256,\n        \"min\": -124.3,\n        \"max\": -114.47,\n        \"num_unique_values\": 705,\n        \"samples\": [\n          -123.01,\n          -118.14,\n          -120.56\n        ],\n        \"semantic_type\": \"\",\n        \"description\": \"\"\n      }\n    },\n    {\n      \"column\": \"\\u90e8\\u5c4b\\u6570\",\n      \"properties\": {\n        \"dtype\": \"number\",\n        \"std\": 1.2949557838645134,\n        \"min\": 0.1044098573281452,\n        \"max\": 55.22222222222222,\n        \"num_unique_values\": 5530,\n        \"samples\": [\n          2.7723159696747373,\n          2.0703835508105968,\n          2.270870870870871\n        ],\n        \"semantic_type\": \"\",\n        \"description\": \"\"\n      }\n    },\n    {\n      \"column\": \"\\u5bdd\\u5ba4\\u6570\",\n      \"properties\": {\n        \"dtype\": \"number\",\n        \"std\": 0.29963292638226086,\n        \"min\": 0.0175097276264591,\n        \"max\": 14.194444444444446,\n        \"num_unique_values\": 5444,\n        \"samples\": [\n          0.7777777777777777,\n          0.454160789844852,\n          0.3672839506172839\n        ],\n        \"semantic_type\": \"\",\n        \"description\": \"\"\n      }\n    }\n  ]\n}"
            }
          },
          "metadata": {},
          "execution_count": 35
        }
      ]
    },
    {
      "cell_type": "markdown",
      "source": [
        "\n",
        "\n",
        "> 変換後\n",
        "\n"
      ],
      "metadata": {
        "id": "tmK18swer3gB"
      }
    },
    {
      "cell_type": "code",
      "source": [
        "df_X_test_scaled = pd.DataFrame(X_test_scaled, columns=['所得', '築年数', '地域人口', '緯度', '経度', '部屋数', '寝室数'])\n",
        "df_X_test_scaled.head()\n"
      ],
      "metadata": {
        "id": "9UZAu94tREUR",
        "colab": {
          "base_uri": "https://localhost:8080/",
          "height": 206
        },
        "outputId": "e1ecd17f-e397-4359-ba7a-404c6c3235ba"
      },
      "execution_count": null,
      "outputs": [
        {
          "output_type": "execute_result",
          "data": {
            "text/plain": [
              "         所得       築年数      地域人口        緯度        経度       部屋数       寝室数\n",
              "0 -0.467563  0.788477  0.786026 -0.681340  1.119145 -0.509344 -0.506026\n",
              "1 -0.936412  0.875652 -1.213342  0.961229 -0.741477 -0.036639 -0.552489\n",
              "2  0.562961 -1.565265  0.653943 -1.124647  1.124201  0.100350 -0.191353\n",
              "3  1.164446  0.701301 -0.367323 -0.639342  0.487140 -0.372270 -0.642607\n",
              "4 -0.931181  1.660233 -1.188306  1.133886 -1.181352 -0.177363  0.141187"
            ],
            "text/html": [
              "\n",
              "  <div id=\"df-89c008c9-f583-4472-bd0a-b5560e5c22d1\" class=\"colab-df-container\">\n",
              "    <div>\n",
              "<style scoped>\n",
              "    .dataframe tbody tr th:only-of-type {\n",
              "        vertical-align: middle;\n",
              "    }\n",
              "\n",
              "    .dataframe tbody tr th {\n",
              "        vertical-align: top;\n",
              "    }\n",
              "\n",
              "    .dataframe thead th {\n",
              "        text-align: right;\n",
              "    }\n",
              "</style>\n",
              "<table border=\"1\" class=\"dataframe\">\n",
              "  <thead>\n",
              "    <tr style=\"text-align: right;\">\n",
              "      <th></th>\n",
              "      <th>所得</th>\n",
              "      <th>築年数</th>\n",
              "      <th>地域人口</th>\n",
              "      <th>緯度</th>\n",
              "      <th>経度</th>\n",
              "      <th>部屋数</th>\n",
              "      <th>寝室数</th>\n",
              "    </tr>\n",
              "  </thead>\n",
              "  <tbody>\n",
              "    <tr>\n",
              "      <th>0</th>\n",
              "      <td>-0.467563</td>\n",
              "      <td>0.788477</td>\n",
              "      <td>0.786026</td>\n",
              "      <td>-0.681340</td>\n",
              "      <td>1.119145</td>\n",
              "      <td>-0.509344</td>\n",
              "      <td>-0.506026</td>\n",
              "    </tr>\n",
              "    <tr>\n",
              "      <th>1</th>\n",
              "      <td>-0.936412</td>\n",
              "      <td>0.875652</td>\n",
              "      <td>-1.213342</td>\n",
              "      <td>0.961229</td>\n",
              "      <td>-0.741477</td>\n",
              "      <td>-0.036639</td>\n",
              "      <td>-0.552489</td>\n",
              "    </tr>\n",
              "    <tr>\n",
              "      <th>2</th>\n",
              "      <td>0.562961</td>\n",
              "      <td>-1.565265</td>\n",
              "      <td>0.653943</td>\n",
              "      <td>-1.124647</td>\n",
              "      <td>1.124201</td>\n",
              "      <td>0.100350</td>\n",
              "      <td>-0.191353</td>\n",
              "    </tr>\n",
              "    <tr>\n",
              "      <th>3</th>\n",
              "      <td>1.164446</td>\n",
              "      <td>0.701301</td>\n",
              "      <td>-0.367323</td>\n",
              "      <td>-0.639342</td>\n",
              "      <td>0.487140</td>\n",
              "      <td>-0.372270</td>\n",
              "      <td>-0.642607</td>\n",
              "    </tr>\n",
              "    <tr>\n",
              "      <th>4</th>\n",
              "      <td>-0.931181</td>\n",
              "      <td>1.660233</td>\n",
              "      <td>-1.188306</td>\n",
              "      <td>1.133886</td>\n",
              "      <td>-1.181352</td>\n",
              "      <td>-0.177363</td>\n",
              "      <td>0.141187</td>\n",
              "    </tr>\n",
              "  </tbody>\n",
              "</table>\n",
              "</div>\n",
              "    <div class=\"colab-df-buttons\">\n",
              "\n",
              "  <div class=\"colab-df-container\">\n",
              "    <button class=\"colab-df-convert\" onclick=\"convertToInteractive('df-89c008c9-f583-4472-bd0a-b5560e5c22d1')\"\n",
              "            title=\"Convert this dataframe to an interactive table.\"\n",
              "            style=\"display:none;\">\n",
              "\n",
              "  <svg xmlns=\"http://www.w3.org/2000/svg\" height=\"24px\" viewBox=\"0 -960 960 960\">\n",
              "    <path d=\"M120-120v-720h720v720H120Zm60-500h600v-160H180v160Zm220 220h160v-160H400v160Zm0 220h160v-160H400v160ZM180-400h160v-160H180v160Zm440 0h160v-160H620v160ZM180-180h160v-160H180v160Zm440 0h160v-160H620v160Z\"/>\n",
              "  </svg>\n",
              "    </button>\n",
              "\n",
              "  <style>\n",
              "    .colab-df-container {\n",
              "      display:flex;\n",
              "      gap: 12px;\n",
              "    }\n",
              "\n",
              "    .colab-df-convert {\n",
              "      background-color: #E8F0FE;\n",
              "      border: none;\n",
              "      border-radius: 50%;\n",
              "      cursor: pointer;\n",
              "      display: none;\n",
              "      fill: #1967D2;\n",
              "      height: 32px;\n",
              "      padding: 0 0 0 0;\n",
              "      width: 32px;\n",
              "    }\n",
              "\n",
              "    .colab-df-convert:hover {\n",
              "      background-color: #E2EBFA;\n",
              "      box-shadow: 0px 1px 2px rgba(60, 64, 67, 0.3), 0px 1px 3px 1px rgba(60, 64, 67, 0.15);\n",
              "      fill: #174EA6;\n",
              "    }\n",
              "\n",
              "    .colab-df-buttons div {\n",
              "      margin-bottom: 4px;\n",
              "    }\n",
              "\n",
              "    [theme=dark] .colab-df-convert {\n",
              "      background-color: #3B4455;\n",
              "      fill: #D2E3FC;\n",
              "    }\n",
              "\n",
              "    [theme=dark] .colab-df-convert:hover {\n",
              "      background-color: #434B5C;\n",
              "      box-shadow: 0px 1px 3px 1px rgba(0, 0, 0, 0.15);\n",
              "      filter: drop-shadow(0px 1px 2px rgba(0, 0, 0, 0.3));\n",
              "      fill: #FFFFFF;\n",
              "    }\n",
              "  </style>\n",
              "\n",
              "    <script>\n",
              "      const buttonEl =\n",
              "        document.querySelector('#df-89c008c9-f583-4472-bd0a-b5560e5c22d1 button.colab-df-convert');\n",
              "      buttonEl.style.display =\n",
              "        google.colab.kernel.accessAllowed ? 'block' : 'none';\n",
              "\n",
              "      async function convertToInteractive(key) {\n",
              "        const element = document.querySelector('#df-89c008c9-f583-4472-bd0a-b5560e5c22d1');\n",
              "        const dataTable =\n",
              "          await google.colab.kernel.invokeFunction('convertToInteractive',\n",
              "                                                    [key], {});\n",
              "        if (!dataTable) return;\n",
              "\n",
              "        const docLinkHtml = 'Like what you see? Visit the ' +\n",
              "          '<a target=\"_blank\" href=https://colab.research.google.com/notebooks/data_table.ipynb>data table notebook</a>'\n",
              "          + ' to learn more about interactive tables.';\n",
              "        element.innerHTML = '';\n",
              "        dataTable['output_type'] = 'display_data';\n",
              "        await google.colab.output.renderOutput(dataTable, element);\n",
              "        const docLink = document.createElement('div');\n",
              "        docLink.innerHTML = docLinkHtml;\n",
              "        element.appendChild(docLink);\n",
              "      }\n",
              "    </script>\n",
              "  </div>\n",
              "\n",
              "\n",
              "<div id=\"df-b7416908-e16c-4ab6-a494-28629e7ead6b\">\n",
              "  <button class=\"colab-df-quickchart\" onclick=\"quickchart('df-b7416908-e16c-4ab6-a494-28629e7ead6b')\"\n",
              "            title=\"Suggest charts\"\n",
              "            style=\"display:none;\">\n",
              "\n",
              "<svg xmlns=\"http://www.w3.org/2000/svg\" height=\"24px\"viewBox=\"0 0 24 24\"\n",
              "     width=\"24px\">\n",
              "    <g>\n",
              "        <path d=\"M19 3H5c-1.1 0-2 .9-2 2v14c0 1.1.9 2 2 2h14c1.1 0 2-.9 2-2V5c0-1.1-.9-2-2-2zM9 17H7v-7h2v7zm4 0h-2V7h2v10zm4 0h-2v-4h2v4z\"/>\n",
              "    </g>\n",
              "</svg>\n",
              "  </button>\n",
              "\n",
              "<style>\n",
              "  .colab-df-quickchart {\n",
              "      --bg-color: #E8F0FE;\n",
              "      --fill-color: #1967D2;\n",
              "      --hover-bg-color: #E2EBFA;\n",
              "      --hover-fill-color: #174EA6;\n",
              "      --disabled-fill-color: #AAA;\n",
              "      --disabled-bg-color: #DDD;\n",
              "  }\n",
              "\n",
              "  [theme=dark] .colab-df-quickchart {\n",
              "      --bg-color: #3B4455;\n",
              "      --fill-color: #D2E3FC;\n",
              "      --hover-bg-color: #434B5C;\n",
              "      --hover-fill-color: #FFFFFF;\n",
              "      --disabled-bg-color: #3B4455;\n",
              "      --disabled-fill-color: #666;\n",
              "  }\n",
              "\n",
              "  .colab-df-quickchart {\n",
              "    background-color: var(--bg-color);\n",
              "    border: none;\n",
              "    border-radius: 50%;\n",
              "    cursor: pointer;\n",
              "    display: none;\n",
              "    fill: var(--fill-color);\n",
              "    height: 32px;\n",
              "    padding: 0;\n",
              "    width: 32px;\n",
              "  }\n",
              "\n",
              "  .colab-df-quickchart:hover {\n",
              "    background-color: var(--hover-bg-color);\n",
              "    box-shadow: 0 1px 2px rgba(60, 64, 67, 0.3), 0 1px 3px 1px rgba(60, 64, 67, 0.15);\n",
              "    fill: var(--button-hover-fill-color);\n",
              "  }\n",
              "\n",
              "  .colab-df-quickchart-complete:disabled,\n",
              "  .colab-df-quickchart-complete:disabled:hover {\n",
              "    background-color: var(--disabled-bg-color);\n",
              "    fill: var(--disabled-fill-color);\n",
              "    box-shadow: none;\n",
              "  }\n",
              "\n",
              "  .colab-df-spinner {\n",
              "    border: 2px solid var(--fill-color);\n",
              "    border-color: transparent;\n",
              "    border-bottom-color: var(--fill-color);\n",
              "    animation:\n",
              "      spin 1s steps(1) infinite;\n",
              "  }\n",
              "\n",
              "  @keyframes spin {\n",
              "    0% {\n",
              "      border-color: transparent;\n",
              "      border-bottom-color: var(--fill-color);\n",
              "      border-left-color: var(--fill-color);\n",
              "    }\n",
              "    20% {\n",
              "      border-color: transparent;\n",
              "      border-left-color: var(--fill-color);\n",
              "      border-top-color: var(--fill-color);\n",
              "    }\n",
              "    30% {\n",
              "      border-color: transparent;\n",
              "      border-left-color: var(--fill-color);\n",
              "      border-top-color: var(--fill-color);\n",
              "      border-right-color: var(--fill-color);\n",
              "    }\n",
              "    40% {\n",
              "      border-color: transparent;\n",
              "      border-right-color: var(--fill-color);\n",
              "      border-top-color: var(--fill-color);\n",
              "    }\n",
              "    60% {\n",
              "      border-color: transparent;\n",
              "      border-right-color: var(--fill-color);\n",
              "    }\n",
              "    80% {\n",
              "      border-color: transparent;\n",
              "      border-right-color: var(--fill-color);\n",
              "      border-bottom-color: var(--fill-color);\n",
              "    }\n",
              "    90% {\n",
              "      border-color: transparent;\n",
              "      border-bottom-color: var(--fill-color);\n",
              "    }\n",
              "  }\n",
              "</style>\n",
              "\n",
              "  <script>\n",
              "    async function quickchart(key) {\n",
              "      const quickchartButtonEl =\n",
              "        document.querySelector('#' + key + ' button');\n",
              "      quickchartButtonEl.disabled = true;  // To prevent multiple clicks.\n",
              "      quickchartButtonEl.classList.add('colab-df-spinner');\n",
              "      try {\n",
              "        const charts = await google.colab.kernel.invokeFunction(\n",
              "            'suggestCharts', [key], {});\n",
              "      } catch (error) {\n",
              "        console.error('Error during call to suggestCharts:', error);\n",
              "      }\n",
              "      quickchartButtonEl.classList.remove('colab-df-spinner');\n",
              "      quickchartButtonEl.classList.add('colab-df-quickchart-complete');\n",
              "    }\n",
              "    (() => {\n",
              "      let quickchartButtonEl =\n",
              "        document.querySelector('#df-b7416908-e16c-4ab6-a494-28629e7ead6b button');\n",
              "      quickchartButtonEl.style.display =\n",
              "        google.colab.kernel.accessAllowed ? 'block' : 'none';\n",
              "    })();\n",
              "  </script>\n",
              "</div>\n",
              "\n",
              "    </div>\n",
              "  </div>\n"
            ],
            "application/vnd.google.colaboratory.intrinsic+json": {
              "type": "dataframe",
              "variable_name": "df_X_test_scaled",
              "summary": "{\n  \"name\": \"df_X_test_scaled\",\n  \"rows\": 5572,\n  \"fields\": [\n    {\n      \"column\": \"\\u6240\\u5f97\",\n      \"properties\": {\n        \"dtype\": \"number\",\n        \"std\": 1.0054892605240944,\n        \"min\": -2.0388367423905103,\n        \"max\": 7.2119584415423,\n        \"num_unique_values\": 4492,\n        \"samples\": [\n          -1.065857905200959,\n          1.6267881378402966,\n          -0.5634509585831821\n        ],\n        \"semantic_type\": \"\",\n        \"description\": \"\"\n      }\n    },\n    {\n      \"column\": \"\\u7bc9\\u5e74\\u6570\",\n      \"properties\": {\n        \"dtype\": \"number\",\n        \"std\": 0.9885140421949763,\n        \"min\": -2.1754943268776086,\n        \"max\": 2.096110869553663,\n        \"num_unique_values\": 50,\n        \"samples\": [\n          -0.8678600830721173,\n          1.3987059395240677,\n          -1.3037381643406145\n        ],\n        \"semantic_type\": \"\",\n        \"description\": \"\"\n      }\n    },\n    {\n      \"column\": \"\\u5730\\u57df\\u4eba\\u53e3\",\n      \"properties\": {\n        \"dtype\": \"number\",\n        \"std\": 1.0129703269093193,\n        \"min\": -1.2729083367971339,\n        \"max\": 23.38509564773383,\n        \"num_unique_values\": 2483,\n        \"samples\": [\n          -1.172767299013792,\n          -0.4553776231693349,\n          -0.17222020598885113\n        ],\n        \"semantic_type\": \"\",\n        \"description\": \"\"\n      }\n    },\n    {\n      \"column\": \"\\u7def\\u5ea6\",\n      \"properties\": {\n        \"dtype\": \"number\",\n        \"std\": 1.0073266260110976,\n        \"min\": -1.4232958941898772,\n        \"max\": 2.9677768531227193,\n        \"num_unique_values\": 704,\n        \"samples\": [\n          -0.564680181644161,\n          -0.8353307866857476,\n          1.348539612615309\n        ],\n        \"semantic_type\": \"\",\n        \"description\": \"\"\n      }\n    },\n    {\n      \"column\": \"\\u7d4c\\u5ea6\",\n      \"properties\": {\n        \"dtype\": \"number\",\n        \"std\": 1.0050979126991988,\n        \"min\": -2.435249321837699,\n        \"max\": 2.5348353665036703,\n        \"num_unique_values\": 705,\n        \"samples\": [\n          -1.783020507192701,\n          0.6792696690252537,\n          -0.5442913630994792\n        ],\n        \"semantic_type\": \"\",\n        \"description\": \"\"\n      }\n    },\n    {\n      \"column\": \"\\u90e8\\u5c4b\\u6570\",\n      \"properties\": {\n        \"dtype\": \"number\",\n        \"std\": 1.2454756230963118,\n        \"min\": -1.7529328076188968,\n        \"max\": 51.258832191806306,\n        \"num_unique_values\": 5530,\n        \"samples\": [\n          0.8130328176483396,\n          0.13792118244845755,\n          0.33074789745010663\n        ],\n        \"semantic_type\": \"\",\n        \"description\": \"\"\n      }\n    },\n    {\n      \"column\": \"\\u5bdd\\u5ba4\\u6570\",\n      \"properties\": {\n        \"dtype\": \"number\",\n        \"std\": 1.4047141126620226,\n        \"min\": -1.7726557583136526,\n        \"max\": 64.69046800931979,\n        \"num_unique_values\": 5444,\n        \"samples\": [\n          1.7915695501263542,\n          0.2744153590458735,\n          -0.13287339790049732\n        ],\n        \"semantic_type\": \"\",\n        \"description\": \"\"\n      }\n    }\n  ]\n}"
            }
          },
          "metadata": {},
          "execution_count": 36
        }
      ]
    },
    {
      "cell_type": "markdown",
      "source": [
        "\n",
        "\n",
        "> 平均値と標準偏差を確認\n",
        "\n"
      ],
      "metadata": {
        "id": "GFiIvh_Hr_K5"
      }
    },
    {
      "cell_type": "code",
      "source": [
        "df_X_test_scaled.describe()\n"
      ],
      "metadata": {
        "id": "IiOfCX5lRF62",
        "colab": {
          "base_uri": "https://localhost:8080/",
          "height": 300
        },
        "outputId": "3bac78d2-787b-4788-eb41-b1cef8eaf711"
      },
      "execution_count": null,
      "outputs": [
        {
          "output_type": "execute_result",
          "data": {
            "text/plain": [
              "                所得          築年数         地域人口           緯度           経度  \\\n",
              "count  5572.000000  5572.000000  5572.000000  5572.000000  5572.000000   \n",
              "mean     -0.005149     0.008292    -0.020433     0.004869    -0.002439   \n",
              "std       1.005489     0.988514     1.012970     1.007327     1.005098   \n",
              "min      -2.038837    -2.175494    -1.272908    -1.423296    -2.435249   \n",
              "25%      -0.748863    -0.780684    -0.583144    -0.784000    -1.065063   \n",
              "50%      -0.154763     0.003896    -0.253369    -0.630010     0.517476   \n",
              "75%       0.592882     0.788477     0.258559     0.965896     0.765222   \n",
              "max       7.211958     2.096111    23.385096     2.967777     2.534835   \n",
              "\n",
              "               部屋数          寝室数  \n",
              "count  5572.000000  5572.000000  \n",
              "mean      0.030341     0.037607  \n",
              "std       1.245476     1.404714  \n",
              "min      -1.752933    -1.772656  \n",
              "25%      -0.407443    -0.380380  \n",
              "50%      -0.011944    -0.123381  \n",
              "75%       0.303824     0.197324  \n",
              "max      51.258832    64.690468  "
            ],
            "text/html": [
              "\n",
              "  <div id=\"df-b946b59b-ae68-4fa0-b559-86251353e4d6\" class=\"colab-df-container\">\n",
              "    <div>\n",
              "<style scoped>\n",
              "    .dataframe tbody tr th:only-of-type {\n",
              "        vertical-align: middle;\n",
              "    }\n",
              "\n",
              "    .dataframe tbody tr th {\n",
              "        vertical-align: top;\n",
              "    }\n",
              "\n",
              "    .dataframe thead th {\n",
              "        text-align: right;\n",
              "    }\n",
              "</style>\n",
              "<table border=\"1\" class=\"dataframe\">\n",
              "  <thead>\n",
              "    <tr style=\"text-align: right;\">\n",
              "      <th></th>\n",
              "      <th>所得</th>\n",
              "      <th>築年数</th>\n",
              "      <th>地域人口</th>\n",
              "      <th>緯度</th>\n",
              "      <th>経度</th>\n",
              "      <th>部屋数</th>\n",
              "      <th>寝室数</th>\n",
              "    </tr>\n",
              "  </thead>\n",
              "  <tbody>\n",
              "    <tr>\n",
              "      <th>count</th>\n",
              "      <td>5572.000000</td>\n",
              "      <td>5572.000000</td>\n",
              "      <td>5572.000000</td>\n",
              "      <td>5572.000000</td>\n",
              "      <td>5572.000000</td>\n",
              "      <td>5572.000000</td>\n",
              "      <td>5572.000000</td>\n",
              "    </tr>\n",
              "    <tr>\n",
              "      <th>mean</th>\n",
              "      <td>-0.005149</td>\n",
              "      <td>0.008292</td>\n",
              "      <td>-0.020433</td>\n",
              "      <td>0.004869</td>\n",
              "      <td>-0.002439</td>\n",
              "      <td>0.030341</td>\n",
              "      <td>0.037607</td>\n",
              "    </tr>\n",
              "    <tr>\n",
              "      <th>std</th>\n",
              "      <td>1.005489</td>\n",
              "      <td>0.988514</td>\n",
              "      <td>1.012970</td>\n",
              "      <td>1.007327</td>\n",
              "      <td>1.005098</td>\n",
              "      <td>1.245476</td>\n",
              "      <td>1.404714</td>\n",
              "    </tr>\n",
              "    <tr>\n",
              "      <th>min</th>\n",
              "      <td>-2.038837</td>\n",
              "      <td>-2.175494</td>\n",
              "      <td>-1.272908</td>\n",
              "      <td>-1.423296</td>\n",
              "      <td>-2.435249</td>\n",
              "      <td>-1.752933</td>\n",
              "      <td>-1.772656</td>\n",
              "    </tr>\n",
              "    <tr>\n",
              "      <th>25%</th>\n",
              "      <td>-0.748863</td>\n",
              "      <td>-0.780684</td>\n",
              "      <td>-0.583144</td>\n",
              "      <td>-0.784000</td>\n",
              "      <td>-1.065063</td>\n",
              "      <td>-0.407443</td>\n",
              "      <td>-0.380380</td>\n",
              "    </tr>\n",
              "    <tr>\n",
              "      <th>50%</th>\n",
              "      <td>-0.154763</td>\n",
              "      <td>0.003896</td>\n",
              "      <td>-0.253369</td>\n",
              "      <td>-0.630010</td>\n",
              "      <td>0.517476</td>\n",
              "      <td>-0.011944</td>\n",
              "      <td>-0.123381</td>\n",
              "    </tr>\n",
              "    <tr>\n",
              "      <th>75%</th>\n",
              "      <td>0.592882</td>\n",
              "      <td>0.788477</td>\n",
              "      <td>0.258559</td>\n",
              "      <td>0.965896</td>\n",
              "      <td>0.765222</td>\n",
              "      <td>0.303824</td>\n",
              "      <td>0.197324</td>\n",
              "    </tr>\n",
              "    <tr>\n",
              "      <th>max</th>\n",
              "      <td>7.211958</td>\n",
              "      <td>2.096111</td>\n",
              "      <td>23.385096</td>\n",
              "      <td>2.967777</td>\n",
              "      <td>2.534835</td>\n",
              "      <td>51.258832</td>\n",
              "      <td>64.690468</td>\n",
              "    </tr>\n",
              "  </tbody>\n",
              "</table>\n",
              "</div>\n",
              "    <div class=\"colab-df-buttons\">\n",
              "\n",
              "  <div class=\"colab-df-container\">\n",
              "    <button class=\"colab-df-convert\" onclick=\"convertToInteractive('df-b946b59b-ae68-4fa0-b559-86251353e4d6')\"\n",
              "            title=\"Convert this dataframe to an interactive table.\"\n",
              "            style=\"display:none;\">\n",
              "\n",
              "  <svg xmlns=\"http://www.w3.org/2000/svg\" height=\"24px\" viewBox=\"0 -960 960 960\">\n",
              "    <path d=\"M120-120v-720h720v720H120Zm60-500h600v-160H180v160Zm220 220h160v-160H400v160Zm0 220h160v-160H400v160ZM180-400h160v-160H180v160Zm440 0h160v-160H620v160ZM180-180h160v-160H180v160Zm440 0h160v-160H620v160Z\"/>\n",
              "  </svg>\n",
              "    </button>\n",
              "\n",
              "  <style>\n",
              "    .colab-df-container {\n",
              "      display:flex;\n",
              "      gap: 12px;\n",
              "    }\n",
              "\n",
              "    .colab-df-convert {\n",
              "      background-color: #E8F0FE;\n",
              "      border: none;\n",
              "      border-radius: 50%;\n",
              "      cursor: pointer;\n",
              "      display: none;\n",
              "      fill: #1967D2;\n",
              "      height: 32px;\n",
              "      padding: 0 0 0 0;\n",
              "      width: 32px;\n",
              "    }\n",
              "\n",
              "    .colab-df-convert:hover {\n",
              "      background-color: #E2EBFA;\n",
              "      box-shadow: 0px 1px 2px rgba(60, 64, 67, 0.3), 0px 1px 3px 1px rgba(60, 64, 67, 0.15);\n",
              "      fill: #174EA6;\n",
              "    }\n",
              "\n",
              "    .colab-df-buttons div {\n",
              "      margin-bottom: 4px;\n",
              "    }\n",
              "\n",
              "    [theme=dark] .colab-df-convert {\n",
              "      background-color: #3B4455;\n",
              "      fill: #D2E3FC;\n",
              "    }\n",
              "\n",
              "    [theme=dark] .colab-df-convert:hover {\n",
              "      background-color: #434B5C;\n",
              "      box-shadow: 0px 1px 3px 1px rgba(0, 0, 0, 0.15);\n",
              "      filter: drop-shadow(0px 1px 2px rgba(0, 0, 0, 0.3));\n",
              "      fill: #FFFFFF;\n",
              "    }\n",
              "  </style>\n",
              "\n",
              "    <script>\n",
              "      const buttonEl =\n",
              "        document.querySelector('#df-b946b59b-ae68-4fa0-b559-86251353e4d6 button.colab-df-convert');\n",
              "      buttonEl.style.display =\n",
              "        google.colab.kernel.accessAllowed ? 'block' : 'none';\n",
              "\n",
              "      async function convertToInteractive(key) {\n",
              "        const element = document.querySelector('#df-b946b59b-ae68-4fa0-b559-86251353e4d6');\n",
              "        const dataTable =\n",
              "          await google.colab.kernel.invokeFunction('convertToInteractive',\n",
              "                                                    [key], {});\n",
              "        if (!dataTable) return;\n",
              "\n",
              "        const docLinkHtml = 'Like what you see? Visit the ' +\n",
              "          '<a target=\"_blank\" href=https://colab.research.google.com/notebooks/data_table.ipynb>data table notebook</a>'\n",
              "          + ' to learn more about interactive tables.';\n",
              "        element.innerHTML = '';\n",
              "        dataTable['output_type'] = 'display_data';\n",
              "        await google.colab.output.renderOutput(dataTable, element);\n",
              "        const docLink = document.createElement('div');\n",
              "        docLink.innerHTML = docLinkHtml;\n",
              "        element.appendChild(docLink);\n",
              "      }\n",
              "    </script>\n",
              "  </div>\n",
              "\n",
              "\n",
              "<div id=\"df-e8efab6f-435b-4b24-8cd0-131f4083fa23\">\n",
              "  <button class=\"colab-df-quickchart\" onclick=\"quickchart('df-e8efab6f-435b-4b24-8cd0-131f4083fa23')\"\n",
              "            title=\"Suggest charts\"\n",
              "            style=\"display:none;\">\n",
              "\n",
              "<svg xmlns=\"http://www.w3.org/2000/svg\" height=\"24px\"viewBox=\"0 0 24 24\"\n",
              "     width=\"24px\">\n",
              "    <g>\n",
              "        <path d=\"M19 3H5c-1.1 0-2 .9-2 2v14c0 1.1.9 2 2 2h14c1.1 0 2-.9 2-2V5c0-1.1-.9-2-2-2zM9 17H7v-7h2v7zm4 0h-2V7h2v10zm4 0h-2v-4h2v4z\"/>\n",
              "    </g>\n",
              "</svg>\n",
              "  </button>\n",
              "\n",
              "<style>\n",
              "  .colab-df-quickchart {\n",
              "      --bg-color: #E8F0FE;\n",
              "      --fill-color: #1967D2;\n",
              "      --hover-bg-color: #E2EBFA;\n",
              "      --hover-fill-color: #174EA6;\n",
              "      --disabled-fill-color: #AAA;\n",
              "      --disabled-bg-color: #DDD;\n",
              "  }\n",
              "\n",
              "  [theme=dark] .colab-df-quickchart {\n",
              "      --bg-color: #3B4455;\n",
              "      --fill-color: #D2E3FC;\n",
              "      --hover-bg-color: #434B5C;\n",
              "      --hover-fill-color: #FFFFFF;\n",
              "      --disabled-bg-color: #3B4455;\n",
              "      --disabled-fill-color: #666;\n",
              "  }\n",
              "\n",
              "  .colab-df-quickchart {\n",
              "    background-color: var(--bg-color);\n",
              "    border: none;\n",
              "    border-radius: 50%;\n",
              "    cursor: pointer;\n",
              "    display: none;\n",
              "    fill: var(--fill-color);\n",
              "    height: 32px;\n",
              "    padding: 0;\n",
              "    width: 32px;\n",
              "  }\n",
              "\n",
              "  .colab-df-quickchart:hover {\n",
              "    background-color: var(--hover-bg-color);\n",
              "    box-shadow: 0 1px 2px rgba(60, 64, 67, 0.3), 0 1px 3px 1px rgba(60, 64, 67, 0.15);\n",
              "    fill: var(--button-hover-fill-color);\n",
              "  }\n",
              "\n",
              "  .colab-df-quickchart-complete:disabled,\n",
              "  .colab-df-quickchart-complete:disabled:hover {\n",
              "    background-color: var(--disabled-bg-color);\n",
              "    fill: var(--disabled-fill-color);\n",
              "    box-shadow: none;\n",
              "  }\n",
              "\n",
              "  .colab-df-spinner {\n",
              "    border: 2px solid var(--fill-color);\n",
              "    border-color: transparent;\n",
              "    border-bottom-color: var(--fill-color);\n",
              "    animation:\n",
              "      spin 1s steps(1) infinite;\n",
              "  }\n",
              "\n",
              "  @keyframes spin {\n",
              "    0% {\n",
              "      border-color: transparent;\n",
              "      border-bottom-color: var(--fill-color);\n",
              "      border-left-color: var(--fill-color);\n",
              "    }\n",
              "    20% {\n",
              "      border-color: transparent;\n",
              "      border-left-color: var(--fill-color);\n",
              "      border-top-color: var(--fill-color);\n",
              "    }\n",
              "    30% {\n",
              "      border-color: transparent;\n",
              "      border-left-color: var(--fill-color);\n",
              "      border-top-color: var(--fill-color);\n",
              "      border-right-color: var(--fill-color);\n",
              "    }\n",
              "    40% {\n",
              "      border-color: transparent;\n",
              "      border-right-color: var(--fill-color);\n",
              "      border-top-color: var(--fill-color);\n",
              "    }\n",
              "    60% {\n",
              "      border-color: transparent;\n",
              "      border-right-color: var(--fill-color);\n",
              "    }\n",
              "    80% {\n",
              "      border-color: transparent;\n",
              "      border-right-color: var(--fill-color);\n",
              "      border-bottom-color: var(--fill-color);\n",
              "    }\n",
              "    90% {\n",
              "      border-color: transparent;\n",
              "      border-bottom-color: var(--fill-color);\n",
              "    }\n",
              "  }\n",
              "</style>\n",
              "\n",
              "  <script>\n",
              "    async function quickchart(key) {\n",
              "      const quickchartButtonEl =\n",
              "        document.querySelector('#' + key + ' button');\n",
              "      quickchartButtonEl.disabled = true;  // To prevent multiple clicks.\n",
              "      quickchartButtonEl.classList.add('colab-df-spinner');\n",
              "      try {\n",
              "        const charts = await google.colab.kernel.invokeFunction(\n",
              "            'suggestCharts', [key], {});\n",
              "      } catch (error) {\n",
              "        console.error('Error during call to suggestCharts:', error);\n",
              "      }\n",
              "      quickchartButtonEl.classList.remove('colab-df-spinner');\n",
              "      quickchartButtonEl.classList.add('colab-df-quickchart-complete');\n",
              "    }\n",
              "    (() => {\n",
              "      let quickchartButtonEl =\n",
              "        document.querySelector('#df-e8efab6f-435b-4b24-8cd0-131f4083fa23 button');\n",
              "      quickchartButtonEl.style.display =\n",
              "        google.colab.kernel.accessAllowed ? 'block' : 'none';\n",
              "    })();\n",
              "  </script>\n",
              "</div>\n",
              "\n",
              "    </div>\n",
              "  </div>\n"
            ],
            "application/vnd.google.colaboratory.intrinsic+json": {
              "type": "dataframe",
              "summary": "{\n  \"name\": \"df_X_test_scaled\",\n  \"rows\": 8,\n  \"fields\": [\n    {\n      \"column\": \"\\u6240\\u5f97\",\n      \"properties\": {\n        \"dtype\": \"number\",\n        \"std\": 1969.705309847407,\n        \"min\": -2.0388367423905103,\n        \"max\": 5572.0,\n        \"num_unique_values\": 8,\n        \"samples\": [\n          -0.005149274100058596,\n          -0.15476284429321652,\n          5572.0\n        ],\n        \"semantic_type\": \"\",\n        \"description\": \"\"\n      }\n    },\n    {\n      \"column\": \"\\u7bc9\\u5e74\\u6570\",\n      \"properties\": {\n        \"dtype\": \"number\",\n        \"std\": 1969.9529717015878,\n        \"min\": -2.1754943268776086,\n        \"max\": 5572.0,\n        \"num_unique_values\": 8,\n        \"samples\": [\n          0.008292408999566384,\n          0.0038960794648769423,\n          5572.0\n        ],\n        \"semantic_type\": \"\",\n        \"description\": \"\"\n      }\n    },\n    {\n      \"column\": \"\\u5730\\u57df\\u4eba\\u53e3\",\n      \"properties\": {\n        \"dtype\": \"number\",\n        \"std\": 1968.879041366982,\n        \"min\": -1.2729083367971339,\n        \"max\": 5572.0,\n        \"num_unique_values\": 8,\n        \"samples\": [\n          -0.0204328291797716,\n          -0.2533689779856971,\n          5572.0\n        ],\n        \"semantic_type\": \"\",\n        \"description\": \"\"\n      }\n    },\n    {\n      \"column\": \"\\u7def\\u5ea6\",\n      \"properties\": {\n        \"dtype\": \"number\",\n        \"std\": 1969.8934710158596,\n        \"min\": -1.4232958941898772,\n        \"max\": 5572.0,\n        \"num_unique_values\": 8,\n        \"samples\": [\n          0.004868933320719125,\n          -0.6300096380335092,\n          5572.0\n        ],\n        \"semantic_type\": \"\",\n        \"description\": \"\"\n      }\n    },\n    {\n      \"column\": \"\\u7d4c\\u5ea6\",\n      \"properties\": {\n        \"dtype\": \"number\",\n        \"std\": 1969.9333760353272,\n        \"min\": -2.435249321837699,\n        \"max\": 5572.0,\n        \"num_unique_values\": 8,\n        \"samples\": [\n          -0.0024387831904736,\n          0.517476474694714,\n          5572.0\n        ],\n        \"semantic_type\": \"\",\n        \"description\": \"\"\n      }\n    },\n    {\n      \"column\": \"\\u90e8\\u5c4b\\u6570\",\n      \"properties\": {\n        \"dtype\": \"number\",\n        \"std\": 1967.5227178877615,\n        \"min\": -1.7529328076188968,\n        \"max\": 5572.0,\n        \"num_unique_values\": 8,\n        \"samples\": [\n          0.03034106715360423,\n          -0.011944304182515821,\n          5572.0\n        ],\n        \"semantic_type\": \"\",\n        \"description\": \"\"\n      }\n    },\n    {\n      \"column\": \"\\u5bdd\\u5ba4\\u6570\",\n      \"properties\": {\n        \"dtype\": \"number\",\n        \"std\": 1966.895178935117,\n        \"min\": -1.7726557583136526,\n        \"max\": 5572.0,\n        \"num_unique_values\": 8,\n        \"samples\": [\n          0.0376067687004362,\n          -0.12338112915352939,\n          5572.0\n        ],\n        \"semantic_type\": \"\",\n        \"description\": \"\"\n      }\n    }\n  ]\n}"
            }
          },
          "metadata": {},
          "execution_count": 37
        }
      ]
    },
    {
      "cell_type": "markdown",
      "source": [
        "標準化する理由は、簡単に言うと以下の通りです：\n",
        "\n",
        "1. **テストに使うデータは事前に見ない**：\n",
        "   予測の練習をするとき、最後のテストで使うデータは事前には見ないでおく必要があります。これは、未来の予測と同じ条件でテストするためです。\n",
        "\n",
        "2. **テストデータを変えなくても大丈夫**：\n",
        "   最終的なテストでデータを特別に変える必要はありません。大事なのは、予測がどれだけ正確かを見ることです。\n",
        "\n",
        "3. **予測する値はそのままでOK**：\n",
        "   何を予測するか（たとえば、家の価格）は、そのままの形で扱います。予測には、他の情報（例：家の大きさ、場所など）がどれだけ影響するかを知ることが重要です。予測する値を変えてしまうと、後で元に戻す手間がかかります。"
      ],
      "metadata": {
        "id": "TGakiC7xtVvS"
      }
    },
    {
      "cell_type": "markdown",
      "source": [
        "\n",
        "\n",
        "> 説明変数の各要素のスケールを揃えたデータを活用し、改めて回帰を実施しましょう。スケール変換後のプロセスは、通常の回帰の流れとほぼ同様です。\n",
        "\n"
      ],
      "metadata": {
        "id": "Kq6JNs2ttgFj"
      }
    },
    {
      "cell_type": "markdown",
      "source": [
        "**予測モデルの学習**\n",
        "\n",
        "> LinearRegressionクラスをインスタンス化して、modelという変数に代入"
      ],
      "metadata": {
        "id": "2iW0p_V0tk3i"
      }
    },
    {
      "cell_type": "code",
      "source": [
        "from sklearn.linear_model import LinearRegression\n",
        "model = LinearRegression()\n"
      ],
      "metadata": {
        "id": "7UYftdXRRIzs"
      },
      "execution_count": null,
      "outputs": []
    },
    {
      "cell_type": "markdown",
      "source": [
        "\n",
        "\n",
        "> 説明変数のスケール変換済み学習データ（X_train_scaled）と、目的変数の学習データ（y_train）を利用して学習\n",
        "\n"
      ],
      "metadata": {
        "id": "aB4AzLQftzKQ"
      }
    },
    {
      "cell_type": "code",
      "source": [
        "model.fit(X_train_scaled, y_train)\n"
      ],
      "metadata": {
        "id": "oRZQ6WWgRKM5"
      },
      "execution_count": null,
      "outputs": []
    },
    {
      "cell_type": "markdown",
      "source": [
        "以上で、予測モデルの学習は完了です。"
      ],
      "metadata": {
        "id": "oo3WOKHrt8-t"
      }
    },
    {
      "cell_type": "markdown",
      "source": [
        "**予測モデルの評価**"
      ],
      "metadata": {
        "id": "gAqBh3R1t487"
      }
    },
    {
      "cell_type": "markdown",
      "source": [
        ">scoreメソッドを利用して、以下の2パターンで決定係数をそれぞれ算出"
      ],
      "metadata": {
        "id": "trPlYvJouc5i"
      }
    },
    {
      "cell_type": "markdown",
      "source": [
        "| パターン | scoreメソッドの第1引数 | scoreメソッドの第2引数 |\n",
        "|---------------|-------------------------------------|--------------------------------|\n",
        "| 学習データで決定係数をチェック | 説明変数のスケール変換済み学習データ（X_train_scaled） | 目的変数の学習データ（y_train） |\n",
        "| テストデータで決定係数をチェック | 説明変数のスケール変換済みテストデータ（X_test_scaled） | 目的変数のテストデータ（y_test） |\n"
      ],
      "metadata": {
        "id": "8X5_4Vn7uDEC"
      }
    },
    {
      "cell_type": "markdown",
      "source": [
        "\n",
        "\n",
        "> 学習データで決定係数を確認\n",
        "\n"
      ],
      "metadata": {
        "id": "jZCzpP77ulDE"
      }
    },
    {
      "cell_type": "code",
      "source": [
        "model.score(X_train_scaled, y_train)\n"
      ],
      "metadata": {
        "id": "jLmXdrHURMDp"
      },
      "execution_count": null,
      "outputs": []
    },
    {
      "cell_type": "markdown",
      "source": [
        "\n",
        "\n",
        "> テストデータで決定係数を確認\n",
        "\n"
      ],
      "metadata": {
        "id": "98wvmSLOum0T"
      }
    },
    {
      "cell_type": "code",
      "source": [
        "model.score(X_test_scaled, y_test)\n"
      ],
      "metadata": {
        "id": "EeY06bHoRN6J"
      },
      "execution_count": null,
      "outputs": []
    },
    {
      "cell_type": "markdown",
      "source": [
        "**予測**"
      ],
      "metadata": {
        "id": "cK6H818duv5L"
      }
    },
    {
      "cell_type": "markdown",
      "source": [
        ">以下のデータをndarray形式でX_newという変数に保持させます"
      ],
      "metadata": {
        "id": "arAZBAPjvAaL"
      }
    },
    {
      "cell_type": "markdown",
      "source": [
        "| 所得 | 築年数 | 地域人口 | 緯度 | 経度 | 部屋数/人 | 寝室数/人 |\n",
        "|------|-------|--------|-----|------|--------|--------|\n",
        "| 8    | 41    | 500    | 37  | -120 | 1      | 0.2    |\n",
        "| 2    | 10    | 2000   | 38  | -122 | 1.5    | 0.5    |\n",
        "| 1    | 25    | 1000   | 38  | -121 | 2      | 1      |\n"
      ],
      "metadata": {
        "id": "aR4KWZodu8Kf"
      }
    },
    {
      "cell_type": "code",
      "source": [
        "X_new = np.array([[8, 41, 500, 37, -120, 1, 0.2],\n",
        "                  [2, 10, 2000, 38, -122, 1.5, 0.5],\n",
        "                  [1, 25, 1000, 38, -121, 2, 1]])\n"
      ],
      "metadata": {
        "id": "jpbpMGmpRQPQ"
      },
      "execution_count": null,
      "outputs": []
    },
    {
      "cell_type": "markdown",
      "source": [
        "\n",
        "\n",
        "> X_newをスケール変換\n",
        "\n"
      ],
      "metadata": {
        "id": "HM1YidmCvFTI"
      }
    },
    {
      "cell_type": "code",
      "source": [
        "X_new_scaled = scaler.transform(X_new)\n",
        "X_new_scaled\n"
      ],
      "metadata": {
        "id": "_kRl8AawRRfl"
      },
      "execution_count": null,
      "outputs": []
    },
    {
      "cell_type": "markdown",
      "source": [
        "\n",
        "\n",
        "> X_new_scaledから住宅価格を予測\n",
        "\n"
      ],
      "metadata": {
        "id": "iruQWIlkvJ7x"
      }
    },
    {
      "cell_type": "code",
      "source": [
        "model.predict(X_new_scaled)\n"
      ],
      "metadata": {
        "id": "ZCJPvif9RTNX"
      },
      "execution_count": null,
      "outputs": []
    },
    {
      "cell_type": "markdown",
      "source": [
        "**設定したゴールに対する考察**\n",
        "\n",
        "\n",
        "\n",
        "*   住宅価格を予測する計算式を決定する。\n",
        "*   住宅に関する各要素が、住宅価格に与える影響度合いについても見解を述べる。\n",
        "\n",
        "\n",
        "\n"
      ],
      "metadata": {
        "id": "0aIeWn6-vRHO"
      }
    },
    {
      "cell_type": "markdown",
      "source": [
        "\n",
        "\n",
        "> 学習済み予測モデルをもとに、住宅価格を予測する計算式を作成\n",
        "\n"
      ],
      "metadata": {
        "id": "oOu2Sxlfva7N"
      }
    },
    {
      "cell_type": "code",
      "source": [
        "print(model.coef_)\n",
        "print(model.intercept_)\n"
      ],
      "metadata": {
        "id": "l-D8uphdRUix"
      },
      "execution_count": null,
      "outputs": []
    },
    {
      "cell_type": "markdown",
      "source": [
        "\n",
        "\n",
        "> 住宅価格 = (所得 × 0.6397) + (築年数 × 0.07942) + (地域人口 × 0.01977) + (緯度 × -0.8659) + (経度 × -0.8117) + (部屋数/人 × -0.2168) + (寝室数/人 × 0.3617) + 1.898\n",
        "\n",
        ">この計算式では、それぞれの家の特徴を数値で表した後、それぞれの特徴の大切さを示す数値（重み）を掛け合わせ、最後に一定の数値（切片）を足し合わせて、家の価格を算出します。使う数値はすべて標準化されたスケールで、重みと切片は小数点以下4桁目まで正確に示されています。\n",
        "\n"
      ],
      "metadata": {
        "id": "vNgz32cLwGYE"
      }
    },
    {
      "cell_type": "markdown",
      "source": [
        "**各要素の重みをseabornのbarplot関数で可視化**"
      ],
      "metadata": {
        "id": "HKEPJ2DdwlcP"
      }
    },
    {
      "cell_type": "code",
      "source": [
        "sns.barplot(x = ['所得', '築年数', '地域人口', '緯度', '経度', '部屋数/人', '寝室数/人'], y=model.coef_)\n"
      ],
      "metadata": {
        "id": "jSQ6oW2DRWIb",
        "colab": {
          "base_uri": "https://localhost:8080/",
          "height": 447
        },
        "outputId": "60df1d4a-ff70-4832-e28a-bd229c3757dc"
      },
      "execution_count": null,
      "outputs": [
        {
          "output_type": "execute_result",
          "data": {
            "text/plain": [
              "<Axes: >"
            ]
          },
          "metadata": {},
          "execution_count": 20
        },
        {
          "output_type": "display_data",
          "data": {
            "text/plain": [
              "<Figure size 640x480 with 1 Axes>"
            ],
            "image/png": "[encoded data removed]"
          },
          "metadata": {}
        }
      ]
    },
    {
      "cell_type": "markdown",
      "source": [
        "**回帰手法の改善（多重共線性の対処**"
      ],
      "metadata": {
        "id": "jlndC7XVwryv"
      }
    },
    {
      "cell_type": "markdown",
      "source": [
        "\n",
        "\n",
        "> 回帰分析をするとき、変数同士が強く関連していると問題が起こることがあリます。これを**多重共線性**と言います。これを解決するには、関連が強い変数の中から一つだけを使うか、新しい変数を作るかのどちらかが必要です。どちらを選ぶかは、何を知りたいかによって決まります。\n",
        "\n",
        ">今回は、家の価格にどれがどのくらい影響するかを見たいので、関連が強い変数は一つだけ使う方法を選びます。\n",
        "\n",
        ">それには、まず変数同士の関連度を調べて、どれを残すかを決めます。これは、データセットの相関係数を計算することで確認できます。家の価格に関するデータを除いて、相関係数を出してみましょう。\n",
        "\n"
      ],
      "metadata": {
        "id": "xLEnupDRxAxl"
      }
    },
    {
      "cell_type": "code",
      "source": [
        "df.drop(columns=['住宅価格']).corr()\n"
      ],
      "metadata": {
        "id": "kwfvG6MYRXyb",
        "colab": {
          "base_uri": "https://localhost:8080/",
          "height": 269
        },
        "outputId": "6a36cd62-72a1-4691-f87c-4b93347b3ccc"
      },
      "execution_count": null,
      "outputs": [
        {
          "output_type": "execute_result",
          "data": {
            "text/plain": [
              "             所得       築年数      地域人口        緯度        経度     部屋数/人     寝室数/人\n",
              "所得     1.000000 -0.202770  0.040534 -0.075305 -0.016145  0.210331 -0.060904\n",
              "築年数   -0.202770  1.000000 -0.280775 -0.051961 -0.033877 -0.157083 -0.097772\n",
              "地域人口   0.040534 -0.280775  1.000000 -0.106927  0.090809 -0.136746 -0.132073\n",
              "緯度    -0.075305 -0.051961 -0.106927  1.000000 -0.922726  0.156807  0.111326\n",
              "経度    -0.016145 -0.033877  0.090809 -0.922726  1.000000 -0.077510 -0.041287\n",
              "部屋数/人  0.210331 -0.157083 -0.136746  0.156807 -0.077510  1.000000  0.913547\n",
              "寝室数/人 -0.060904 -0.097772 -0.132073  0.111326 -0.041287  0.913547  1.000000"
            ],
            "text/html": [
              "\n",
              "  <div id=\"df-5c158da8-5115-4c3f-a421-1a2324d0a9cf\" class=\"colab-df-container\">\n",
              "    <div>\n",
              "<style scoped>\n",
              "    .dataframe tbody tr th:only-of-type {\n",
              "        vertical-align: middle;\n",
              "    }\n",
              "\n",
              "    .dataframe tbody tr th {\n",
              "        vertical-align: top;\n",
              "    }\n",
              "\n",
              "    .dataframe thead th {\n",
              "        text-align: right;\n",
              "    }\n",
              "</style>\n",
              "<table border=\"1\" class=\"dataframe\">\n",
              "  <thead>\n",
              "    <tr style=\"text-align: right;\">\n",
              "      <th></th>\n",
              "      <th>所得</th>\n",
              "      <th>築年数</th>\n",
              "      <th>地域人口</th>\n",
              "      <th>緯度</th>\n",
              "      <th>経度</th>\n",
              "      <th>部屋数/人</th>\n",
              "      <th>寝室数/人</th>\n",
              "    </tr>\n",
              "  </thead>\n",
              "  <tbody>\n",
              "    <tr>\n",
              "      <th>所得</th>\n",
              "      <td>1.000000</td>\n",
              "      <td>-0.202770</td>\n",
              "      <td>0.040534</td>\n",
              "      <td>-0.075305</td>\n",
              "      <td>-0.016145</td>\n",
              "      <td>0.210331</td>\n",
              "      <td>-0.060904</td>\n",
              "    </tr>\n",
              "    <tr>\n",
              "      <th>築年数</th>\n",
              "      <td>-0.202770</td>\n",
              "      <td>1.000000</td>\n",
              "      <td>-0.280775</td>\n",
              "      <td>-0.051961</td>\n",
              "      <td>-0.033877</td>\n",
              "      <td>-0.157083</td>\n",
              "      <td>-0.097772</td>\n",
              "    </tr>\n",
              "    <tr>\n",
              "      <th>地域人口</th>\n",
              "      <td>0.040534</td>\n",
              "      <td>-0.280775</td>\n",
              "      <td>1.000000</td>\n",
              "      <td>-0.106927</td>\n",
              "      <td>0.090809</td>\n",
              "      <td>-0.136746</td>\n",
              "      <td>-0.132073</td>\n",
              "    </tr>\n",
              "    <tr>\n",
              "      <th>緯度</th>\n",
              "      <td>-0.075305</td>\n",
              "      <td>-0.051961</td>\n",
              "      <td>-0.106927</td>\n",
              "      <td>1.000000</td>\n",
              "      <td>-0.922726</td>\n",
              "      <td>0.156807</td>\n",
              "      <td>0.111326</td>\n",
              "    </tr>\n",
              "    <tr>\n",
              "      <th>経度</th>\n",
              "      <td>-0.016145</td>\n",
              "      <td>-0.033877</td>\n",
              "      <td>0.090809</td>\n",
              "      <td>-0.922726</td>\n",
              "      <td>1.000000</td>\n",
              "      <td>-0.077510</td>\n",
              "      <td>-0.041287</td>\n",
              "    </tr>\n",
              "    <tr>\n",
              "      <th>部屋数/人</th>\n",
              "      <td>0.210331</td>\n",
              "      <td>-0.157083</td>\n",
              "      <td>-0.136746</td>\n",
              "      <td>0.156807</td>\n",
              "      <td>-0.077510</td>\n",
              "      <td>1.000000</td>\n",
              "      <td>0.913547</td>\n",
              "    </tr>\n",
              "    <tr>\n",
              "      <th>寝室数/人</th>\n",
              "      <td>-0.060904</td>\n",
              "      <td>-0.097772</td>\n",
              "      <td>-0.132073</td>\n",
              "      <td>0.111326</td>\n",
              "      <td>-0.041287</td>\n",
              "      <td>0.913547</td>\n",
              "      <td>1.000000</td>\n",
              "    </tr>\n",
              "  </tbody>\n",
              "</table>\n",
              "</div>\n",
              "    <div class=\"colab-df-buttons\">\n",
              "\n",
              "  <div class=\"colab-df-container\">\n",
              "    <button class=\"colab-df-convert\" onclick=\"convertToInteractive('df-5c158da8-5115-4c3f-a421-1a2324d0a9cf')\"\n",
              "            title=\"Convert this dataframe to an interactive table.\"\n",
              "            style=\"display:none;\">\n",
              "\n",
              "  <svg xmlns=\"http://www.w3.org/2000/svg\" height=\"24px\" viewBox=\"0 -960 960 960\">\n",
              "    <path d=\"M120-120v-720h720v720H120Zm60-500h600v-160H180v160Zm220 220h160v-160H400v160Zm0 220h160v-160H400v160ZM180-400h160v-160H180v160Zm440 0h160v-160H620v160ZM180-180h160v-160H180v160Zm440 0h160v-160H620v160Z\"/>\n",
              "  </svg>\n",
              "    </button>\n",
              "\n",
              "  <style>\n",
              "    .colab-df-container {\n",
              "      display:flex;\n",
              "      gap: 12px;\n",
              "    }\n",
              "\n",
              "    .colab-df-convert {\n",
              "      background-color: #E8F0FE;\n",
              "      border: none;\n",
              "      border-radius: 50%;\n",
              "      cursor: pointer;\n",
              "      display: none;\n",
              "      fill: #1967D2;\n",
              "      height: 32px;\n",
              "      padding: 0 0 0 0;\n",
              "      width: 32px;\n",
              "    }\n",
              "\n",
              "    .colab-df-convert:hover {\n",
              "      background-color: #E2EBFA;\n",
              "      box-shadow: 0px 1px 2px rgba(60, 64, 67, 0.3), 0px 1px 3px 1px rgba(60, 64, 67, 0.15);\n",
              "      fill: #174EA6;\n",
              "    }\n",
              "\n",
              "    .colab-df-buttons div {\n",
              "      margin-bottom: 4px;\n",
              "    }\n",
              "\n",
              "    [theme=dark] .colab-df-convert {\n",
              "      background-color: #3B4455;\n",
              "      fill: #D2E3FC;\n",
              "    }\n",
              "\n",
              "    [theme=dark] .colab-df-convert:hover {\n",
              "      background-color: #434B5C;\n",
              "      box-shadow: 0px 1px 3px 1px rgba(0, 0, 0, 0.15);\n",
              "      filter: drop-shadow(0px 1px 2px rgba(0, 0, 0, 0.3));\n",
              "      fill: #FFFFFF;\n",
              "    }\n",
              "  </style>\n",
              "\n",
              "    <script>\n",
              "      const buttonEl =\n",
              "        document.querySelector('#df-5c158da8-5115-4c3f-a421-1a2324d0a9cf button.colab-df-convert');\n",
              "      buttonEl.style.display =\n",
              "        google.colab.kernel.accessAllowed ? 'block' : 'none';\n",
              "\n",
              "      async function convertToInteractive(key) {\n",
              "        const element = document.querySelector('#df-5c158da8-5115-4c3f-a421-1a2324d0a9cf');\n",
              "        const dataTable =\n",
              "          await google.colab.kernel.invokeFunction('convertToInteractive',\n",
              "                                                    [key], {});\n",
              "        if (!dataTable) return;\n",
              "\n",
              "        const docLinkHtml = 'Like what you see? Visit the ' +\n",
              "          '<a target=\"_blank\" href=https://colab.research.google.com/notebooks/data_table.ipynb>data table notebook</a>'\n",
              "          + ' to learn more about interactive tables.';\n",
              "        element.innerHTML = '';\n",
              "        dataTable['output_type'] = 'display_data';\n",
              "        await google.colab.output.renderOutput(dataTable, element);\n",
              "        const docLink = document.createElement('div');\n",
              "        docLink.innerHTML = docLinkHtml;\n",
              "        element.appendChild(docLink);\n",
              "      }\n",
              "    </script>\n",
              "  </div>\n",
              "\n",
              "\n",
              "<div id=\"df-9ee68b5f-0daa-4e33-bcc2-16cb7931de68\">\n",
              "  <button class=\"colab-df-quickchart\" onclick=\"quickchart('df-9ee68b5f-0daa-4e33-bcc2-16cb7931de68')\"\n",
              "            title=\"Suggest charts\"\n",
              "            style=\"display:none;\">\n",
              "\n",
              "<svg xmlns=\"http://www.w3.org/2000/svg\" height=\"24px\"viewBox=\"0 0 24 24\"\n",
              "     width=\"24px\">\n",
              "    <g>\n",
              "        <path d=\"M19 3H5c-1.1 0-2 .9-2 2v14c0 1.1.9 2 2 2h14c1.1 0 2-.9 2-2V5c0-1.1-.9-2-2-2zM9 17H7v-7h2v7zm4 0h-2V7h2v10zm4 0h-2v-4h2v4z\"/>\n",
              "    </g>\n",
              "</svg>\n",
              "  </button>\n",
              "\n",
              "<style>\n",
              "  .colab-df-quickchart {\n",
              "      --bg-color: #E8F0FE;\n",
              "      --fill-color: #1967D2;\n",
              "      --hover-bg-color: #E2EBFA;\n",
              "      --hover-fill-color: #174EA6;\n",
              "      --disabled-fill-color: #AAA;\n",
              "      --disabled-bg-color: #DDD;\n",
              "  }\n",
              "\n",
              "  [theme=dark] .colab-df-quickchart {\n",
              "      --bg-color: #3B4455;\n",
              "      --fill-color: #D2E3FC;\n",
              "      --hover-bg-color: #434B5C;\n",
              "      --hover-fill-color: #FFFFFF;\n",
              "      --disabled-bg-color: #3B4455;\n",
              "      --disabled-fill-color: #666;\n",
              "  }\n",
              "\n",
              "  .colab-df-quickchart {\n",
              "    background-color: var(--bg-color);\n",
              "    border: none;\n",
              "    border-radius: 50%;\n",
              "    cursor: pointer;\n",
              "    display: none;\n",
              "    fill: var(--fill-color);\n",
              "    height: 32px;\n",
              "    padding: 0;\n",
              "    width: 32px;\n",
              "  }\n",
              "\n",
              "  .colab-df-quickchart:hover {\n",
              "    background-color: var(--hover-bg-color);\n",
              "    box-shadow: 0 1px 2px rgba(60, 64, 67, 0.3), 0 1px 3px 1px rgba(60, 64, 67, 0.15);\n",
              "    fill: var(--button-hover-fill-color);\n",
              "  }\n",
              "\n",
              "  .colab-df-quickchart-complete:disabled,\n",
              "  .colab-df-quickchart-complete:disabled:hover {\n",
              "    background-color: var(--disabled-bg-color);\n",
              "    fill: var(--disabled-fill-color);\n",
              "    box-shadow: none;\n",
              "  }\n",
              "\n",
              "  .colab-df-spinner {\n",
              "    border: 2px solid var(--fill-color);\n",
              "    border-color: transparent;\n",
              "    border-bottom-color: var(--fill-color);\n",
              "    animation:\n",
              "      spin 1s steps(1) infinite;\n",
              "  }\n",
              "\n",
              "  @keyframes spin {\n",
              "    0% {\n",
              "      border-color: transparent;\n",
              "      border-bottom-color: var(--fill-color);\n",
              "      border-left-color: var(--fill-color);\n",
              "    }\n",
              "    20% {\n",
              "      border-color: transparent;\n",
              "      border-left-color: var(--fill-color);\n",
              "      border-top-color: var(--fill-color);\n",
              "    }\n",
              "    30% {\n",
              "      border-color: transparent;\n",
              "      border-left-color: var(--fill-color);\n",
              "      border-top-color: var(--fill-color);\n",
              "      border-right-color: var(--fill-color);\n",
              "    }\n",
              "    40% {\n",
              "      border-color: transparent;\n",
              "      border-right-color: var(--fill-color);\n",
              "      border-top-color: var(--fill-color);\n",
              "    }\n",
              "    60% {\n",
              "      border-color: transparent;\n",
              "      border-right-color: var(--fill-color);\n",
              "    }\n",
              "    80% {\n",
              "      border-color: transparent;\n",
              "      border-right-color: var(--fill-color);\n",
              "      border-bottom-color: var(--fill-color);\n",
              "    }\n",
              "    90% {\n",
              "      border-color: transparent;\n",
              "      border-bottom-color: var(--fill-color);\n",
              "    }\n",
              "  }\n",
              "</style>\n",
              "\n",
              "  <script>\n",
              "    async function quickchart(key) {\n",
              "      const quickchartButtonEl =\n",
              "        document.querySelector('#' + key + ' button');\n",
              "      quickchartButtonEl.disabled = true;  // To prevent multiple clicks.\n",
              "      quickchartButtonEl.classList.add('colab-df-spinner');\n",
              "      try {\n",
              "        const charts = await google.colab.kernel.invokeFunction(\n",
              "            'suggestCharts', [key], {});\n",
              "      } catch (error) {\n",
              "        console.error('Error during call to suggestCharts:', error);\n",
              "      }\n",
              "      quickchartButtonEl.classList.remove('colab-df-spinner');\n",
              "      quickchartButtonEl.classList.add('colab-df-quickchart-complete');\n",
              "    }\n",
              "    (() => {\n",
              "      let quickchartButtonEl =\n",
              "        document.querySelector('#df-9ee68b5f-0daa-4e33-bcc2-16cb7931de68 button');\n",
              "      quickchartButtonEl.style.display =\n",
              "        google.colab.kernel.accessAllowed ? 'block' : 'none';\n",
              "    })();\n",
              "  </script>\n",
              "</div>\n",
              "\n",
              "    </div>\n",
              "  </div>\n"
            ],
            "application/vnd.google.colaboratory.intrinsic+json": {
              "type": "dataframe",
              "summary": "{\n  \"name\": \"df\",\n  \"rows\": 7,\n  \"fields\": [\n    {\n      \"column\": \"\\u6240\\u5f97\",\n      \"properties\": {\n        \"dtype\": \"number\",\n        \"std\": 0.4045609159974603,\n        \"min\": -0.2027698398078213,\n        \"max\": 1.0,\n        \"num_unique_values\": 7,\n        \"samples\": [\n          1.0,\n          -0.2027698398078213,\n          0.21033086213374538\n        ],\n        \"semantic_type\": \"\",\n        \"description\": \"\"\n      }\n    },\n    {\n      \"column\": \"\\u7bc9\\u5e74\\u6570\",\n      \"properties\": {\n        \"dtype\": \"number\",\n        \"std\": 0.43848590845685276,\n        \"min\": -0.2807752737209595,\n        \"max\": 1.0,\n        \"num_unique_values\": 7,\n        \"samples\": [\n          -0.2027698398078213,\n          1.0,\n          -0.15708303501231477\n        ],\n        \"semantic_type\": \"\",\n        \"description\": \"\"\n      }\n    },\n    {\n      \"column\": \"\\u5730\\u57df\\u4eba\\u53e3\",\n      \"properties\": {\n        \"dtype\": \"number\",\n        \"std\": 0.4289701315844222,\n        \"min\": -0.2807752737209595,\n        \"max\": 1.0,\n        \"num_unique_values\": 7,\n        \"samples\": [\n          0.04053360256178257,\n          -0.2807752737209595,\n          -0.13674554320950336\n        ],\n        \"semantic_type\": \"\",\n        \"description\": \"\"\n      }\n    },\n    {\n      \"column\": \"\\u7def\\u5ea6\",\n      \"properties\": {\n        \"dtype\": \"number\",\n        \"std\": 0.5636846448867766,\n        \"min\": -0.9227258576532076,\n        \"max\": 1.0,\n        \"num_unique_values\": 7,\n        \"samples\": [\n          -0.07530545771998394,\n          -0.05196130296135393,\n          0.15680718428095616\n        ],\n        \"semantic_type\": \"\",\n        \"description\": \"\"\n      }\n    },\n    {\n      \"column\": \"\\u7d4c\\u5ea6\",\n      \"properties\": {\n        \"dtype\": \"number\",\n        \"std\": 0.5580904889092079,\n        \"min\": -0.9227258576532076,\n        \"max\": 1.0,\n        \"num_unique_values\": 7,\n        \"samples\": [\n          -0.016145003446683574,\n          -0.033877119793156274,\n          -0.07750954425895315\n        ],\n        \"semantic_type\": \"\",\n        \"description\": \"\"\n      }\n    },\n    {\n      \"column\": \"\\u90e8\\u5c4b\\u6570/\\u4eba\",\n      \"properties\": {\n        \"dtype\": \"number\",\n        \"std\": 0.4885312876931805,\n        \"min\": -0.15708303501231477,\n        \"max\": 1.0,\n        \"num_unique_values\": 7,\n        \"samples\": [\n          0.21033086213374538,\n          -0.15708303501231477,\n          1.0\n        ],\n        \"semantic_type\": \"\",\n        \"description\": \"\"\n      }\n    },\n    {\n      \"column\": \"\\u5bdd\\u5ba4\\u6570/\\u4eba\",\n      \"properties\": {\n        \"dtype\": \"number\",\n        \"std\": 0.4949737091300316,\n        \"min\": -0.13207344631026147,\n        \"max\": 1.0,\n        \"num_unique_values\": 7,\n        \"samples\": [\n          -0.06090446943287728,\n          -0.09777225780676647,\n          0.9135469113852414\n        ],\n        \"semantic_type\": \"\",\n        \"description\": \"\"\n      }\n    }\n  ]\n}"
            }
          },
          "metadata": {},
          "execution_count": 21
        }
      ]
    },
    {
      "cell_type": "markdown",
      "source": [
        "\n",
        "\n",
        "> 経度と緯度の相関係数、部屋数/人と寝室数/人の相関係数が比較的高いことが確認できました。\n",
        "\n"
      ],
      "metadata": {
        "id": "k1Cv8FaMxWgA"
      }
    },
    {
      "cell_type": "markdown",
      "source": [
        "\n",
        "\n",
        "> まずは、経度と緯度のペアから対処方法を検討します。<br>\n",
        ">相関の状態を確認するために、seabornのscatterplot関数で散布図を作成します。\n",
        "\n"
      ],
      "metadata": {
        "id": "kwsFY147xbNf"
      }
    },
    {
      "cell_type": "code",
      "source": [
        "sns.scatterplot(x='経度', y='緯度', data=df)\n"
      ],
      "metadata": {
        "id": "MIuwIxYERZLd"
      },
      "execution_count": null,
      "outputs": []
    },
    {
      "cell_type": "markdown",
      "source": [
        "カリフォルニアは、北西から南東方向への長細い地形のため、緯度と経度の相関が高くなっています。"
      ],
      "metadata": {
        "id": "PK1b2hmzxpLz"
      }
    },
    {
      "cell_type": "markdown",
      "source": [
        "部屋数/人と寝室数/人のペアの対処方法を検討します。<br>散布図で相関の状態を確認"
      ],
      "metadata": {
        "id": "CP-i58shxrT2"
      }
    },
    {
      "cell_type": "code",
      "source": [
        "sns.scatterplot(x='部屋数/人', y='寝室数/人', data=df)\n"
      ],
      "metadata": {
        "id": "ndmOOsfpRah0"
      },
      "execution_count": null,
      "outputs": []
    },
    {
      "cell_type": "markdown",
      "source": [
        "\n",
        "\n",
        "> 部屋数が多いと寝室数も多いという、理解しやすい相関です。どちらも住宅の規模の大きさを示す指標であるため、今回は部屋数/人を利用して、寝室数/人のデータは利用しないことにします。\n",
        "\n"
      ],
      "metadata": {
        "id": "dJYnSg55zAbu"
      }
    },
    {
      "cell_type": "markdown",
      "source": [
        "\n",
        "\n",
        "> 説明変数は所得・築年数・地域人口・緯度・部屋数/人のみとします。\n",
        "\n"
      ],
      "metadata": {
        "id": "sFe_Dm42zJgX"
      }
    },
    {
      "cell_type": "markdown",
      "source": [
        "\n",
        "\n",
        "> 説明変数Xと目的変数yを再定義\n",
        "\n"
      ],
      "metadata": {
        "id": "rmFfdM6_zNUP"
      }
    },
    {
      "cell_type": "code",
      "source": [
        "X = df[['所得', '築年数', '地域人口', '緯度', '部屋数/人']].to_numpy()\n",
        "y = df['住宅価格'].to_numpy()\n"
      ],
      "metadata": {
        "id": "vIszyAwNRb9j"
      },
      "execution_count": null,
      "outputs": []
    },
    {
      "cell_type": "markdown",
      "source": [
        "以上で、多重共線性への対処は完了です。"
      ],
      "metadata": {
        "id": "QrNeoHaszUhv"
      }
    },
    {
      "cell_type": "markdown",
      "source": [
        "**多重共線性の対処後の流れ**\n",
        ">多重共線性の対処後データで、重回帰を実施します。\n",
        "\n",
        "\n",
        "\n",
        "*   説明変数のスケール変換\n",
        "*   予測モデルの学習\n",
        "*   予測モデルの評価\n",
        "*   予測\n",
        "*   設定したゴールに対する考察"
      ],
      "metadata": {
        "id": "lvWpxVymzZYX"
      }
    },
    {
      "cell_type": "markdown",
      "source": [
        "**説明変数のスケール変換**"
      ],
      "metadata": {
        "id": "ikJi2iLtzwGp"
      }
    },
    {
      "cell_type": "markdown",
      "source": [
        "\n",
        "\n",
        "> 多重共線性の対処後データを、学習データとテストデータに分割\n",
        "\n"
      ],
      "metadata": {
        "id": "iP7SW6tpz0Xp"
      }
    },
    {
      "cell_type": "code",
      "source": [
        "X_train, X_test, y_train, y_test = train_test_split(X, y, test_size=0.3, random_state=0)\n"
      ],
      "metadata": {
        "id": "b1h5hqcURdTK"
      },
      "execution_count": null,
      "outputs": []
    },
    {
      "cell_type": "markdown",
      "source": [
        "\n",
        "\n",
        "> StandardScalerクラスをインスタンス化\n",
        "\n"
      ],
      "metadata": {
        "id": "AhpJh43Xz4GY"
      }
    },
    {
      "cell_type": "code",
      "source": [
        "scaler = StandardScaler()\n"
      ],
      "metadata": {
        "id": "Kit4NsKFReqj"
      },
      "execution_count": null,
      "outputs": []
    },
    {
      "cell_type": "markdown",
      "source": [
        "\n",
        "\n",
        "> X_trainを利用して、標準化の変換ロジックをインプットさせます\n",
        "\n"
      ],
      "metadata": {
        "id": "DbN9FZUYz8f4"
      }
    },
    {
      "cell_type": "code",
      "source": [
        "scaler.fit(X_train)\n"
      ],
      "metadata": {
        "id": "mS9XKk0sRgDp"
      },
      "execution_count": null,
      "outputs": []
    },
    {
      "cell_type": "markdown",
      "source": [
        "\n",
        "\n",
        "> この変換モデルを利用して、X_trainとX_testをスケール変換します\n",
        "\n"
      ],
      "metadata": {
        "id": "_3Slp33W0Bfp"
      }
    },
    {
      "cell_type": "code",
      "source": [
        "X_train_scaled = scaler.transform(X_train)\n",
        "X_test_scaled  = scaler.transform(X_test)\n"
      ],
      "metadata": {
        "id": "TpqT-StxRhbi"
      },
      "execution_count": null,
      "outputs": []
    },
    {
      "cell_type": "markdown",
      "source": [
        "以上で、説明変数のスケール変換は完了です。"
      ],
      "metadata": {
        "id": "DMqfrQIH0F7r"
      }
    },
    {
      "cell_type": "markdown",
      "source": [
        "**予測モデルの学習**"
      ],
      "metadata": {
        "id": "bSNSe9Rm0Jk4"
      }
    },
    {
      "cell_type": "markdown",
      "source": [
        "\n",
        "\n",
        "> LinearRegressionクラスを新たにインスタンス化\n",
        "\n"
      ],
      "metadata": {
        "id": "cSRSdYXd0NgS"
      }
    },
    {
      "cell_type": "code",
      "source": [
        "model = LinearRegression()\n"
      ],
      "metadata": {
        "id": "y7_mCWT6Riqr"
      },
      "execution_count": null,
      "outputs": []
    },
    {
      "cell_type": "markdown",
      "source": [
        "\n",
        "\n",
        "> 説明変数のスケール変換済み学習データ（X_train_scaled）と、目的変数の学習データ（y_train）で学習\n",
        "\n"
      ],
      "metadata": {
        "id": "Ve0V-78m0Rkw"
      }
    },
    {
      "cell_type": "code",
      "source": [
        "model.fit(X_train_scaled, y_train)\n"
      ],
      "metadata": {
        "id": "RASJgZuWRj4a"
      },
      "execution_count": null,
      "outputs": []
    },
    {
      "cell_type": "markdown",
      "source": [
        "**予測モデルの評価**"
      ],
      "metadata": {
        "id": "nFDUX1cd0Xya"
      }
    },
    {
      "cell_type": "markdown",
      "source": [
        "\n",
        "\n",
        "> scoreメソッドを利用して、決定係数を出力\n",
        "\n",
        "\n",
        ">学習データを用いた決定係数と、テストデータを用いた決定係数を、それぞれ算出\n",
        "\n"
      ],
      "metadata": {
        "id": "h6jYH1660asC"
      }
    },
    {
      "cell_type": "code",
      "source": [
        "print(model.score(X_train_scaled, y_train))\n",
        "print(model.score(X_test_scaled, y_test))\n"
      ],
      "metadata": {
        "id": "GIGl_OZrRlUK"
      },
      "execution_count": null,
      "outputs": []
    },
    {
      "cell_type": "markdown",
      "source": [
        "決定係数にかい離は見られず、過学習は発生していないと判断\n",
        "\n",
        "予測に対するテストデータは、決定係数0.48程度当てはまっている"
      ],
      "metadata": {
        "id": "dPo3wtgx0t3K"
      }
    },
    {
      "cell_type": "markdown",
      "source": [
        "**予測**"
      ],
      "metadata": {
        "id": "1E_OA5m103jT"
      }
    },
    {
      "cell_type": "markdown",
      "source": [
        "以下の住宅データから住宅価格を予測"
      ],
      "metadata": {
        "id": "6ao-D0lT1JaB"
      }
    },
    {
      "cell_type": "markdown",
      "source": [
        "| 所得 | 築年数 | 地域人口 | 緯度 | 部屋数/人 |\n",
        "|------|--------|----------|------|-----------|\n",
        "| 8    | 41     | 500      | 38   | 2         |\n",
        "| 10   | 10     | 1000     | 40   | 1         |\n",
        "| 7.5  | 25     | 3500     | 39   | 3         |\n"
      ],
      "metadata": {
        "id": "H5V71uEj1BlU"
      }
    },
    {
      "cell_type": "markdown",
      "source": [
        "ndarray形式でX_newという変数に保持"
      ],
      "metadata": {
        "id": "F96hphJH1NVd"
      }
    },
    {
      "cell_type": "code",
      "source": [
        "X_new = np.array([[8, 41, 500, 38, 2],\n",
        "                  [10, 10, 1000, 40, 1],\n",
        "                  [7.5, 25, 3500, 39, 3]])\n"
      ],
      "metadata": {
        "id": "EBLq0CYJRmxS"
      },
      "execution_count": null,
      "outputs": []
    },
    {
      "cell_type": "markdown",
      "source": [
        "X_newをスケール変換"
      ],
      "metadata": {
        "id": "zJBq4Z1w1Rqy"
      }
    },
    {
      "cell_type": "code",
      "source": [
        "X_new_scaled = scaler.transform(X_new)\n"
      ],
      "metadata": {
        "id": "stUGI2WERoST"
      },
      "execution_count": null,
      "outputs": []
    },
    {
      "cell_type": "markdown",
      "source": [
        "X_new_scaledから住宅価格を予測"
      ],
      "metadata": {
        "id": "bqIi5wp91Sqp"
      }
    },
    {
      "cell_type": "code",
      "source": [
        "model.predict(X_new_scaled)\n"
      ],
      "metadata": {
        "id": "AmeDN74ARpyx"
      },
      "execution_count": null,
      "outputs": []
    },
    {
      "cell_type": "markdown",
      "source": [
        "**設定したゴールに対する考察**\n",
        "\n",
        "\n",
        "*   住宅価格を予測する計算式を決定する\n",
        "*   住宅に関する各要素が、住宅価格に与える影響度合いについても見解を述べる\n",
        "\n",
        "\n",
        "\n"
      ],
      "metadata": {
        "id": "StQIZbF01bVB"
      }
    },
    {
      "cell_type": "markdown",
      "source": [
        "住宅価格を予測する計算式を作成\n",
        "\n",
        "model.coef_で各要素の重み\n",
        "\n",
        "model.intercept_で切片を確認"
      ],
      "metadata": {
        "id": "0DAF6SY81jdt"
      }
    },
    {
      "cell_type": "code",
      "source": [
        "print(model.coef_)\n",
        "print(model.intercept_)\n"
      ],
      "metadata": {
        "id": "4AMZ2FWARrU0"
      },
      "execution_count": null,
      "outputs": []
    },
    {
      "cell_type": "markdown",
      "source": [
        "各要素の重みをseabornのbarplot関数で可視化"
      ],
      "metadata": {
        "id": "QKkk7e3s1sFK"
      }
    },
    {
      "cell_type": "code",
      "source": [
        "sns.barplot(x = ['所得', '築年数', '地域人口', '緯度', '部屋数/人'], y=model.coef_)\n"
      ],
      "metadata": {
        "id": "7codcK-dRtcK"
      },
      "execution_count": null,
      "outputs": []
    },
    {
      "cell_type": "markdown",
      "source": [
        "\n",
        "\n",
        "**まとめ**\n",
        "*   標準化と多重共線性対処の重要性を学び、改善された回帰手法を実践。\n",
        "*   回帰分析における各ステップの理解と、分析プロセスの完遂。\n",
        "\n"
      ],
      "metadata": {
        "id": "Adoq9SdN3UAO"
      }
    },
    {
      "cell_type": "markdown",
      "source": [
        "# 分類"
      ],
      "metadata": {
        "id": "rxRjhftmWGoY"
      }
    },
    {
      "cell_type": "markdown",
      "source": [
        "**目標と概要**：\n",
        "- 目標：機械学習を用いた分類の実施と、分類モデルの改善の理解。\n",
        "- 内容：分類手法の基本から、予測モデルの構築と評価、改善方法の学習。\n",
        "\n",
        "**分類の基本**：\n",
        "- 分類：カテゴリー予測の分析手法。教師あり学習を活用して予測モデルを構築。\n",
        "- 応用例：医療診断、迷惑メールフィルタリング、テキスト分類など。\n",
        "\n",
        "**予測モデル構築のプロセス**：\n",
        "1. **データ準備**：必要なライブラリのインポートとサンプルデータセットの取得。\n",
        "2. **データの前処理**：データの確認、欠損値や外れ値の処理。\n",
        "3. **学習データとテストデータの分割**：説明変数と目的変数の分離、データセットの分割。\n",
        "4. **予測モデルの学習**：決定木モデルの利用。モデルの学習実施。\n",
        "5. **予測モデルの評価**：正解率、適合率、再現率などの評価指標を用いたモデル評価。\n",
        "6. **予測実施**：新しいデータに対する予測実行。\n",
        "\n",
        "**予測モデルの改善**：\n",
        "- 条件分岐の深さや葉の数、サンプル数などの制約を設けてモデルの単純化。\n",
        "- 改善後のモデルで再度学習と評価を実施。\n",
        "\n",
        "**ゴールと考察**：\n",
        "- 悪性/良性の分類モデル構築と、その根拠の可視化。\n",
        "- シンプルな条件分岐により、予測精度の向上。\n",
        "\n",
        "**まとめ**：\n",
        "- 分類の基本概念とその実践方法。\n",
        "- 決定木モデルを用いた分類のプロセスとその改善手法の学習。"
      ],
      "metadata": {
        "id": "IJMGxUsoR0w1"
      }
    },
    {
      "cell_type": "markdown",
      "source": [
        "\n",
        "\n",
        "> ライブラリのインポート\n",
        "\n"
      ],
      "metadata": {
        "id": "qZUQkCpm3hiA"
      }
    },
    {
      "cell_type": "code",
      "source": [
        "import pandas as pd\n"
      ],
      "metadata": {
        "id": "PdhRpca9R68m"
      },
      "execution_count": null,
      "outputs": []
    },
    {
      "cell_type": "markdown",
      "source": [
        "**データの取得**\n",
        "\n",
        "\n",
        "\n",
        "> 今回はscikit-learnが提供しているサンプルデータ「Breast cancer wisconsin dataset」を利用します。\n",
        "\n",
        "\n",
        "> Breast cancer wisconsin datasetは、乳房のしこりの検査データと、そのデータに対する悪性/良性を示したサンプルデータです。\n",
        "\n",
        "\n",
        "\n",
        "\n",
        "[data_breastcancer.csv](https://drive.google.com/file/d/1hUiZRUHYNr_QaL-_X4xK5eVCsao43CNy/view)"
      ],
      "metadata": {
        "id": "zfyKuQsUZ5Hw"
      }
    },
    {
      "cell_type": "code",
      "source": [
        "from sklearn.datasets import load_breast_cancer\n"
      ],
      "metadata": {
        "id": "SN1IgXF2SAuq"
      },
      "execution_count": null,
      "outputs": []
    },
    {
      "cell_type": "markdown",
      "source": [
        "インポートしたload_breast_cancer関数を実行し、datasetという変数に代入"
      ],
      "metadata": {
        "id": "mhUhA0AC32pz"
      }
    },
    {
      "cell_type": "code",
      "source": [
        "dataset = load_breast_cancer()\n",
        "dataset\n"
      ],
      "metadata": {
        "id": "jOSuYgoPSDVs"
      },
      "execution_count": null,
      "outputs": []
    },
    {
      "cell_type": "markdown",
      "source": [
        "**データの概要確認と前処理**"
      ],
      "metadata": {
        "id": "QkaT3TgN38jO"
      }
    },
    {
      "cell_type": "markdown",
      "source": [
        "\n",
        "\n",
        "> 活用するデータの概要を確認\n",
        "\n"
      ],
      "metadata": {
        "id": "Fd7qHT_G4A4O"
      }
    },
    {
      "cell_type": "code",
      "source": [
        "print(dataset.DESCR)\n"
      ],
      "metadata": {
        "id": "J7EP0n0uSEzq"
      },
      "execution_count": null,
      "outputs": []
    },
    {
      "cell_type": "markdown",
      "source": [
        "表示内容を確認すると、以下のようなデータであると解釈できます。\n",
        "\n",
        "\n",
        "\n",
        "*   乳房のしこりに対する検査結果のデータである。\n",
        "*   検査データは30項目で、半径やコンパクト性、へこみ具合などの項目がある。\n",
        "*   項目ごとに、平均値、標準誤差、ワースト値もしくは最大値を示している。\n",
        "*   データ数は569であり、それぞれ悪性もしくは良性に分類される。\n",
        "\n",
        "\n",
        "\n",
        "\n",
        "\n",
        "\n",
        "\n"
      ],
      "metadata": {
        "id": "rfQczTmI4IUr"
      }
    },
    {
      "cell_type": "markdown",
      "source": [
        "\n",
        "\n",
        "> DataFrameを利用して表示\n",
        "\n"
      ],
      "metadata": {
        "id": "4NEDYeZq4Snf"
      }
    },
    {
      "cell_type": "code",
      "source": [
        "df = pd.DataFrame(dataset.data, columns=dataset.feature_names)\n",
        "df.head()\n"
      ],
      "metadata": {
        "id": "t7JlB7hBSGwi"
      },
      "execution_count": null,
      "outputs": []
    },
    {
      "cell_type": "markdown",
      "source": [
        "\n",
        "\n",
        "> 悪性/良性を示すデータを「class」という列名でDataFrameに追加\n",
        "\n"
      ],
      "metadata": {
        "id": "2cZqSVjA4Wxe"
      }
    },
    {
      "cell_type": "code",
      "source": [
        "df['class'] = dataset.target\n",
        "df.head()\n"
      ],
      "metadata": {
        "id": "GAaicgSUSIJN"
      },
      "execution_count": null,
      "outputs": []
    },
    {
      "cell_type": "markdown",
      "source": [
        "データのサイズを確認"
      ],
      "metadata": {
        "id": "R4iiUHVR4brO"
      }
    },
    {
      "cell_type": "code",
      "source": [
        "df.shape\n"
      ],
      "metadata": {
        "id": "PSh4eDzaSJag"
      },
      "execution_count": null,
      "outputs": []
    },
    {
      "cell_type": "markdown",
      "source": [
        "**データの欠損の確認**\n"
      ],
      "metadata": {
        "id": "J2jLqrU44euX"
      }
    },
    {
      "cell_type": "code",
      "source": [
        "df.info()\n"
      ],
      "metadata": {
        "id": "po6252gESKva"
      },
      "execution_count": null,
      "outputs": []
    },
    {
      "cell_type": "markdown",
      "source": [
        "↑↑↑全列ともにNon-null Countが569のため、データの欠損がないことを確認"
      ],
      "metadata": {
        "id": "OYja9UWX4kPY"
      }
    },
    {
      "cell_type": "markdown",
      "source": [
        "**外れ値の確認**"
      ],
      "metadata": {
        "id": "OLVVLZy04qWf"
      }
    },
    {
      "cell_type": "markdown",
      "source": [
        "\n",
        "\n",
        "*   グラフのラベルの重なり具合を考慮して、figsizeは(20, 15)に設定\n",
        "*   ヒストグラムのバーの数は、今回は30に設定\n",
        "\n"
      ],
      "metadata": {
        "id": "ViJs8rj04wEf"
      }
    },
    {
      "cell_type": "code",
      "source": [
        "df.hist(figsize=(20, 15), bins=30)\n"
      ],
      "metadata": {
        "id": "Gk8L-ulOSMGc"
      },
      "execution_count": null,
      "outputs": []
    },
    {
      "cell_type": "markdown",
      "source": [
        "どの項目においても、目立った外れ値は確認できませんでした。外れ値に対する前処理も不要と判断します。"
      ],
      "metadata": {
        "id": "MbczQ3bg48C9"
      }
    },
    {
      "cell_type": "markdown",
      "source": [
        "**学習データとテストデータへの分割**\n"
      ],
      "metadata": {
        "id": "H5xyJVPe4-8M"
      }
    },
    {
      "cell_type": "markdown",
      "source": [
        "\n",
        "\n",
        "> まずは、説明変数Xと目的変数yに分割\n",
        "\n"
      ],
      "metadata": {
        "id": "4xyrlbuK5GZt"
      }
    },
    {
      "cell_type": "code",
      "source": [
        "X = df.drop(columns=['class']).to_numpy()\n",
        "y = df['class'].to_numpy()\n"
      ],
      "metadata": {
        "id": "WQUbtsT-SN5t"
      },
      "execution_count": null,
      "outputs": []
    },
    {
      "cell_type": "markdown",
      "source": [
        "\n",
        "\n",
        "> train_test_split関数をインポートし、比率7:3で学習データとテストデータに分割\n",
        "\n"
      ],
      "metadata": {
        "id": "83P6pOIB5JX0"
      }
    },
    {
      "cell_type": "code",
      "source": [
        "from sklearn.model_selection import train_test_split\n",
        "X_train, X_test, y_train, y_test = train_test_split(X, y, test_size=0.3, random_state=0)\n"
      ],
      "metadata": {
        "id": "qlZmpvFQSPBt"
      },
      "execution_count": null,
      "outputs": []
    },
    {
      "cell_type": "markdown",
      "source": [
        "問題なく7:3に分割されたか、データ数を確認"
      ],
      "metadata": {
        "id": "d9gul04o5PTU"
      }
    },
    {
      "cell_type": "code",
      "source": [
        "print(X_train.shape, X_test.shape, y_train.shape, y_test.shape)\n"
      ],
      "metadata": {
        "id": "xxZ3DZ3JSQzS"
      },
      "execution_count": null,
      "outputs": []
    },
    {
      "cell_type": "markdown",
      "source": [
        "569行のデータが、398と171に7:3で分割されていることが確認できました"
      ],
      "metadata": {
        "id": "QOLBIps_5TH-"
      }
    },
    {
      "cell_type": "markdown",
      "source": [
        "**予測モデルの学習**"
      ],
      "metadata": {
        "id": "O4Ia4H085U_c"
      }
    },
    {
      "cell_type": "markdown",
      "source": [
        "DecisionTreeClassifierクラスをインスタンス化して、modelという変数に代入"
      ],
      "metadata": {
        "id": "0o5ED5pE5pMO"
      }
    },
    {
      "cell_type": "code",
      "source": [
        "from sklearn.tree import DecisionTreeClassifier\n",
        "model = DecisionTreeClassifier(random_state=0)\n"
      ],
      "metadata": {
        "id": "wlpKjz6oSSWq"
      },
      "execution_count": null,
      "outputs": []
    },
    {
      "cell_type": "markdown",
      "source": [
        "↑↑↑決定木は予測モデル構築時に乱数を使用する場合があります。\n",
        "\n",
        "実行ごとに結果が変わることを避けたい場合は、random_stateを指定しましょう。"
      ],
      "metadata": {
        "id": "68X2lilX5xzs"
      }
    },
    {
      "cell_type": "markdown",
      "source": [
        "次に、テストデータで学習させます"
      ],
      "metadata": {
        "id": "OiP0aaMg56x5"
      }
    },
    {
      "cell_type": "code",
      "source": [
        "model.fit(X_train, y_train)\n"
      ],
      "metadata": {
        "id": "ac5zoySoSTt9"
      },
      "execution_count": null,
      "outputs": []
    },
    {
      "cell_type": "markdown",
      "source": [
        "**予測モデルの評価**"
      ],
      "metadata": {
        "id": "Z_TB5OTK6Dus"
      }
    },
    {
      "cell_type": "markdown",
      "source": [
        "説明変数Xのテストデータから悪性/良性の予測値を出力"
      ],
      "metadata": {
        "id": "L9sPknFz6N-1"
      }
    },
    {
      "cell_type": "code",
      "source": [
        "y_pred = model.predict(X_test)\n",
        "y_pred\n"
      ],
      "metadata": {
        "id": "4MZdTyygSVXt"
      },
      "execution_count": null,
      "outputs": []
    },
    {
      "cell_type": "markdown",
      "source": [
        "実際の値である目的変数のテストデータを確認"
      ],
      "metadata": {
        "id": "_7DUN0I-6Red"
      }
    },
    {
      "cell_type": "code",
      "source": [
        "y_test"
      ],
      "metadata": {
        "id": "pkTDnxqSSW3K"
      },
      "execution_count": null,
      "outputs": []
    },
    {
      "cell_type": "markdown",
      "source": [
        "classification_reportで評価指標を出力"
      ],
      "metadata": {
        "id": "cvcJLDfO6UyQ"
      }
    },
    {
      "cell_type": "code",
      "source": [
        "from sklearn.metrics import classification_report\n",
        "print(classification_report(y_test, y_pred))"
      ],
      "metadata": {
        "id": "j-HuWNVzSY6q"
      },
      "execution_count": null,
      "outputs": []
    },
    {
      "cell_type": "markdown",
      "source": [
        ">この課題では、乳がんのデータを分析して、がんが良性か悪性かを判定するモデルを作ります。大事なのは、悪性のがんを間違って見逃さないことです。\n",
        "\n",
        ">作成したモデルは全体の91％の精度で正しい判定をし、悪性のがんを94％の確率で発見します"
      ],
      "metadata": {
        "id": "3cX2sopC684Y"
      }
    },
    {
      "cell_type": "markdown",
      "source": [
        "**乳房のしこりの検査データから、予測モデルを活用して悪性であるか良性であるかを予測**"
      ],
      "metadata": {
        "id": "nS-6ZKKj7PSv"
      }
    },
    {
      "cell_type": "code",
      "source": [
        "df_X_new = pd.read_csv('/content/data_breastcancer.csv')\n",
        "df_X_new.head()\n"
      ],
      "metadata": {
        "id": "JlHNlbvRScNE"
      },
      "execution_count": null,
      "outputs": []
    },
    {
      "cell_type": "markdown",
      "source": [
        "取り込んだデータをもとに悪性であるか良性であるかを予測"
      ],
      "metadata": {
        "id": "hpS6Fkt57UEV"
      }
    },
    {
      "cell_type": "code",
      "source": [
        "X_new = df_X_new.to_numpy()\n",
        "model.predict(X_new)"
      ],
      "metadata": {
        "id": "X4lfrDFcSeKX"
      },
      "execution_count": null,
      "outputs": []
    },
    {
      "cell_type": "markdown",
      "source": [
        "1, 2, 4行目のデータが良性、3行目のデータが悪性であると予測できました。以上で、予測は完了です。"
      ],
      "metadata": {
        "id": "bTgstfso7YQ-"
      }
    },
    {
      "cell_type": "markdown",
      "source": [
        "**設定したゴールに対する考察**"
      ],
      "metadata": {
        "id": "pQHKawUJ7ay2"
      }
    },
    {
      "cell_type": "markdown",
      "source": [
        "\n",
        "\n",
        "*   しこりの検査データから、悪性か良性かを判定する分類の予測モデルを構築する。\n",
        "*   悪性の見落としが少ない予測モデルが望ましい。\n",
        "\n",
        "\n",
        "*   悪性か良性かの判定根拠を可視化する。\n",
        "\n",
        "\n",
        "\n",
        "\n"
      ],
      "metadata": {
        "id": "lfiYj0CP7b--"
      }
    },
    {
      "cell_type": "markdown",
      "source": [
        ">予測モデルを使って、悪性か良性かを予測することができ、その精度は約91%、特に悪性を見逃さない確率は約94%です。予測の根拠を理解するために、決定木の条件分岐を図示することができます。"
      ],
      "metadata": {
        "id": "1PWYnMJU79Au"
      }
    },
    {
      "cell_type": "markdown",
      "source": [
        "\n",
        "\n",
        "> export_text関数によって、決定木の条件分岐の可視化が可能です。\n",
        "\n",
        "それでは、export_text関数をインポートしましょう。\n",
        "\n"
      ],
      "metadata": {
        "id": "-8yaaIQI8ELB"
      }
    },
    {
      "cell_type": "code",
      "source": [
        "from sklearn.tree import export_text"
      ],
      "metadata": {
        "id": "rqSrchyBSf-l"
      },
      "execution_count": null,
      "outputs": []
    },
    {
      "cell_type": "markdown",
      "source": [
        "\n",
        "\n",
        "> feature_namesパラメータは、要素名をリスト形式で指定する必要があります。事前に、datasetのfeature_namesキーから要素名を取得し、tolistメソッドでndarrayからlistへ変換しておきましょう。\n",
        "\n"
      ],
      "metadata": {
        "id": "S0GFeKpE8MN2"
      }
    },
    {
      "cell_type": "code",
      "source": [
        "# 要素名の取得\n",
        "names = dataset.feature_names\n",
        "# 要素名をリスト形式に変換\n",
        "names_list = names.tolist()\n",
        "# 条件分岐構造を出力\n",
        "print(export_text(model, decimals=3, feature_names=names_list))\n"
      ],
      "metadata": {
        "id": "1wRD653ZShfl"
      },
      "execution_count": null,
      "outputs": []
    },
    {
      "cell_type": "markdown",
      "source": [
        "\n",
        "\n",
        "> かなり複雑な条件分岐になっていることが確認できました。決定木の予測モデルは、条件分岐の構造に制約を設けてシンプルにすることで、精度が高まる可能性があります。現状の精度は、正解率が約91%、悪性の再現率が約94%です。それでは次に、精度を高めるための改善に挑戦しましょう。\n",
        "\n"
      ],
      "metadata": {
        "id": "4NAqOmOc8O1D"
      }
    },
    {
      "cell_type": "markdown",
      "source": [
        "**予測モデルの改善**"
      ],
      "metadata": {
        "id": "26Oo9GR38ZAB"
      }
    },
    {
      "cell_type": "markdown",
      "source": [
        "\n",
        "\n",
        "1.   条件分岐の構造に対する制約の設定\n",
        "\n",
        "\n",
        "\n",
        "\n"
      ],
      "metadata": {
        "id": "hs7V6NqU8Z_4"
      }
    },
    {
      "cell_type": "code",
      "source": [
        "model = DecisionTreeClassifier(\n",
        "    max_depth=2,\n",
        "    max_leaf_nodes=3,\n",
        "    min_samples_leaf=10,\n",
        "    random_state=0)\n"
      ],
      "metadata": {
        "id": "AJJ2hq3BSjlE"
      },
      "execution_count": null,
      "outputs": []
    },
    {
      "cell_type": "markdown",
      "source": [
        "2.   予測モデルの学習\n"
      ],
      "metadata": {
        "id": "IfGBAkiW8tK_"
      }
    },
    {
      "cell_type": "code",
      "source": [
        "model.fit(X_train, y_train)\n"
      ],
      "metadata": {
        "id": "ishPkr9DSlAm"
      },
      "execution_count": null,
      "outputs": []
    },
    {
      "cell_type": "markdown",
      "source": [
        "3.   予測モデルの評価\n"
      ],
      "metadata": {
        "id": "flhC9IJk8vl6"
      }
    },
    {
      "cell_type": "code",
      "source": [
        "y_pred = model.predict(X_test)\n",
        "y_pred\n"
      ],
      "metadata": {
        "id": "lGIjtX2NSmZj"
      },
      "execution_count": null,
      "outputs": []
    },
    {
      "cell_type": "code",
      "source": [
        "print(classification_report(y_test, y_pred))\n"
      ],
      "metadata": {
        "id": "imVx18JfSn_K"
      },
      "execution_count": null,
      "outputs": []
    },
    {
      "cell_type": "markdown",
      "source": [
        "4.   予測\n"
      ],
      "metadata": {
        "id": "FB2xwQCu8xuI"
      }
    },
    {
      "cell_type": "code",
      "source": [
        "model.predict(X_new)\n"
      ],
      "metadata": {
        "id": "WqF8Ke9HSpyJ"
      },
      "execution_count": null,
      "outputs": []
    },
    {
      "cell_type": "markdown",
      "source": [
        "5.   設定したゴールに対する考察\n",
        ">\n",
        "\n",
        "*   しこりの検査データから、悪性か良性かを判定する分類の予測モデルを構築する。\n",
        "*   悪性の見落としが少ない予測モデルが望ましい。\n",
        "\n",
        "*   悪性か良性かの判定根拠を可視化する。\n"
      ],
      "metadata": {
        "id": "KaMCdNSQ86HP"
      }
    },
    {
      "cell_type": "markdown",
      "source": [
        ">決定木の条件分岐構造をシンプルにすることで、予測の精度が高まりました。最終的に、正解率は約95%、悪性の再現率は約95%となりました。\n",
        "\n",
        ">改善した予測モデルも、悪性/良性の判定根拠として条件分岐の構造を活用します"
      ],
      "metadata": {
        "id": "rS--54Ir9pHB"
      }
    },
    {
      "cell_type": "code",
      "source": [
        "print(export_text(model, decimals=3, feature_names=names_list))\n"
      ],
      "metadata": {
        "id": "ZnBB47MHSrbH"
      },
      "execution_count": null,
      "outputs": []
    },
    {
      "cell_type": "markdown",
      "source": [
        "\n",
        "\n",
        "> 改善前と比較してシンプルな条件分岐で、予測精度も向上させることができました。\n",
        "\n"
      ],
      "metadata": {
        "id": "DMetmUIB95OC"
      }
    },
    {
      "cell_type": "markdown",
      "source": [
        "以上で、設定したゴールに対する考察は完了です。"
      ],
      "metadata": {
        "id": "qIwlHqTN90cK"
      }
    },
    {
      "cell_type": "markdown",
      "source": [
        "# クラスタリング"
      ],
      "metadata": {
        "id": "DUu9HAwPV-eo"
      }
    },
    {
      "cell_type": "markdown",
      "source": [
        "**目標と概要**：\n",
        "- 目標：機械学習を用いたクラスタリングの実施と、その結果に基づいた考察方法の理解。\n",
        "- 内容：クラスタリング手法の基本から、実践的な分析手順の学習。\n",
        "\n",
        "**クラスタリングの基本**：\n",
        "- クラスタリング：データの類似性に基づき、グループ分けを行う分析手法。結果には正解が存在しない。\n",
        "- 応用例：ECサイトの販売データ分析、地方創生のビジネスアイデア検討など。\n",
        "\n",
        "**教師なし学習の概念**：\n",
        "- 教師なし学習：説明変数や目的変数の区分がないデータを使用して学習。法則の発見が目的。\n",
        "- 教師あり学習との違い：教師あり学習は、説明変数と目的変数がセットのデータで学習。\n",
        "\n",
        "**クラスタリングの実践手順**：\n",
        "1. **データ準備**：必要なライブラリのインポートとデータセットの取得。\n",
        "2. **データの前処理**：標準化などのデータの調整。\n",
        "3. **クラスタリングの実施**：k-means法を用いたクラスタリングの実行。\n",
        "4. **クラスタリング結果の考察**：得られたクラスタリングの結果に基づく考察の実施。\n",
        "\n",
        "**クラスタリングにおける考察の流れ**：\n",
        "1. **クラスター別のデータ数確認**：各クラスターのデータ数の可視化。\n",
        "2. **クラスター別の平均値比較**：各クラスターの特徴の比較。\n",
        "3. **地理的分布の確認**：クラスターと緯度経度の関係の分析。\n",
        "4. **特定クラスターの深堀り**：クラスター内の特定データの詳細分析。\n",
        "5. **結果の考察とまとめ**：クラスタリング結果に基づく洞察の提供。\n",
        "\n"
      ],
      "metadata": {
        "id": "6MTpmPVdSt3O"
      }
    },
    {
      "cell_type": "markdown",
      "source": [
        "**必要なライブラリのインポート**"
      ],
      "metadata": {
        "id": "4LdDCpTO-EAA"
      }
    },
    {
      "cell_type": "code",
      "source": [
        "import pandas as pd\n",
        "import seaborn as sns\n"
      ],
      "metadata": {
        "id": "kBUTuWTjSvhz"
      },
      "execution_count": null,
      "outputs": []
    },
    {
      "cell_type": "code",
      "source": [
        "pip install japanize-matplotlib\n"
      ],
      "metadata": {
        "id": "0gRszULiWR5q"
      },
      "execution_count": null,
      "outputs": []
    },
    {
      "cell_type": "code",
      "source": [
        "import japanize_matplotlib\n"
      ],
      "metadata": {
        "id": "YHKtrjN3WT9p"
      },
      "execution_count": null,
      "outputs": []
    },
    {
      "cell_type": "markdown",
      "source": [
        "**データセットの準備**"
      ],
      "metadata": {
        "id": "3goYRqhq-Inz"
      }
    },
    {
      "cell_type": "code",
      "source": [
        "df = pd.read_csv('/content/california_housing_cleansing.csv')\n",
        "df.head()\n"
      ],
      "metadata": {
        "id": "j2FgtI5JWWhs"
      },
      "execution_count": null,
      "outputs": []
    },
    {
      "cell_type": "markdown",
      "source": [
        "Unnamedの削除"
      ],
      "metadata": {
        "id": "Qdhwm4su-M9p"
      }
    },
    {
      "cell_type": "code",
      "source": [
        "df = df.drop(columns = ['Unnamed: 0'])\n",
        "df.head()\n"
      ],
      "metadata": {
        "id": "Czl2CEimWch8"
      },
      "execution_count": null,
      "outputs": []
    },
    {
      "cell_type": "markdown",
      "source": [
        "california_housing_cleansing.csv」の全18572行のデータが取り込まれているか確認"
      ],
      "metadata": {
        "id": "awTsRWno-TZg"
      }
    },
    {
      "cell_type": "code",
      "source": [
        "df.shape\n"
      ],
      "metadata": {
        "id": "7Z80miWLWd-P"
      },
      "execution_count": null,
      "outputs": []
    },
    {
      "cell_type": "markdown",
      "source": [
        "StandardScalerクラスのインポートとインスタンス化"
      ],
      "metadata": {
        "id": "dYOJqv9I-Ut4"
      }
    },
    {
      "cell_type": "code",
      "source": [
        "from sklearn.preprocessing import StandardScaler\n",
        "scaler = StandardScaler()\n"
      ],
      "metadata": {
        "id": "Mz17_lkiWfRv"
      },
      "execution_count": null,
      "outputs": []
    },
    {
      "cell_type": "markdown",
      "source": [
        "全データを変数Xに代入し、引数に指定してfitメソッドを実行"
      ],
      "metadata": {
        "id": "RB32uOMF-aqE"
      }
    },
    {
      "cell_type": "code",
      "source": [
        "X = df.to_numpy()\n",
        "scaler.fit(X)\n"
      ],
      "metadata": {
        "id": "uVBYei6rWgm4"
      },
      "execution_count": null,
      "outputs": []
    },
    {
      "cell_type": "markdown",
      "source": [
        "この変換モデルを利用して、Xを標準化"
      ],
      "metadata": {
        "id": "xMTtl-Q--eix"
      }
    },
    {
      "cell_type": "markdown",
      "source": [
        "**データセットのクラスタリング**"
      ],
      "metadata": {
        "id": "GCb4Pqwn-hHD"
      }
    },
    {
      "cell_type": "code",
      "source": [
        "X_scaled  = scaler.transform(X)\n",
        "X_scaled\n"
      ],
      "metadata": {
        "id": "zdH11basWh4w"
      },
      "execution_count": null,
      "outputs": []
    },
    {
      "cell_type": "markdown",
      "source": [
        ">scikit-learnには、k-means法のためのクラスが提供されています。\n",
        "\n",
        ">clusterモジュールの KMeansクラスをインポートしましょう。"
      ],
      "metadata": {
        "id": "qROiZpQw-nZD"
      }
    },
    {
      "cell_type": "code",
      "source": [
        "from sklearn.cluster import KMeans\n"
      ],
      "metadata": {
        "id": "-R9P9ECtWjWJ"
      },
      "execution_count": null,
      "outputs": []
    },
    {
      "cell_type": "markdown",
      "source": [
        "\n",
        "\n",
        "> いくつのクラスターに分けるかを指定する必要があります。クラスター数は、分析者本人が試行錯誤しながら決めなければなりません。\n",
        "\n",
        ">今回は、クラスター数「4」を指定することとします。クラスター数を指定しない場合、デフォルト設定の「8」でクラスタリングが実施されます。\n",
        "\n"
      ],
      "metadata": {
        "id": "UASYEIYK-0Cz"
      }
    },
    {
      "cell_type": "code",
      "source": [
        "model = KMeans(n_clusters=4, random_state=0)\n",
        "# 実行ごとに結果が変わることを避けたい場合は、random_stateを指定\n"
      ],
      "metadata": {
        "id": "2tnTBhY7WlGH"
      },
      "execution_count": null,
      "outputs": []
    },
    {
      "cell_type": "markdown",
      "source": [
        ">クラスタリングの結果を表示させます\n",
        "\n",
        ">標準化済みデータX_scaledを用いてクラスタリングを実行"
      ],
      "metadata": {
        "id": "itFYk-PP_CzC"
      }
    },
    {
      "cell_type": "code",
      "source": [
        "model.fit(X_scaled)\n"
      ],
      "metadata": {
        "id": "PaTpvuPEWlAE"
      },
      "execution_count": null,
      "outputs": []
    },
    {
      "cell_type": "markdown",
      "source": [
        "model.labels_で、属するクラスターのラベルを確認"
      ],
      "metadata": {
        "id": "-4inswXm_GNp"
      }
    },
    {
      "cell_type": "code",
      "source": [
        "model.labels_\n"
      ],
      "metadata": {
        "id": "3f1tuKJmWnx3"
      },
      "execution_count": null,
      "outputs": []
    },
    {
      "cell_type": "markdown",
      "source": [
        "4つのクラスターに分けたため、ラベル「0」「1」「2」「3」のいずれかが出力されます。"
      ],
      "metadata": {
        "id": "U8V0kaxA_XHF"
      }
    },
    {
      "cell_type": "markdown",
      "source": [
        "取り込んだデータセットに、クラスター列としてラベル情報を追加"
      ],
      "metadata": {
        "id": "H5LXp1hj_Z9x"
      }
    },
    {
      "cell_type": "code",
      "source": [
        "df['クラスター'] = model.labels_\n",
        "df.head()\n"
      ],
      "metadata": {
        "id": "SJ4jmpInWpoG"
      },
      "execution_count": null,
      "outputs": []
    },
    {
      "cell_type": "markdown",
      "source": [
        "**クラスタリング結果に対する考察**"
      ],
      "metadata": {
        "id": "iHgLMOqT_dMu"
      }
    },
    {
      "cell_type": "markdown",
      "source": [
        "\n",
        "\n",
        "課題\n",
        "\n",
        ">カリフォルニアで飲食店の新ビジネスを立ち上げたい\n",
        "\n",
        "\n",
        ">カリフォルニアの住宅データがあるので、それをもとに何かヒントを得たい\n",
        "\n",
        "\n",
        "ゴール\n",
        "\n",
        ">カリフォルニアの住宅データをクラスタリングして、飲食店ビジネスに役立ちそうな知見を見いだす\n",
        "\n"
      ],
      "metadata": {
        "id": "8sOuIZWQ_hh8"
      }
    },
    {
      "cell_type": "markdown",
      "source": [
        "**1. クラスター別のデータ数の確認**"
      ],
      "metadata": {
        "id": "uSh6lO7s_uTl"
      }
    },
    {
      "cell_type": "code",
      "source": [
        "sns.countplot(x='クラスター', data=df)\n"
      ],
      "metadata": {
        "id": "S52UpX8AWsNs"
      },
      "execution_count": null,
      "outputs": []
    },
    {
      "cell_type": "markdown",
      "source": [
        "**2. クラスター別の平均値の比較**"
      ],
      "metadata": {
        "id": "BKOkeufz_y4W"
      }
    },
    {
      "cell_type": "code",
      "source": [
        "df.groupby('クラスター').mean()\n"
      ],
      "metadata": {
        "id": "Ino7JgpNWuSn"
      },
      "execution_count": null,
      "outputs": []
    },
    {
      "cell_type": "markdown",
      "source": [
        "**3. 各クラスターと緯度経度の関係の確認**"
      ],
      "metadata": {
        "id": "o0_PLt97_0C-"
      }
    },
    {
      "cell_type": "code",
      "source": [
        "sns.scatterplot(x='経度', y='緯度', hue='クラスター', data=df)\n"
      ],
      "metadata": {
        "id": "FUPvDDBsWv7p"
      },
      "execution_count": null,
      "outputs": []
    },
    {
      "cell_type": "markdown",
      "source": [
        "カリフォルニアの地形を思い出してみましょう。南西側が沿岸部です。\n",
        "\n",
        "[Wiki:カリフォルニア州](https://ja.wikipedia.org/wiki/%E3%82%AB%E3%83%AA%E3%83%95%E3%82%A9%E3%83%AB%E3%83%8B%E3%82%A2%E5%B7%9E)"
      ],
      "metadata": {
        "id": "cctkYMvk_9zr"
      }
    },
    {
      "cell_type": "markdown",
      "source": [
        "クラスター3に属するデータは、沿岸部に偏っているように見えます。"
      ],
      "metadata": {
        "id": "duhbpi5qDgiS"
      }
    },
    {
      "cell_type": "markdown",
      "source": [
        "**特定のクラスターに的を絞った深掘り**"
      ],
      "metadata": {
        "id": "b6MCht1tDjcT"
      }
    },
    {
      "cell_type": "markdown",
      "source": [
        "\n",
        "\n",
        "> 富裕層のクラスターと考えられるクラスター3に絞って、緯度と経度でマッピングしてみましょう。queryメソッドを活用してクラスター3のみを抽出し、改めて散布図で表現します。\n",
        "\n"
      ],
      "metadata": {
        "id": "9COS0RdEDkeU"
      }
    },
    {
      "cell_type": "code",
      "source": [
        "df_cluster3 = df.query('クラスター == 3')\n",
        "sns.scatterplot(x='経度', y='緯度', data=df_cluster3)\n"
      ],
      "metadata": {
        "id": "na2E7tVpWxm3"
      },
      "execution_count": null,
      "outputs": []
    },
    {
      "cell_type": "markdown",
      "source": [
        "クラスター3は、沿岸部のなかでも特に、北西端と南東端に比較的多く分布していることが確認できます。"
      ],
      "metadata": {
        "id": "pDDKWjMQDtdx"
      }
    },
    {
      "cell_type": "markdown",
      "source": [
        ">クラスター3に属するデータの地域人口分布を、ヒストグラムで表示"
      ],
      "metadata": {
        "id": "ZKsgPwUTDz5T"
      }
    },
    {
      "cell_type": "code",
      "source": [
        "#seabornのhistplot関数によって、ヒストグラムを描画\n",
        "#dataパラメータに対象のDataFrameを、xパラメータに可視化したい列名を指定\n",
        "#binsパラメータで、ヒストグラムのバーの数も調整可能\n",
        "\n",
        "sns.histplot(x='地域人口', data=df, bins=50)\n"
      ],
      "metadata": {
        "id": "8O8Hk6gVWzQ4"
      },
      "execution_count": null,
      "outputs": []
    },
    {
      "cell_type": "markdown",
      "source": [
        "人口5,000名を超えるクラスター3のデータを、緯度と経度でマッピング"
      ],
      "metadata": {
        "id": "VWVnar_HEGPy"
      }
    },
    {
      "cell_type": "code",
      "source": [
        "sns.scatterplot(x='経度', y='緯度', data=df_cluster3.query('地域人口 > 5000'))\n"
      ],
      "metadata": {
        "id": "kdZVcofsW0pp"
      },
      "execution_count": null,
      "outputs": []
    },
    {
      "cell_type": "markdown",
      "source": [
        "**今回の分析のゴール**\n",
        "\n",
        ">カリフォルニアの住宅価格データをクラスタリングして、飲食店ビジネスに役立ちそうな知見を見いだす\n",
        "\n",
        "\n",
        ">カリフォルニアの沿岸部、中でも北西端と南東端に、富裕層が多く居住している可能性が示唆される。\n",
        "\n",
        "\n",
        ">地域人口が5000名を越え、さらに富裕層が多いと推測されるエリアは、経度-122°緯度37.5°付近、および経度-118°緯度34°付近である。\n",
        "\n",
        "\n",
        ">これらエリアに富裕層向けの飲食店を展開する計画が、1つの案として推奨される。"
      ],
      "metadata": {
        "id": "jkTZJ-dQEQja"
      }
    },
    {
      "cell_type": "markdown",
      "source": [
        "**まとめ**：\n",
        "- クラスタリングと教師なし学習の基本知識。\n",
        "- クラスタリング手法を用いたデータ分析のプロセス。\n",
        "- クラスタリング結果に対する考察方法とその実践例。"
      ],
      "metadata": {
        "id": "EgovNkTYEsM9"
      }
    },
    {
      "cell_type": "markdown",
      "source": [
        "# 時系列分析①"
      ],
      "metadata": {
        "id": "kNhlGnzjXDcq"
      }
    },
    {
      "cell_type": "markdown",
      "source": [
        "**目標と概要**：\n",
        "- 目標：Prophetライブラリを利用した時系列分析の実施。\n",
        "- 内容：時系列データを基にした特徴や傾向の理解、将来予測の方法の学習。\n",
        "\n",
        "**時系列分析の基本**：\n",
        "- 時系列分析：過去のデータから未来を予測する分析手法。ビジネスや個人レベルでの様々な予測に応用可能。\n",
        "\n",
        "**Prophetライブラリの紹介**：\n",
        "- Prophet：Meta社が開発した時系列分析用ライブラリ。トレンド、周期性、イベント効果を基にした予測が特徴。\n",
        "\n",
        "**時系列分析の実践手順**：\n",
        "1. **データ準備**：必要なライブラリのインポートとデータセットの取得。\n",
        "2. **データの前処理**：時系列データの確認と整形。\n",
        "3. **予測モデルの学習**：Prophetを用いた時系列モデルの学習。\n",
        "4. **将来予測の実施**：未来データの予測とその可視化。\n",
        "5. **予測の評価**：過去データを用いた予測の精度評価。\n",
        "6. **ゴールへの回答**：予測結果の分析と考察。\n",
        "\n",
        "**時系列分析における考察**：\n",
        "- 時系列分析では、予測結果の正確性と不確実性区間の理解が重要。\n",
        "- 誤差分析を通じて、予測の信頼性を定量的に評価する。\n",
        "- 分析結果は、具体的なビジネス戦略や個人の意思決定に役立てることが可能。\n",
        "\n"
      ],
      "metadata": {
        "id": "RezrGfxadwTT"
      }
    },
    {
      "cell_type": "markdown",
      "source": [
        "**必要なライブラリのインポート**"
      ],
      "metadata": {
        "id": "TJxjl6SNE-rf"
      }
    },
    {
      "cell_type": "code",
      "source": [
        "import pandas as pd\n",
        "import seaborn as sns\n"
      ],
      "metadata": {
        "id": "o9tIMfquXHjS"
      },
      "execution_count": null,
      "outputs": []
    },
    {
      "cell_type": "markdown",
      "source": [
        "**データの準備**\n",
        "\n",
        "> Prophetが提供しているサンプルデータ「example_air_passengers.csv」を活用\n",
        "\n"
      ],
      "metadata": {
        "id": "lZIgnH5_FBD9"
      }
    },
    {
      "cell_type": "code",
      "source": [
        "df = pd.read_csv('https://raw.githubusercontent.com/facebook/prophet/main/examples/example_air_passengers.csv')\n",
        "df\n"
      ],
      "metadata": {
        "id": "u1Ag4a9oXLeE"
      },
      "execution_count": null,
      "outputs": []
    },
    {
      "cell_type": "markdown",
      "source": [
        "\n",
        "\n",
        "> seabornのlineplot関数によって、折れ線グラフの描画\n",
        "\n"
      ],
      "metadata": {
        "id": "Gr26AVVKFLRm"
      }
    },
    {
      "cell_type": "markdown",
      "source": [
        "\n",
        "\n",
        "> xパラメータに、to_datetime関数で変換した日付データを指定することで、X軸メモリの表示バランスが自動調整されます。\n",
        "\n"
      ],
      "metadata": {
        "id": "Kkt0bX_BFSTG"
      }
    },
    {
      "cell_type": "code",
      "source": [
        "time = pd.to_datetime(df['ds'])\n",
        "sns.lineplot(x=time, y=df['y'])\n"
      ],
      "metadata": {
        "id": "xkzSFSpMXjor"
      },
      "execution_count": null,
      "outputs": []
    },
    {
      "cell_type": "markdown",
      "source": [
        "取り込んだデータにおける欠損の有無を確認"
      ],
      "metadata": {
        "id": "UDkq19OMFW94"
      }
    },
    {
      "cell_type": "code",
      "source": [
        "df.info()\n"
      ],
      "metadata": {
        "id": "jPpTH7ceXlKB"
      },
      "execution_count": null,
      "outputs": []
    },
    {
      "cell_type": "markdown",
      "source": [
        "**Prophetのインポート**\n",
        "\n",
        "\n",
        "> Prophetの仕様・ルール\n",
        "\n",
        "\n",
        "*   時間データの列名は「ds」とすること\n",
        "*   数値の列名は「y」とすること\n",
        "*   y列の値は、数値データとすること\n",
        "\n",
        "\n",
        "\n",
        "\n",
        "\n",
        "\n",
        "\n"
      ],
      "metadata": {
        "id": "ke-1kCctFhKZ"
      }
    },
    {
      "cell_type": "code",
      "source": [
        "from prophet import Prophet\n",
        "model = Prophet()\n"
      ],
      "metadata": {
        "id": "YeqWar4EXnQY"
      },
      "execution_count": null,
      "outputs": []
    },
    {
      "cell_type": "markdown",
      "source": [
        "df（過去の時系列データ）を引数に指定して、fitメソッドを実行"
      ],
      "metadata": {
        "id": "ukI7OIMoFyNW"
      }
    },
    {
      "cell_type": "code",
      "source": [
        "model.fit(df)\n"
      ],
      "metadata": {
        "id": "Y8N6PPvUXomI"
      },
      "execution_count": null,
      "outputs": []
    },
    {
      "cell_type": "markdown",
      "source": [
        ">学習済みモデルを使用して、未来のデータを予測します。\n",
        "\n",
        ">未来の日付を含む新しいDataFrameを作成するには、make_future_dataframeメソッドを使用し、追加行数をperiodsパラメータで、行間隔をfreqパラメータで指定します。\n",
        "\n",
        ">この例では、毎月初日の日付を36ヶ月分予測します。\n",
        "\n",
        "\n",
        "Alias | 日時データの間隔\n",
        "--- | ---\n",
        "D | 1日\n",
        "M | 1か月（月末）\n",
        "MS | 1か月（月初）\n",
        "H | 1時間\n"
      ],
      "metadata": {
        "id": "i84Mh6ghGLie"
      }
    },
    {
      "cell_type": "code",
      "source": [
        "future = model.make_future_dataframe(periods=36, freq='MS')\n",
        "future\n"
      ],
      "metadata": {
        "id": "0rrsptHLXqGh"
      },
      "execution_count": null,
      "outputs": []
    },
    {
      "cell_type": "markdown",
      "source": [
        "- 新しいDataFrameが作成され、1960年12月1日から3年後の1963年12月1日までの日付が含まれています。\n",
        "- このDataFrameには、合計180ヶ月分の日付が含まれ、これは12年間に3年を加えた15年間に相当します。\n",
        "- 作成されたDataFrameには日付のみが含まれており、旅客数のデータはまだ含まれていません。\n",
        "- この日付が含まれるDataFrameをpredictメソッドに渡すことで、将来の旅客数の予測が行われます。"
      ],
      "metadata": {
        "id": "2tOV7yhnGnOo"
      }
    },
    {
      "cell_type": "code",
      "source": [
        "forecast = model.predict(future)\n",
        "forecast\n"
      ],
      "metadata": {
        "id": "Emj9r9sMXruo"
      },
      "execution_count": null,
      "outputs": []
    },
    {
      "cell_type": "markdown",
      "source": [
        "これらの情報の中から、今回のゴールに関連する項目を抽出\n",
        "\n",
        "\n",
        "| 列名       | 概要                               |\n",
        "|------------|------------------------------------|\n",
        "| ds         | 日付                               |\n",
        "| yhat       | 旅客数の予測値                     |\n",
        "| yhat_lower | 予測値の不確実性区間の下限         |\n",
        "| yhat_upper | 予測値の不確実性区間の上限         |\n"
      ],
      "metadata": {
        "id": "oio5q7BiG4Po"
      }
    },
    {
      "cell_type": "code",
      "source": [
        "forecast[['ds', 'yhat', 'yhat_lower', 'yhat_upper']]\n"
      ],
      "metadata": {
        "id": "e48g3peuXtWs"
      },
      "execution_count": null,
      "outputs": []
    },
    {
      "cell_type": "markdown",
      "source": [
        ">旅客数の予測値、不確実性区間が表示されました。\n",
        "\n",
        ">これらの値をグラフ上に可視化します"
      ],
      "metadata": {
        "id": "aWgEZAziHK9K"
      }
    },
    {
      "cell_type": "code",
      "source": [
        "fig_forecast = model.plot(forecast)\n"
      ],
      "metadata": {
        "id": "1A4qS2GfXuxN"
      },
      "execution_count": null,
      "outputs": []
    },
    {
      "cell_type": "markdown",
      "source": [
        "予測の評価を行うために、Prophetの機能を利用して、過去のデータから複数のテストパターンを生成し、それを用いて予測モデルの学習とテストを行います。テストは以下の手順で実施します：\n",
        "\n",
        "1. 学習データとテストデータの選定：過去のデータを学習データとテストデータに分けて、学習データで予測モデルを学習させます。\n",
        "2. テストの実施：テストデータと予測モデルを用いて、実際の値と予測値の誤差を評価します。\n",
        "3. テストパターンの設定：cutoffs（学習データの期限）とhorizon（テスト期間）をパラメータとして設定し、複数のテストパターンを生成します。\n",
        "\n",
        "例えば、1954年12月1日、1955年12月1日、1956年12月1日、1957年12月1日をcutoffsとし、horizonを3年と設定すると、4つの異なるテストパターンを実施できます。"
      ],
      "metadata": {
        "id": "sTDBOeF8HnZm"
      }
    },
    {
      "cell_type": "code",
      "source": [
        "cutoffs = pd.to_datetime(['1954-12-01', '1955-12-01', '1956-12-01', '1957-12-01'])\n"
      ],
      "metadata": {
        "id": "1-umgbA5Xwj5"
      },
      "execution_count": null,
      "outputs": []
    },
    {
      "cell_type": "markdown",
      "source": [
        "テストパターンを作成するcross_validation関数をインポート"
      ],
      "metadata": {
        "id": "R2ic1XMVHr_3"
      }
    },
    {
      "cell_type": "code",
      "source": [
        "from prophet.diagnostics import cross_validation\n"
      ],
      "metadata": {
        "id": "pY04ob1cXx00"
      },
      "execution_count": null,
      "outputs": []
    },
    {
      "cell_type": "markdown",
      "source": [
        ">cross_validation関数を実行します。\n",
        "\n",
        ">うるう年も考慮し、365日×3+1日 = 1096日とします"
      ],
      "metadata": {
        "id": "SgFoFJWkHxE3"
      }
    },
    {
      "cell_type": "code",
      "source": [
        "df_cv = cross_validation(model, horizon = '1096 days', cutoffs=cutoffs)\n"
      ],
      "metadata": {
        "id": "TYOlViZBXzJL"
      },
      "execution_count": null,
      "outputs": []
    },
    {
      "cell_type": "markdown",
      "source": [
        "出力されたdf_cvのデータを確認"
      ],
      "metadata": {
        "id": "HfnT8ISoH5V7"
      }
    },
    {
      "cell_type": "code",
      "source": [
        "df_cv\n"
      ],
      "metadata": {
        "id": "hyJsHzOdX0ux"
      },
      "execution_count": null,
      "outputs": []
    },
    {
      "cell_type": "markdown",
      "source": [
        ">3年（36か月）×4パターン = 144行のデータが格納されていることを確認できました。また、各行にはyhat（予測値）とy（実際の値）が含まれています。これらの誤差を活用して、評価を実施します。\n",
        "\n",
        "評価指標を算出するperformance_metrics関数をインポート"
      ],
      "metadata": {
        "id": "BCaIKSxBIB4Y"
      }
    },
    {
      "cell_type": "code",
      "source": [
        "from prophet.diagnostics import performance_metrics\n"
      ],
      "metadata": {
        "id": "zABKseIqX2C1"
      },
      "execution_count": null,
      "outputs": []
    },
    {
      "cell_type": "markdown",
      "source": [
        "引数にdf_cvを指定して、performance_metrics関数を実行"
      ],
      "metadata": {
        "id": "1u7sihZSIKyR"
      }
    },
    {
      "cell_type": "code",
      "source": [
        "df_p = performance_metrics(df_cv)\n",
        "df_p.head()\n"
      ],
      "metadata": {
        "id": "DEeJceV1X3dC"
      },
      "execution_count": null,
      "outputs": []
    },
    {
      "cell_type": "markdown",
      "source": [
        "それぞれの列名が意味する評価指標は、以下のとおりです。\n",
        "\n",
        "\n",
        "| 列名    | 評価指標                           | 英語表記                          |\n",
        "|---------|------------------------------------|-----------------------------------|\n",
        "| mse     | 平均二乗誤差                       | Mean squared error                |\n",
        "| rmse    | 二乗平均平方根誤差                 | Root mean squared error           |\n",
        "| mae     | 平均絶対誤差                       | Mean absolute error               |\n",
        "| mape    | 平均絶対パーセント誤差             | Mean absolute percent error       |\n",
        "| mdape   | メディアン絶対パーセント誤差       | Median absolute percent error     |\n",
        "| smape   | 対称平均絶対パーセント誤差         | Symmetric mean absolute percentage error |\n",
        "| coverage| 不確実性区間に予測値が含まれている割合 | Coverage                          |\n"
      ],
      "metadata": {
        "id": "Y2Ze6TIYIJ0w"
      }
    },
    {
      "cell_type": "markdown",
      "source": [
        "performance_metrics関数の実行時に、monthlyパラメータにTrueを指定して、horizon列を月単位で表示"
      ],
      "metadata": {
        "id": "kzAWsdm1IqCB"
      }
    },
    {
      "cell_type": "code",
      "source": [
        "df_p = performance_metrics(df_cv, monthly=True)\n",
        "df_p.head()\n"
      ],
      "metadata": {
        "id": "p9MPhKcPX5tt"
      },
      "execution_count": null,
      "outputs": []
    },
    {
      "cell_type": "markdown",
      "source": [
        "実際の値と予測値の平均二乗誤差であるmseの推移を可視化\n",
        "\n",
        "seabornのlineplot関数を活用"
      ],
      "metadata": {
        "id": "2CNJFcuIIwgn"
      }
    },
    {
      "cell_type": "code",
      "source": [
        "sns.lineplot(x='horizon', y='mse', data=df_p)\n"
      ],
      "metadata": {
        "id": "a8LJp2-OX7Ny"
      },
      "execution_count": null,
      "outputs": []
    },
    {
      "cell_type": "markdown",
      "source": [
        ">時間の経過に伴って、徐々に誤差が増加していることが分かります。\n",
        "\n",
        ">したがって、向こう3年間の旅客数予測も、同程度の誤差が発生すると推定できます。"
      ],
      "metadata": {
        "id": "KbmeDatGI_LS"
      }
    },
    {
      "cell_type": "markdown",
      "source": [
        "不確実性区間に予測値が含まれている割合であるcoverageも、推移を可視化してみましょう"
      ],
      "metadata": {
        "id": "2ofj0cpbI6Wu"
      }
    },
    {
      "cell_type": "code",
      "source": [
        "sns.lineplot(x='horizon', y='coverage', data=df_p)\n"
      ],
      "metadata": {
        "id": "tABhqDm9X8jZ"
      },
      "execution_count": null,
      "outputs": []
    },
    {
      "cell_type": "markdown",
      "source": [
        "**まとめ**：\n",
        "- 時系列分析の理論と、Prophetライブラリを使用した具体的な分析手順の理解。\n",
        "- 時系列データの特性を把握し、未来予測に活用するスキルの習得。"
      ],
      "metadata": {
        "id": "3kWvfPXREzuN"
      }
    },
    {
      "cell_type": "markdown",
      "source": [
        "# 時系列分析②"
      ],
      "metadata": {
        "id": "9bcmPjv4YAYy"
      }
    },
    {
      "cell_type": "markdown",
      "source": [
        "**目標と概要**：\n",
        "- 目標：時系列分析における予測モデルの改善。\n",
        "- 内容：Prophetライブラリを使った時系列予測モデルの改善方法の学習。\n",
        "\n",
        "**前章のおさらい**：\n",
        "- 課題：空港の旅客数推移から、将来の旅客数を予測。\n",
        "- ゴール：3年間の旅客数予測と予測の精度の定量的評価。\n",
        "\n",
        "**データの準備**：\n",
        "- 同じデータセット（「example_air_passengers.csv」）の再利用。\n",
        "- ライブラリのインポートとデータ読み込み。\n",
        "\n",
        "**予測モデルの改善**：\n",
        "1. **改善方針の検討**：周期性変動を考慮した予測モデルの適用。\n",
        "2. **予測モデルの学習**：Prophetクラスのインスタンス化、`seasonality_mode='multiplicative'`で周期性を考慮。\n",
        "3. **予測の実施**：学習済みモデルを用いた未来予測。\n",
        "4. **予測の評価**：過去データに基づく予測精度の評価。\n",
        "5. **ゴールへの回答**：改善後の予測結果の分析と考察。\n",
        "\n",
        "**補足情報**：\n",
        "- **不確実性区間の調整**：`interval_width`パラメータで不確実性区間の調整。\n",
        "- **予測モデルの構成要素の可視化**：`plot_components`メソッドによる予測モデルの構成要素の確認。\n",
        "\n"
      ],
      "metadata": {
        "id": "CUQtEHxAeRK7"
      }
    },
    {
      "cell_type": "markdown",
      "source": [
        "**インポート**"
      ],
      "metadata": {
        "id": "f-vemQF7JLhy"
      }
    },
    {
      "cell_type": "code",
      "source": [
        "import pandas as pd\n",
        "import seaborn as sns\n"
      ],
      "metadata": {
        "id": "--yQen7eYKyR"
      },
      "execution_count": null,
      "outputs": []
    },
    {
      "cell_type": "markdown",
      "source": [
        "**データ準備**"
      ],
      "metadata": {
        "id": "cJTAt-mGJODg"
      }
    },
    {
      "cell_type": "code",
      "source": [
        "df = pd.read_csv('https://raw.githubusercontent.com/facebook/prophet/main/examples/example_air_passengers.csv')\n"
      ],
      "metadata": {
        "id": "isizwGU9YO4B"
      },
      "execution_count": null,
      "outputs": []
    },
    {
      "cell_type": "markdown",
      "source": [
        "予測モデルの改善プロセスを以下のようにまとめます：\n",
        "\n",
        "1. **改善方針の検討**\n",
        "   - 前章の旅客数予測を振り返り、周期性が徐々に増大する傾向を検討。\n",
        "   - 周期性の変動が大きくなる形式の予測モデルを試すことで、精度の向上を目指す。\n",
        "\n",
        "2. **予測モデルの学習**\n",
        "   - Prophetの調整可能なパラメータを利用してモデルを改善。\n",
        "\n",
        "3. **予測**\n",
        "   - 改善したモデルを用いて、新たな予測を実施。\n",
        "\n",
        "4. **予測の評価**\n",
        "   - 改善されたモデルの予測結果を評価。\n",
        "\n",
        "5. **設定したゴールの回答**\n",
        "   - 改善結果を検証し、目標達成度を確認。\n",
        "\n",
        "- 注記：Prophetでの予測モデルでは一部乱数を使用しているため、実行ごとに結果が多少変わることがあります。"
      ],
      "metadata": {
        "id": "YAiH04r1J0_I"
      }
    },
    {
      "cell_type": "markdown",
      "source": [
        "**予測モデルの学習**"
      ],
      "metadata": {
        "id": "iKFcPgkkJ6Wv"
      }
    },
    {
      "cell_type": "code",
      "source": [
        "from prophet import Prophet\n",
        "model = Prophet(seasonality_mode='multiplicative')\n"
      ],
      "metadata": {
        "id": "fI1aVlB9YR8Y"
      },
      "execution_count": null,
      "outputs": []
    },
    {
      "cell_type": "markdown",
      "source": [
        "過去の時系列データであるdfを引数に指定して、fitメソッドを実行"
      ],
      "metadata": {
        "id": "FHPPf9_eJ51K"
      }
    },
    {
      "cell_type": "code",
      "source": [
        "model.fit(df)\n"
      ],
      "metadata": {
        "id": "g51Yg3yAYTo2"
      },
      "execution_count": null,
      "outputs": []
    },
    {
      "cell_type": "markdown",
      "source": [
        "**予測**"
      ],
      "metadata": {
        "id": "ssafJqHjKAKp"
      }
    },
    {
      "cell_type": "markdown",
      "source": [
        "\n",
        "\n",
        "> 向こう3年（36か月）における毎月初日の旅客数を予測するため、periodsパラメータに36、freqパラメータにMSを指定\n",
        "\n"
      ],
      "metadata": {
        "id": "08fN7XslKBGB"
      }
    },
    {
      "cell_type": "code",
      "source": [
        "future = model.make_future_dataframe(periods=36, freq='MS')\n"
      ],
      "metadata": {
        "id": "_XPQKphKYWYV"
      },
      "execution_count": null,
      "outputs": []
    },
    {
      "cell_type": "markdown",
      "source": [
        "\n",
        "\n",
        "> future（生成された予測の枠組みのDataFrame）を引数に指定して、predictメソッドで予測\n",
        "\n"
      ],
      "metadata": {
        "id": "hHgTkKlFKK-f"
      }
    },
    {
      "cell_type": "code",
      "source": [
        "forecast = model.predict(future)\n"
      ],
      "metadata": {
        "id": "S6TkXs9fYZLz"
      },
      "execution_count": null,
      "outputs": []
    },
    {
      "cell_type": "markdown",
      "source": [
        "\n",
        "\n",
        "> 出力された予測値や、不確実性区間を確認\n",
        "\n"
      ],
      "metadata": {
        "id": "mm9Ymx0YKMxj"
      }
    },
    {
      "cell_type": "code",
      "source": [
        "forecast[['ds', 'yhat', 'yhat_lower', 'yhat_upper']]\n"
      ],
      "metadata": {
        "id": "PLNwThEdYbc8"
      },
      "execution_count": null,
      "outputs": []
    },
    {
      "cell_type": "markdown",
      "source": [
        ">グラフ上に可視化"
      ],
      "metadata": {
        "id": "oosoyRqhKTbp"
      }
    },
    {
      "cell_type": "code",
      "source": [
        "fig_forecast = model.plot(forecast)\n"
      ],
      "metadata": {
        "id": "SeD32ClOYdlB"
      },
      "execution_count": null,
      "outputs": []
    },
    {
      "cell_type": "markdown",
      "source": [
        "以上で、予測は完了です。\n",
        "\n"
      ],
      "metadata": {
        "id": "Qfg51rZ1KYZ_"
      }
    },
    {
      "cell_type": "markdown",
      "source": [
        "**予測の評価**"
      ],
      "metadata": {
        "id": "FJIfTcviKZPM"
      }
    },
    {
      "cell_type": "markdown",
      "source": [
        ">前章と同様のテストパターンを実施します。\n",
        "\n",
        ">まずはcutoffsとして、4つの日付を持つデータを作成"
      ],
      "metadata": {
        "id": "i2lbniLoKf-R"
      }
    },
    {
      "cell_type": "code",
      "source": [
        "cutoffs = pd.to_datetime(['1954-12-01', '1955-12-01', '1956-12-01', '1957-12-01'])\n"
      ],
      "metadata": {
        "id": "d2ZhneBPYfFJ"
      },
      "execution_count": null,
      "outputs": []
    },
    {
      "cell_type": "markdown",
      "source": [
        ">cross_validation関数をインポートし、実行してテストパターンを作成\n",
        "\n",
        ">（うるう年も考慮に入れます。）"
      ],
      "metadata": {
        "id": "PRPPtlmiKnHZ"
      }
    },
    {
      "cell_type": "code",
      "source": [
        "from prophet.diagnostics import cross_validation\n",
        "df_cv = cross_validation(model, horizon = '1096 days', cutoffs=cutoffs)\n"
      ],
      "metadata": {
        "id": "8mLjRCCyYga6"
      },
      "execution_count": null,
      "outputs": []
    },
    {
      "cell_type": "markdown",
      "source": [
        ">df_cvをもとに各評価指標を算出します\n",
        "\n",
        "\n",
        ">performance_metrics関数をインポートし、引数にdf_cvとmonthly=Trueを指定して実行\n"
      ],
      "metadata": {
        "id": "o0YhUGd5Kx61"
      }
    },
    {
      "cell_type": "code",
      "source": [
        "from prophet.diagnostics import performance_metrics\n",
        "df_p = performance_metrics(df_cv, monthly=True)\n",
        "df_p.head()\n"
      ],
      "metadata": {
        "id": "xeAy2cGBYikt"
      },
      "execution_count": null,
      "outputs": []
    },
    {
      "cell_type": "markdown",
      "source": [
        ">グラフに可視化します。\n",
        "\n",
        ">前章のグラフと比較しやすいように、y軸のスケールを調整\n",
        "\n",
        ">setメソッドのylimパラメータに、y軸の下限と上限を指定して実行すると、y軸のスケールを調整できます"
      ],
      "metadata": {
        "id": "CrsUgOn6K91Y"
      }
    },
    {
      "cell_type": "code",
      "source": [
        "sns.lineplot(x='horizon', y='mse', data=df_p).set(ylim=(0, 5000))\n"
      ],
      "metadata": {
        "id": "vytzIcW1Yj-J"
      },
      "execution_count": null,
      "outputs": []
    },
    {
      "cell_type": "markdown",
      "source": [
        "不確実性区間に予測値が含まれている割合である、coverageの推移を確認"
      ],
      "metadata": {
        "id": "ZkfNqDjZLJ3o"
      }
    },
    {
      "cell_type": "code",
      "source": [
        "sns.lineplot(x='horizon', y='coverage', data=df_p)\n"
      ],
      "metadata": {
        "id": "8kF8tyEUYlUd"
      },
      "execution_count": null,
      "outputs": []
    },
    {
      "cell_type": "markdown",
      "source": [
        "**設定したゴールの回答**\n",
        "\n",
        "\n",
        "\n",
        "*   向こう3年の旅客数の予測推移をグラフで可視化する\n",
        "\n",
        "*   どの程度、予測が的中しそうか定量的に明示する\n",
        "\n"
      ],
      "metadata": {
        "id": "d8BmR89MLN9z"
      }
    },
    {
      "cell_type": "markdown",
      "source": [
        "予測モデルの改善結果を以下のようにまとめます：\n",
        "\n",
        "1. **向こう3年の旅客数予測**\n",
        "   - 1961/1/1～1963/12/1の期間の予測結果。\n",
        "   - 黒点：実際の旅客数。\n",
        "   - 青ライン：予測値。\n",
        "   - 水色エリア：不確実性区間。\n",
        "\n",
        "2. **不確実性区間の分析**\n",
        "   - 実際の値が含まれる割合：0-40%程度。\n",
        "   - 予測値と実際の値の誤差：時間の経過と共に増加する傾向。\n",
        "\n",
        "3. **改善の成果**\n",
        "   - 周期性変動を考慮したモデルで改善を実現。\n",
        "   - 改善は1つの手段であり、他の方法や時系列データの種類によって異なる改善方針が考えられる。"
      ],
      "metadata": {
        "id": "K_6Ru9fGLwSi"
      }
    },
    {
      "cell_type": "markdown",
      "source": [
        "\n",
        "\n",
        "> Prophetでは、不確実性区間の幅は`interval_width`パラメータで調整可能で、デフォルト設定は0.8です。この幅を変更することで、予測値が含まれる割合（coverage）も変化します。\n",
        "\n"
      ],
      "metadata": {
        "id": "F04XAYspMHla"
      }
    },
    {
      "cell_type": "code",
      "source": [
        "model = Prophet(seasonality_mode='multiplicative',interval_width=0.95)\n"
      ],
      "metadata": {
        "id": "AfL_IQOQYn28"
      },
      "execution_count": null,
      "outputs": []
    },
    {
      "cell_type": "markdown",
      "source": [
        "同様の手順で予測結果を表示"
      ],
      "metadata": {
        "id": "4K9OLC2hMPV8"
      }
    },
    {
      "cell_type": "code",
      "source": [
        "# 予測モデルの学習\n",
        "model.fit(df)\n",
        "\n",
        "# 予測期間を指定してDataFrameを生成\n",
        "future = model.make_future_dataframe(periods=36, freq='MS')\n",
        "\n",
        "# 予測\n",
        "forecast = model.predict(future)\n",
        "\n",
        "# グラフの出力\n",
        "fig_forecast = model.plot(forecast)\n"
      ],
      "metadata": {
        "id": "jenh3a1FYpuS"
      },
      "execution_count": null,
      "outputs": []
    },
    {
      "cell_type": "markdown",
      "source": [
        "先程の不確実性区間より、幅が広がっていることを確認できます。\n",
        "\n",
        "数値データでも確認してみましょう"
      ],
      "metadata": {
        "id": "Z887tp2bMWjg"
      }
    },
    {
      "cell_type": "code",
      "source": [
        "forecast[['ds', 'yhat', 'yhat_lower', 'yhat_upper']]\n"
      ],
      "metadata": {
        "id": "5COfQ6xjYrsB"
      },
      "execution_count": null,
      "outputs": []
    },
    {
      "cell_type": "markdown",
      "source": [
        "interval_width=0.95のほうが、より広い不確実性区間を持つことを確認できます。\n",
        "\n",
        "この予測モデルで、coverageを算出してみましょう。"
      ],
      "metadata": {
        "id": "qOGMXYb0Mewx"
      }
    },
    {
      "cell_type": "code",
      "source": [
        "# テストの実施と評価指標の算出\n",
        "df_cv = cross_validation(model, horizon = '1096 days', cutoffs=cutoffs)\n",
        "df_p = performance_metrics(df_cv, monthly=True)\n",
        "\n",
        "# グラフの出力\n",
        "sns.lineplot(x=\"horizon\", y=\"coverage\", data=df_p)\n"
      ],
      "metadata": {
        "id": "GH0MFT7BYtTT"
      },
      "execution_count": null,
      "outputs": []
    },
    {
      "cell_type": "markdown",
      "source": [
        "Interval_wideが0.8（デフォルト）のときと、0.95のときで比較しましょう。\n",
        "\n",
        "比較しやすいように、まずはsetメソッドでy軸のスケールを変更します。"
      ],
      "metadata": {
        "id": "J84dNV2SMkB_"
      }
    },
    {
      "cell_type": "code",
      "source": [
        "sns.lineplot(x=\"horizon\", y=\"coverage\", data=df_p).set(ylim=(0, 0.46))\n"
      ],
      "metadata": {
        "id": "cQ70mUaOYvB8"
      },
      "execution_count": null,
      "outputs": []
    },
    {
      "cell_type": "markdown",
      "source": [
        "Interval_wideの設定値を上げて不確実性区間を広げると、下記のとおりcoverageのスコアも上昇していることを確認できます。\n",
        "\n",
        "\n",
        "分析の課題やゴールの性質に応じて、不確実性区間の幅を調整しましょう。"
      ],
      "metadata": {
        "id": "CUhhSepjMpms"
      }
    },
    {
      "cell_type": "markdown",
      "source": [
        "- Prophetの予測モデルは長期的トレンド、周期性（年・週・日）、休日やイベント効果などの要素から構成されます。\n",
        "- `plot_component`メソッドを使うと、これらの要素を個別に分解して視覚化することが可能です。"
      ],
      "metadata": {
        "id": "5Im3X1H2M5ZE"
      }
    },
    {
      "cell_type": "code",
      "source": [
        "fig_components = model.plot_components(forecast)\n"
      ],
      "metadata": {
        "id": "GCK8nid9YwqK"
      },
      "execution_count": null,
      "outputs": []
    },
    {
      "cell_type": "markdown",
      "source": [
        "**まとめ**：\n",
        "- 時系列分析における予測モデルの改善方法の学習。\n",
        "- Prophetライブラリのパラメータ調整による予測精度の向上。\n",
        "- 時系列データの特性を考慮した予測モデルの構築。"
      ],
      "metadata": {
        "id": "2hd0Iyz2JIeI"
      }
    }
  ]
}