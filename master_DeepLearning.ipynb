{
  "nbformat": 4,
  "nbformat_minor": 0,
  "metadata": {
    "colab": {
      "provenance": [],
      "gpuType": "T4",
      "include_colab_link": true
    },
    "kernelspec": {
      "name": "python3",
      "display_name": "Python 3"
    },
    "language_info": {
      "name": "python"
    },
    "accelerator": "GPU"
  },
  "cells": [
    {
      "cell_type": "markdown",
      "metadata": {
        "id": "view-in-github",
        "colab_type": "text"
      },
      "source": [
        "<a href=\"https://colab.research.google.com/github/slz520f/github-basic-kadai/blob/main/master_DeepLearning.ipynb\" target=\"_parent\"><img src=\"https://colab.research.google.com/assets/colab-badge.svg\" alt=\"Open In Colab\"/></a>"
      ]
    },
    {
      "cell_type": "markdown",
      "source": [
        "# 一時ファイルの削除（最初に実行してください）"
      ],
      "metadata": {
        "id": "pWpFbmd0fSA6"
      }
    },
    {
      "cell_type": "code",
      "source": [
        "import os\n",
        "import shutil\n",
        "\n",
        "# Google Driveのアンマウントを試みる\n",
        "try:\n",
        "    drive.flush_and_unmount()\n",
        "    print(\"Google Driveがアンマウントされました。\")\n",
        "except:\n",
        "    print(\"Google Driveは既にアンマウントされています、またはアンマウントできませんでした。\")\n",
        "\n",
        "# /content ディレクトリ内のファイルとディレクトリを削除\n",
        "for item in os.listdir('/content'):\n",
        "    if item != 'drive':  # Google Driveのディレクトリを除外\n",
        "        path = os.path.join('/content', item)\n",
        "        if os.path.isdir(path):\n",
        "            shutil.rmtree(path)\n",
        "        else:\n",
        "            os.remove(path)\n",
        "\n",
        "print(\"/content ディレクトリからGoogle Driveを除外して、その他のデータを削除しました。\")\n"
      ],
      "metadata": {
        "colab": {
          "base_uri": "https://localhost:8080/"
        },
        "id": "xK4GOLuGfQF7",
        "outputId": "0815f0f2-66c7-4f03-b5e0-275ef2583346"
      },
      "execution_count": null,
      "outputs": [
        {
          "output_type": "stream",
          "name": "stdout",
          "text": [
            "Google Driveは既にアンマウントされています、またはアンマウントできませんでした。\n",
            "/content ディレクトリからGoogle Driveを除外して、その他のデータを削除しました。\n"
          ]
        }
      ]
    },
    {
      "cell_type": "markdown",
      "source": [
        "# ディープラーニングとは」:"
      ],
      "metadata": {
        "id": "XYxpCM3mZWQ8"
      }
    },
    {
      "cell_type": "markdown",
      "source": [
        "**「ディープラーニングとは」:**\n",
        "\n",
        "- **ディープラーニングの概要**:\n",
        "  - ニューラルネットワークのような階層構造を持つ予測モデルを学習する手法。\n",
        "  - 学習には大量のデータが必要で、高負荷な計算処理が行われる。\n",
        "  - 学習された予測モデルは性能が高い傾向にある。\n",
        "\n",
        "- **ニューラルネットワークの基本**:\n",
        "  - 人間の神経細胞に着想を得た予測モデル。\n",
        "  - 高い予測精度を持つが、学習に時間がかかり、予測根拠の説明が難しい。\n",
        "  - 構成要素はノード（閾値を持つ）とエッジ（重みを持つ）。\n",
        "  - 各ノードの縦方向のまとまりを「層」と呼ぶ。\n",
        "\n",
        "- **ニューラルネットワークの計算処理**:\n",
        "  - ノードでは入力値、重み、閾値による計算と、活性化関数による計算が行われる。\n",
        "  - 予測値の算出には、重み、閾値、活性化関数の組み合わせが重要。\n",
        ":"
      ],
      "metadata": {
        "id": "eTnEnxpWSxoh"
      }
    },
    {
      "cell_type": "markdown",
      "source": [
        "\n",
        "\n",
        ">ディープラーニングとは、予測モデルを作るために大量のデータを使って学習させる方法です。\n",
        "\n",
        ">コンピュータが非常に複雑な問題を解くようなイメージ。\n",
        "\n",
        ">中心になるのがニューラルネットワークで、これは人間の脳の神経細胞をモデルにしたものです。\n",
        "\n",
        ">データの流れや処理方法が複雑で、パズルのような構造をしています。\n",
        "\n",
        ">ニューラルネットワークは学習に時間がかかりますが、その分、予測の精度は非常に高くなります。ただし、その予測結果がなぜ出たのかを説明するのは難しいです。\n",
        "\n",
        ">データは「ノード」と呼ばれる部分で処理され、次のノードへと伝達されます。このプロセスが繰り返され、最終的に予測結果が出力されます。\n"
      ],
      "metadata": {
        "id": "LT7NngWCS4Qp"
      }
    },
    {
      "cell_type": "markdown",
      "source": [
        "**「ディープラーニング（深層学習）とは #2」**\n",
        "\n",
        "- **ニューラルネットワークの構造と活性化関数**:\n",
        "  - 予測には「ニューラルネットワークの構造」と「活性化関数」が重要。\n",
        "  - 入力層のノード数は予測対象データの要素数に、出力層のノード数は予測結果の要素数に一致させる。\n",
        "  - 隠れ層の構造は実装者が設計。\n",
        "\n",
        "- **学習プロセス**:\n",
        "  - 学習は、予測値と理想値の誤差を小さくすること。\n",
        "  - 重みと閾値は学習を通じてコンピュータが決定。\n",
        "  - 学習プロセスは、予測値算出、誤差計算、重みと閾値の更新の繰り返し。\n",
        "\n",
        "- **ハイパーパラメータ**:\n",
        "  - 学習率、バッチサイズ、エポック数などが調整可能。\n",
        "  - 適切な設定は試行錯誤が必要。\n",
        "\n",
        "\n",
        "\n",
        ">ニューラルネットワークを作る時、どんな形（構造）にするかと、どの活性化関数を使うかは自分で決めないといけません。入力データや出力したい予測結果に合わせて、ノードの数を設定します。\n",
        ">学習というのは、コンピュータがたくさんのデータから、何が正解かを徐々に学んでいくこと。間違っていたら、少しずつ修正していきます。\n",
        "\n",
        ">学習には「学習率」とか「バッチサイズ」とか「エポック数」という、いくつかの設定（ハイパーパラメータ）があって、これらをうまく調整するのが大事です。でも、最適な設定を見つけるのは何度もトライアンドエラーが必要。\n"
      ],
      "metadata": {
        "id": "FaW0ofS6T0Rx"
      }
    },
    {
      "cell_type": "markdown",
      "source": [
        "# 「TensorFlow・Kerasとは #1」"
      ],
      "metadata": {
        "id": "7l5VrjUjZPTJ"
      }
    },
    {
      "cell_type": "markdown",
      "source": [
        "- **TensorFlowの概要**:\n",
        "  - Googleが開発した機械学習ライブラリ。\n",
        "  - ニューラルネットワーク構築に必要な機能を提供。\n",
        "\n",
        "- **Kerasの概要**:\n",
        "  - Pythonで記述されたニューラルネットワーク構築ライブラリ。\n",
        "  - 2017年にTensorFlowに統合され、現在はtf.kerasモジュールとして利用可能。\n",
        "  - シンプルで直感的なニューラルネットワーク構築が可能。\n",
        "\n",
        "- **ニューラルネットワーク構築の流れ**:\n",
        "  - データ取得 → データ前処理 → ニューラルネットワーク構造定義 → 損失関数・最適化方法設定 → 学習 → 評価 → 予測。\n",
        "  - 前処理には次元変更、スケーリング、One-hotベクトル化などが含まれる。\n",
        "\n",
        "<br>\n",
        "\n",
        ">TensorFlowは、Googleが作った機械学習用のライブラリで、ニューラルネットワークを作るのに色々な機能があります。\n",
        "\n",
        ">Kerasはもともと別のライブラリでしたが、今はTensorFlowの一部になっていて、ニューラルネットワークを作るのが簡単にできるようになっています。\n",
        "\n",
        ">ニューラルネットワークを作るときの流れとしては、まずデータを集めて、それを整える前処理をして、ネットワークの形を決めて、どんな風に学習させるかを設定して、学習させて、どれくらいうまくいったか評価して、最終的には予測をするというステップを踏みます。\n",
        "\n"
      ],
      "metadata": {
        "id": "ZB0Zg3XrU8Bs"
      }
    },
    {
      "cell_type": "markdown",
      "source": [
        "# 「TensorFlow・Kerasとは #2」\n"
      ],
      "metadata": {
        "id": "q0-qM9gyY99E"
      }
    },
    {
      "cell_type": "markdown",
      "source": [
        "- **目標**:\n",
        "  - Kerasの機能を理解し、ニューラルネットワーク構築の流れを体験。\n",
        "\n",
        "- **プログラミングの流れ**:\n",
        "  - データ取得（Fashion-MNIST）、前処理、ニューラルネットワークの定義、損失関数・最適化方法・評価指標の設定、学習、評価、予測。\n",
        "\n",
        "- **実装手順**:\n",
        "  - TensorFlowとKerasを用いてFashion-MNISTデータセットをロード。\n",
        "  - データをOne-hotベクトル化、スケーリング。\n",
        "  - Sequentialモデルでニューラルネットワークを構築。\n",
        "  - 損失関数はカテゴリ交差エントロピー、最適化手法はAdam。\n",
        "  - モデルの学習と評価。\n",
        "  - 未知データの予測。\n",
        "\n",
        "**One-hotベクトルとは？**\n",
        "\n",
        "カテゴリカルデータ(例：色や都道府県など)\n",
        "を、機械学習アルゴリズムに適した形式に変換する手法です。\n",
        ">One-hotベクトル化は、機械学習やデータ処理の分野でよく使われるテクニックです。これは、カテゴリカルなデータを数値データに変換するための方法です。具体的には、カテゴリカルな要素が持つ異なる値を、バイナリベクトル（0と1から成るベクトル）に変換することを指します。\n",
        "\n",
        ">例を使って説明しましょう。仮に、あるカテゴリカルな特徴が「赤」「青」「緑」という3つのカテゴリで表されているとしましょう。これをOne-hotベクトル化すると、それぞれのカテゴリに対応する位置に1を立て、他の位置には0を立てたベクトルが生成されます。具体的には次のようになります：\n",
        "\n",
        "- 赤: [1, 0, 0]\n",
        "- 青: [0, 1, 0]\n",
        "- 緑: [0, 0, 1]\n",
        "\n",
        ">このように変換することで、カテゴリカルなデータを機械学習モデルに入力する際に、数値データとして扱えるようになります。各カテゴリの特徴が独立したバイナリ情報として表現されるため、モデルがパターンを学習しやすくなります。\n",
        "\n",
        "\n",
        "\n",
        "**まとめ**\n",
        "\n",
        ">この章では、Kerasという便利なライブラリを使って、衣類の画像を分類するニューラルネットワークを作る流れを体験します。\n",
        "\n",
        ">最初に、Fashion-MNISTという、色んな服の画像が入ったデータセットを使います。これを取得して、データを整える前処理を行います。\n",
        "\n",
        ">次に、KerasのSequentialモデルを使って、ネットワークの各層を定義します。ネットワークをどう学習させるかも設定します。\n",
        "\n",
        ">学習させたモデルを使って、どれくらいうまくいったかを評価します。最後に、新しい画像に対する予測をしてみます。\n",
        "\n"
      ],
      "metadata": {
        "id": "HyNmgG1zVVcy"
      }
    },
    {
      "cell_type": "markdown",
      "source": [
        "**TensorFlowとKerasを用いたニューラルネットワーク構築のコード例**\n",
        "\n",
        "\n"
      ],
      "metadata": {
        "id": "lEZKnzJNW9vt"
      }
    },
    {
      "cell_type": "markdown",
      "source": [
        "1. **TensorFlowとKerasのインポート**:"
      ],
      "metadata": {
        "id": "zPvyHVn3AcOl"
      }
    },
    {
      "cell_type": "code",
      "source": [
        "import tensorflow as tf"
      ],
      "metadata": {
        "id": "CfC8kH5ZAhZ2"
      },
      "execution_count": null,
      "outputs": []
    },
    {
      "cell_type": "markdown",
      "source": [
        "2. **Fashion-MNISTデータセットのロード**:"
      ],
      "metadata": {
        "id": "9RXVub_gALvv"
      }
    },
    {
      "cell_type": "code",
      "source": [
        "data = tf.keras.datasets.fashion_mnist.load_data()"
      ],
      "metadata": {
        "id": "2I-vZCPXAqXB"
      },
      "execution_count": null,
      "outputs": []
    },
    {
      "cell_type": "code",
      "source": [
        "data"
      ],
      "metadata": {
        "id": "aRic9QfrCj2o"
      },
      "execution_count": null,
      "outputs": []
    },
    {
      "cell_type": "code",
      "source": [
        "(x_train, y_train), (x_test, y_test) = data"
      ],
      "metadata": {
        "id": "cpRLftblCjvO"
      },
      "execution_count": null,
      "outputs": []
    },
    {
      "cell_type": "markdown",
      "source": [
        "3. **データの前処理**:\n",
        "   - One-hotベクトル化:"
      ],
      "metadata": {
        "id": "LOMRKBXtAuap"
      }
    },
    {
      "cell_type": "code",
      "source": [
        "print(y_train, len(y_train), set(y_train))\n"
      ],
      "metadata": {
        "id": "rx98S4BNC0zc"
      },
      "execution_count": null,
      "outputs": []
    },
    {
      "cell_type": "code",
      "source": [
        "from tensorflow.keras import utils"
      ],
      "metadata": {
        "id": "Pg1aiPhVAzBG"
      },
      "execution_count": null,
      "outputs": []
    },
    {
      "cell_type": "code",
      "source": [
        "y_train = utils.to_categorical(y_train)\n",
        "y_train"
      ],
      "metadata": {
        "id": "Ov_wcD2fDCXI"
      },
      "execution_count": null,
      "outputs": []
    },
    {
      "cell_type": "code",
      "source": [
        "y_test = utils.to_categorical(y_test)"
      ],
      "metadata": {
        "id": "6BmGzZ5FDBu3"
      },
      "execution_count": null,
      "outputs": []
    },
    {
      "cell_type": "markdown",
      "source": [
        "   - スケーリング:\n"
      ],
      "metadata": {
        "id": "mm6iK1mBA3mU"
      }
    },
    {
      "cell_type": "code",
      "source": [
        "x_train = x_train / 255\n",
        "x_test = x_test / 255"
      ],
      "metadata": {
        "id": "L8sDqKQsA7sK"
      },
      "execution_count": null,
      "outputs": []
    },
    {
      "cell_type": "markdown",
      "source": [
        "4. **ニューラルネットワーク構造の定義**:"
      ],
      "metadata": {
        "id": "6_by8ZGABAdy"
      }
    },
    {
      "cell_type": "code",
      "source": [
        "from tensorflow.keras.models import Sequential\n",
        "from tensorflow.keras.layers import Flatten, Dense"
      ],
      "metadata": {
        "id": "uB-R73p_BENv"
      },
      "execution_count": null,
      "outputs": []
    },
    {
      "cell_type": "code",
      "source": [
        "model = Sequential()\n",
        "model.add(Flatten(input_shape=(28, 28)))\n",
        "model.add(Dense(128, activation='relu'))\n",
        "model.add(Dense(10, activation='softmax'))"
      ],
      "metadata": {
        "id": "l0HEn7-gDPeZ"
      },
      "execution_count": null,
      "outputs": []
    },
    {
      "cell_type": "code",
      "source": [
        "model.summary()\n"
      ],
      "metadata": {
        "id": "PjtUg2e8DZwq"
      },
      "execution_count": null,
      "outputs": []
    },
    {
      "cell_type": "markdown",
      "source": [
        "5. **損失関数、最適化方法、評価指標の設定**:\n"
      ],
      "metadata": {
        "id": "1baUTXlJBIFU"
      }
    },
    {
      "cell_type": "code",
      "source": [
        "model.compile(loss='categorical_crossentropy',\n",
        "    optimizer='adam',\n",
        "    metrics='accuracy')"
      ],
      "metadata": {
        "id": "yqO1zoSRBKvp"
      },
      "execution_count": null,
      "outputs": []
    },
    {
      "cell_type": "markdown",
      "source": [
        "\n",
        "6. **ニューラルネットワークの学習**:"
      ],
      "metadata": {
        "id": "JMICEaXGBPFe"
      }
    },
    {
      "cell_type": "code",
      "source": [
        "model.fit(x_train, y_train, batch_size=32, epochs=5)"
      ],
      "metadata": {
        "id": "3O_fmib2BUuc"
      },
      "execution_count": null,
      "outputs": []
    },
    {
      "cell_type": "markdown",
      "source": [
        "7. **ニューラルネットワークの評価**:\n"
      ],
      "metadata": {
        "id": "_8nh4IMUBW--"
      }
    },
    {
      "cell_type": "code",
      "source": [
        "model.evaluate(x_test, y_test)"
      ],
      "metadata": {
        "id": "JuuyJfO1BZ5F"
      },
      "execution_count": null,
      "outputs": []
    },
    {
      "cell_type": "markdown",
      "source": [
        "8. **未知データの予測**:\n",
        "   - 外部画像の取り込みと前処理:\n"
      ],
      "metadata": {
        "id": "cLhPRR6xBd3i"
      }
    },
    {
      "cell_type": "code",
      "source": [
        "from tensorflow.keras.preprocessing.image import load_img\n"
      ],
      "metadata": {
        "id": "8MiPPlFsDqm8"
      },
      "execution_count": null,
      "outputs": []
    },
    {
      "cell_type": "markdown",
      "source": [
        "データをGooglecolabへアップロード"
      ],
      "metadata": {
        "id": "Mljg-7bEBmmL"
      }
    },
    {
      "cell_type": "code",
      "source": [
        "import requests\n",
        "\n",
        "# Google DriveのファイルID\n",
        "file_id = '1OAa9oYJxqyXUq-0Ks4goDui5G_3-4msJ'\n",
        "\n",
        "# ダウンロードURLの生成\n",
        "url = f'https://drive.google.com/uc?id={file_id}'\n",
        "\n",
        "# ファイル名（適宜変更してください）\n",
        "file_name = 'unknown_sneaker.png'\n",
        "\n",
        "# URLからファイルをダウンロード\n",
        "response = requests.get(url)\n",
        "response.raise_for_status()  # エラーがあればここで例外を発生させる\n",
        "\n",
        "# contentディレクトリにファイルを保存\n",
        "with open(f'/content/{file_name}', 'wb') as f:\n",
        "    f.write(response.content)\n",
        "\n",
        "print(f'ファイル {file_name} が/contentに保存されました。')\n"
      ],
      "metadata": {
        "id": "r41xjK3tO-TA"
      },
      "execution_count": null,
      "outputs": []
    },
    {
      "cell_type": "markdown",
      "source": [
        "[unknown_sneaker.png](https://drive.google.com/file/d/1OAa9oYJxqyXUq-0Ks4goDui5G_3-4msJ/view?usp=share_link)"
      ],
      "metadata": {
        "id": "EBZCmQZYDyWa"
      }
    },
    {
      "cell_type": "code",
      "source": [
        "img = load_img('/content/unknown_sneaker.png', target_size=(28, 28), color_mode = 'grayscale')\n",
        "img"
      ],
      "metadata": {
        "id": "KasBRYcWDvE6"
      },
      "execution_count": null,
      "outputs": []
    },
    {
      "cell_type": "code",
      "source": [
        "from tensorflow.keras.preprocessing.image import img_to_array\n"
      ],
      "metadata": {
        "id": "wE3ex9E4BhJy"
      },
      "execution_count": null,
      "outputs": []
    },
    {
      "cell_type": "code",
      "source": [
        "array = img_to_array(img)\n",
        "array"
      ],
      "metadata": {
        "id": "O-DsfhOaERkE"
      },
      "execution_count": null,
      "outputs": []
    },
    {
      "cell_type": "code",
      "source": [
        "array.shape"
      ],
      "metadata": {
        "id": "HFxJLVbCEUQ2"
      },
      "execution_count": null,
      "outputs": []
    },
    {
      "cell_type": "code",
      "source": [
        "print(x_train.shape, x_test.shape)\n"
      ],
      "metadata": {
        "id": "7rF3HTKPEZXU"
      },
      "execution_count": null,
      "outputs": []
    },
    {
      "cell_type": "code",
      "source": [
        "import numpy as np\n",
        "array = array.reshape((1, 28, 28))\n",
        "array.shape"
      ],
      "metadata": {
        "id": "hHErX1UuEb5s"
      },
      "execution_count": null,
      "outputs": []
    },
    {
      "cell_type": "code",
      "source": [
        "array = array/225\n"
      ],
      "metadata": {
        "id": "EHhZQyTBEfIk"
      },
      "execution_count": null,
      "outputs": []
    },
    {
      "cell_type": "markdown",
      "source": [
        "   - 予測:\n"
      ],
      "metadata": {
        "id": "eTYLEP9JBmoo"
      }
    },
    {
      "cell_type": "code",
      "source": [
        "model.predict(array)"
      ],
      "metadata": {
        "id": "KxLa8f1PBokH"
      },
      "execution_count": null,
      "outputs": []
    },
    {
      "cell_type": "markdown",
      "source": [
        "Fashion-MNISTデータセットを使って10種類の衣類を分類するニューラルネットワークを構築し、学習・評価・予測するフローを示しています。"
      ],
      "metadata": {
        "id": "rpedr_gRBspb"
      }
    },
    {
      "cell_type": "markdown",
      "source": [
        "# Kerasで手書き数字（MNIST）を判定するニューラルネットワーク構築"
      ],
      "metadata": {
        "id": "faMA-6O0aasE"
      }
    },
    {
      "cell_type": "markdown",
      "source": [
        "1. **目標**: Kerasを用いた手書き数字のニューラルネットワーク判定の構築。\n",
        "2. **全体の流れ**: データの取得、前処理、ニューラルネットワーク構造の検討、定義、学習、評価、未知データの予測。\n",
        "3. **乱数の固定**: 再現性のため、乱数を固定。\n",
        "4. **データの取得**: MNISTデータセット（0-9の手書き数字）を使用。\n",
        "5. **データの前処理**: スケーリング（画像データ）、One-hotベクトル化（ラベルデータ）。\n",
        "6. **ニューラルネットワーク構造の検討**: 入力層（784ノード）、出力層（10ノード、ソフトマックス関数）、隠れ層（1層、32ノード、ReLU関数）。\n",
        "\n",
        ">この教材では、Kerasを使って手書き数字を判定するニューラルネットワークを作る方法を学びます。最初に乱数を固定して、MNISTデータセットを使って、データを取得して前処理します。ニューラルネットワークの構造は、入力層に784ノード、出力層に10ノードとソフトマックス関数、隠れ層に32ノードとReLU関数を使います。この流れで学習して、最終的には未知のデータを予測できるようになります。\n",
        "\n"
      ],
      "metadata": {
        "id": "OFo6LKYNaX2D"
      }
    },
    {
      "cell_type": "markdown",
      "source": [
        "1. **乱数の固定**:\n"
      ],
      "metadata": {
        "id": "_JOl3zfQcCNv"
      }
    },
    {
      "cell_type": "code",
      "source": [
        "import tensorflow as tf\n",
        "from tensorflow.keras import utils"
      ],
      "metadata": {
        "id": "kKqJNtY3cLg1"
      },
      "execution_count": null,
      "outputs": []
    },
    {
      "cell_type": "code",
      "source": [
        "utils.set_random_seed(0)"
      ],
      "metadata": {
        "id": "sVvkBVSvkVZI"
      },
      "execution_count": null,
      "outputs": []
    },
    {
      "cell_type": "markdown",
      "source": [
        ">このコードは、Kerasで使用される乱数を固定するためのものです。乱数を固定することで、ニューラルネットワークの学習結果が再現可能になります。\n"
      ],
      "metadata": {
        "id": "mp29qm9TcPRV"
      }
    },
    {
      "cell_type": "markdown",
      "source": [
        "2. **データの取得**:\n"
      ],
      "metadata": {
        "id": "m4BKlMKscVPl"
      }
    },
    {
      "cell_type": "code",
      "source": [
        "import tensorflow as tf"
      ],
      "metadata": {
        "id": "uU9oYtQOcS79"
      },
      "execution_count": null,
      "outputs": []
    },
    {
      "cell_type": "code",
      "source": [
        "data = tf.keras.datasets.mnist.load_data()"
      ],
      "metadata": {
        "id": "MpkL0CJXmHff",
        "colab": {
          "base_uri": "https://localhost:8080/"
        },
        "outputId": "9548659e-666e-4694-8219-7d95256a5801"
      },
      "execution_count": null,
      "outputs": [
        {
          "output_type": "stream",
          "name": "stdout",
          "text": [
            "Downloading data from https://storage.googleapis.com/tensorflow/tf-keras-datasets/mnist.npz\n",
            "11490434/11490434 [==============================] - 1s 0us/step\n"
          ]
        }
      ]
    },
    {
      "cell_type": "code",
      "source": [
        "(x_train, y_train), (x_test, y_test) = data"
      ],
      "metadata": {
        "id": "VnkC6aP_mIXs"
      },
      "execution_count": null,
      "outputs": []
    },
    {
      "cell_type": "markdown",
      "source": [
        ">ここでは、TensorFlowのKeras APIを使用して、MNISTデータセットをダウンロードし、訓練データ（x_train, y_train）とテストデータ（x_test, y_test）に分割しています。\n"
      ],
      "metadata": {
        "id": "uURdcFE0cbAv"
      }
    },
    {
      "cell_type": "markdown",
      "source": [
        "3. **データの確認**:\n"
      ],
      "metadata": {
        "id": "_YfZnaRice52"
      }
    },
    {
      "cell_type": "code",
      "source": [
        "print(x_train.shape, y_train.shape, x_test.shape, y_test.shape)\n",
        "import numpy as np\n",
        "print(np.amin(x_train), np.amax(x_train))\n",
        "print(np.amin(y_train), np.amax(y_train))\n",
        "print(np.amin(x_test), np.amax(x_test))\n",
        "print(np.amin(y_test), np.amax(y_test))\n"
      ],
      "metadata": {
        "id": "S7nhG-JsceXV",
        "colab": {
          "base_uri": "https://localhost:8080/"
        },
        "outputId": "b0e8c437-3529-43fa-c475-a7b54619512e"
      },
      "execution_count": null,
      "outputs": [
        {
          "output_type": "stream",
          "name": "stdout",
          "text": [
            "(60000, 28, 28) (60000,) (10000, 28, 28) (10000,)\n",
            "0 255\n",
            "0 9\n",
            "0 255\n",
            "0 9\n"
          ]
        }
      ]
    },
    {
      "cell_type": "markdown",
      "source": [
        ">このコードは、データセットの構造（画像のサイズ、ラベルの範囲など）を確認するためのものです。`shape`でデータの形状を、`np.amin`と`np.amax`で数値の範囲を確認しています。\n"
      ],
      "metadata": {
        "id": "XO-OJl02cjGt"
      }
    },
    {
      "cell_type": "markdown",
      "source": [
        "4. **データのスケーリング**:\n"
      ],
      "metadata": {
        "id": "ThC6_k3Pclus"
      }
    },
    {
      "cell_type": "code",
      "source": [
        "x_train = x_train / 255\n",
        "x_test = x_test / 255\n"
      ],
      "metadata": {
        "id": "V6Bxie9QcoAG"
      },
      "execution_count": null,
      "outputs": []
    },
    {
      "cell_type": "markdown",
      "source": [
        "このステップでは、画像データを0から1の範囲に正規化しています。これにより、ニューラルネットワークの学習効率が向上します。\n"
      ],
      "metadata": {
        "id": "beKZApD8cqHf"
      }
    },
    {
      "cell_type": "markdown",
      "source": [
        "5. **ラベルデータのOne-hotベクトル化**:\n"
      ],
      "metadata": {
        "id": "3otvQd0acsnj"
      }
    },
    {
      "cell_type": "markdown",
      "source": [
        "例えば、あるデータセットに「犬」「猫」「鳥」という3つのカテゴリがあるとします。One-hotベクトルを使ってこれらを表現する場合は以下のようになります：\n",
        "\n",
        "犬: [1, 0, 0]\n",
        "猫: [0, 1, 0]\n",
        "鳥: [0, 0, 1]"
      ],
      "metadata": {
        "id": "h3HP4qWAm863"
      }
    },
    {
      "cell_type": "code",
      "source": [
        "y_train = utils.to_categorical(y_train)\n",
        "y_test = utils.to_categorical(y_test)\n"
      ],
      "metadata": {
        "id": "D05OQfQMcu-O"
      },
      "execution_count": null,
      "outputs": []
    },
    {
      "cell_type": "markdown",
      "source": [
        ">数字のラベルをOne-hotベクトル形式に変換します。これは、ニューラルネットワークの出力層が各クラスの確率を出力するために必要です。\n",
        "\n"
      ],
      "metadata": {
        "id": "vUy3Tb3AcxVQ"
      }
    },
    {
      "cell_type": "markdown",
      "source": [
        "# Kerasで手書き数字（MNIST）のニューラルネットワーク構築 - 実装編"
      ],
      "metadata": {
        "id": "35h7WSblbX7u"
      }
    },
    {
      "cell_type": "markdown",
      "source": [
        "1. **ニューラルネットワーク構造の定義**: Sequential, Flatten, Denseを使用してモデル構造を定義。\n",
        "2. **損失関数、最適化方法、評価指標の設定**: 損失関数にカテゴリ交差エントロピー誤差、最適化方法にAdam、評価指標に正解率を設定。\n",
        "3. **ニューラルネットワークの学習**: バッチサイズとエポック数を指定して学習。バリデーションデータを用いてハイパーパラメータの調整。\n",
        "4. **ニューラルネットワークの評価**: テストデータを用いてモデルの性能評価。\n",
        "5. **未知データの予測**: 新しいデータに対して予測を行い、結果を可視化。\n",
        "\n",
        "この章では、前章で始めたニューラルネットワークを構築し、学習から評価、新しいデータの予測までを行います。まず、モデルの構造を定義し、損失関数や最適化方法を設定します。次に、エポック数とバッチサイズを決めて、学習を行い、テストデータでモデルの性能を評価します。最後に、新しい画像データに対する予測を行い、結果を見ます。\n",
        "\n"
      ],
      "metadata": {
        "id": "abBzIoIBAzqs"
      }
    },
    {
      "cell_type": "markdown",
      "source": [
        "- **ニューラルネットワーク構造の定義**:"
      ],
      "metadata": {
        "id": "0dYtTDBfA-rG"
      }
    },
    {
      "cell_type": "code",
      "source": [
        "from tensorflow.keras.models import Sequential\n",
        "from tensorflow.keras.layers import Flatten, Dense\n",
        "\n",
        "model = Sequential()\n",
        "model.add(Flatten(input_shape=(28, 28)))\n",
        "model.add(Dense(32, activation='relu'))\n",
        "model.add(Dense(10, activation='softmax'))"
      ],
      "metadata": {
        "id": "nLW-yxV9BDHo"
      },
      "execution_count": null,
      "outputs": []
    },
    {
      "cell_type": "markdown",
      "source": [
        "  >モデルの基本構造を定義。Flatten層で画像データを平滑化し、Dense層で隠れ層（32ノード、ReLU活性化）と出力層（10ノード、ソフトマックス活性化）を追加。\n"
      ],
      "metadata": {
        "id": "tdUUQgdGBKW5"
      }
    },
    {
      "cell_type": "code",
      "source": [
        "model.summary()"
      ],
      "metadata": {
        "id": "dLnxky4Zp_s8",
        "colab": {
          "base_uri": "https://localhost:8080/"
        },
        "outputId": "b90b610a-38ee-424a-b361-99efd9caed91"
      },
      "execution_count": null,
      "outputs": [
        {
          "output_type": "stream",
          "name": "stdout",
          "text": [
            "Model: \"sequential\"\n",
            "_________________________________________________________________\n",
            " Layer (type)                Output Shape              Param #   \n",
            "=================================================================\n",
            " flatten (Flatten)           (None, 784)               0         \n",
            "                                                                 \n",
            " dense (Dense)               (None, 32)                25120     \n",
            "                                                                 \n",
            " dense_1 (Dense)             (None, 10)                330       \n",
            "                                                                 \n",
            "=================================================================\n",
            "Total params: 25450 (99.41 KB)\n",
            "Trainable params: 25450 (99.41 KB)\n",
            "Non-trainable params: 0 (0.00 Byte)\n",
            "_________________________________________________________________\n"
          ]
        }
      ]
    },
    {
      "cell_type": "markdown",
      "source": [
        "- **損失関数、最適化方法、評価指標の設定**:"
      ],
      "metadata": {
        "id": "4VnjDVpaBaf1"
      }
    },
    {
      "cell_type": "code",
      "source": [
        "model.compile(loss='categorical_crossentropy',\n",
        "              optimizer='adam',\n",
        "              metrics=['accuracy'])"
      ],
      "metadata": {
        "id": "7b88V8zoBcho"
      },
      "execution_count": null,
      "outputs": []
    },
    {
      "cell_type": "markdown",
      "source": [
        ">  損失関数にカテゴリ交差エントロピー誤差、最適化方法にAdam、評価指標に正解率を設定。\n"
      ],
      "metadata": {
        "id": "mHzHJJ-vBhk1"
      }
    },
    {
      "cell_type": "markdown",
      "source": [
        "- **ニューラルネットワークの学習**:"
      ],
      "metadata": {
        "id": "9OOJxZnyBlK0"
      }
    },
    {
      "cell_type": "code",
      "source": [
        "history = model.fit(x_train, y_train,\n",
        "                    batch_size=32,\n",
        "                    epochs=10,\n",
        "                    validation_split=0.1)"
      ],
      "metadata": {
        "id": "CJfWenhKBnSd",
        "colab": {
          "base_uri": "https://localhost:8080/"
        },
        "outputId": "cfd25957-2b46-4e72-f3f8-517809c539d8"
      },
      "execution_count": null,
      "outputs": [
        {
          "output_type": "stream",
          "name": "stdout",
          "text": [
            "Epoch 1/10\n",
            "1688/1688 [==============================] - 7s 3ms/step - loss: 0.3826 - accuracy: 0.8931 - val_loss: 0.2028 - val_accuracy: 0.9427\n",
            "Epoch 2/10\n",
            "1688/1688 [==============================] - 7s 4ms/step - loss: 0.2117 - accuracy: 0.9386 - val_loss: 0.1565 - val_accuracy: 0.9577\n",
            "Epoch 3/10\n",
            "1688/1688 [==============================] - 6s 4ms/step - loss: 0.1647 - accuracy: 0.9520 - val_loss: 0.1322 - val_accuracy: 0.9633\n",
            "Epoch 4/10\n",
            "1688/1688 [==============================] - 8s 5ms/step - loss: 0.1375 - accuracy: 0.9592 - val_loss: 0.1246 - val_accuracy: 0.9645\n",
            "Epoch 5/10\n",
            "1688/1688 [==============================] - 12s 7ms/step - loss: 0.1185 - accuracy: 0.9650 - val_loss: 0.1197 - val_accuracy: 0.9623\n",
            "Epoch 6/10\n",
            "1688/1688 [==============================] - 6s 4ms/step - loss: 0.1051 - accuracy: 0.9683 - val_loss: 0.1074 - val_accuracy: 0.9662\n",
            "Epoch 7/10\n",
            "1688/1688 [==============================] - 6s 4ms/step - loss: 0.0932 - accuracy: 0.9718 - val_loss: 0.1121 - val_accuracy: 0.9685\n",
            "Epoch 8/10\n",
            "1688/1688 [==============================] - 5s 3ms/step - loss: 0.0845 - accuracy: 0.9740 - val_loss: 0.1079 - val_accuracy: 0.9687\n",
            "Epoch 9/10\n",
            "1688/1688 [==============================] - 11s 7ms/step - loss: 0.0772 - accuracy: 0.9759 - val_loss: 0.1066 - val_accuracy: 0.9695\n",
            "Epoch 10/10\n",
            "1688/1688 [==============================] - 5s 3ms/step - loss: 0.0708 - accuracy: 0.9782 - val_loss: 0.1097 - val_accuracy: 0.9682\n"
          ]
        }
      ]
    },
    {
      "cell_type": "markdown",
      "source": [
        ">学習を実施。バッチサイズ32、エポック数10で、学習データの10%をバリデーションデータとして使用。\n"
      ],
      "metadata": {
        "id": "qEPjh9wFBpYD"
      }
    },
    {
      "cell_type": "code",
      "source": [
        "history.history\n"
      ],
      "metadata": {
        "id": "sECR1Boqsn0X",
        "colab": {
          "base_uri": "https://localhost:8080/"
        },
        "outputId": "279b0f2a-767f-4048-c2a2-4f4891288697"
      },
      "execution_count": null,
      "outputs": [
        {
          "output_type": "execute_result",
          "data": {
            "text/plain": [
              "{'loss': [0.3825646936893463,\n",
              "  0.21171934902668,\n",
              "  0.1646796017885208,\n",
              "  0.13745315372943878,\n",
              "  0.1185007318854332,\n",
              "  0.10506889224052429,\n",
              "  0.0931830182671547,\n",
              "  0.08446400612592697,\n",
              "  0.07723767310380936,\n",
              "  0.07078775018453598],\n",
              " 'accuracy': [0.8931296467781067,\n",
              "  0.9386110901832581,\n",
              "  0.9520000219345093,\n",
              "  0.9591666460037231,\n",
              "  0.9650370478630066,\n",
              "  0.9682592749595642,\n",
              "  0.9717777967453003,\n",
              "  0.9739629626274109,\n",
              "  0.975944459438324,\n",
              "  0.9781666398048401],\n",
              " 'val_loss': [0.20284098386764526,\n",
              "  0.15653114020824432,\n",
              "  0.1321922242641449,\n",
              "  0.12458555400371552,\n",
              "  0.1196722537279129,\n",
              "  0.10736802220344543,\n",
              "  0.11205152422189713,\n",
              "  0.10792887210845947,\n",
              "  0.10663169622421265,\n",
              "  0.10974187403917313],\n",
              " 'val_accuracy': [0.9426666498184204,\n",
              "  0.9576666951179504,\n",
              "  0.9633333086967468,\n",
              "  0.9645000100135803,\n",
              "  0.9623333215713501,\n",
              "  0.9661666750907898,\n",
              "  0.968500018119812,\n",
              "  0.968666672706604,\n",
              "  0.9695000052452087,\n",
              "  0.9681666493415833]}"
            ]
          },
          "metadata": {},
          "execution_count": 14
        }
      ]
    },
    {
      "cell_type": "code",
      "source": [
        "import pandas as pd\n",
        "df = pd.DataFrame(history.history)\n",
        "df"
      ],
      "metadata": {
        "id": "hcsgTMj1stFJ",
        "colab": {
          "base_uri": "https://localhost:8080/",
          "height": 363
        },
        "outputId": "7785e4d6-c775-49ae-f17f-6b176434e32d"
      },
      "execution_count": null,
      "outputs": [
        {
          "output_type": "execute_result",
          "data": {
            "text/plain": [
              "       loss  accuracy  val_loss  val_accuracy\n",
              "0  0.382565  0.893130  0.202841      0.942667\n",
              "1  0.211719  0.938611  0.156531      0.957667\n",
              "2  0.164680  0.952000  0.132192      0.963333\n",
              "3  0.137453  0.959167  0.124586      0.964500\n",
              "4  0.118501  0.965037  0.119672      0.962333\n",
              "5  0.105069  0.968259  0.107368      0.966167\n",
              "6  0.093183  0.971778  0.112052      0.968500\n",
              "7  0.084464  0.973963  0.107929      0.968667\n",
              "8  0.077238  0.975944  0.106632      0.969500\n",
              "9  0.070788  0.978167  0.109742      0.968167"
            ],
            "text/html": [
              "\n",
              "  <div id=\"df-fdbf7ec5-4480-46c1-86f9-d5def66b41a9\" class=\"colab-df-container\">\n",
              "    <div>\n",
              "<style scoped>\n",
              "    .dataframe tbody tr th:only-of-type {\n",
              "        vertical-align: middle;\n",
              "    }\n",
              "\n",
              "    .dataframe tbody tr th {\n",
              "        vertical-align: top;\n",
              "    }\n",
              "\n",
              "    .dataframe thead th {\n",
              "        text-align: right;\n",
              "    }\n",
              "</style>\n",
              "<table border=\"1\" class=\"dataframe\">\n",
              "  <thead>\n",
              "    <tr style=\"text-align: right;\">\n",
              "      <th></th>\n",
              "      <th>loss</th>\n",
              "      <th>accuracy</th>\n",
              "      <th>val_loss</th>\n",
              "      <th>val_accuracy</th>\n",
              "    </tr>\n",
              "  </thead>\n",
              "  <tbody>\n",
              "    <tr>\n",
              "      <th>0</th>\n",
              "      <td>0.382565</td>\n",
              "      <td>0.893130</td>\n",
              "      <td>0.202841</td>\n",
              "      <td>0.942667</td>\n",
              "    </tr>\n",
              "    <tr>\n",
              "      <th>1</th>\n",
              "      <td>0.211719</td>\n",
              "      <td>0.938611</td>\n",
              "      <td>0.156531</td>\n",
              "      <td>0.957667</td>\n",
              "    </tr>\n",
              "    <tr>\n",
              "      <th>2</th>\n",
              "      <td>0.164680</td>\n",
              "      <td>0.952000</td>\n",
              "      <td>0.132192</td>\n",
              "      <td>0.963333</td>\n",
              "    </tr>\n",
              "    <tr>\n",
              "      <th>3</th>\n",
              "      <td>0.137453</td>\n",
              "      <td>0.959167</td>\n",
              "      <td>0.124586</td>\n",
              "      <td>0.964500</td>\n",
              "    </tr>\n",
              "    <tr>\n",
              "      <th>4</th>\n",
              "      <td>0.118501</td>\n",
              "      <td>0.965037</td>\n",
              "      <td>0.119672</td>\n",
              "      <td>0.962333</td>\n",
              "    </tr>\n",
              "    <tr>\n",
              "      <th>5</th>\n",
              "      <td>0.105069</td>\n",
              "      <td>0.968259</td>\n",
              "      <td>0.107368</td>\n",
              "      <td>0.966167</td>\n",
              "    </tr>\n",
              "    <tr>\n",
              "      <th>6</th>\n",
              "      <td>0.093183</td>\n",
              "      <td>0.971778</td>\n",
              "      <td>0.112052</td>\n",
              "      <td>0.968500</td>\n",
              "    </tr>\n",
              "    <tr>\n",
              "      <th>7</th>\n",
              "      <td>0.084464</td>\n",
              "      <td>0.973963</td>\n",
              "      <td>0.107929</td>\n",
              "      <td>0.968667</td>\n",
              "    </tr>\n",
              "    <tr>\n",
              "      <th>8</th>\n",
              "      <td>0.077238</td>\n",
              "      <td>0.975944</td>\n",
              "      <td>0.106632</td>\n",
              "      <td>0.969500</td>\n",
              "    </tr>\n",
              "    <tr>\n",
              "      <th>9</th>\n",
              "      <td>0.070788</td>\n",
              "      <td>0.978167</td>\n",
              "      <td>0.109742</td>\n",
              "      <td>0.968167</td>\n",
              "    </tr>\n",
              "  </tbody>\n",
              "</table>\n",
              "</div>\n",
              "    <div class=\"colab-df-buttons\">\n",
              "\n",
              "  <div class=\"colab-df-container\">\n",
              "    <button class=\"colab-df-convert\" onclick=\"convertToInteractive('df-fdbf7ec5-4480-46c1-86f9-d5def66b41a9')\"\n",
              "            title=\"Convert this dataframe to an interactive table.\"\n",
              "            style=\"display:none;\">\n",
              "\n",
              "  <svg xmlns=\"http://www.w3.org/2000/svg\" height=\"24px\" viewBox=\"0 -960 960 960\">\n",
              "    <path d=\"M120-120v-720h720v720H120Zm60-500h600v-160H180v160Zm220 220h160v-160H400v160Zm0 220h160v-160H400v160ZM180-400h160v-160H180v160Zm440 0h160v-160H620v160ZM180-180h160v-160H180v160Zm440 0h160v-160H620v160Z\"/>\n",
              "  </svg>\n",
              "    </button>\n",
              "\n",
              "  <style>\n",
              "    .colab-df-container {\n",
              "      display:flex;\n",
              "      gap: 12px;\n",
              "    }\n",
              "\n",
              "    .colab-df-convert {\n",
              "      background-color: #E8F0FE;\n",
              "      border: none;\n",
              "      border-radius: 50%;\n",
              "      cursor: pointer;\n",
              "      display: none;\n",
              "      fill: #1967D2;\n",
              "      height: 32px;\n",
              "      padding: 0 0 0 0;\n",
              "      width: 32px;\n",
              "    }\n",
              "\n",
              "    .colab-df-convert:hover {\n",
              "      background-color: #E2EBFA;\n",
              "      box-shadow: 0px 1px 2px rgba(60, 64, 67, 0.3), 0px 1px 3px 1px rgba(60, 64, 67, 0.15);\n",
              "      fill: #174EA6;\n",
              "    }\n",
              "\n",
              "    .colab-df-buttons div {\n",
              "      margin-bottom: 4px;\n",
              "    }\n",
              "\n",
              "    [theme=dark] .colab-df-convert {\n",
              "      background-color: #3B4455;\n",
              "      fill: #D2E3FC;\n",
              "    }\n",
              "\n",
              "    [theme=dark] .colab-df-convert:hover {\n",
              "      background-color: #434B5C;\n",
              "      box-shadow: 0px 1px 3px 1px rgba(0, 0, 0, 0.15);\n",
              "      filter: drop-shadow(0px 1px 2px rgba(0, 0, 0, 0.3));\n",
              "      fill: #FFFFFF;\n",
              "    }\n",
              "  </style>\n",
              "\n",
              "    <script>\n",
              "      const buttonEl =\n",
              "        document.querySelector('#df-fdbf7ec5-4480-46c1-86f9-d5def66b41a9 button.colab-df-convert');\n",
              "      buttonEl.style.display =\n",
              "        google.colab.kernel.accessAllowed ? 'block' : 'none';\n",
              "\n",
              "      async function convertToInteractive(key) {\n",
              "        const element = document.querySelector('#df-fdbf7ec5-4480-46c1-86f9-d5def66b41a9');\n",
              "        const dataTable =\n",
              "          await google.colab.kernel.invokeFunction('convertToInteractive',\n",
              "                                                    [key], {});\n",
              "        if (!dataTable) return;\n",
              "\n",
              "        const docLinkHtml = 'Like what you see? Visit the ' +\n",
              "          '<a target=\"_blank\" href=https://colab.research.google.com/notebooks/data_table.ipynb>data table notebook</a>'\n",
              "          + ' to learn more about interactive tables.';\n",
              "        element.innerHTML = '';\n",
              "        dataTable['output_type'] = 'display_data';\n",
              "        await google.colab.output.renderOutput(dataTable, element);\n",
              "        const docLink = document.createElement('div');\n",
              "        docLink.innerHTML = docLinkHtml;\n",
              "        element.appendChild(docLink);\n",
              "      }\n",
              "    </script>\n",
              "  </div>\n",
              "\n",
              "\n",
              "<div id=\"df-219f8b12-f592-4bab-a639-4aa85213c6b8\">\n",
              "  <button class=\"colab-df-quickchart\" onclick=\"quickchart('df-219f8b12-f592-4bab-a639-4aa85213c6b8')\"\n",
              "            title=\"Suggest charts\"\n",
              "            style=\"display:none;\">\n",
              "\n",
              "<svg xmlns=\"http://www.w3.org/2000/svg\" height=\"24px\"viewBox=\"0 0 24 24\"\n",
              "     width=\"24px\">\n",
              "    <g>\n",
              "        <path d=\"M19 3H5c-1.1 0-2 .9-2 2v14c0 1.1.9 2 2 2h14c1.1 0 2-.9 2-2V5c0-1.1-.9-2-2-2zM9 17H7v-7h2v7zm4 0h-2V7h2v10zm4 0h-2v-4h2v4z\"/>\n",
              "    </g>\n",
              "</svg>\n",
              "  </button>\n",
              "\n",
              "<style>\n",
              "  .colab-df-quickchart {\n",
              "      --bg-color: #E8F0FE;\n",
              "      --fill-color: #1967D2;\n",
              "      --hover-bg-color: #E2EBFA;\n",
              "      --hover-fill-color: #174EA6;\n",
              "      --disabled-fill-color: #AAA;\n",
              "      --disabled-bg-color: #DDD;\n",
              "  }\n",
              "\n",
              "  [theme=dark] .colab-df-quickchart {\n",
              "      --bg-color: #3B4455;\n",
              "      --fill-color: #D2E3FC;\n",
              "      --hover-bg-color: #434B5C;\n",
              "      --hover-fill-color: #FFFFFF;\n",
              "      --disabled-bg-color: #3B4455;\n",
              "      --disabled-fill-color: #666;\n",
              "  }\n",
              "\n",
              "  .colab-df-quickchart {\n",
              "    background-color: var(--bg-color);\n",
              "    border: none;\n",
              "    border-radius: 50%;\n",
              "    cursor: pointer;\n",
              "    display: none;\n",
              "    fill: var(--fill-color);\n",
              "    height: 32px;\n",
              "    padding: 0;\n",
              "    width: 32px;\n",
              "  }\n",
              "\n",
              "  .colab-df-quickchart:hover {\n",
              "    background-color: var(--hover-bg-color);\n",
              "    box-shadow: 0 1px 2px rgba(60, 64, 67, 0.3), 0 1px 3px 1px rgba(60, 64, 67, 0.15);\n",
              "    fill: var(--button-hover-fill-color);\n",
              "  }\n",
              "\n",
              "  .colab-df-quickchart-complete:disabled,\n",
              "  .colab-df-quickchart-complete:disabled:hover {\n",
              "    background-color: var(--disabled-bg-color);\n",
              "    fill: var(--disabled-fill-color);\n",
              "    box-shadow: none;\n",
              "  }\n",
              "\n",
              "  .colab-df-spinner {\n",
              "    border: 2px solid var(--fill-color);\n",
              "    border-color: transparent;\n",
              "    border-bottom-color: var(--fill-color);\n",
              "    animation:\n",
              "      spin 1s steps(1) infinite;\n",
              "  }\n",
              "\n",
              "  @keyframes spin {\n",
              "    0% {\n",
              "      border-color: transparent;\n",
              "      border-bottom-color: var(--fill-color);\n",
              "      border-left-color: var(--fill-color);\n",
              "    }\n",
              "    20% {\n",
              "      border-color: transparent;\n",
              "      border-left-color: var(--fill-color);\n",
              "      border-top-color: var(--fill-color);\n",
              "    }\n",
              "    30% {\n",
              "      border-color: transparent;\n",
              "      border-left-color: var(--fill-color);\n",
              "      border-top-color: var(--fill-color);\n",
              "      border-right-color: var(--fill-color);\n",
              "    }\n",
              "    40% {\n",
              "      border-color: transparent;\n",
              "      border-right-color: var(--fill-color);\n",
              "      border-top-color: var(--fill-color);\n",
              "    }\n",
              "    60% {\n",
              "      border-color: transparent;\n",
              "      border-right-color: var(--fill-color);\n",
              "    }\n",
              "    80% {\n",
              "      border-color: transparent;\n",
              "      border-right-color: var(--fill-color);\n",
              "      border-bottom-color: var(--fill-color);\n",
              "    }\n",
              "    90% {\n",
              "      border-color: transparent;\n",
              "      border-bottom-color: var(--fill-color);\n",
              "    }\n",
              "  }\n",
              "</style>\n",
              "\n",
              "  <script>\n",
              "    async function quickchart(key) {\n",
              "      const quickchartButtonEl =\n",
              "        document.querySelector('#' + key + ' button');\n",
              "      quickchartButtonEl.disabled = true;  // To prevent multiple clicks.\n",
              "      quickchartButtonEl.classList.add('colab-df-spinner');\n",
              "      try {\n",
              "        const charts = await google.colab.kernel.invokeFunction(\n",
              "            'suggestCharts', [key], {});\n",
              "      } catch (error) {\n",
              "        console.error('Error during call to suggestCharts:', error);\n",
              "      }\n",
              "      quickchartButtonEl.classList.remove('colab-df-spinner');\n",
              "      quickchartButtonEl.classList.add('colab-df-quickchart-complete');\n",
              "    }\n",
              "    (() => {\n",
              "      let quickchartButtonEl =\n",
              "        document.querySelector('#df-219f8b12-f592-4bab-a639-4aa85213c6b8 button');\n",
              "      quickchartButtonEl.style.display =\n",
              "        google.colab.kernel.accessAllowed ? 'block' : 'none';\n",
              "    })();\n",
              "  </script>\n",
              "</div>\n",
              "\n",
              "  <div id=\"id_c1606193-486c-46bc-8e4b-8b30eaa4a2c8\">\n",
              "    <style>\n",
              "      .colab-df-generate {\n",
              "        background-color: #E8F0FE;\n",
              "        border: none;\n",
              "        border-radius: 50%;\n",
              "        cursor: pointer;\n",
              "        display: none;\n",
              "        fill: #1967D2;\n",
              "        height: 32px;\n",
              "        padding: 0 0 0 0;\n",
              "        width: 32px;\n",
              "      }\n",
              "\n",
              "      .colab-df-generate:hover {\n",
              "        background-color: #E2EBFA;\n",
              "        box-shadow: 0px 1px 2px rgba(60, 64, 67, 0.3), 0px 1px 3px 1px rgba(60, 64, 67, 0.15);\n",
              "        fill: #174EA6;\n",
              "      }\n",
              "\n",
              "      [theme=dark] .colab-df-generate {\n",
              "        background-color: #3B4455;\n",
              "        fill: #D2E3FC;\n",
              "      }\n",
              "\n",
              "      [theme=dark] .colab-df-generate:hover {\n",
              "        background-color: #434B5C;\n",
              "        box-shadow: 0px 1px 3px 1px rgba(0, 0, 0, 0.15);\n",
              "        filter: drop-shadow(0px 1px 2px rgba(0, 0, 0, 0.3));\n",
              "        fill: #FFFFFF;\n",
              "      }\n",
              "    </style>\n",
              "    <button class=\"colab-df-generate\" onclick=\"generateWithVariable('df')\"\n",
              "            title=\"Generate code using this dataframe.\"\n",
              "            style=\"display:none;\">\n",
              "\n",
              "  <svg xmlns=\"http://www.w3.org/2000/svg\" height=\"24px\"viewBox=\"0 0 24 24\"\n",
              "       width=\"24px\">\n",
              "    <path d=\"M7,19H8.4L18.45,9,17,7.55,7,17.6ZM5,21V16.75L18.45,3.32a2,2,0,0,1,2.83,0l1.4,1.43a1.91,1.91,0,0,1,.58,1.4,1.91,1.91,0,0,1-.58,1.4L9.25,21ZM18.45,9,17,7.55Zm-12,3A5.31,5.31,0,0,0,4.9,8.1,5.31,5.31,0,0,0,1,6.5,5.31,5.31,0,0,0,4.9,4.9,5.31,5.31,0,0,0,6.5,1,5.31,5.31,0,0,0,8.1,4.9,5.31,5.31,0,0,0,12,6.5,5.46,5.46,0,0,0,6.5,12Z\"/>\n",
              "  </svg>\n",
              "    </button>\n",
              "    <script>\n",
              "      (() => {\n",
              "      const buttonEl =\n",
              "        document.querySelector('#id_c1606193-486c-46bc-8e4b-8b30eaa4a2c8 button.colab-df-generate');\n",
              "      buttonEl.style.display =\n",
              "        google.colab.kernel.accessAllowed ? 'block' : 'none';\n",
              "\n",
              "      buttonEl.onclick = () => {\n",
              "        google.colab.notebook.generateWithVariable('df');\n",
              "      }\n",
              "      })();\n",
              "    </script>\n",
              "  </div>\n",
              "\n",
              "    </div>\n",
              "  </div>\n"
            ]
          },
          "metadata": {},
          "execution_count": 15
        }
      ]
    },
    {
      "cell_type": "code",
      "source": [
        "import seaborn as sns\n",
        "sns.lineplot(data=df[['loss', 'val_loss']])\n"
      ],
      "metadata": {
        "id": "aW8KR_gas0Yl",
        "colab": {
          "base_uri": "https://localhost:8080/",
          "height": 447
        },
        "outputId": "a7c2a691-da51-4fa7-8b3b-14f580114752"
      },
      "execution_count": null,
      "outputs": [
        {
          "output_type": "execute_result",
          "data": {
            "text/plain": [
              "<Axes: >"
            ]
          },
          "metadata": {},
          "execution_count": 16
        },
        {
          "output_type": "display_data",
          "data": {
            "text/plain": [
              "<Figure size 640x480 with 1 Axes>"
            ],
            "image/png": "[encoded data removed]"
          },
          "metadata": {}
        }
      ]
    },
    {
      "cell_type": "code",
      "source": [
        "sns.lineplot(data=df[['accuracy', 'val_accuracy']])\n"
      ],
      "metadata": {
        "id": "d_QtvYJbs6LF",
        "colab": {
          "base_uri": "https://localhost:8080/",
          "height": 447
        },
        "outputId": "be49e604-a550-4bff-f3d1-976d80ba3505"
      },
      "execution_count": null,
      "outputs": [
        {
          "output_type": "execute_result",
          "data": {
            "text/plain": [
              "<Axes: >"
            ]
          },
          "metadata": {},
          "execution_count": 17
        },
        {
          "output_type": "display_data",
          "data": {
            "text/plain": [
              "<Figure size 640x480 with 1 Axes>"
            ],
            "image/png": "[encoded data removed]"
          },
          "metadata": {}
        }
      ]
    },
    {
      "cell_type": "code",
      "source": [
        "utils.set_random_seed(0)\n",
        "\n",
        "model = Sequential()\n",
        "model.add(Flatten(input_shape=(28, 28)))\n",
        "model.add(Dense(32, activation='relu'))\n",
        "model.add(Dense(10, activation='softmax'))\n",
        "\n",
        "model.compile(loss='categorical_crossentropy',\n",
        "    optimizer='adam',\n",
        "    metrics='accuracy')\n",
        "\n",
        "history = model.fit(x_train, y_train,\n",
        "    batch_size=32,\n",
        "    epochs=7,\n",
        "    validation_split=0.1)"
      ],
      "metadata": {
        "id": "xtRiBciHtyHR",
        "colab": {
          "base_uri": "https://localhost:8080/"
        },
        "outputId": "5ea13a00-e7b3-4ffc-cebe-6bd14d53eb92"
      },
      "execution_count": null,
      "outputs": [
        {
          "output_type": "stream",
          "name": "stdout",
          "text": [
            "Epoch 1/7\n",
            "1688/1688 [==============================] - 6s 3ms/step - loss: 0.3826 - accuracy: 0.8931 - val_loss: 0.2028 - val_accuracy: 0.9427\n",
            "Epoch 2/7\n",
            "1688/1688 [==============================] - 10s 6ms/step - loss: 0.2117 - accuracy: 0.9386 - val_loss: 0.1565 - val_accuracy: 0.9577\n",
            "Epoch 3/7\n",
            "1688/1688 [==============================] - 13s 7ms/step - loss: 0.1647 - accuracy: 0.9520 - val_loss: 0.1322 - val_accuracy: 0.9633\n",
            "Epoch 4/7\n",
            "1688/1688 [==============================] - 6s 3ms/step - loss: 0.1375 - accuracy: 0.9592 - val_loss: 0.1246 - val_accuracy: 0.9645\n",
            "Epoch 5/7\n",
            "1688/1688 [==============================] - 6s 4ms/step - loss: 0.1185 - accuracy: 0.9650 - val_loss: 0.1197 - val_accuracy: 0.9623\n",
            "Epoch 6/7\n",
            "1688/1688 [==============================] - 9s 5ms/step - loss: 0.1051 - accuracy: 0.9683 - val_loss: 0.1074 - val_accuracy: 0.9662\n",
            "Epoch 7/7\n",
            "1688/1688 [==============================] - 6s 4ms/step - loss: 0.0932 - accuracy: 0.9718 - val_loss: 0.1121 - val_accuracy: 0.9685\n"
          ]
        }
      ]
    },
    {
      "cell_type": "markdown",
      "source": [
        "- **ニューラルネットワークの評価**:"
      ],
      "metadata": {
        "id": "d7ooYbMXBs3d"
      }
    },
    {
      "cell_type": "code",
      "source": [
        "model.evaluate(x_test, y_test)"
      ],
      "metadata": {
        "id": "sU9aNok3Bv-9",
        "colab": {
          "base_uri": "https://localhost:8080/"
        },
        "outputId": "f6618921-fb6b-4307-ed56-d3ab9bb9cbed"
      },
      "execution_count": null,
      "outputs": [
        {
          "output_type": "stream",
          "name": "stdout",
          "text": [
            "313/313 [==============================] - 2s 7ms/step - loss: 0.1219 - accuracy: 0.9637\n"
          ]
        },
        {
          "output_type": "execute_result",
          "data": {
            "text/plain": [
              "[0.1219460666179657, 0.963699996471405]"
            ]
          },
          "metadata": {},
          "execution_count": 19
        }
      ]
    },
    {
      "cell_type": "markdown",
      "source": [
        ">テストデータを用いてモデルの性能評価。"
      ],
      "metadata": {
        "id": "M8QvCB3QBzho"
      }
    },
    {
      "cell_type": "markdown",
      "source": [
        "- **未知データの予測**:"
      ],
      "metadata": {
        "id": "VVi-YLKXB3Lg"
      }
    },
    {
      "cell_type": "code",
      "source": [
        "import requests\n",
        "\n",
        "# Google DriveのファイルID\n",
        "file_id = '1ImUCZT9fUdgzyyyxmG2d54_ssh3NkN5b'\n",
        "\n",
        "# ダウンロードURLの生成\n",
        "url = f'https://drive.google.com/uc?id={file_id}'\n",
        "\n",
        "# ファイル名（適宜変更してください）\n",
        "file_name = 'unknown_mnist.png'\n",
        "\n",
        "# URLからファイルをダウンロード\n",
        "response = requests.get(url)\n",
        "response.raise_for_status()  # エラーがあればここで例外を発生させる\n",
        "\n",
        "# contentディレクトリにファイルを保存\n",
        "with open(f'/content/{file_name}', 'wb') as f:\n",
        "    f.write(response.content)\n",
        "\n",
        "print(f'ファイル {file_name} が/contentに保存されました。')\n"
      ],
      "metadata": {
        "id": "ddGx8od2P8A_",
        "colab": {
          "base_uri": "https://localhost:8080/"
        },
        "outputId": "ff210565-aa7c-4009-a7df-9d16fa0eb507"
      },
      "execution_count": null,
      "outputs": [
        {
          "output_type": "stream",
          "name": "stdout",
          "text": [
            "ファイル unknown_mnist.png が/contentに保存されました。\n"
          ]
        }
      ]
    },
    {
      "cell_type": "markdown",
      "source": [
        ">[unknown_mnist.png](https://drive.google.com/file/d/1ImUCZT9fUdgzyyyxmG2d54_ssh3NkN5b/view?usp=share_link)\n",
        "\n",
        ">データをダウンロードし、左のファイルへアップロードします。（ドラッグ&ドロップも可）\n"
      ],
      "metadata": {
        "id": "iLD2TurhHL7I"
      }
    },
    {
      "cell_type": "code",
      "source": [
        "from tensorflow.keras.preprocessing.image import load_img\n"
      ],
      "metadata": {
        "id": "YLfgFgbsujvs"
      },
      "execution_count": null,
      "outputs": []
    },
    {
      "cell_type": "code",
      "source": [
        "unknown_img = load_img('/content/unknown_mnist.png', target_size=(28, 28), color_mode = 'grayscale')\n",
        "unknown_img"
      ],
      "metadata": {
        "id": "xrkZVmoqB5qL",
        "colab": {
          "base_uri": "https://localhost:8080/",
          "height": 45
        },
        "outputId": "218bf676-45a2-40fd-80f0-ebc274368ebc"
      },
      "execution_count": null,
      "outputs": [
        {
          "output_type": "execute_result",
          "data": {
            "text/plain": [
              "<PIL.Image.Image image mode=L size=28x28>"
            ],
            "image/png": "[encoded data removed]"
          },
          "metadata": {},
          "execution_count": 22
        }
      ]
    },
    {
      "cell_type": "code",
      "source": [
        "from tensorflow.keras.preprocessing.image import img_to_array\n"
      ],
      "metadata": {
        "id": "EJ3IX-MquzSd"
      },
      "execution_count": null,
      "outputs": []
    },
    {
      "cell_type": "code",
      "source": [
        "unknown_array = img_to_array(unknown_img)\n",
        "unknown_array"
      ],
      "metadata": {
        "id": "3rREN85pu4Dz",
        "colab": {
          "base_uri": "https://localhost:8080/"
        },
        "outputId": "8786f204-3547-4389-df3b-9ab4e793e1f2"
      },
      "execution_count": null,
      "outputs": [
        {
          "output_type": "execute_result",
          "data": {
            "text/plain": [
              "array([[[  0.],\n",
              "        [  0.],\n",
              "        [  0.],\n",
              "        [  0.],\n",
              "        [  0.],\n",
              "        [  0.],\n",
              "        [  0.],\n",
              "        [  0.],\n",
              "        [  0.],\n",
              "        [  0.],\n",
              "        [  0.],\n",
              "        [  0.],\n",
              "        [  0.],\n",
              "        [  0.],\n",
              "        [  0.],\n",
              "        [  0.],\n",
              "        [  0.],\n",
              "        [  0.],\n",
              "        [  0.],\n",
              "        [  0.],\n",
              "        [  0.],\n",
              "        [  0.],\n",
              "        [  0.],\n",
              "        [  0.],\n",
              "        [  0.],\n",
              "        [  0.],\n",
              "        [  0.],\n",
              "        [  0.]],\n",
              "\n",
              "       [[  0.],\n",
              "        [  0.],\n",
              "        [  0.],\n",
              "        [  0.],\n",
              "        [  0.],\n",
              "        [  0.],\n",
              "        [  0.],\n",
              "        [  0.],\n",
              "        [  0.],\n",
              "        [  0.],\n",
              "        [  0.],\n",
              "        [  0.],\n",
              "        [  0.],\n",
              "        [  0.],\n",
              "        [  0.],\n",
              "        [  0.],\n",
              "        [  0.],\n",
              "        [  0.],\n",
              "        [  0.],\n",
              "        [  0.],\n",
              "        [  0.],\n",
              "        [  0.],\n",
              "        [  0.],\n",
              "        [  0.],\n",
              "        [  0.],\n",
              "        [  0.],\n",
              "        [  0.],\n",
              "        [  0.]],\n",
              "\n",
              "       [[  0.],\n",
              "        [  0.],\n",
              "        [  0.],\n",
              "        [  0.],\n",
              "        [  0.],\n",
              "        [  0.],\n",
              "        [  0.],\n",
              "        [  0.],\n",
              "        [  0.],\n",
              "        [  0.],\n",
              "        [  0.],\n",
              "        [  0.],\n",
              "        [  0.],\n",
              "        [  0.],\n",
              "        [  0.],\n",
              "        [  0.],\n",
              "        [  0.],\n",
              "        [  0.],\n",
              "        [  0.],\n",
              "        [  0.],\n",
              "        [  0.],\n",
              "        [  0.],\n",
              "        [  0.],\n",
              "        [  0.],\n",
              "        [  0.],\n",
              "        [  0.],\n",
              "        [  0.],\n",
              "        [  0.]],\n",
              "\n",
              "       [[  0.],\n",
              "        [  0.],\n",
              "        [  0.],\n",
              "        [  0.],\n",
              "        [  0.],\n",
              "        [  0.],\n",
              "        [  0.],\n",
              "        [  0.],\n",
              "        [  0.],\n",
              "        [  0.],\n",
              "        [  0.],\n",
              "        [  0.],\n",
              "        [  0.],\n",
              "        [  0.],\n",
              "        [  0.],\n",
              "        [  0.],\n",
              "        [  0.],\n",
              "        [  0.],\n",
              "        [  0.],\n",
              "        [  0.],\n",
              "        [  0.],\n",
              "        [  0.],\n",
              "        [  0.],\n",
              "        [  0.],\n",
              "        [  0.],\n",
              "        [  0.],\n",
              "        [  0.],\n",
              "        [  0.]],\n",
              "\n",
              "       [[  0.],\n",
              "        [  0.],\n",
              "        [  0.],\n",
              "        [  0.],\n",
              "        [  0.],\n",
              "        [  0.],\n",
              "        [  0.],\n",
              "        [  0.],\n",
              "        [  0.],\n",
              "        [  0.],\n",
              "        [  0.],\n",
              "        [  0.],\n",
              "        [  0.],\n",
              "        [255.],\n",
              "        [255.],\n",
              "        [ 16.],\n",
              "        [  0.],\n",
              "        [  0.],\n",
              "        [  0.],\n",
              "        [  0.],\n",
              "        [  0.],\n",
              "        [  0.],\n",
              "        [  0.],\n",
              "        [  0.],\n",
              "        [  0.],\n",
              "        [  0.],\n",
              "        [  0.],\n",
              "        [  0.]],\n",
              "\n",
              "       [[  0.],\n",
              "        [  0.],\n",
              "        [  0.],\n",
              "        [  0.],\n",
              "        [  0.],\n",
              "        [  0.],\n",
              "        [  0.],\n",
              "        [  0.],\n",
              "        [  0.],\n",
              "        [  0.],\n",
              "        [  0.],\n",
              "        [255.],\n",
              "        [148.],\n",
              "        [  0.],\n",
              "        [  0.],\n",
              "        [255.],\n",
              "        [255.],\n",
              "        [  0.],\n",
              "        [  0.],\n",
              "        [  0.],\n",
              "        [  0.],\n",
              "        [  0.],\n",
              "        [  0.],\n",
              "        [  0.],\n",
              "        [  0.],\n",
              "        [  0.],\n",
              "        [  0.],\n",
              "        [  0.]],\n",
              "\n",
              "       [[  0.],\n",
              "        [  0.],\n",
              "        [  0.],\n",
              "        [  0.],\n",
              "        [  0.],\n",
              "        [  0.],\n",
              "        [  0.],\n",
              "        [  0.],\n",
              "        [  0.],\n",
              "        [  0.],\n",
              "        [255.],\n",
              "        [  0.],\n",
              "        [  0.],\n",
              "        [  0.],\n",
              "        [  0.],\n",
              "        [  0.],\n",
              "        [177.],\n",
              "        [126.],\n",
              "        [  0.],\n",
              "        [  0.],\n",
              "        [  0.],\n",
              "        [  0.],\n",
              "        [  0.],\n",
              "        [  0.],\n",
              "        [  0.],\n",
              "        [  0.],\n",
              "        [  0.],\n",
              "        [  0.]],\n",
              "\n",
              "       [[  0.],\n",
              "        [  0.],\n",
              "        [  0.],\n",
              "        [  0.],\n",
              "        [  0.],\n",
              "        [  0.],\n",
              "        [  0.],\n",
              "        [  0.],\n",
              "        [  0.],\n",
              "        [255.],\n",
              "        [  0.],\n",
              "        [  0.],\n",
              "        [  0.],\n",
              "        [  0.],\n",
              "        [  0.],\n",
              "        [  0.],\n",
              "        [  0.],\n",
              "        [255.],\n",
              "        [  0.],\n",
              "        [  0.],\n",
              "        [  0.],\n",
              "        [  0.],\n",
              "        [  0.],\n",
              "        [  0.],\n",
              "        [  0.],\n",
              "        [  0.],\n",
              "        [  0.],\n",
              "        [  0.]],\n",
              "\n",
              "       [[  0.],\n",
              "        [  0.],\n",
              "        [  0.],\n",
              "        [  0.],\n",
              "        [  0.],\n",
              "        [  0.],\n",
              "        [  0.],\n",
              "        [  0.],\n",
              "        [  0.],\n",
              "        [189.],\n",
              "        [  0.],\n",
              "        [  0.],\n",
              "        [  0.],\n",
              "        [  0.],\n",
              "        [  0.],\n",
              "        [  0.],\n",
              "        [  0.],\n",
              "        [255.],\n",
              "        [131.],\n",
              "        [  0.],\n",
              "        [  0.],\n",
              "        [  0.],\n",
              "        [  0.],\n",
              "        [  0.],\n",
              "        [  0.],\n",
              "        [  0.],\n",
              "        [  0.],\n",
              "        [  0.]],\n",
              "\n",
              "       [[  0.],\n",
              "        [  0.],\n",
              "        [  0.],\n",
              "        [  0.],\n",
              "        [  0.],\n",
              "        [  0.],\n",
              "        [  0.],\n",
              "        [  0.],\n",
              "        [  0.],\n",
              "        [  0.],\n",
              "        [  0.],\n",
              "        [  0.],\n",
              "        [  0.],\n",
              "        [  0.],\n",
              "        [  0.],\n",
              "        [  0.],\n",
              "        [  0.],\n",
              "        [  0.],\n",
              "        [255.],\n",
              "        [  0.],\n",
              "        [  0.],\n",
              "        [  0.],\n",
              "        [  0.],\n",
              "        [  0.],\n",
              "        [  0.],\n",
              "        [  0.],\n",
              "        [  0.],\n",
              "        [  0.]],\n",
              "\n",
              "       [[  0.],\n",
              "        [  0.],\n",
              "        [  0.],\n",
              "        [  0.],\n",
              "        [  0.],\n",
              "        [  0.],\n",
              "        [  0.],\n",
              "        [  0.],\n",
              "        [  0.],\n",
              "        [  0.],\n",
              "        [  0.],\n",
              "        [  0.],\n",
              "        [  0.],\n",
              "        [  0.],\n",
              "        [  0.],\n",
              "        [  0.],\n",
              "        [  0.],\n",
              "        [  0.],\n",
              "        [255.],\n",
              "        [  0.],\n",
              "        [  0.],\n",
              "        [  0.],\n",
              "        [  0.],\n",
              "        [  0.],\n",
              "        [  0.],\n",
              "        [  0.],\n",
              "        [  0.],\n",
              "        [  0.]],\n",
              "\n",
              "       [[  0.],\n",
              "        [  0.],\n",
              "        [  0.],\n",
              "        [  0.],\n",
              "        [  0.],\n",
              "        [  0.],\n",
              "        [  0.],\n",
              "        [  0.],\n",
              "        [  0.],\n",
              "        [  0.],\n",
              "        [  0.],\n",
              "        [  0.],\n",
              "        [  0.],\n",
              "        [  0.],\n",
              "        [  0.],\n",
              "        [  0.],\n",
              "        [  0.],\n",
              "        [203.],\n",
              "        [132.],\n",
              "        [  0.],\n",
              "        [  0.],\n",
              "        [  0.],\n",
              "        [  0.],\n",
              "        [  0.],\n",
              "        [  0.],\n",
              "        [  0.],\n",
              "        [  0.],\n",
              "        [  0.]],\n",
              "\n",
              "       [[  0.],\n",
              "        [  0.],\n",
              "        [  0.],\n",
              "        [  0.],\n",
              "        [  0.],\n",
              "        [  0.],\n",
              "        [  0.],\n",
              "        [  0.],\n",
              "        [  0.],\n",
              "        [  0.],\n",
              "        [  0.],\n",
              "        [  0.],\n",
              "        [  0.],\n",
              "        [  0.],\n",
              "        [  0.],\n",
              "        [  0.],\n",
              "        [  0.],\n",
              "        [255.],\n",
              "        [  0.],\n",
              "        [  0.],\n",
              "        [  0.],\n",
              "        [  0.],\n",
              "        [  0.],\n",
              "        [  0.],\n",
              "        [  0.],\n",
              "        [  0.],\n",
              "        [  0.],\n",
              "        [  0.]],\n",
              "\n",
              "       [[  0.],\n",
              "        [  0.],\n",
              "        [  0.],\n",
              "        [  0.],\n",
              "        [  0.],\n",
              "        [  0.],\n",
              "        [  0.],\n",
              "        [  0.],\n",
              "        [  0.],\n",
              "        [  0.],\n",
              "        [  0.],\n",
              "        [  0.],\n",
              "        [  0.],\n",
              "        [  0.],\n",
              "        [  0.],\n",
              "        [  0.],\n",
              "        [124.],\n",
              "        [212.],\n",
              "        [  0.],\n",
              "        [  0.],\n",
              "        [  0.],\n",
              "        [  0.],\n",
              "        [  0.],\n",
              "        [  0.],\n",
              "        [  0.],\n",
              "        [  0.],\n",
              "        [  0.],\n",
              "        [  0.]],\n",
              "\n",
              "       [[  0.],\n",
              "        [  0.],\n",
              "        [  0.],\n",
              "        [  0.],\n",
              "        [  0.],\n",
              "        [  0.],\n",
              "        [  0.],\n",
              "        [  0.],\n",
              "        [  0.],\n",
              "        [  0.],\n",
              "        [  0.],\n",
              "        [  0.],\n",
              "        [  0.],\n",
              "        [  0.],\n",
              "        [232.],\n",
              "        [255.],\n",
              "        [255.],\n",
              "        [  0.],\n",
              "        [  0.],\n",
              "        [  0.],\n",
              "        [  0.],\n",
              "        [  0.],\n",
              "        [  0.],\n",
              "        [  0.],\n",
              "        [  0.],\n",
              "        [  0.],\n",
              "        [  0.],\n",
              "        [  0.]],\n",
              "\n",
              "       [[  0.],\n",
              "        [  0.],\n",
              "        [  0.],\n",
              "        [  0.],\n",
              "        [  0.],\n",
              "        [  0.],\n",
              "        [  0.],\n",
              "        [  0.],\n",
              "        [  0.],\n",
              "        [  0.],\n",
              "        [ 24.],\n",
              "        [254.],\n",
              "        [255.],\n",
              "        [255.],\n",
              "        [255.],\n",
              "        [255.],\n",
              "        [  0.],\n",
              "        [  0.],\n",
              "        [  0.],\n",
              "        [  0.],\n",
              "        [  0.],\n",
              "        [  0.],\n",
              "        [  0.],\n",
              "        [  0.],\n",
              "        [  0.],\n",
              "        [  0.],\n",
              "        [  0.],\n",
              "        [  0.]],\n",
              "\n",
              "       [[  0.],\n",
              "        [  0.],\n",
              "        [  0.],\n",
              "        [  0.],\n",
              "        [  0.],\n",
              "        [  0.],\n",
              "        [  0.],\n",
              "        [  0.],\n",
              "        [  0.],\n",
              "        [  0.],\n",
              "        [  0.],\n",
              "        [  0.],\n",
              "        [  0.],\n",
              "        [  0.],\n",
              "        [  0.],\n",
              "        [ 54.],\n",
              "        [255.],\n",
              "        [  0.],\n",
              "        [  0.],\n",
              "        [  0.],\n",
              "        [  0.],\n",
              "        [  0.],\n",
              "        [  0.],\n",
              "        [  0.],\n",
              "        [  0.],\n",
              "        [  0.],\n",
              "        [  0.],\n",
              "        [  0.]],\n",
              "\n",
              "       [[  0.],\n",
              "        [  0.],\n",
              "        [  0.],\n",
              "        [  0.],\n",
              "        [  0.],\n",
              "        [  0.],\n",
              "        [  0.],\n",
              "        [  0.],\n",
              "        [  0.],\n",
              "        [  0.],\n",
              "        [  0.],\n",
              "        [  0.],\n",
              "        [  0.],\n",
              "        [  0.],\n",
              "        [  0.],\n",
              "        [  0.],\n",
              "        [  0.],\n",
              "        [255.],\n",
              "        [  0.],\n",
              "        [  0.],\n",
              "        [  0.],\n",
              "        [  0.],\n",
              "        [  0.],\n",
              "        [  0.],\n",
              "        [  0.],\n",
              "        [  0.],\n",
              "        [  0.],\n",
              "        [  0.]],\n",
              "\n",
              "       [[  0.],\n",
              "        [  0.],\n",
              "        [  0.],\n",
              "        [  0.],\n",
              "        [  0.],\n",
              "        [  0.],\n",
              "        [  0.],\n",
              "        [  0.],\n",
              "        [  0.],\n",
              "        [  0.],\n",
              "        [  0.],\n",
              "        [  0.],\n",
              "        [  0.],\n",
              "        [  0.],\n",
              "        [  0.],\n",
              "        [  0.],\n",
              "        [  0.],\n",
              "        [255.],\n",
              "        [  0.],\n",
              "        [  0.],\n",
              "        [  0.],\n",
              "        [  0.],\n",
              "        [  0.],\n",
              "        [  0.],\n",
              "        [  0.],\n",
              "        [  0.],\n",
              "        [  0.],\n",
              "        [  0.]],\n",
              "\n",
              "       [[  0.],\n",
              "        [  0.],\n",
              "        [  0.],\n",
              "        [  0.],\n",
              "        [  0.],\n",
              "        [  0.],\n",
              "        [  0.],\n",
              "        [  0.],\n",
              "        [  0.],\n",
              "        [  0.],\n",
              "        [  0.],\n",
              "        [  0.],\n",
              "        [  0.],\n",
              "        [  0.],\n",
              "        [  0.],\n",
              "        [  0.],\n",
              "        [  0.],\n",
              "        [  0.],\n",
              "        [255.],\n",
              "        [  0.],\n",
              "        [  0.],\n",
              "        [  0.],\n",
              "        [  0.],\n",
              "        [  0.],\n",
              "        [  0.],\n",
              "        [  0.],\n",
              "        [  0.],\n",
              "        [  0.]],\n",
              "\n",
              "       [[  0.],\n",
              "        [  0.],\n",
              "        [  0.],\n",
              "        [  0.],\n",
              "        [  0.],\n",
              "        [  0.],\n",
              "        [  0.],\n",
              "        [  0.],\n",
              "        [  0.],\n",
              "        [  0.],\n",
              "        [  0.],\n",
              "        [  0.],\n",
              "        [  0.],\n",
              "        [  0.],\n",
              "        [  0.],\n",
              "        [  0.],\n",
              "        [  0.],\n",
              "        [  0.],\n",
              "        [255.],\n",
              "        [  0.],\n",
              "        [  0.],\n",
              "        [  0.],\n",
              "        [  0.],\n",
              "        [  0.],\n",
              "        [  0.],\n",
              "        [  0.],\n",
              "        [  0.],\n",
              "        [  0.]],\n",
              "\n",
              "       [[  0.],\n",
              "        [  0.],\n",
              "        [  0.],\n",
              "        [  0.],\n",
              "        [  0.],\n",
              "        [  0.],\n",
              "        [  0.],\n",
              "        [  0.],\n",
              "        [  0.],\n",
              "        [255.],\n",
              "        [  0.],\n",
              "        [  0.],\n",
              "        [  0.],\n",
              "        [  0.],\n",
              "        [  0.],\n",
              "        [  0.],\n",
              "        [  0.],\n",
              "        [255.],\n",
              "        [255.],\n",
              "        [  0.],\n",
              "        [  0.],\n",
              "        [  0.],\n",
              "        [  0.],\n",
              "        [  0.],\n",
              "        [  0.],\n",
              "        [  0.],\n",
              "        [  0.],\n",
              "        [  0.]],\n",
              "\n",
              "       [[  0.],\n",
              "        [  0.],\n",
              "        [  0.],\n",
              "        [  0.],\n",
              "        [  0.],\n",
              "        [  0.],\n",
              "        [  0.],\n",
              "        [  0.],\n",
              "        [  0.],\n",
              "        [255.],\n",
              "        [  0.],\n",
              "        [  0.],\n",
              "        [  0.],\n",
              "        [  0.],\n",
              "        [  0.],\n",
              "        [231.],\n",
              "        [255.],\n",
              "        [167.],\n",
              "        [  0.],\n",
              "        [  0.],\n",
              "        [  0.],\n",
              "        [  0.],\n",
              "        [  0.],\n",
              "        [  0.],\n",
              "        [  0.],\n",
              "        [  0.],\n",
              "        [  0.],\n",
              "        [  0.]],\n",
              "\n",
              "       [[  0.],\n",
              "        [  0.],\n",
              "        [  0.],\n",
              "        [  0.],\n",
              "        [  0.],\n",
              "        [  0.],\n",
              "        [  0.],\n",
              "        [  0.],\n",
              "        [  0.],\n",
              "        [  0.],\n",
              "        [255.],\n",
              "        [255.],\n",
              "        [255.],\n",
              "        [255.],\n",
              "        [255.],\n",
              "        [  0.],\n",
              "        [  0.],\n",
              "        [  0.],\n",
              "        [  0.],\n",
              "        [  0.],\n",
              "        [  0.],\n",
              "        [  0.],\n",
              "        [  0.],\n",
              "        [  0.],\n",
              "        [  0.],\n",
              "        [  0.],\n",
              "        [  0.],\n",
              "        [  0.]],\n",
              "\n",
              "       [[  0.],\n",
              "        [  0.],\n",
              "        [  0.],\n",
              "        [  0.],\n",
              "        [  0.],\n",
              "        [  0.],\n",
              "        [  0.],\n",
              "        [  0.],\n",
              "        [  0.],\n",
              "        [  0.],\n",
              "        [  0.],\n",
              "        [  0.],\n",
              "        [  0.],\n",
              "        [  0.],\n",
              "        [  0.],\n",
              "        [  0.],\n",
              "        [  0.],\n",
              "        [  0.],\n",
              "        [  0.],\n",
              "        [  0.],\n",
              "        [  0.],\n",
              "        [  0.],\n",
              "        [  0.],\n",
              "        [  0.],\n",
              "        [  0.],\n",
              "        [  0.],\n",
              "        [  0.],\n",
              "        [  0.]],\n",
              "\n",
              "       [[  0.],\n",
              "        [  0.],\n",
              "        [  0.],\n",
              "        [  0.],\n",
              "        [  0.],\n",
              "        [  0.],\n",
              "        [  0.],\n",
              "        [  0.],\n",
              "        [  0.],\n",
              "        [  0.],\n",
              "        [  0.],\n",
              "        [  0.],\n",
              "        [  0.],\n",
              "        [  0.],\n",
              "        [  0.],\n",
              "        [  0.],\n",
              "        [  0.],\n",
              "        [  0.],\n",
              "        [  0.],\n",
              "        [  0.],\n",
              "        [  0.],\n",
              "        [  0.],\n",
              "        [  0.],\n",
              "        [  0.],\n",
              "        [  0.],\n",
              "        [  0.],\n",
              "        [  0.],\n",
              "        [  0.]],\n",
              "\n",
              "       [[  0.],\n",
              "        [  0.],\n",
              "        [  0.],\n",
              "        [  0.],\n",
              "        [  0.],\n",
              "        [  0.],\n",
              "        [  0.],\n",
              "        [  0.],\n",
              "        [  0.],\n",
              "        [  0.],\n",
              "        [  0.],\n",
              "        [  0.],\n",
              "        [  0.],\n",
              "        [  0.],\n",
              "        [  0.],\n",
              "        [  0.],\n",
              "        [  0.],\n",
              "        [  0.],\n",
              "        [  0.],\n",
              "        [  0.],\n",
              "        [  0.],\n",
              "        [  0.],\n",
              "        [  0.],\n",
              "        [  0.],\n",
              "        [  0.],\n",
              "        [  0.],\n",
              "        [  0.],\n",
              "        [  0.]],\n",
              "\n",
              "       [[  0.],\n",
              "        [  0.],\n",
              "        [  0.],\n",
              "        [  0.],\n",
              "        [  0.],\n",
              "        [  0.],\n",
              "        [  0.],\n",
              "        [  0.],\n",
              "        [  0.],\n",
              "        [  0.],\n",
              "        [  0.],\n",
              "        [  0.],\n",
              "        [  0.],\n",
              "        [  0.],\n",
              "        [  0.],\n",
              "        [  0.],\n",
              "        [  0.],\n",
              "        [  0.],\n",
              "        [  0.],\n",
              "        [  0.],\n",
              "        [  0.],\n",
              "        [  0.],\n",
              "        [  0.],\n",
              "        [  0.],\n",
              "        [  0.],\n",
              "        [  0.],\n",
              "        [  0.],\n",
              "        [  0.]]], dtype=float32)"
            ]
          },
          "metadata": {},
          "execution_count": 24
        }
      ]
    },
    {
      "cell_type": "markdown",
      "source": [
        ">arrayのデータ構造を見てみましょう。"
      ],
      "metadata": {
        "id": "2_eFKgVGhqTx"
      }
    },
    {
      "cell_type": "code",
      "source": [
        "unknown_array.shape\n"
      ],
      "metadata": {
        "id": "rEHCFmakhja-",
        "colab": {
          "base_uri": "https://localhost:8080/"
        },
        "outputId": "eb6d54cb-8a40-4d61-f4e8-0c0ab5e975fd"
      },
      "execution_count": null,
      "outputs": [
        {
          "output_type": "execute_result",
          "data": {
            "text/plain": [
              "(28, 28, 1)"
            ]
          },
          "metadata": {},
          "execution_count": 25
        }
      ]
    },
    {
      "cell_type": "markdown",
      "source": [
        ">ここで、訓練データとテストデータの形状を確認してみましょう。"
      ],
      "metadata": {
        "id": "OLo24Szxh3We"
      }
    },
    {
      "cell_type": "code",
      "source": [
        "print(x_train.shape, x_test.shape)\n"
      ],
      "metadata": {
        "id": "pyiY2nWJwAIF",
        "colab": {
          "base_uri": "https://localhost:8080/"
        },
        "outputId": "071fda72-ec69-49d9-bc3f-2bd49e81f1b6"
      },
      "execution_count": null,
      "outputs": [
        {
          "output_type": "stream",
          "name": "stdout",
          "text": [
            "(60000, 28, 28) (10000, 28, 28)\n"
          ]
        }
      ]
    },
    {
      "cell_type": "markdown",
      "source": [
        ">このように、インプット可能なデータ構造は、\n",
        "\n",
        "「任意のサンプル数×縦28ピクセル×横28ピクセル」\n",
        "\n",
        ">となっています"
      ],
      "metadata": {
        "id": "9QK-e3poh80D"
      }
    },
    {
      "cell_type": "markdown",
      "source": [
        ">なので、先ほど取り込んだデータもこの形にリシェイプしてあげましょう。"
      ],
      "metadata": {
        "id": "z8ALsrg6iI7m"
      }
    },
    {
      "cell_type": "code",
      "source": [
        "#Numpyのreshape関数を使って形状を整えます。\n",
        "\n",
        "unknown_array = unknown_array.reshape((1, 28, 28))\n",
        "\n",
        "#リシェイプ後の形を確認\n",
        "unknown_array.shape"
      ],
      "metadata": {
        "id": "pBqwegcXvAAj",
        "colab": {
          "base_uri": "https://localhost:8080/"
        },
        "outputId": "a7579ed7-8af0-4eae-8a3e-3404da4ceb9d"
      },
      "execution_count": null,
      "outputs": [
        {
          "output_type": "execute_result",
          "data": {
            "text/plain": [
              "(1, 28, 28)"
            ]
          },
          "metadata": {},
          "execution_count": 27
        }
      ]
    },
    {
      "cell_type": "markdown",
      "source": [
        "さらに、前処理としてスケーリングを行います"
      ],
      "metadata": {
        "id": "OPSU5sMCijX4"
      }
    },
    {
      "cell_type": "code",
      "source": [
        "unknown_array = unknown_array / 255"
      ],
      "metadata": {
        "id": "SxHVElaRwKYH"
      },
      "execution_count": null,
      "outputs": []
    },
    {
      "cell_type": "markdown",
      "source": [
        "**予測**"
      ],
      "metadata": {
        "id": "ipdYLymjwYJj"
      }
    },
    {
      "cell_type": "code",
      "source": [
        "result = model.predict(unknown_array)\n",
        "result"
      ],
      "metadata": {
        "id": "PweWZsKDwOs0",
        "colab": {
          "base_uri": "https://localhost:8080/"
        },
        "outputId": "2705f550-9047-4a79-a10c-dc7a4d7eacd5"
      },
      "execution_count": null,
      "outputs": [
        {
          "output_type": "stream",
          "name": "stdout",
          "text": [
            "1/1 [==============================] - 0s 93ms/step\n"
          ]
        },
        {
          "output_type": "execute_result",
          "data": {
            "text/plain": [
              "array([[2.7188878e-06, 1.6174296e-02, 1.0987256e-02, 9.6668911e-01,\n",
              "        5.4670145e-05, 3.5612035e-04, 7.7014363e-07, 2.9991657e-04,\n",
              "        5.3249570e-03, 1.1017111e-04]], dtype=float32)"
            ]
          },
          "metadata": {},
          "execution_count": 29
        }
      ]
    },
    {
      "cell_type": "markdown",
      "source": [
        ">未知の画像データを読み込み、前処理してモデルで予測。"
      ],
      "metadata": {
        "id": "3SCkAEjcCGWL"
      }
    },
    {
      "cell_type": "markdown",
      "source": [
        "# 畳み込みニューラルネットワーク（CNN）の基礎"
      ],
      "metadata": {
        "id": "Ke8dnndXc5Bh"
      }
    },
    {
      "cell_type": "markdown",
      "source": [
        "1. **目標**:\n",
        "   - CNNの概要、構成層、構造検討のポイントを理解する。\n",
        "\n",
        "2. **CNNの基本**:\n",
        "   - 主に画像認識で用いられるニューラルネットワーク。\n",
        "   - 画像データの特徴抽出に優れ、複数の層で構成される。\n",
        "\n",
        "3. **通常のニューラルネットワークとの違い**:\n",
        "   - 3次元構造の層を有し、画像データをそのままの構造で処理。\n",
        "   - 特定の領域にのみ接続し、特徴抽出を効率化。\n",
        "\n",
        "4. **CNNを構成する層の種類**:\n",
        "   - **畳み込み層**: 特徴を抽出。フィルタ、ストライド、ゼロパディング、深さが重要。\n",
        "   - **プーリング層**: 層のサイズを小さくし、計算量を減少。\n",
        "   - **全結合層**: 通常のニューラルネットワークと同様、最終的な予測値を出力。\n",
        "\n",
        "5. **CNN構造を検討する際のポイント**:\n",
        "   - 畳み込み層とプーリング層を交互に配置し、最後に全結合層を設置。\n",
        "   - 経験則に基づき、適切なフィルタサイズやゼロパディングを選定。\n",
        "\n",
        "6. **転移学習の紹介**:\n",
        "   - 既存の学習済みモデルを新しいデータに適用し、効率的な学習を実現。\n",
        "\n",
        "7. **代表的なCNNモデル**:\n",
        "   - LeNet, AlexNet, GoogLeNet, VGGNet, ResNetなどのモデル紹介。\n",
        "\n",
        "8. **まとめ**:\n",
        "   - CNNの重要な概念と特徴を総合的に理解。\n",
        "\n",
        "---\n",
        "\n",
        "\n",
        ">この章では、CNNについて学んでいきます。CNNは、特に画像を扱う際に威力を発揮するニューラルネットワークで、特定の領域から特徴を効率的に抽出できます。普通のニューラルネットワークと似ていますが、より画像データに特化しています。\n",
        "\n",
        ">主な構成要素には、畳み込み層、プーリング層、全結合層があります。畳み込み層は画像の特徴を捉え、プーリング層はデータ量を減らして効率化し、最後の全結合層で結果をまとめます。\n",
        "\n",
        ">CNNを作るときは、これらの層の組み合わせや設定をどうするかが重要で、いくつかの経験則が役立ちます。また、転移学習という手法を使えば、既に学習されたモデルを新しい問題に応用できます。\n",
        "\n",
        ">最後に、いくつかの有名なCNNモデルも紹介しました。これらのモデルは、新しいタスクに適用するための良い出発点になることが多いです。\n",
        "\n",
        ">総じて、CNNは複雑で強力なツールですが、基本的な構造や原則を理解すれば、画像処理の問題に非常に効果的です。"
      ],
      "metadata": {
        "id": "our0Etmndfa4"
      }
    },
    {
      "cell_type": "markdown",
      "source": [
        "# Kerasを使用したCIFAR-10画像判定のCNN構築 #1"
      ],
      "metadata": {
        "id": "kMvDEFpFdlXI"
      }
    },
    {
      "cell_type": "markdown",
      "source": [
        "**本章の目標**\n",
        "- Kerasを使用してCIFAR-10画像の判定CNNを構築すること。\n",
        "\n",
        "**全体の流れ**\n",
        "1. **GPUへの切り替え**: Google Colaboratoryでの学習時間短縮。\n",
        "2. **乱数の固定**: 再現性向上のため。\n",
        "3. **データの取得**: CIFAR-10の50,000枚の学習データと10,000枚のテストデータ。\n",
        "4. **データの前処理**: スケーリングとOne-hotベクトル化。\n",
        "5. **CNN構造の検討**: 畳み込み層、プーリング層、全結合層の配置。\n",
        "\n",
        "**GPUへの切り替え**\n",
        "- ColaboratoryでGPUを選択し、メモリ上限に注意。\n",
        "\n",
        "**乱数の固定**\n",
        "- Kerasの `utils.set_random_seed(0)` で乱数固定。\n",
        "\n",
        "**データの取得**\n",
        "- CIFAR-10データをTensorFlow経由でロード。\n",
        "- データ構造: `x_train`、`y_train`、`x_test`、`y_test`。\n",
        "- `print`文と`np.amin`、`np.amax`関数でデータ構造確認。\n",
        "\n",
        "**データの前処理**\n",
        "- スケーリング: `x_train`、`x_test` を 0 から 1 の範囲に変換。\n",
        "- One-hotベクトル化: `y_train`、`y_test` を変換。\n",
        "\n",
        "**CNN構造の検討**\n",
        "- 構成: 畳み込み層→プーリング層→全結合層。\n",
        "- フィルタサイズ、ストライド、パディングの設定。\n",
        "- 全結合層: 出力層は10ノード（ソフトマックス関数）、他はReLU関数。\n",
        "\n",
        "**まとめ**\n",
        "- 本章での学び: データの取得からCNN構造の検討まで。\n",
        "- GPUの利用と再現性の問題についての注意。\n",
        "- CNN構造の検討には先行研究を参考にする。\n",
        "\n",
        ">この教材では、Kerasを使ってCIFAR-10データセットを用いたCNNの構築を学びます。まず、Google ColaboratoryでGPUを利用し、乱数を固定して学習の再現性を高めます。CIFAR-10データセットをロードし、そのデータのスケーリングとOne-hotベクトル化を行います。CNNの構造は、畳み込み層、プーリング層、全結合層を組み合わせて検討します。全結合層では、ソフトマックス関数とReLU関数を活用します。この章では、データの取得からCNN構造の基本的な検討までを行っています。\n"
      ],
      "metadata": {
        "id": "dYLroObKJCKi"
      }
    },
    {
      "cell_type": "markdown",
      "source": [
        "**乱数の固定**\n",
        "- Kerasのutilsモジュールをインポート。"
      ],
      "metadata": {
        "id": "UWXtXphPJamN"
      }
    },
    {
      "cell_type": "code",
      "source": [
        "from tensorflow.keras import utils\n",
        "utils.set_random_seed(0)"
      ],
      "metadata": {
        "id": "Io9EX5OnJi5p"
      },
      "execution_count": null,
      "outputs": []
    },
    {
      "cell_type": "markdown",
      "source": [
        "**データの取得**\n",
        "- TensorFlowでCIFAR-10データセットをロード。"
      ],
      "metadata": {
        "id": "ZU_MFuEVJl34"
      }
    },
    {
      "cell_type": "code",
      "source": [
        "import tensorflow as tf\n",
        "data = tf.keras.datasets.cifar10.load_data()\n"
      ],
      "metadata": {
        "id": "T0usC17hJopi",
        "colab": {
          "base_uri": "https://localhost:8080/"
        },
        "outputId": "4334c59c-b825-4b70-8f1c-b86f0c5a99f8"
      },
      "execution_count": null,
      "outputs": [
        {
          "output_type": "stream",
          "name": "stdout",
          "text": [
            "Downloading data from https://www.cs.toronto.edu/~kriz/cifar-10-python.tar.gz\n",
            "170498071/170498071 [==============================] - 7s 0us/step\n"
          ]
        }
      ]
    },
    {
      "cell_type": "markdown",
      "source": [
        "- 取得したデータの表示と構造の確認。"
      ],
      "metadata": {
        "id": "65T9pyHCJqYd"
      }
    },
    {
      "cell_type": "code",
      "source": [
        "(x_train, y_train), (x_test, y_test) = data"
      ],
      "metadata": {
        "id": "atUVJTxtJtW4"
      },
      "execution_count": null,
      "outputs": []
    },
    {
      "cell_type": "markdown",
      "source": [
        "**データの確認**\n",
        "- `print` 文でデータの構造と数値範囲を確認。"
      ],
      "metadata": {
        "id": "EjaHi2AHJvc0"
      }
    },
    {
      "cell_type": "code",
      "source": [
        "print(x_train.shape, y_train.shape, x_test.shape, y_test.shape)\n",
        "import numpy as np\n",
        "print(np.amin(x_train), np.amax(x_train))"
      ],
      "metadata": {
        "id": "K5h8Q9koJyrE",
        "colab": {
          "base_uri": "https://localhost:8080/"
        },
        "outputId": "37ef50f0-5f76-4b26-d709-dcc35efa6063"
      },
      "execution_count": null,
      "outputs": [
        {
          "output_type": "stream",
          "name": "stdout",
          "text": [
            "(50000, 32, 32, 3) (50000, 1) (10000, 32, 32, 3) (10000, 1)\n",
            "0 255\n"
          ]
        }
      ]
    },
    {
      "cell_type": "markdown",
      "source": [
        "**データの前処理**\n",
        "- スケーリングとOne-hotベクトル化の実行。"
      ],
      "metadata": {
        "id": "DTjYEoLyJ2l4"
      }
    },
    {
      "cell_type": "code",
      "source": [
        "x_train = x_train / 255\n",
        "x_test = x_test / 255\n",
        "from tensorflow.keras import utils\n",
        "y_train = utils.to_categorical(y_train)\n",
        "y_test = utils.to_categorical(y_test)"
      ],
      "metadata": {
        "id": "K1XKG0DZJ6Ms"
      },
      "execution_count": null,
      "outputs": []
    },
    {
      "cell_type": "markdown",
      "source": [
        "# Kerasで画像（CIFAR-10）を判定するCNNを構築しよう #2"
      ],
      "metadata": {
        "id": "OGuS5Oxpf_OP"
      }
    },
    {
      "cell_type": "markdown",
      "source": [
        "**本章の目標**\n",
        "- 前章の続きとして、CNNの構造定義、学習、評価、未知データの予測を実施。\n",
        "\n",
        "**全体の流れ（おさらい）**\n",
        "1. **GPUへの切り替え**\n",
        "2. **乱数の固定**\n",
        "3. **データの取得**\n",
        "4. **データの前処理**\n",
        "5. **CNN構造の検討**\n",
        "6. **CNN構造の定義**\n",
        "7. **損失関数、最適化方法、評価指標の設定**\n",
        "8. **CNNの学習**\n",
        "9. **CNNの評価**\n",
        "10. **未知データの予測**\n",
        "\n",
        "**CNN構造の定義**\n",
        "- Kerasの`Sequential`, `Flatten`, `Dense`, `Conv2D`, `MaxPooling2D`をインポートし、CNN構造を定義。\n",
        "\n",
        "**損失関数、最適化方法、評価指標の設定**\n",
        "- 損失関数: カテゴリ交差エントロピー誤差。\n",
        "- 最適化方法: Adam。\n",
        "- 評価指標: 正解率。\n",
        "\n",
        "**CNNの学習**\n",
        "- ハイパーパラメータ: バッチサイズ128、エポック数10。\n",
        "- 学習データの1割をバリデーションデータとして利用。\n",
        "- 学習履歴の可視化とエポック数の再調整。\n",
        "\n",
        "**CNNの評価**\n",
        "- `evaluate` メソッドを用いてテストデータによる評価。\n",
        "\n",
        "**未知データの予測**\n",
        "- 未知の画像データの取り込み、前処理、CNNを用いた予測実施。\n",
        "\n",
        "**まとめ**\n",
        "- 本章での学び: CNN構造の定義から未知データの予測まで。\n",
        "\n",
        ">この教材では、前章で定義したCNN構造を使って、実際の学習と評価を行います。まず、畳み込み層やプーリング層、全結合層を使ってCNNの構造を定義します。学習には、カテゴリ交差エントロピー誤差を損失関数として、Adamを最適化方法として、正解率を評価指標として設定します。実際の学習では、エポック数とバッチサイズを調整し、学習履歴を可視化して最適なパラメータを見つけます。最終的に、学習済みのCNNモデルを用いてテストデータの評価と未知データの予測を行います。\n"
      ],
      "metadata": {
        "id": "qCKIcUWbLHU3"
      }
    },
    {
      "cell_type": "markdown",
      "source": [
        "**CNN構造の定義**\n",
        "- Kerasのモデルとレイヤーをインポート。"
      ],
      "metadata": {
        "id": "XGXR4-m3OUsb"
      }
    },
    {
      "cell_type": "code",
      "source": [
        "from tensorflow.keras.models import Sequential\n",
        "from tensorflow.keras.layers import Flatten, Dense, Conv2D, MaxPooling2D"
      ],
      "metadata": {
        "id": "IL0qydO8OK1i"
      },
      "execution_count": null,
      "outputs": []
    },
    {
      "cell_type": "markdown",
      "source": [
        "- Sequentialモデルの初期化。"
      ],
      "metadata": {
        "id": "1blRCtgjOfF-"
      }
    },
    {
      "cell_type": "code",
      "source": [
        "model = Sequential()"
      ],
      "metadata": {
        "id": "I7rCmFSzOgrk"
      },
      "execution_count": null,
      "outputs": []
    },
    {
      "cell_type": "markdown",
      "source": [
        "- 畳み込み層とプーリング層の定義。"
      ],
      "metadata": {
        "id": "-vLmrFj3OjE6"
      }
    },
    {
      "cell_type": "code",
      "source": [
        "model.add(Conv2D(64, (3, 3), padding='same', activation='relu', input_shape=(32, 32, 3)))\n",
        "model.add(MaxPooling2D(pool_size=(2, 2)))\n",
        "model.add(Conv2D(128, (3, 3), padding='same', activation='relu'))\n",
        "model.add(MaxPooling2D(pool_size=(2, 2)))"
      ],
      "metadata": {
        "id": "BqddGJOiOnp7"
      },
      "execution_count": null,
      "outputs": []
    },
    {
      "cell_type": "markdown",
      "source": [
        "- 全結合層の追加。"
      ],
      "metadata": {
        "id": "81Hpyj20Orbg"
      }
    },
    {
      "cell_type": "code",
      "source": [
        "model.add(Flatten())\n",
        "model.add(Dense(120, activation='relu'))\n",
        "model.add(Dense(84, activation='relu'))\n",
        "model.add(Dense(10, activation='softmax'))"
      ],
      "metadata": {
        "id": "AijB3bvkOvLM"
      },
      "execution_count": null,
      "outputs": []
    },
    {
      "cell_type": "markdown",
      "source": [
        "- モデル構造のサマリー表示。"
      ],
      "metadata": {
        "id": "TkkZkfQIOyCS"
      }
    },
    {
      "cell_type": "code",
      "source": [
        "model.summary()"
      ],
      "metadata": {
        "id": "45arCF1tO1Pf",
        "colab": {
          "base_uri": "https://localhost:8080/"
        },
        "outputId": "0400c875-8fe3-4c26-f148-2daa615df169"
      },
      "execution_count": null,
      "outputs": [
        {
          "output_type": "stream",
          "name": "stdout",
          "text": [
            "Model: \"sequential_2\"\n",
            "_________________________________________________________________\n",
            " Layer (type)                Output Shape              Param #   \n",
            "=================================================================\n",
            " conv2d (Conv2D)             (None, 32, 32, 64)        1792      \n",
            "                                                                 \n",
            " max_pooling2d (MaxPooling2  (None, 16, 16, 64)        0         \n",
            " D)                                                              \n",
            "                                                                 \n",
            " conv2d_1 (Conv2D)           (None, 16, 16, 128)       73856     \n",
            "                                                                 \n",
            " max_pooling2d_1 (MaxPoolin  (None, 8, 8, 128)         0         \n",
            " g2D)                                                            \n",
            "                                                                 \n",
            " flatten_2 (Flatten)         (None, 8192)              0         \n",
            "                                                                 \n",
            " dense_4 (Dense)             (None, 120)               983160    \n",
            "                                                                 \n",
            " dense_5 (Dense)             (None, 84)                10164     \n",
            "                                                                 \n",
            " dense_6 (Dense)             (None, 10)                850       \n",
            "                                                                 \n",
            "=================================================================\n",
            "Total params: 1069822 (4.08 MB)\n",
            "Trainable params: 1069822 (4.08 MB)\n",
            "Non-trainable params: 0 (0.00 Byte)\n",
            "_________________________________________________________________\n"
          ]
        }
      ]
    },
    {
      "cell_type": "markdown",
      "source": [
        "**損失関数、最適化方法、評価指標の設定**"
      ],
      "metadata": {
        "id": "3iyYdGwaO7JG"
      }
    },
    {
      "cell_type": "code",
      "source": [
        "model.compile(loss='categorical_crossentropy',\n",
        "              optimizer='adam',\n",
        "              metrics=['accuracy'])"
      ],
      "metadata": {
        "id": "SjyG5LB6O5mj"
      },
      "execution_count": null,
      "outputs": []
    },
    {
      "cell_type": "markdown",
      "source": [
        "**CNNの学習**\n",
        "- ハイパーパラメータの設定と学習の実行。"
      ],
      "metadata": {
        "id": "ln1n67esPGvz"
      }
    },
    {
      "cell_type": "code",
      "source": [
        "history = model.fit(x_train, y_train,\n",
        "                    batch_size=128,\n",
        "                    epochs=10,\n",
        "                    validation_split=0.1)"
      ],
      "metadata": {
        "id": "Plmp-HfJPJMl",
        "colab": {
          "base_uri": "https://localhost:8080/"
        },
        "outputId": "61dc547c-ba33-4ed3-85a8-2cf2d9f51530"
      },
      "execution_count": null,
      "outputs": [
        {
          "output_type": "stream",
          "name": "stdout",
          "text": [
            "Epoch 1/10\n",
            "352/352 [==============================] - 9s 12ms/step - loss: 1.5129 - accuracy: 0.4534 - val_loss: 1.2465 - val_accuracy: 0.5714\n",
            "Epoch 2/10\n",
            "352/352 [==============================] - 3s 9ms/step - loss: 1.1045 - accuracy: 0.6099 - val_loss: 1.0055 - val_accuracy: 0.6472\n",
            "Epoch 3/10\n",
            "352/352 [==============================] - 3s 9ms/step - loss: 0.9444 - accuracy: 0.6682 - val_loss: 0.9275 - val_accuracy: 0.6836\n",
            "Epoch 4/10\n",
            "352/352 [==============================] - 4s 10ms/step - loss: 0.8370 - accuracy: 0.7074 - val_loss: 0.8502 - val_accuracy: 0.7098\n",
            "Epoch 5/10\n",
            "352/352 [==============================] - 4s 13ms/step - loss: 0.7534 - accuracy: 0.7349 - val_loss: 0.8625 - val_accuracy: 0.6996\n",
            "Epoch 6/10\n",
            "352/352 [==============================] - 4s 11ms/step - loss: 0.6824 - accuracy: 0.7622 - val_loss: 0.8105 - val_accuracy: 0.7304\n",
            "Epoch 7/10\n",
            "352/352 [==============================] - 3s 9ms/step - loss: 0.6010 - accuracy: 0.7886 - val_loss: 0.8245 - val_accuracy: 0.7264\n",
            "Epoch 8/10\n",
            "352/352 [==============================] - 4s 10ms/step - loss: 0.5346 - accuracy: 0.8133 - val_loss: 0.8243 - val_accuracy: 0.7322\n",
            "Epoch 9/10\n",
            "352/352 [==============================] - 5s 13ms/step - loss: 0.4654 - accuracy: 0.8358 - val_loss: 0.8834 - val_accuracy: 0.7256\n",
            "Epoch 10/10\n",
            "352/352 [==============================] - 4s 13ms/step - loss: 0.4120 - accuracy: 0.8564 - val_loss: 0.8924 - val_accuracy: 0.7278\n"
          ]
        }
      ]
    },
    {
      "cell_type": "markdown",
      "source": [
        "- 学習履歴の可視化。"
      ],
      "metadata": {
        "id": "KmTxDk9zPMDR"
      }
    },
    {
      "cell_type": "code",
      "source": [
        "import pandas as pd\n",
        "import seaborn as sns\n",
        "df = pd.DataFrame(history.history)\n",
        "sns.lineplot(data=df[['loss', 'val_loss']])\n",
        "sns.lineplot(data=df[['accuracy', 'val_accuracy']])"
      ],
      "metadata": {
        "id": "vLFzYuTwPOUL",
        "colab": {
          "base_uri": "https://localhost:8080/",
          "height": 447
        },
        "outputId": "b332e7b7-3f7d-42fa-ca47-971054f7b603"
      },
      "execution_count": null,
      "outputs": [
        {
          "output_type": "execute_result",
          "data": {
            "text/plain": [
              "<Axes: >"
            ]
          },
          "metadata": {},
          "execution_count": 42
        },
        {
          "output_type": "display_data",
          "data": {
            "text/plain": [
              "<Figure size 640x480 with 1 Axes>"
            ],
            "image/png": "[encoded data removed]"
          },
          "metadata": {}
        }
      ]
    },
    {
      "cell_type": "markdown",
      "source": [
        "**9.6 CNNの評価**\n",
        "- テストデータによるモデル評価。"
      ],
      "metadata": {
        "id": "7fYylcN-PRMr"
      }
    },
    {
      "cell_type": "code",
      "source": [
        "model.evaluate(x_test, y_test)"
      ],
      "metadata": {
        "id": "MU4k3NHBPTEW",
        "colab": {
          "base_uri": "https://localhost:8080/"
        },
        "outputId": "bfce8d95-d6ba-4d9a-c526-6a4aa8c11e1b"
      },
      "execution_count": null,
      "outputs": [
        {
          "output_type": "stream",
          "name": "stdout",
          "text": [
            "313/313 [==============================] - 1s 3ms/step - loss: 0.9142 - accuracy: 0.7187\n"
          ]
        },
        {
          "output_type": "execute_result",
          "data": {
            "text/plain": [
              "[0.9141961932182312, 0.7186999917030334]"
            ]
          },
          "metadata": {},
          "execution_count": 43
        }
      ]
    },
    {
      "cell_type": "markdown",
      "source": [
        "**9.7 未知データの予測**\n",
        "- 未知データのロードと前処理。\n",
        "\n",
        ">以下をダウンロードし、左のファイル欄へD&Dしましょう。\n",
        "\n",
        "[unknown_cifar.jpg](https://drive.google.com/file/d/1dnJSKRxqOsfsd7lgxlcmpbF6cJN_o-RU/view?usp=sharing)\n",
        "\n",
        ">ダウンロードからcontentフォルダへの取り込みまでを\n",
        ">以下コードで自動化しています。"
      ],
      "metadata": {
        "id": "QkqpcDo1PVy-"
      }
    },
    {
      "cell_type": "code",
      "source": [
        "import requests\n",
        "\n",
        "# Google DriveのファイルID\n",
        "file_id = '1dnJSKRxqOsfsd7lgxlcmpbF6cJN_o-RU'\n",
        "\n",
        "# ダウンロードURLの生成\n",
        "url = f'https://drive.google.com/uc?id={file_id}'\n",
        "\n",
        "# ファイル名（適宜変更してください）\n",
        "file_name = 'unknown_cifar.jpeg'\n",
        "\n",
        "# URLからファイルをダウンロード\n",
        "response = requests.get(url)\n",
        "response.raise_for_status()  # エラーがあればここで例外を発生させる\n",
        "\n",
        "# contentディレクトリにファイルを保存\n",
        "with open(f'/content/{file_name}', 'wb') as f:\n",
        "    f.write(response.content)\n",
        "\n",
        "print(f'ファイル {file_name} が/contentに保存されました。')\n"
      ],
      "metadata": {
        "id": "fqPLdbjDQnLI",
        "colab": {
          "base_uri": "https://localhost:8080/"
        },
        "outputId": "67f50e99-390f-4691-f2fc-ca7a47da99c6"
      },
      "execution_count": null,
      "outputs": [
        {
          "output_type": "stream",
          "name": "stdout",
          "text": [
            "ファイル unknown_cifar.jpeg が/contentに保存されました。\n"
          ]
        }
      ]
    },
    {
      "cell_type": "code",
      "source": [
        "from tensorflow.keras.preprocessing.image import load_img, img_to_array\n",
        "unknown_img = load_img('/content/unknown_cifar.jpeg', target_size=(32, 32))\n",
        "unknown_array = img_to_array(unknown_img)\n",
        "unknown_array = unknown_array / 255\n",
        "unknown_array = unknown_array.reshape((1, 32, 32, 3))"
      ],
      "metadata": {
        "id": "rKyg84h5PbPz"
      },
      "execution_count": null,
      "outputs": []
    },
    {
      "cell_type": "markdown",
      "source": [
        "- 予測の実行。"
      ],
      "metadata": {
        "id": "bkvEj6RUP7XD"
      }
    },
    {
      "cell_type": "code",
      "source": [
        "result = model.predict(unknown_array)\n",
        "sns.barplot(x=[0, 1, 2, 3, 4, 5, 6, 7, 8, 9], y=result[0])"
      ],
      "metadata": {
        "id": "SjuhLNb6P9K3",
        "colab": {
          "base_uri": "https://localhost:8080/",
          "height": 465
        },
        "outputId": "da77e5bf-aef7-4cef-f2a8-fdbbdf3ccf0a"
      },
      "execution_count": null,
      "outputs": [
        {
          "output_type": "stream",
          "name": "stdout",
          "text": [
            "1/1 [==============================] - 0s 205ms/step\n"
          ]
        },
        {
          "output_type": "execute_result",
          "data": {
            "text/plain": [
              "<Axes: >"
            ]
          },
          "metadata": {},
          "execution_count": 46
        },
        {
          "output_type": "display_data",
          "data": {
            "text/plain": [
              "<Figure size 640x480 with 1 Axes>"
            ],
            "image/png": "[encoded data removed]"
          },
          "metadata": {}
        }
      ]
    },
    {
      "cell_type": "markdown",
      "source": [
        "# 学習済みモデルVGG16を転移学習して犬猫画像の判定モデルを構築しよう #1"
      ],
      "metadata": {
        "id": "kvuIma-LjY0W"
      }
    },
    {
      "cell_type": "markdown",
      "source": [
        "**10章: VGG16を用いた転移学習の基礎 #1**\n",
        "\n",
        "1. **目標**:\n",
        "   - 転移学習とファインチューニングの理解、VGG16の利用方法の習得、転移学習の流れの把握。\n",
        "\n",
        "2. **転移学習とファインチューニングの違い**:\n",
        "   - 転移学習は既存モデルを新しい目的で利用、ファインチューニングは既存モデルを新しいデータで微調整。\n",
        "\n",
        "3. **VGG16の体験**:\n",
        "   - VGG16モデルの取得、構造の可視化、サンプルデータの予測実施。\n",
        "\n",
        "4. **転移学習の流れ**:\n",
        "   - VGG16の全結合層を除外、独自の全結合層を追加、部分的な学習、予測実施。\n",
        "\n",
        "5. **画像データの準備**:\n",
        "   - Googleドライブに犬と猫の画像データを格納、次章での転移学習に使用。\n",
        "\n",
        "---\n",
        "\n",
        "この章ではVGG16を使った転移学習の基礎について学ぶんだ。転移学習って、既に学習されたモデルを新しい目的に使うことだよ。\n",
        "\n",
        "- **転移学習とファインチューニングの違いを理解する**:\n",
        "   - 転移学習は、モデルの一部を新しいタスクに使い回すんだ。ファインチューニングは、モデルを新しいデータでさらに学習させること。\n",
        "\n",
        "- **VGG16を使ってみる**:\n",
        "   - 実際にVGG16モデルを使って、画像の分類を体験してみるんだ。\n",
        "\n",
        "- **転移学習のプロセス**:\n",
        "   - VGG16の一部を使って、新しい全結合層を足すんだ。そこだけを学習させて、新しいタスクに使う。\n",
        "\n",
        "- **学習データの準備**:\n",
        "   - 次の章で使うために、Googleドライブに犬と猫の画像データを準備しておくんだ。\n",
        "\n",
        "---\n",
        "\n"
      ],
      "metadata": {
        "id": "vhSTcxK1jahe"
      }
    },
    {
      "cell_type": "markdown",
      "source": [
        "**コード例**\n",
        "\n",
        "1. **VGG16の取得と可視化**:"
      ],
      "metadata": {
        "id": "CJ3Z4ZfExa8W"
      }
    },
    {
      "cell_type": "code",
      "source": [
        "from tensorflow.keras.applications.vgg16 import VGG16\n",
        "model = VGG16(weights='imagenet')\n",
        "model.summary()"
      ],
      "metadata": {
        "id": "TMKTpczWxg-0",
        "colab": {
          "base_uri": "https://localhost:8080/"
        },
        "outputId": "e539974a-25e1-409c-df8c-b408faac4d8d"
      },
      "execution_count": null,
      "outputs": [
        {
          "output_type": "stream",
          "name": "stdout",
          "text": [
            "Downloading data from https://storage.googleapis.com/tensorflow/keras-applications/vgg16/vgg16_weights_tf_dim_ordering_tf_kernels.h5\n",
            "553467096/553467096 [==============================] - 15s 0us/step\n",
            "Model: \"vgg16\"\n",
            "_________________________________________________________________\n",
            " Layer (type)                Output Shape              Param #   \n",
            "=================================================================\n",
            " input_1 (InputLayer)        [(None, 224, 224, 3)]     0         \n",
            "                                                                 \n",
            " block1_conv1 (Conv2D)       (None, 224, 224, 64)      1792      \n",
            "                                                                 \n",
            " block1_conv2 (Conv2D)       (None, 224, 224, 64)      36928     \n",
            "                                                                 \n",
            " block1_pool (MaxPooling2D)  (None, 112, 112, 64)      0         \n",
            "                                                                 \n",
            " block2_conv1 (Conv2D)       (None, 112, 112, 128)     73856     \n",
            "                                                                 \n",
            " block2_conv2 (Conv2D)       (None, 112, 112, 128)     147584    \n",
            "                                                                 \n",
            " block2_pool (MaxPooling2D)  (None, 56, 56, 128)       0         \n",
            "                                                                 \n",
            " block3_conv1 (Conv2D)       (None, 56, 56, 256)       295168    \n",
            "                                                                 \n",
            " block3_conv2 (Conv2D)       (None, 56, 56, 256)       590080    \n",
            "                                                                 \n",
            " block3_conv3 (Conv2D)       (None, 56, 56, 256)       590080    \n",
            "                                                                 \n",
            " block3_pool (MaxPooling2D)  (None, 28, 28, 256)       0         \n",
            "                                                                 \n",
            " block4_conv1 (Conv2D)       (None, 28, 28, 512)       1180160   \n",
            "                                                                 \n",
            " block4_conv2 (Conv2D)       (None, 28, 28, 512)       2359808   \n",
            "                                                                 \n",
            " block4_conv3 (Conv2D)       (None, 28, 28, 512)       2359808   \n",
            "                                                                 \n",
            " block4_pool (MaxPooling2D)  (None, 14, 14, 512)       0         \n",
            "                                                                 \n",
            " block5_conv1 (Conv2D)       (None, 14, 14, 512)       2359808   \n",
            "                                                                 \n",
            " block5_conv2 (Conv2D)       (None, 14, 14, 512)       2359808   \n",
            "                                                                 \n",
            " block5_conv3 (Conv2D)       (None, 14, 14, 512)       2359808   \n",
            "                                                                 \n",
            " block5_pool (MaxPooling2D)  (None, 7, 7, 512)         0         \n",
            "                                                                 \n",
            " flatten (Flatten)           (None, 25088)             0         \n",
            "                                                                 \n",
            " fc1 (Dense)                 (None, 4096)              102764544 \n",
            "                                                                 \n",
            " fc2 (Dense)                 (None, 4096)              16781312  \n",
            "                                                                 \n",
            " predictions (Dense)         (None, 1000)              4097000   \n",
            "                                                                 \n",
            "=================================================================\n",
            "Total params: 138357544 (527.79 MB)\n",
            "Trainable params: 138357544 (527.79 MB)\n",
            "Non-trainable params: 0 (0.00 Byte)\n",
            "_________________________________________________________________\n"
          ]
        }
      ]
    },
    {
      "cell_type": "markdown",
      "source": [
        "2. **サンプルデータの前処理と予測**:"
      ],
      "metadata": {
        "id": "HVZDgP1Uxjkt"
      }
    },
    {
      "cell_type": "markdown",
      "source": [
        "\n",
        "[unknown_vgg.jpg](https://drive.google.com/file/d/1gRKwwTp_augOaYOzN6TYn7qufMGyG-Vj/view?usp=share_link)"
      ],
      "metadata": {
        "id": "4_tbEa2scNu4"
      }
    },
    {
      "cell_type": "code",
      "source": [
        "import requests\n",
        "\n",
        "# Google DriveのファイルID\n",
        "file_id = '1gRKwwTp_augOaYOzN6TYn7qufMGyG-Vj'\n",
        "\n",
        "# ダウンロードURLの生成\n",
        "url = f'https://drive.google.com/uc?id={file_id}'\n",
        "\n",
        "# ファイル名（適宜変更してください）\n",
        "file_name = 'unknown_vgg.jpg'\n",
        "\n",
        "# URLからファイルをダウンロード\n",
        "response = requests.get(url)\n",
        "response.raise_for_status()  # エラーがあればここで例外を発生させる\n",
        "\n",
        "# contentディレクトリにファイルを保存\n",
        "with open(f'/content/{file_name}', 'wb') as f:\n",
        "    f.write(response.content)\n",
        "\n",
        "print(f'ファイル {file_name} が/contentに保存されました。')\n"
      ],
      "metadata": {
        "id": "sc-L0l7oRPUJ",
        "colab": {
          "base_uri": "https://localhost:8080/"
        },
        "outputId": "c42be2b7-bd07-4f7b-f786-59804afb8416"
      },
      "execution_count": null,
      "outputs": [
        {
          "output_type": "stream",
          "name": "stdout",
          "text": [
            "ファイル unknown_vgg.jpg が/contentに保存されました。\n"
          ]
        }
      ]
    },
    {
      "cell_type": "code",
      "source": [
        "from tensorflow.keras.preprocessing.image import load_img\n",
        "unknown_img = load_img('/content/unknown_vgg.jpg', target_size=(224, 224))\n",
        "unknown_img"
      ],
      "metadata": {
        "id": "WuIGwNLtxnEt",
        "colab": {
          "base_uri": "https://localhost:8080/",
          "height": 241
        },
        "outputId": "9057e1fe-dccc-4cbd-9f98-df9f40b4884f"
      },
      "execution_count": null,
      "outputs": [
        {
          "output_type": "execute_result",
          "data": {
            "text/plain": [
              "<PIL.Image.Image image mode=RGB size=224x224>"
            ],
            "image/png": "[encoded data removed]"
          },
          "metadata": {},
          "execution_count": 49
        }
      ]
    },
    {
      "cell_type": "markdown",
      "source": [
        "**前処理**"
      ],
      "metadata": {
        "id": "ZAl7BRDcSwgP"
      }
    },
    {
      "cell_type": "code",
      "source": [
        "from tensorflow.keras.preprocessing.image import img_to_array\n",
        "unknown_array = img_to_array(unknown_img)\n",
        "unknown_array.shape"
      ],
      "metadata": {
        "id": "NjpHw7VtSz8j",
        "colab": {
          "base_uri": "https://localhost:8080/"
        },
        "outputId": "1491a9ef-ad9f-4f5c-d3de-c4972e39eee8"
      },
      "execution_count": null,
      "outputs": [
        {
          "output_type": "execute_result",
          "data": {
            "text/plain": [
              "(224, 224, 3)"
            ]
          },
          "metadata": {},
          "execution_count": 50
        }
      ]
    },
    {
      "cell_type": "markdown",
      "source": [
        ">VGG16の可視化で確認した通り、インプットデータの構造は「任意のサンプル数×224×224×3」です。reshape関数で同じデータ構造に変換します。以下のように記述して、実行してください。\n",
        "\n"
      ],
      "metadata": {
        "id": "bhPB1tgdS-KX"
      }
    },
    {
      "cell_type": "code",
      "source": [
        "unknown_array = unknown_array.reshape((1, 224, 224, 3))\n",
        "unknown_array.shape\n"
      ],
      "metadata": {
        "id": "aQmlz-nVS_26",
        "colab": {
          "base_uri": "https://localhost:8080/"
        },
        "outputId": "396a21fa-a09c-4a68-f04b-7c2c1f2dc974"
      },
      "execution_count": null,
      "outputs": [
        {
          "output_type": "execute_result",
          "data": {
            "text/plain": [
              "(1, 224, 224, 3)"
            ]
          },
          "metadata": {},
          "execution_count": 51
        }
      ]
    },
    {
      "cell_type": "markdown",
      "source": [
        ">6,9章における画像ファイルの取り込みでは、この次のプロセスとしてスケーリング（unknown_arrayを構成する各数値を255で割る操作）を行っていました。今回は前処理方法を変更し、VGG16のpreprocess_input関数を利用して、前処理を実施します。この関数は、VGG16用に前処理が実行できる関数です。以下のように記述して、実行してください。"
      ],
      "metadata": {
        "id": "WnDiuFG6Wx6H"
      }
    },
    {
      "cell_type": "code",
      "source": [
        "from tensorflow.keras.applications.vgg16 import preprocess_input\n",
        "unknown_array = preprocess_input(unknown_array)\n"
      ],
      "metadata": {
        "id": "OhHQ1zz9W14W"
      },
      "execution_count": null,
      "outputs": []
    },
    {
      "cell_type": "markdown",
      "source": [
        "**予測**"
      ],
      "metadata": {
        "id": "GEGlCdX7TGbH"
      }
    },
    {
      "cell_type": "code",
      "source": [
        "result = model.predict(unknown_array)"
      ],
      "metadata": {
        "id": "9WKLLZLhTIKz",
        "colab": {
          "base_uri": "https://localhost:8080/"
        },
        "outputId": "3974c33f-f859-4a80-e758-16e583ab2334"
      },
      "execution_count": null,
      "outputs": [
        {
          "output_type": "stream",
          "name": "stdout",
          "text": [
            "1/1 [==============================] - 1s 1s/step\n"
          ]
        }
      ]
    },
    {
      "cell_type": "code",
      "source": [
        "result"
      ],
      "metadata": {
        "id": "2Pt4uBwTU9Nb",
        "colab": {
          "base_uri": "https://localhost:8080/"
        },
        "outputId": "2597f850-b456-47ef-a150-3c9ab1d0d56e"
      },
      "execution_count": null,
      "outputs": [
        {
          "output_type": "execute_result",
          "data": {
            "text/plain": [
              "array([[1.11725305e-08, 4.89423883e-07, 3.93451449e-09, 8.92244223e-10,\n",
              "        1.65926065e-10, 8.15076562e-10, 7.50456974e-10, 3.83191079e-08,\n",
              "        3.24300885e-07, 2.16291207e-10, 1.27581146e-08, 2.96107672e-08,\n",
              "        9.11737974e-09, 2.54531862e-09, 7.84278065e-09, 8.52190112e-07,\n",
              "        3.27272375e-07, 2.91346840e-08, 9.65541460e-08, 1.64874681e-09,\n",
              "        3.73937459e-09, 5.76805159e-10, 3.87632176e-10, 5.61214686e-10,\n",
              "        6.26211583e-10, 5.91521054e-09, 1.81357318e-09, 2.73654188e-09,\n",
              "        4.16828927e-09, 1.01353255e-08, 1.54444402e-09, 3.66637245e-08,\n",
              "        1.60665703e-09, 2.15357687e-09, 6.11598416e-09, 2.35707209e-09,\n",
              "        2.15744649e-08, 2.24178560e-08, 1.97570460e-10, 9.47189882e-09,\n",
              "        7.22527371e-09, 1.47335610e-09, 5.07120623e-10, 1.77938109e-09,\n",
              "        1.58129787e-10, 2.26414709e-09, 1.84121678e-08, 3.39396355e-09,\n",
              "        1.72227094e-10, 1.42640877e-09, 1.43496359e-09, 4.02674338e-09,\n",
              "        1.30943312e-09, 7.08680448e-10, 8.61743399e-10, 9.63856372e-09,\n",
              "        1.38110812e-08, 1.52756330e-09, 8.94411600e-10, 1.42452263e-08,\n",
              "        1.16055450e-08, 2.05266684e-08, 2.27998620e-09, 4.77021578e-09,\n",
              "        1.36261868e-09, 1.13654708e-09, 8.58502158e-09, 3.37619510e-09,\n",
              "        7.07332692e-10, 5.64037306e-09, 1.71229142e-09, 1.48120627e-09,\n",
              "        3.02573255e-09, 2.16282743e-08, 2.43746285e-08, 1.42625174e-08,\n",
              "        8.46161630e-09, 1.29347288e-08, 7.64603758e-09, 2.21364771e-09,\n",
              "        1.98316208e-09, 1.29643096e-09, 3.06663068e-08, 8.51214139e-08,\n",
              "        1.51145301e-08, 9.60361035e-08, 2.07725126e-08, 3.11779587e-07,\n",
              "        1.86821453e-07, 4.48607125e-08, 5.37687470e-07, 3.30071863e-08,\n",
              "        3.18074100e-09, 4.93979428e-07, 7.32218197e-08, 6.00906036e-09,\n",
              "        3.54466110e-08, 2.98650576e-07, 5.09487519e-09, 1.21025096e-07,\n",
              "        1.67779053e-08, 2.74236106e-10, 3.65248742e-09, 1.24434707e-09,\n",
              "        5.27799271e-09, 3.00158476e-09, 2.69872924e-09, 4.01887057e-09,\n",
              "        5.18970964e-08, 1.45725876e-08, 3.04478887e-10, 1.55774527e-09,\n",
              "        4.06558087e-07, 4.34570495e-07, 9.17808549e-08, 9.38947942e-09,\n",
              "        1.97802064e-09, 2.96198053e-08, 2.51975621e-07, 6.45243006e-08,\n",
              "        1.52338508e-09, 1.51955021e-07, 5.22724974e-07, 9.68284724e-08,\n",
              "        4.68097284e-07, 3.08535846e-08, 1.93838656e-09, 6.81856405e-10,\n",
              "        1.42404033e-10, 2.18348895e-09, 2.25715411e-08, 3.50668539e-09,\n",
              "        1.09623433e-09, 2.94329316e-09, 2.68714242e-08, 2.89969027e-09,\n",
              "        2.14365627e-08, 4.42575221e-09, 7.12105763e-10, 3.31624705e-09,\n",
              "        2.00117771e-08, 8.38683700e-09, 1.89423521e-09, 2.31759305e-08,\n",
              "        2.46485907e-08, 2.24902355e-08, 9.77474435e-10, 3.80104437e-09,\n",
              "        3.50389264e-08, 1.83860399e-10, 1.65902527e-08, 3.66635675e-07,\n",
              "        6.81273926e-10, 1.14339018e-08, 2.28806840e-08, 1.21214230e-08,\n",
              "        4.89065499e-09, 1.37557414e-08, 1.17625660e-08, 4.79195572e-09,\n",
              "        8.08105971e-10, 1.28303668e-07, 3.95520807e-08, 9.02906816e-09,\n",
              "        3.60607615e-08, 3.97279232e-09, 3.44099904e-09, 4.63777772e-09,\n",
              "        1.73671442e-08, 1.36127309e-09, 2.10901652e-09, 2.52161350e-08,\n",
              "        5.76776031e-08, 1.36394043e-08, 7.33267402e-09, 7.60130514e-10,\n",
              "        2.93822233e-09, 2.00180650e-09, 1.95050021e-08, 1.43575836e-08,\n",
              "        1.00325996e-08, 2.09060524e-09, 1.39897516e-08, 3.59706820e-09,\n",
              "        1.84716846e-08, 2.27560797e-08, 6.03582819e-08, 9.25167054e-09,\n",
              "        5.53451773e-09, 1.76953652e-08, 6.32162767e-10, 2.04886472e-08,\n",
              "        3.14022195e-08, 4.83054352e-09, 6.27177776e-09, 1.88708981e-07,\n",
              "        9.53816137e-09, 2.16073182e-09, 6.86780055e-09, 2.81922379e-08,\n",
              "        2.21128049e-09, 4.35696528e-08, 1.35077043e-08, 7.33104173e-08,\n",
              "        4.04168610e-09, 4.76338080e-08, 5.93124216e-09, 4.60573357e-09,\n",
              "        9.62470779e-08, 8.44794101e-09, 2.03359889e-08, 2.37975026e-08,\n",
              "        3.75408193e-09, 1.35039380e-09, 2.37606179e-09, 3.40236372e-09,\n",
              "        3.74118692e-09, 4.80172746e-09, 2.77330905e-08, 7.04082348e-09,\n",
              "        4.22916058e-09, 4.54055105e-09, 1.50574699e-08, 9.97018788e-08,\n",
              "        5.94412164e-08, 6.28937826e-08, 3.03973668e-09, 1.16000734e-07,\n",
              "        1.09512677e-09, 5.98307348e-10, 9.60635305e-09, 2.56207517e-08,\n",
              "        1.15507337e-08, 2.60170618e-09, 3.29165282e-08, 3.61942853e-09,\n",
              "        2.22729053e-08, 4.39796892e-08, 1.16289218e-08, 9.03630415e-09,\n",
              "        5.41172014e-08, 1.57615929e-08, 1.63819236e-09, 8.22323654e-10,\n",
              "        1.71832426e-09, 3.74068918e-08, 3.64130259e-09, 1.43069840e-08,\n",
              "        7.89215004e-09, 2.22966623e-08, 5.45590995e-09, 4.01429361e-07,\n",
              "        5.68647296e-10, 7.65730476e-07, 2.94828943e-08, 1.01454556e-09,\n",
              "        2.39975462e-09, 1.96939336e-08, 1.65585110e-08, 1.36456038e-07,\n",
              "        6.79584566e-09, 3.47357432e-09, 5.78552939e-09, 8.54299671e-08,\n",
              "        1.16388188e-08, 3.69879523e-08, 1.05932836e-08, 3.33119701e-08,\n",
              "        6.62979360e-08, 3.86381194e-09, 1.40062428e-09, 1.94236138e-09,\n",
              "        1.40407741e-09, 3.64707375e-08, 4.96451769e-09, 5.48346923e-10,\n",
              "        2.03747264e-09, 3.72901887e-09, 1.88465621e-09, 2.89211100e-10,\n",
              "        6.43428777e-09, 1.72571305e-07, 8.50169215e-08, 7.78696361e-08,\n",
              "        4.51707542e-08, 2.88235551e-08, 1.69666070e-09, 5.74883341e-09,\n",
              "        4.42067161e-10, 4.33359709e-10, 3.26883987e-09, 7.36757821e-10,\n",
              "        4.70569272e-09, 7.62378161e-10, 3.56009916e-10, 2.43036791e-09,\n",
              "        9.63984981e-09, 6.99208025e-10, 4.22348556e-09, 5.97206007e-10,\n",
              "        3.17180393e-10, 1.36301207e-06, 1.82250903e-09, 9.27084964e-10,\n",
              "        3.05712327e-08, 4.18972279e-09, 6.63043878e-08, 1.92948036e-07,\n",
              "        8.02737716e-08, 2.08018509e-08, 1.27199257e-07, 6.82679202e-09,\n",
              "        5.81015680e-09, 2.23397869e-08, 3.88437833e-08, 3.42571624e-08,\n",
              "        1.06834976e-08, 5.69814773e-09, 6.12259043e-09, 3.64204773e-08,\n",
              "        6.11207751e-09, 1.94742213e-08, 8.13191825e-09, 4.35448158e-08,\n",
              "        8.44927861e-09, 4.83249103e-08, 1.81306561e-08, 4.79454521e-08,\n",
              "        1.41188295e-07, 6.63490107e-09, 5.02408497e-08, 1.92253253e-08,\n",
              "        1.06412436e-07, 1.61581056e-07, 9.65035518e-09, 6.61686661e-09,\n",
              "        1.18532784e-09, 6.19007201e-09, 7.82156803e-07, 4.09203604e-09,\n",
              "        1.45324996e-09, 1.10173524e-08, 2.59087130e-09, 1.30483346e-09,\n",
              "        4.98236075e-09, 9.59071844e-09, 2.18058087e-08, 1.51934576e-09,\n",
              "        1.15442589e-08, 2.24258856e-09, 1.50804547e-09, 9.89309856e-10,\n",
              "        6.80031587e-10, 5.44333290e-09, 6.65516420e-10, 2.57837418e-09,\n",
              "        2.60928479e-09, 1.88126936e-09, 6.78351686e-09, 4.43410064e-09,\n",
              "        3.39282447e-09, 9.12432085e-09, 1.72707770e-09, 1.31712383e-08,\n",
              "        1.21254851e-09, 3.55226515e-10, 8.85699347e-10, 9.41192457e-10,\n",
              "        1.43850420e-09, 2.72186762e-09, 4.30114655e-09, 7.71007880e-09,\n",
              "        1.41353540e-10, 2.67825850e-09, 1.79610709e-08, 2.01641437e-09,\n",
              "        3.67591402e-09, 9.32042710e-09, 1.35039635e-09, 1.30520172e-09,\n",
              "        1.63431402e-08, 2.93670954e-09, 6.38445963e-09, 5.06018472e-09,\n",
              "        3.80652931e-09, 6.32905894e-10, 6.13615991e-10, 1.35744695e-08,\n",
              "        2.52257903e-09, 4.85116125e-09, 4.54485738e-09, 2.33372166e-08,\n",
              "        2.73166578e-09, 5.54181725e-07, 5.68716740e-10, 4.11390122e-09,\n",
              "        4.22404112e-09, 6.32874531e-10, 3.35493468e-07, 9.40426670e-09,\n",
              "        1.47480774e-08, 5.53296653e-09, 2.82555987e-08, 1.28179218e-08,\n",
              "        3.51564622e-09, 3.84871912e-09, 1.94261247e-06, 3.18411182e-08,\n",
              "        5.12280174e-09, 8.03092988e-08, 7.68984076e-09, 3.47838466e-07,\n",
              "        1.21832886e-06, 9.44766265e-10, 5.62265541e-07, 1.75678015e-05,\n",
              "        8.12623857e-10, 9.58826831e-07, 8.27642577e-09, 1.72040124e-08,\n",
              "        6.43106102e-09, 1.35501006e-08, 3.65931641e-08, 1.14561627e-09,\n",
              "        2.35220821e-09, 3.35056853e-08, 2.79309411e-08, 1.40561824e-07,\n",
              "        4.24596248e-04, 4.69503547e-08, 2.42926262e-07, 7.00563660e-08,\n",
              "        1.90066984e-09, 2.88668005e-08, 6.49576108e-08, 1.46829484e-06,\n",
              "        6.78904355e-09, 1.02313136e-08, 2.35039739e-08, 4.11540988e-08,\n",
              "        5.77718495e-08, 1.05827880e-07, 2.63614393e-08, 9.88889255e-08,\n",
              "        5.49211876e-09, 2.33117703e-08, 4.23239044e-08, 6.67289557e-10,\n",
              "        4.23020765e-06, 8.67999095e-09, 1.11394636e-08, 8.79448265e-08,\n",
              "        1.25611876e-07, 1.10879796e-07, 6.03636892e-08, 9.39677633e-08,\n",
              "        4.80307394e-09, 1.32310403e-08, 5.30567092e-08, 6.03369870e-08,\n",
              "        4.56784619e-08, 2.14524327e-08, 6.25470875e-08, 3.20069084e-05,\n",
              "        7.59301102e-08, 8.51739512e-10, 3.45922047e-09, 9.60706430e-08,\n",
              "        4.09026661e-08, 4.48766741e-06, 2.10557118e-06, 7.04900760e-09,\n",
              "        3.49416851e-08, 5.88519129e-07, 5.06359266e-09, 3.55379193e-09,\n",
              "        5.17940268e-09, 4.21222452e-08, 3.98871452e-05, 6.07659203e-08,\n",
              "        5.30086375e-09, 3.16934390e-09, 8.79920936e-09, 3.39091137e-08,\n",
              "        3.34005801e-09, 9.14306497e-09, 2.95547924e-08, 4.70373003e-08,\n",
              "        1.31698258e-07, 1.08876101e-07, 5.47248327e-08, 6.46345484e-08,\n",
              "        6.67409222e-06, 1.65366956e-07, 1.53095048e-08, 6.06541732e-08,\n",
              "        1.30239172e-07, 1.61352546e-07, 9.62577662e-09, 2.95158006e-05,\n",
              "        1.10312659e-09, 4.78952522e-09, 1.48522219e-07, 1.77210580e-07,\n",
              "        2.57202828e-07, 2.35201878e-06, 7.08421695e-08, 3.73300457e-09,\n",
              "        3.19649928e-07, 2.32741422e-06, 7.53638929e-09, 1.61996656e-08,\n",
              "        4.88820774e-07, 7.42677919e-10, 2.90553670e-09, 9.67653264e-08,\n",
              "        4.55072552e-07, 1.78571256e-08, 2.37564933e-07, 5.06380340e-04,\n",
              "        9.69581180e-08, 1.14116301e-05, 2.90119419e-06, 4.78531810e-08,\n",
              "        2.09692730e-09, 1.25979815e-09, 4.89319802e-07, 2.82670669e-07,\n",
              "        2.24606023e-09, 8.59033236e-08, 9.62438662e-08, 1.36409051e-09,\n",
              "        1.77895947e-06, 2.20203589e-07, 2.30475212e-08, 3.52803120e-10,\n",
              "        1.32057579e-07, 2.45952769e-09, 3.72949927e-07, 3.55343616e-07,\n",
              "        1.97785202e-08, 4.41465140e-08, 2.03654515e-08, 7.23378477e-08,\n",
              "        1.94568088e-06, 2.58850648e-08, 1.27546107e-08, 5.79676029e-10,\n",
              "        7.13569435e-08, 7.63861863e-07, 1.60076058e-06, 1.39075418e-08,\n",
              "        3.70291744e-08, 1.69365208e-07, 1.19651256e-09, 8.12968537e-09,\n",
              "        1.50663254e-07, 1.15358283e-08, 4.76762319e-09, 3.92478539e-09,\n",
              "        1.43356367e-08, 2.47189291e-08, 9.55108703e-09, 1.11205111e-07,\n",
              "        1.85618410e-09, 3.29836158e-10, 5.90971805e-09, 8.61798526e-06,\n",
              "        5.70657355e-10, 8.59626610e-08, 2.08850492e-09, 1.61523900e-07,\n",
              "        3.15829971e-06, 1.00031883e-09, 2.33930706e-07, 1.16022028e-08,\n",
              "        5.26501198e-09, 4.74210736e-07, 6.16160492e-08, 4.41044090e-09,\n",
              "        1.95090774e-06, 1.27143167e-08, 9.19643266e-04, 5.09236429e-07,\n",
              "        1.34451099e-07, 2.77283685e-09, 1.91921590e-09, 1.63183842e-07,\n",
              "        6.31091301e-04, 1.35801672e-08, 1.51707624e-08, 7.96496877e-08,\n",
              "        2.97906286e-08, 7.51328244e-09, 9.83596227e-09, 1.87141431e-08,\n",
              "        1.79883966e-08, 4.90054353e-09, 3.90798007e-08, 6.16874161e-08,\n",
              "        1.18111836e-06, 3.46677886e-08, 6.18651630e-10, 9.01721506e-08,\n",
              "        5.82014223e-08, 6.85738470e-08, 8.02685705e-08, 2.97082966e-04,\n",
              "        2.42380942e-08, 2.91882341e-09, 9.70512204e-09, 4.61013947e-08,\n",
              "        3.95066877e-08, 1.12312698e-07, 4.21478852e-08, 7.95999799e-09,\n",
              "        2.37857947e-08, 3.04496623e-08, 1.94249114e-05, 8.08623781e-07,\n",
              "        6.91481716e-07, 4.85212617e-08, 1.55453972e-09, 1.41810531e-07,\n",
              "        1.41243518e-07, 6.70395295e-08, 4.34695258e-09, 6.33837649e-09,\n",
              "        2.20398437e-08, 1.20611776e-09, 1.70611680e-09, 1.83893647e-07,\n",
              "        5.89988858e-08, 2.13733919e-09, 1.08666720e-08, 9.80401396e-08,\n",
              "        1.55652614e-07, 1.20277875e-07, 8.53335091e-09, 3.43533313e-09,\n",
              "        1.50141866e-09, 1.70838030e-05, 5.43122241e-08, 2.21441212e-07,\n",
              "        6.77218281e-08, 4.01286560e-09, 1.48764832e-08, 8.10428787e-07,\n",
              "        8.05223479e-08, 6.38060005e-09, 1.29958022e-09, 1.98133037e-07,\n",
              "        5.49364820e-09, 2.68221658e-08, 2.81190395e-08, 4.30832259e-09,\n",
              "        5.91469451e-08, 2.34633042e-08, 2.93702641e-07, 4.15590584e-05,\n",
              "        8.66758310e-09, 4.07945215e-08, 1.44013290e-08, 1.25281865e-08,\n",
              "        1.47150276e-05, 1.17592634e-07, 2.91157012e-05, 9.02533657e-08,\n",
              "        2.99357055e-08, 3.59710950e-09, 5.62930325e-07, 2.55148541e-10,\n",
              "        5.55911903e-08, 2.44625028e-07, 1.41821141e-08, 9.09072462e-09,\n",
              "        2.73545653e-09, 1.69599179e-08, 1.07140252e-08, 4.27825796e-07,\n",
              "        3.38511263e-09, 1.03307832e-06, 1.09482713e-07, 2.09482431e-09,\n",
              "        3.27733630e-07, 1.68620462e-09, 7.24707683e-10, 3.00833070e-09,\n",
              "        7.10005343e-09, 1.64898883e-09, 6.05591595e-08, 9.29771726e-09,\n",
              "        1.85059544e-05, 1.54719217e-07, 9.97519956e-10, 1.55593993e-09,\n",
              "        3.31960912e-08, 1.60555516e-08, 2.03130792e-08, 7.80572107e-10,\n",
              "        1.98853240e-06, 2.58522892e-09, 1.22296817e-09, 2.66525504e-08,\n",
              "        9.89319826e-09, 3.12010062e-09, 4.84503317e-08, 6.29908703e-09,\n",
              "        1.33790641e-08, 7.71573170e-08, 7.29481497e-09, 3.66315874e-07,\n",
              "        1.04781988e-08, 3.60848418e-08, 9.10435838e-10, 5.30775379e-09,\n",
              "        1.72315504e-06, 1.94031458e-08, 7.70778463e-09, 1.48376751e-06,\n",
              "        1.23127833e-07, 1.39082590e-06, 6.16398484e-06, 2.79721121e-07,\n",
              "        1.88191986e-08, 1.12618007e-04, 4.65848977e-08, 1.80340265e-07,\n",
              "        2.34401705e-05, 8.53705089e-08, 6.98739111e-09, 5.93012501e-08,\n",
              "        5.36782085e-09, 7.59071472e-10, 1.89664284e-09, 1.58758451e-09,\n",
              "        2.62361993e-07, 2.17630350e-06, 1.13235648e-04, 3.82280767e-08,\n",
              "        7.52817868e-07, 3.90086630e-09, 6.57761063e-08, 2.06589834e-09,\n",
              "        1.96361700e-08, 6.72310518e-09, 3.58438648e-08, 1.36711080e-07,\n",
              "        1.74379863e-07, 5.66776777e-08, 2.02390211e-08, 1.42422840e-09,\n",
              "        8.50374704e-09, 2.46698963e-08, 2.64773774e-07, 8.25992963e-09,\n",
              "        6.27740562e-08, 2.59702593e-09, 1.51730706e-09, 6.20369700e-10,\n",
              "        4.85874580e-07, 4.89426633e-09, 3.17377066e-06, 1.24017046e-08,\n",
              "        1.54517856e-08, 3.88674266e-08, 7.62808057e-08, 9.38346858e-08,\n",
              "        4.49077149e-08, 8.09774349e-07, 2.40087736e-08, 2.72878879e-07,\n",
              "        1.39808147e-08, 3.84381701e-06, 8.84820608e-08, 3.07865697e-08,\n",
              "        3.08562154e-09, 2.39482079e-09, 9.57911980e-05, 1.35674355e-07,\n",
              "        2.17162821e-08, 1.86463751e-08, 5.33312141e-06, 6.15014129e-09,\n",
              "        4.87756893e-08, 9.95045411e-07, 2.85653936e-08, 6.75112233e-08,\n",
              "        1.63422342e-08, 7.99656945e-08, 3.09330731e-04, 1.47641984e-07,\n",
              "        8.00020032e-08, 5.28959525e-08, 6.96989744e-10, 3.18199112e-09,\n",
              "        7.60953434e-09, 8.23704269e-08, 3.09747499e-08, 6.66483757e-08,\n",
              "        2.83905468e-08, 7.64807551e-10, 2.74120682e-09, 2.12995808e-08,\n",
              "        1.98869444e-07, 1.91203270e-07, 2.43220075e-08, 2.80319679e-08,\n",
              "        2.24381211e-07, 3.16040268e-06, 1.84356423e-08, 4.29991012e-08,\n",
              "        3.53868779e-09, 5.45036346e-06, 3.23399476e-08, 1.46056740e-08,\n",
              "        1.24023432e-08, 5.19557020e-09, 6.23473468e-08, 3.95190103e-10,\n",
              "        4.06205569e-10, 3.63507091e-09, 2.03098161e-09, 1.53597242e-08,\n",
              "        3.12305559e-08, 5.09147981e-07, 1.07576001e-08, 3.28652128e-08,\n",
              "        6.80839876e-05, 4.79680251e-09, 2.99196081e-08, 1.01172525e-07,\n",
              "        1.69887322e-08, 6.37904218e-09, 6.65552324e-09, 3.69557220e-08,\n",
              "        3.82129617e-09, 4.81489941e-08, 3.57881227e-08, 5.81971715e-09,\n",
              "        1.14416856e-07, 1.44065488e-08, 1.03585132e-08, 4.07675893e-09,\n",
              "        1.32730227e-08, 2.56369219e-07, 4.57672229e-07, 3.10517972e-10,\n",
              "        1.88061016e-08, 1.57199975e-06, 4.28454769e-06, 4.64965979e-07,\n",
              "        1.44851668e-07, 3.97484072e-08, 3.37297701e-09, 1.77966353e-08,\n",
              "        1.51069788e-08, 1.53425663e-08, 3.74903948e-08, 1.88759202e-07,\n",
              "        1.11200244e-07, 1.10257659e-07, 7.42778905e-09, 2.52227594e-09,\n",
              "        5.85158455e-09, 5.92135166e-07, 3.70537592e-08, 2.86695245e-09,\n",
              "        1.22244947e-03, 6.84270862e-09, 1.51841746e-07, 8.40010395e-10,\n",
              "        1.54737272e-08, 2.23709029e-09, 1.28186251e-09, 7.48067552e-10,\n",
              "        1.04341439e-06, 2.83219515e-09, 5.29408384e-09, 4.65268016e-07,\n",
              "        2.38036311e-08, 7.64188268e-09, 2.17313634e-08, 9.97345069e-06,\n",
              "        5.53114088e-09, 2.11242678e-07, 4.08735957e-07, 3.09498160e-09,\n",
              "        8.18373191e-09, 5.70945113e-09, 6.20768603e-10, 1.03004581e-07,\n",
              "        1.72397264e-07, 1.07449480e-08, 7.56899254e-08, 3.80311116e-09,\n",
              "        8.97973564e-07, 1.90199465e-08, 1.79647373e-08, 7.82190727e-06,\n",
              "        4.11507806e-09, 3.25381450e-07, 8.82566979e-08, 1.90364222e-08,\n",
              "        7.76527855e-08, 2.66525504e-08, 6.56928520e-08, 7.63984247e-07,\n",
              "        3.01050629e-09, 1.17672353e-04, 2.55109790e-05, 1.68134329e-06,\n",
              "        6.10396000e-08, 2.99568792e-09, 3.09518233e-09, 1.64851088e-09,\n",
              "        7.74281403e-08, 5.37160254e-08, 9.72872058e-08, 2.54472265e-08,\n",
              "        8.01562763e-08, 2.95041730e-07, 1.21746234e-06, 5.83017245e-05,\n",
              "        1.18091804e-04, 1.67504638e-07, 3.65132314e-06, 8.17618854e-07,\n",
              "        7.34558444e-06, 6.70557654e-08, 4.01861234e-06, 1.00266661e-05,\n",
              "        4.85542444e-07, 1.82725262e-06, 3.89762954e-06, 8.89110106e-06,\n",
              "        6.05861169e-05, 1.91647359e-06, 3.00699030e-04, 2.00545372e-04,\n",
              "        3.17509566e-03, 1.62853650e-03, 6.74959738e-04, 2.40775058e-03,\n",
              "        4.35856782e-05, 4.49863946e-05, 2.94832336e-08, 9.44033218e-06,\n",
              "        1.28613567e-04, 6.61153099e-05, 8.43720317e-01, 4.42445576e-02,\n",
              "        1.12745422e-03, 2.87915561e-02, 6.57199994e-02, 2.60747788e-06,\n",
              "        4.07523767e-04, 8.09647434e-04, 4.11563761e-08, 1.91952893e-07,\n",
              "        1.20894560e-06, 3.54699637e-07, 3.70608609e-06, 1.19098161e-06,\n",
              "        1.48763422e-06, 1.28608963e-05, 5.52153381e-07, 6.10473762e-07,\n",
              "        5.62907553e-06, 1.31548688e-06, 3.11570751e-08, 5.01681408e-09,\n",
              "        2.11624962e-09, 1.21425558e-07, 9.50315868e-11, 4.00465751e-07,\n",
              "        2.48368326e-09, 3.08582280e-08, 7.11940800e-08, 3.84028676e-09,\n",
              "        4.36264225e-09, 1.26949973e-09, 5.23489412e-08, 1.36472620e-08,\n",
              "        4.20841850e-08, 4.94337598e-07, 4.20862904e-07, 2.90371463e-05,\n",
              "        1.01722105e-06, 8.12636397e-04, 1.26500890e-05, 4.24489741e-08,\n",
              "        1.61380868e-07, 2.11447553e-08, 2.88457738e-08, 4.46976856e-07,\n",
              "        7.58718045e-07, 3.22054871e-06, 1.72344189e-05, 2.79360535e-08]],\n",
              "      dtype=float32)"
            ]
          },
          "metadata": {},
          "execution_count": 54
        }
      ]
    },
    {
      "cell_type": "markdown",
      "source": [
        ">予測結果として、1000種類のカテゴリそれぞれに属する確率が表示されています。ImageNetデータセットで事前学習されたVGG16は、1000カテゴリそれぞれに属する確率を出力するように学習されているためです。なお、1000カテゴリの詳細については、以下を参照してください。\n",
        "\n",
        "[IMAGENET 1000 Class List - WekaDeeplearning4j (waikato.ac.nz)](https://deeplearning.cms.waikato.ac.nz/user-guide/class-maps/IMAGENET/)"
      ],
      "metadata": {
        "id": "Sd3W_vxqXlfF"
      }
    },
    {
      "cell_type": "markdown",
      "source": [
        ">decode_predictions関数を利用すると、可能性の高い上位5つのカテゴリと、そのカテゴリに属する確率が表示されます。以下のように記述して実行してください。"
      ],
      "metadata": {
        "id": "b-QVMxQWX1Ld"
      }
    },
    {
      "cell_type": "code",
      "source": [
        "from tensorflow.keras.applications.vgg16 import decode_predictions\n",
        "decode_predictions(result)\n"
      ],
      "metadata": {
        "id": "AEUt3xDgXmPc",
        "colab": {
          "base_uri": "https://localhost:8080/"
        },
        "outputId": "74f67998-4178-4e0e-9db1-2a657fe26e77"
      },
      "execution_count": null,
      "outputs": [
        {
          "output_type": "stream",
          "name": "stdout",
          "text": [
            "Downloading data from https://storage.googleapis.com/download.tensorflow.org/data/imagenet_class_index.json\n",
            "35363/35363 [==============================] - 0s 0us/step\n"
          ]
        },
        {
          "output_type": "execute_result",
          "data": {
            "text/plain": [
              "[[('n07747607', 'orange', 0.8437203),\n",
              "  ('n07753592', 'banana', 0.06572),\n",
              "  ('n07749582', 'lemon', 0.044244558),\n",
              "  ('n07753275', 'pineapple', 0.028791556),\n",
              "  ('n07716906', 'spaghetti_squash', 0.0031750957)]]"
            ]
          },
          "metadata": {},
          "execution_count": 55
        }
      ]
    },
    {
      "cell_type": "markdown",
      "source": [
        "表示された結果から、インプットした画像は以下の判定結果であることが分かります。\n",
        "\n",
        "カテゴリ\t確率\n",
        "オレンジ\t約85.1%\n",
        "バナナ\t約6.3%\n",
        "レモン\t約4.3%\n",
        "パイナップル\t約2.7%\n",
        "スパゲティスクウォッシュ\t約0.3%\n",
        "以上が、VGG16を利用した画像判定の流れとなります。"
      ],
      "metadata": {
        "id": "pe2P_-JlX6_M"
      }
    },
    {
      "cell_type": "markdown",
      "source": [
        "**転移学習の流れのイメージ**:\n",
        "\n",
        "1. **VGG16の全結合層以外の取得**:\n",
        "   - VGG16モデルから全結合層を除外。\n",
        "   - `include_top=False`オプションでインスタンス化し、全結合層以外を取得。\n",
        "\n",
        "2. **独自の全結合層の追加**:\n",
        "   - Sequentialクラスを使用して独自の全結合層を作成し、VGG16に追加。\n",
        "   - ノード数や活性化関数を自由に設定可能。\n",
        "\n",
        "3. **独自の全結合層部分のみの学習**:\n",
        "   - VGG16由来のパラメータを固定し、独自の全結合層のパラメータのみを学習。\n",
        "   - 学習コストの抑制も可能。\n",
        "\n",
        "4. **予測**:\n",
        "   - 学習したモデルで未知の画像データを判定。\n",
        "   - 元の1000カテゴリ予測から、特定のカテゴリ（例：犬と猫）に対応。\n",
        "\n",
        "\n",
        "- VGG16モデルを使って、特定のタスク（例えば、犬と猫の分類）に適応させるため、全結合層を取り除いて、新しい全結合層を追加します。この新しい層だけを学習させて、必要な予測ができるようにします。"
      ],
      "metadata": {
        "id": "7w2uErZixrUN"
      }
    },
    {
      "cell_type": "markdown",
      "source": [
        "\n",
        "1. **VGG16の全結合層以外の取得**:"
      ],
      "metadata": {
        "id": "qh5BvztFY1d2"
      }
    },
    {
      "cell_type": "code",
      "source": [
        "from keras.applications import VGG16\n",
        "# VGG16モデルを全結合層なしでロード\n",
        "vgg16 = VGG16(include_top=False)"
      ],
      "metadata": {
        "id": "Qd04nFwiY24e",
        "colab": {
          "base_uri": "https://localhost:8080/"
        },
        "outputId": "568d3bf9-5163-4467-d220-0b3210144a7a"
      },
      "execution_count": null,
      "outputs": [
        {
          "output_type": "stream",
          "name": "stdout",
          "text": [
            "Downloading data from https://storage.googleapis.com/tensorflow/keras-applications/vgg16/vgg16_weights_tf_dim_ordering_tf_kernels_notop.h5\n",
            "58889256/58889256 [==============================] - 2s 0us/step\n"
          ]
        }
      ]
    },
    {
      "cell_type": "markdown",
      "source": [
        "2. **独自の全結合層の追加**:"
      ],
      "metadata": {
        "id": "itMc8voZY8aw"
      }
    },
    {
      "cell_type": "code",
      "source": [
        "from keras.models import Sequential\n",
        "from keras.layers import Dense\n",
        "# 新しい全結合層を作成\n",
        "custom_layers = Sequential([\n",
        "  Dense(units=256, activation='relu'),  # 例：256ユニットの全結合層\n",
        "  Dense(units=1, activation='sigmoid')  # 例：出力層（犬か猫の分類）\n",
        "])"
      ],
      "metadata": {
        "id": "Gy4A63HFY9xe"
      },
      "execution_count": null,
      "outputs": []
    },
    {
      "cell_type": "markdown",
      "source": [
        "3. **独自の全結合層部分のみの学習**:\n"
      ],
      "metadata": {
        "id": "XxwR0bRlY-6-"
      }
    },
    {
      "cell_type": "code",
      "source": [
        "# VGG16の層の重みを固定\n",
        "for layer in vgg16.layers:\n",
        "    layer.trainable = False\n"
      ],
      "metadata": {
        "id": "OsOoyOiZZAhY"
      },
      "execution_count": null,
      "outputs": []
    },
    {
      "cell_type": "code",
      "source": [
        "# 独自の全結合層をVGG16モデルに追加（例示のためのコード）\n",
        "# model.add(custom_layers)\n"
      ],
      "metadata": {
        "id": "9RyHKXbjZLql"
      },
      "execution_count": null,
      "outputs": []
    },
    {
      "cell_type": "markdown",
      "source": [
        "4. **予測**:"
      ],
      "metadata": {
        "id": "Dgr8dfZ6ZBre"
      }
    },
    {
      "cell_type": "code",
      "source": [
        "# 未知の画像データに対する予測\n",
        "# result = model.predict(test_data)"
      ],
      "metadata": {
        "id": "bukRaO4bZDp-"
      },
      "execution_count": null,
      "outputs": []
    },
    {
      "cell_type": "markdown",
      "source": [
        ">独自の全結合層部分のみの学習:\n",
        "\n",
        ">コメントアウトされた部分は、VGG16モデルに独自の全結合層を追加するプロセスを示しています。実際には、このプロセスはモデルの構造や使用するフレームワークによって異なるため、具体的な実装方法はケースバイケースです。\n",
        "\n",
        "\n",
        ">予測:\n",
        "\n",
        ">この部分では、訓練されたモデルを使用して未知のデータに対する予測を行うプロセスを示しています。しかし、実際の予測のためには、未知のデータセット（test_data）が必要であり、そのデータセットの準備や前処理の方法は、使用するデータやタスクによって異なります。"
      ],
      "metadata": {
        "id": "hkkU5hVLZluR"
      }
    },
    {
      "cell_type": "markdown",
      "source": [
        "この流れで、VGG16を特定のタスクに適用するための転移学習が実現されます。\n",
        "\n",
        "次の章では、これをKerasで実装する方法について説明します。"
      ],
      "metadata": {
        "id": "ujbiX2_XZtne"
      }
    },
    {
      "cell_type": "markdown",
      "source": [
        "**転移学習用の画像データ準備**"
      ],
      "metadata": {
        "id": "a_cYTN-nZ4Cx"
      }
    },
    {
      "cell_type": "markdown",
      "source": [
        "\n",
        "[犬猫データのダウンロード：](https://www.microsoft.com/en-us/download/details.aspx?id=54765)"
      ],
      "metadata": {
        "id": "wbPWvPs5xzCf"
      }
    },
    {
      "cell_type": "markdown",
      "source": [
        "ダウンロードしたデータをGoogleドライブへアップロードします。\n",
        "\n",
        "フォルダの形式：\n",
        "\n",
        "| ダウンロードした画像 | 格納先 |\n",
        "|-------------------|-------------------------|\n",
        "| Dogフォルダの0.jpg～255.jpgの計256ファイル | マイドライブ > data_train > dog |\n",
        "| Catフォルダの0.jpg～255.jpgの計256ファイル | マイドライブ > data_train > cat |\n",
        "| Dogフォルダの256.jpg～319.jpgの計64ファイル | マイドライブ > data_test > dog |\n",
        "| Catフォルダの256.jpg～319.jpgの計64ファイル | マイドライブ > data_test > cat |\n"
      ],
      "metadata": {
        "id": "lNsTghj_x9fy"
      }
    },
    {
      "cell_type": "code",
      "source": [
        "import requests\n",
        "import zipfile\n",
        "import os\n",
        "from google.colab import drive\n",
        "\n",
        "# ファイルのダウンロード\n",
        "url = 'https://download.microsoft.com/download/3/E/1/3E1C3F21-ECDB-4869-8368-6DEBA77B919F/kagglecatsanddogs_5340.zip'\n",
        "file_name = url.split('/')[-1]\n",
        "\n",
        "response = requests.get(url)\n",
        "response.raise_for_status()\n",
        "\n",
        "with open(file_name, 'wb') as f:\n",
        "    f.write(response.content)\n",
        "\n",
        "# ダウンロードしたzipファイルの解凍\n",
        "with zipfile.ZipFile(file_name, 'r') as zip_ref:\n",
        "    zip_ref.extractall(\"/content\")\n",
        "\n",
        "# Googleドライブをマウント\n",
        "drive.mount('/content/drive')\n",
        "\n",
        "# フォルダの作成とファイルのコピー\n",
        "def copy_files(animal, start_index, end_index, dest_folder):\n",
        "    source_folder = f'/content/PetImages/{animal}/'\n",
        "    dest_folder_full = f'/content/drive/My Drive/{dest_folder}/{animal.lower()}'\n",
        "    if not os.path.exists(dest_folder_full):\n",
        "        os.makedirs(dest_folder_full)\n",
        "\n",
        "    for i in range(start_index, end_index):\n",
        "        file_path = f'{source_folder}{i}.jpg'\n",
        "        if os.path.exists(file_path):\n",
        "            os.system(f'cp \"{file_path}\" \"{dest_folder_full}/\"')\n",
        "\n",
        "# ファイルのコピー実行\n",
        "copy_files('Dog', 0, 256, 'data_train')\n",
        "copy_files('Cat', 0, 256, 'data_train')\n",
        "copy_files('Dog', 256, 320, 'data_test')\n",
        "copy_files('Cat', 256, 320, 'data_test')\n",
        "\n",
        "print('ファイルのコピーが完了しました。')\n"
      ],
      "metadata": {
        "id": "U2ehFRPDUW7D",
        "colab": {
          "base_uri": "https://localhost:8080/"
        },
        "outputId": "e6ee7583-35ee-4ab7-9fe4-ce4c99dece6f"
      },
      "execution_count": null,
      "outputs": [
        {
          "output_type": "stream",
          "name": "stdout",
          "text": [
            "Drive already mounted at /content/drive; to attempt to forcibly remount, call drive.mount(\"/content/drive\", force_remount=True).\n",
            "ファイルのコピーが完了しました。\n"
          ]
        }
      ]
    },
    {
      "cell_type": "markdown",
      "source": [
        "# 学習済みモデルVGG16を転移学習して犬猫画像の判定モデルを構築しよう #2"
      ],
      "metadata": {
        "id": "e_bFnTWMl_U1"
      }
    },
    {
      "cell_type": "markdown",
      "source": [
        "**11章: VGG16を用いた犬猫画像判定モデルの構築 #2\n",
        "\n",
        "1. **目標**:\n",
        "   - ImageDataGeneratorの活用、VGG16による転移学習の実施、予測モデルの保存と読み込み方法の習得。\n",
        "\n",
        "2. **学習データのセットアップ**:\n",
        "   - ImageDataGeneratorを使用して、犬と猫の画像データを読み込み、ジェネレータを作成。\n",
        "\n",
        "3. **VGG16の全結合層以外の取得**:\n",
        "   - include_top=FalseオプションでVGG16モデルを取得し、全結合層以外を使用。\n",
        "\n",
        "4. **モデルの可視化と変換**:\n",
        "   - 取得したVGG16モデルの構造を可視化し、Sequentialモデルに変換。\n",
        "\n",
        "5. **パラメータの凍結と全結合層の追加**:\n",
        "   - VGG16由来の層のパラメータを凍結し、独自の全結合層を追加。\n",
        "\n",
        "6. **誤差関数、最適化方法、評価指標の設定**:\n",
        "   - 二値交差エントロピー誤差、Adam最適化、正解率を評価指標として設定。\n",
        "\n",
        "7. **学習と評価**:\n",
        "   - 学習データとバリデーションデータでモデルを学習し、テストデータで評価。\n",
        "\n",
        "8. **予測の実施**:\n",
        "   - 未知の画像データでモデルの予測能力をテスト。\n",
        "\n",
        "9. **モデルの保存と読み込み**:\n",
        "   - 学習済みモデルの保存と読み込み方法の学習。\n",
        "\n",
        "---\n",
        "\n",
        "この章では、VGG16を使って犬と猫を識別するモデルを作ります。まずはImageDataGeneratorで画像データの準備からスタート。\n",
        "\n",
        "- **VGG16のカスタマイズ**:\n",
        "   - VGG16の全結合層を除外して、少し手を加えます。\n",
        "\n",
        "- **モデルの見た目確認**:\n",
        "   - どんな風に変わったか確認するために、モデルの構造を可視化。\n",
        "\n",
        "- **パラメータ凍結して全結合層を追加**:\n",
        "   - VGG16の元の部分は触らずに、新しい層を追加。\n",
        "\n",
        "- **学習と評価**:\n",
        "   - 作成したモデルで学習して、評価する。\n",
        "\n",
        "- **実際に予測してみる**:\n",
        "   - 未知の画像を使って、犬か猫かを予測。\n",
        "\n",
        "- **モデルの保存と再利用**:\n",
        "   - 学習したモデルを保存し、再利用可能にする\n",
        "\n"
      ],
      "metadata": {
        "id": "nc1sh6GNmGMB"
      }
    },
    {
      "cell_type": "markdown",
      "source": [
        "**GPUへの切り替え**\n",
        "\n",
        "\n",
        "> Google ColaboratoryのランタイムをGPUに切り替えます\n",
        "\n"
      ],
      "metadata": {
        "id": "s9eCi0hu6Bfu"
      }
    },
    {
      "cell_type": "markdown",
      "source": [
        "**乱数の固定**"
      ],
      "metadata": {
        "id": "Vod1wGG06OpT"
      }
    },
    {
      "cell_type": "code",
      "source": [
        "from tensorflow.keras import utils\n",
        "utils.set_random_seed(0)"
      ],
      "metadata": {
        "id": "Wq_RPPMg6Ph7"
      },
      "execution_count": null,
      "outputs": []
    },
    {
      "cell_type": "markdown",
      "source": [
        "**Googleドライブのマウント**"
      ],
      "metadata": {
        "id": "2tkaTkOi6X7b"
      }
    },
    {
      "cell_type": "markdown",
      "source": [
        "\n",
        "\n",
        "*   Google Colaboratoryの画面左のファイルタブをクリック\n",
        "*   Googleドライブのマークをクリック\n",
        "*   ポップアップが出現\n",
        "*   Googleドライブに接続をクリック\n",
        "*   driveのフォルダが表示\n",
        "\n",
        "\n",
        "\n",
        "\n",
        "\n",
        "\n",
        "\n"
      ],
      "metadata": {
        "id": "Wj-OvMuE6ZC_"
      }
    },
    {
      "cell_type": "markdown",
      "source": [
        "**学習データのセットアップ**"
      ],
      "metadata": {
        "id": "duJQo7-t6r26"
      }
    },
    {
      "cell_type": "markdown",
      "source": [
        "**ImageDataGeneratorの設定**:"
      ],
      "metadata": {
        "id": "a2Ok6eFhuoX4"
      }
    },
    {
      "cell_type": "code",
      "source": [
        "from tensorflow.keras.preprocessing.image import ImageDataGenerator"
      ],
      "metadata": {
        "id": "ttCDK8LJuue1"
      },
      "execution_count": null,
      "outputs": []
    },
    {
      "cell_type": "markdown",
      "source": [
        "**画像データの加工方法の設定**\n",
        "`ImageDataGenerator`のインスタンスを作成します。パラメータを指定することで、画像データの加工や複製方法の設定が可能です。今回は、以下のパラメータを指定します。\n",
        "\n",
        "| パラメータ | 説明 |\n",
        "|-----------|------|\n",
        "| `rescale` | 画像データが持つピクセル値をスケーリングできます。今回は、1/255を指定します。 |\n",
        "| `validation_split` | 学習データの一部を、バリデーションデータとして使用する割合を指定します。今回は、25%を指定します。 |\n",
        "\n",
        "※補足：その他、以下のようなパラメータの指定も可能です。主に学習データの複製に利用するパラメータです。\n",
        "\n",
        "| パラメータ | 説明 |\n",
        "|-----------|------|\n",
        "| `rotation_range` | 指定した範囲内で、画像をランダムに回転させます。 |\n",
        "| `width_shift_range` / `height_shift_range` | 指定した範囲内で、画像を水平または垂直にシフトさせます。 |\n",
        "| `zoom_range` | 指定した範囲内で、画像をランダムにズームさせます。 |\n"
      ],
      "metadata": {
        "id": "lYkQ0tETzPT2"
      }
    },
    {
      "cell_type": "code",
      "source": [
        "datagen = ImageDataGenerator(rescale=1/255, validation_split=0.25)"
      ],
      "metadata": {
        "id": "BTHWCohIziSs"
      },
      "execution_count": null,
      "outputs": []
    },
    {
      "cell_type": "markdown",
      "source": [
        "画像データの流し込み方法の設定\n",
        ">次に、ジェネレータを作成します。ジェネレータとは、一定数の画像データを、繰り返し予測モデルへ流し込む機能を持ったオブジェクトです。\n",
        "\n",
        ">flow_from_directoryメソッドで、ジェネレータを作成できます。第1引数に、流し込みたい画像の格納先フォルダを指定します。また、以下のパラメータも指定可能です。\n",
        "\n",
        ">subset：「training」または「validation」を指定します。これは、ImageDataGeneratorのインスタンス化の際に、validation_splitパラメータで、バリデーションデータを確保した場合にのみ利用するものです。\n",
        ">target_size：画像をリサイズするためのパラメータです。今回は、(256, 256)と指定します。これによって、流し込み時に画像が256ピクセル×256ピクセルにリサイズされます。\n",
        ">batch_size：一度に予測モデルに流し込む画像データの数を指定します。今回は64を指定します。\n",
        ">まずは、学習データのジェネレータを作成します。それでは、以下のように記述して実行してください。"
      ],
      "metadata": {
        "id": "rDf4QfmKzukT"
      }
    },
    {
      "cell_type": "code",
      "source": [
        "#学習データのジェネレータを作成\n",
        "train_generator = datagen.flow_from_directory(\n",
        "        '/content/drive/MyDrive/data_train',\n",
        "        subset='training',\n",
        "        target_size=(256, 256),\n",
        "        batch_size=64)\n"
      ],
      "metadata": {
        "id": "sx3PRXOpzm9l",
        "colab": {
          "base_uri": "https://localhost:8080/"
        },
        "outputId": "7359f734-45f5-45c3-d0c8-419c9ab3a12c"
      },
      "execution_count": null,
      "outputs": [
        {
          "output_type": "stream",
          "name": "stdout",
          "text": [
            "Found 384 images belonging to 2 classes.\n"
          ]
        }
      ]
    },
    {
      "cell_type": "markdown",
      "source": [
        "犬と猫のカテゴリは、数値ラベルとして表現されます。"
      ],
      "metadata": {
        "id": "AjLZbHng0kY-"
      }
    },
    {
      "cell_type": "code",
      "source": [
        "#class_indices属性で数値ラベルを確認\n",
        "train_generator.class_indices\n"
      ],
      "metadata": {
        "id": "4SPry7eH0KOg",
        "colab": {
          "base_uri": "https://localhost:8080/"
        },
        "outputId": "a0af5b73-180c-4915-9968-942272cb10e8"
      },
      "execution_count": null,
      "outputs": [
        {
          "output_type": "execute_result",
          "data": {
            "text/plain": [
              "{'cat': 0, 'dog': 1}"
            ]
          },
          "metadata": {},
          "execution_count": 133
        }
      ]
    },
    {
      "cell_type": "code",
      "source": [
        "#バリデーションデータのジェネレータ作成\n",
        "val_generator = datagen.flow_from_directory(\n",
        "        '/content/drive/MyDrive/data_train',\n",
        "        subset='validation',\n",
        "        target_size=(256, 256),\n",
        "        batch_size=64)\n"
      ],
      "metadata": {
        "id": "LqZYEdyd0NXo",
        "colab": {
          "base_uri": "https://localhost:8080/"
        },
        "outputId": "f358ffb5-2398-4cfe-c5ba-99b51155fc8d"
      },
      "execution_count": null,
      "outputs": [
        {
          "output_type": "stream",
          "name": "stdout",
          "text": [
            "Found 128 images belonging to 2 classes.\n"
          ]
        }
      ]
    },
    {
      "cell_type": "code",
      "source": [
        "#テストデータのジェネレータを作成\n",
        "test_generator = datagen.flow_from_directory(\n",
        "        '/content/drive/MyDrive/data_test',\n",
        "        target_size=(256, 256),\n",
        "        batch_size=64)\n"
      ],
      "metadata": {
        "id": "gxhOn0PW0RvV",
        "colab": {
          "base_uri": "https://localhost:8080/"
        },
        "outputId": "700ca3aa-12fe-4a19-ebc4-b5a13d1d205f"
      },
      "execution_count": null,
      "outputs": [
        {
          "output_type": "stream",
          "name": "stdout",
          "text": [
            "Found 128 images belonging to 2 classes.\n"
          ]
        }
      ]
    },
    {
      "cell_type": "markdown",
      "source": [
        "2. **VGG16モデルの取得**:"
      ],
      "metadata": {
        "id": "bz5-9gbgu0ZW"
      }
    },
    {
      "cell_type": "code",
      "source": [
        "from tensorflow.keras.applications.vgg16 import VGG16\n",
        "vgg16_without_fc = VGG16(weights='imagenet', include_top=False, input_shape=(256, 256, 3))"
      ],
      "metadata": {
        "id": "dELbXm7Yu2jF"
      },
      "execution_count": null,
      "outputs": []
    },
    {
      "cell_type": "markdown",
      "source": [
        "3. **モデルの可視化と変換**:"
      ],
      "metadata": {
        "id": "gPm3OONwu7Vh"
      }
    },
    {
      "cell_type": "code",
      "source": [
        "#予測モデル（全結合層を除くVGG16）の可視化\n",
        "vgg16_without_fc.summary()"
      ],
      "metadata": {
        "id": "d7BFmjOdu-o7",
        "colab": {
          "base_uri": "https://localhost:8080/"
        },
        "outputId": "7a226c8a-9710-4673-ce59-ce4e8352f0f8"
      },
      "execution_count": null,
      "outputs": [
        {
          "output_type": "stream",
          "name": "stdout",
          "text": [
            "Model: \"vgg16\"\n",
            "_________________________________________________________________\n",
            " Layer (type)                Output Shape              Param #   \n",
            "=================================================================\n",
            " input_8 (InputLayer)        [(None, 256, 256, 3)]     0         \n",
            "                                                                 \n",
            " block1_conv1 (Conv2D)       (None, 256, 256, 64)      1792      \n",
            "                                                                 \n",
            " block1_conv2 (Conv2D)       (None, 256, 256, 64)      36928     \n",
            "                                                                 \n",
            " block1_pool (MaxPooling2D)  (None, 128, 128, 64)      0         \n",
            "                                                                 \n",
            " block2_conv1 (Conv2D)       (None, 128, 128, 128)     73856     \n",
            "                                                                 \n",
            " block2_conv2 (Conv2D)       (None, 128, 128, 128)     147584    \n",
            "                                                                 \n",
            " block2_pool (MaxPooling2D)  (None, 64, 64, 128)       0         \n",
            "                                                                 \n",
            " block3_conv1 (Conv2D)       (None, 64, 64, 256)       295168    \n",
            "                                                                 \n",
            " block3_conv2 (Conv2D)       (None, 64, 64, 256)       590080    \n",
            "                                                                 \n",
            " block3_conv3 (Conv2D)       (None, 64, 64, 256)       590080    \n",
            "                                                                 \n",
            " block3_pool (MaxPooling2D)  (None, 32, 32, 256)       0         \n",
            "                                                                 \n",
            " block4_conv1 (Conv2D)       (None, 32, 32, 512)       1180160   \n",
            "                                                                 \n",
            " block4_conv2 (Conv2D)       (None, 32, 32, 512)       2359808   \n",
            "                                                                 \n",
            " block4_conv3 (Conv2D)       (None, 32, 32, 512)       2359808   \n",
            "                                                                 \n",
            " block4_pool (MaxPooling2D)  (None, 16, 16, 512)       0         \n",
            "                                                                 \n",
            " block5_conv1 (Conv2D)       (None, 16, 16, 512)       2359808   \n",
            "                                                                 \n",
            " block5_conv2 (Conv2D)       (None, 16, 16, 512)       2359808   \n",
            "                                                                 \n",
            " block5_conv3 (Conv2D)       (None, 16, 16, 512)       2359808   \n",
            "                                                                 \n",
            " block5_pool (MaxPooling2D)  (None, 8, 8, 512)         0         \n",
            "                                                                 \n",
            "=================================================================\n",
            "Total params: 14714688 (56.13 MB)\n",
            "Trainable params: 14714688 (56.13 MB)\n",
            "Non-trainable params: 0 (0.00 Byte)\n",
            "_________________________________________________________________\n"
          ]
        }
      ]
    },
    {
      "cell_type": "code",
      "source": [
        "#VGG16をSequentialモデルに変換\n",
        "from tensorflow.keras.models import Sequential\n",
        "model = Sequential()\n",
        "for layer in vgg16_without_fc.layers:\n",
        "    model.add(layer)"
      ],
      "metadata": {
        "id": "Juzuy44F1Ts0"
      },
      "execution_count": null,
      "outputs": []
    },
    {
      "cell_type": "code",
      "source": [
        "#問題なく変換できたか、summary()メソッドを使って可視化\n",
        "\n",
        "model.summary()"
      ],
      "metadata": {
        "id": "AFJKiOwd1dsu",
        "colab": {
          "base_uri": "https://localhost:8080/"
        },
        "outputId": "3bf7c335-10a3-4e12-9089-70872f9aa111"
      },
      "execution_count": null,
      "outputs": [
        {
          "output_type": "stream",
          "name": "stdout",
          "text": [
            "Model: \"sequential_7\"\n",
            "_________________________________________________________________\n",
            " Layer (type)                Output Shape              Param #   \n",
            "=================================================================\n",
            " block1_conv1 (Conv2D)       (None, 256, 256, 64)      1792      \n",
            "                                                                 \n",
            " block1_conv2 (Conv2D)       (None, 256, 256, 64)      36928     \n",
            "                                                                 \n",
            " block1_pool (MaxPooling2D)  (None, 128, 128, 64)      0         \n",
            "                                                                 \n",
            " block2_conv1 (Conv2D)       (None, 128, 128, 128)     73856     \n",
            "                                                                 \n",
            " block2_conv2 (Conv2D)       (None, 128, 128, 128)     147584    \n",
            "                                                                 \n",
            " block2_pool (MaxPooling2D)  (None, 64, 64, 128)       0         \n",
            "                                                                 \n",
            " block3_conv1 (Conv2D)       (None, 64, 64, 256)       295168    \n",
            "                                                                 \n",
            " block3_conv2 (Conv2D)       (None, 64, 64, 256)       590080    \n",
            "                                                                 \n",
            " block3_conv3 (Conv2D)       (None, 64, 64, 256)       590080    \n",
            "                                                                 \n",
            " block3_pool (MaxPooling2D)  (None, 32, 32, 256)       0         \n",
            "                                                                 \n",
            " block4_conv1 (Conv2D)       (None, 32, 32, 512)       1180160   \n",
            "                                                                 \n",
            " block4_conv2 (Conv2D)       (None, 32, 32, 512)       2359808   \n",
            "                                                                 \n",
            " block4_conv3 (Conv2D)       (None, 32, 32, 512)       2359808   \n",
            "                                                                 \n",
            " block4_pool (MaxPooling2D)  (None, 16, 16, 512)       0         \n",
            "                                                                 \n",
            " block5_conv1 (Conv2D)       (None, 16, 16, 512)       2359808   \n",
            "                                                                 \n",
            " block5_conv2 (Conv2D)       (None, 16, 16, 512)       2359808   \n",
            "                                                                 \n",
            " block5_conv3 (Conv2D)       (None, 16, 16, 512)       2359808   \n",
            "                                                                 \n",
            " block5_pool (MaxPooling2D)  (None, 8, 8, 512)         0         \n",
            "                                                                 \n",
            "=================================================================\n",
            "Total params: 14714688 (56.13 MB)\n",
            "Trainable params: 14714688 (56.13 MB)\n",
            "Non-trainable params: 0 (0.00 Byte)\n",
            "_________________________________________________________________\n"
          ]
        }
      ]
    },
    {
      "cell_type": "markdown",
      "source": [
        "4. **パラメータ凍結と全結合層追加**:"
      ],
      "metadata": {
        "id": "8buqe5oOvEhw"
      }
    },
    {
      "cell_type": "code",
      "source": [
        "#各層のtrainable属性をFalseに設定し、パラメータを凍結\n",
        "for layer in model.layers:\n",
        "    layer.trainable = False"
      ],
      "metadata": {
        "id": "FSlMlSv9vGP7"
      },
      "execution_count": null,
      "outputs": []
    },
    {
      "cell_type": "code",
      "source": [
        "#犬と猫を分類するための独自の全結合層を追加\n",
        "from tensorflow.keras.layers import Flatten, Dense\n",
        "model.add(Flatten())\n",
        "model.add(Dense(256, activation='relu'))\n",
        "model.add(Dense(2, activation='softmax'))"
      ],
      "metadata": {
        "id": "rrhrt-5F1qhC"
      },
      "execution_count": null,
      "outputs": []
    },
    {
      "cell_type": "code",
      "source": [
        "#VGG16と独自の全結合層を結合したモデルの構造を確認\n",
        "model.summary()\n"
      ],
      "metadata": {
        "id": "InvKRFup18lZ",
        "colab": {
          "base_uri": "https://localhost:8080/"
        },
        "outputId": "cf3a2077-9c2a-407b-a10b-27108781a76e"
      },
      "execution_count": null,
      "outputs": [
        {
          "output_type": "stream",
          "name": "stdout",
          "text": [
            "Model: \"sequential_7\"\n",
            "_________________________________________________________________\n",
            " Layer (type)                Output Shape              Param #   \n",
            "=================================================================\n",
            " block1_conv1 (Conv2D)       (None, 256, 256, 64)      1792      \n",
            "                                                                 \n",
            " block1_conv2 (Conv2D)       (None, 256, 256, 64)      36928     \n",
            "                                                                 \n",
            " block1_pool (MaxPooling2D)  (None, 128, 128, 64)      0         \n",
            "                                                                 \n",
            " block2_conv1 (Conv2D)       (None, 128, 128, 128)     73856     \n",
            "                                                                 \n",
            " block2_conv2 (Conv2D)       (None, 128, 128, 128)     147584    \n",
            "                                                                 \n",
            " block2_pool (MaxPooling2D)  (None, 64, 64, 128)       0         \n",
            "                                                                 \n",
            " block3_conv1 (Conv2D)       (None, 64, 64, 256)       295168    \n",
            "                                                                 \n",
            " block3_conv2 (Conv2D)       (None, 64, 64, 256)       590080    \n",
            "                                                                 \n",
            " block3_conv3 (Conv2D)       (None, 64, 64, 256)       590080    \n",
            "                                                                 \n",
            " block3_pool (MaxPooling2D)  (None, 32, 32, 256)       0         \n",
            "                                                                 \n",
            " block4_conv1 (Conv2D)       (None, 32, 32, 512)       1180160   \n",
            "                                                                 \n",
            " block4_conv2 (Conv2D)       (None, 32, 32, 512)       2359808   \n",
            "                                                                 \n",
            " block4_conv3 (Conv2D)       (None, 32, 32, 512)       2359808   \n",
            "                                                                 \n",
            " block4_pool (MaxPooling2D)  (None, 16, 16, 512)       0         \n",
            "                                                                 \n",
            " block5_conv1 (Conv2D)       (None, 16, 16, 512)       2359808   \n",
            "                                                                 \n",
            " block5_conv2 (Conv2D)       (None, 16, 16, 512)       2359808   \n",
            "                                                                 \n",
            " block5_conv3 (Conv2D)       (None, 16, 16, 512)       2359808   \n",
            "                                                                 \n",
            " block5_pool (MaxPooling2D)  (None, 8, 8, 512)         0         \n",
            "                                                                 \n",
            " flatten_4 (Flatten)         (None, 32768)             0         \n",
            "                                                                 \n",
            " dense_15 (Dense)            (None, 256)               8388864   \n",
            "                                                                 \n",
            " dense_16 (Dense)            (None, 2)                 514       \n",
            "                                                                 \n",
            "=================================================================\n",
            "Total params: 23104066 (88.14 MB)\n",
            "Trainable params: 8389378 (32.00 MB)\n",
            "Non-trainable params: 14714688 (56.13 MB)\n",
            "_________________________________________________________________\n"
          ]
        }
      ]
    },
    {
      "cell_type": "markdown",
      "source": [
        "5. ** 誤差関数、最適化方法、評価指標の設定**:"
      ],
      "metadata": {
        "id": "THdVMZP6vKWA"
      }
    },
    {
      "cell_type": "markdown",
      "source": [
        "\n",
        "\n",
        "> 本セクションでは、誤差関数に二値交差エントロピー誤差を、最適化手法にAdamを、評価指標に正解率を設定します。これらは犬と猫の2カテゴリ分類に一般的に使用され、以前の章でのニューラルネットワークやCNNの設定に準拠しています。\n",
        "\n"
      ],
      "metadata": {
        "id": "GSdwbLwP2WLX"
      }
    },
    {
      "cell_type": "code",
      "source": [
        "model.compile(loss='binary_crossentropy',\n",
        "              optimizer='adam',\n",
        "              metrics='accuracy')"
      ],
      "metadata": {
        "id": "AkGqblclvMqZ"
      },
      "execution_count": null,
      "outputs": []
    },
    {
      "cell_type": "markdown",
      "source": [
        "**学習**\n",
        "\n",
        "> このセクションでは、train_generatorを使用して学習データを供給し、validation_data=val_generatorでバリデーションデータによる損失関数と正解率をモニタリングします。学習は5エポックで実施され、設定されたバッチサイズは64です。\n",
        "\n"
      ],
      "metadata": {
        "id": "luUbGSmP2kbP"
      }
    },
    {
      "cell_type": "code",
      "source": [
        "history = model.fit(\n",
        "        train_generator,\n",
        "        validation_data=val_generator,\n",
        "        epochs=5)"
      ],
      "metadata": {
        "id": "arv_-p6q2k9G",
        "colab": {
          "base_uri": "https://localhost:8080/"
        },
        "outputId": "925ad1b5-24b4-4920-bd59-18d018d6fa8e"
      },
      "execution_count": null,
      "outputs": [
        {
          "output_type": "stream",
          "name": "stdout",
          "text": [
            "Epoch 1/5\n",
            "6/6 [==============================] - 5s 573ms/step - loss: 3.3933 - accuracy: 0.5286 - val_loss: 1.6558 - val_accuracy: 0.5078\n",
            "Epoch 2/5\n",
            "6/6 [==============================] - 3s 468ms/step - loss: 0.7937 - accuracy: 0.7578 - val_loss: 0.5137 - val_accuracy: 0.9062\n",
            "Epoch 3/5\n",
            "6/6 [==============================] - 3s 558ms/step - loss: 0.3952 - accuracy: 0.9167 - val_loss: 0.2417 - val_accuracy: 0.8984\n",
            "Epoch 4/5\n",
            "6/6 [==============================] - 3s 489ms/step - loss: 0.2119 - accuracy: 0.9479 - val_loss: 0.2427 - val_accuracy: 0.9297\n",
            "Epoch 5/5\n",
            "6/6 [==============================] - 3s 471ms/step - loss: 0.1172 - accuracy: 0.9766 - val_loss: 0.1854 - val_accuracy: 0.9297\n"
          ]
        }
      ]
    },
    {
      "cell_type": "code",
      "source": [
        "#学習履歴の可視化\n",
        "\n",
        "import pandas as pd\n",
        "import seaborn as sns\n",
        "df = pd.DataFrame(history.history)\n",
        "sns.lineplot(data=df[['loss', 'val_loss']])\n"
      ],
      "metadata": {
        "id": "b0aFP96k23AW",
        "colab": {
          "base_uri": "https://localhost:8080/",
          "height": 448
        },
        "outputId": "d8898ed8-fe2b-4132-ee0c-893bb770569a"
      },
      "execution_count": null,
      "outputs": [
        {
          "output_type": "execute_result",
          "data": {
            "text/plain": [
              "<Axes: >"
            ]
          },
          "metadata": {},
          "execution_count": 145
        },
        {
          "output_type": "display_data",
          "data": {
            "text/plain": [
              "<Figure size 640x480 with 1 Axes>"
            ],
            "image/png": "[encoded data removed]"
          },
          "metadata": {}
        }
      ]
    },
    {
      "cell_type": "code",
      "source": [
        "#正解率（accuracy, val_accuracy）の推移も可視化\n",
        "\n",
        "sns.lineplot(data=df[['accuracy', 'val_accuracy']])\n"
      ],
      "metadata": {
        "id": "N8PH_E2b2-3P",
        "colab": {
          "base_uri": "https://localhost:8080/",
          "height": 453
        },
        "outputId": "b67040d3-e605-4157-98ea-ec25d929940c"
      },
      "execution_count": null,
      "outputs": [
        {
          "output_type": "execute_result",
          "data": {
            "text/plain": [
              "<Axes: >"
            ]
          },
          "metadata": {},
          "execution_count": 146
        },
        {
          "output_type": "display_data",
          "data": {
            "text/plain": [
              "<Figure size 640x480 with 1 Axes>"
            ],
            "image/png": "[encoded data removed]"
          },
          "metadata": {}
        }
      ]
    },
    {
      "cell_type": "markdown",
      "source": [
        "**評価**"
      ],
      "metadata": {
        "id": "9NhGRp1q7iOB"
      }
    },
    {
      "cell_type": "code",
      "source": [
        "model.evaluate(test_generator)\n"
      ],
      "metadata": {
        "id": "Gq4DzaVv7kO0",
        "colab": {
          "base_uri": "https://localhost:8080/"
        },
        "outputId": "f14e7f40-d825-4100-f5ca-079eab80996a"
      },
      "execution_count": null,
      "outputs": [
        {
          "output_type": "stream",
          "name": "stdout",
          "text": [
            "2/2 [==============================] - 1s 294ms/step - loss: 0.3155 - accuracy: 0.8359\n"
          ]
        },
        {
          "output_type": "execute_result",
          "data": {
            "text/plain": [
              "[0.3155488669872284, 0.8359375]"
            ]
          },
          "metadata": {},
          "execution_count": 147
        }
      ]
    },
    {
      "cell_type": "markdown",
      "source": [
        "6. **予測の実行**:\n",
        "\n",
        "*   画像ファイルの取り込み\n",
        "\n",
        "\n",
        ">[unknown_cat.jpg](https://drive.google.com/file/d/18Wv4ctEl9Y59RrdD-l4JGOJFjzXjtPKQ/view?usp=sharing)\n",
        "\n",
        ">Google Colaboratoryの画面左のファイルタブをクリックし、「unknown_cat.jpg」をドラッグアンドドロップ\n"
      ],
      "metadata": {
        "id": "X8ZUw2yFvPw5"
      }
    },
    {
      "cell_type": "markdown",
      "source": [
        ">>を、以下にて自動化します。"
      ],
      "metadata": {
        "id": "EJwtsG7PaRnE"
      }
    },
    {
      "cell_type": "code",
      "source": [
        "import requests\n",
        "\n",
        "# Google DriveのファイルID\n",
        "file_id = '18Wv4ctEl9Y59RrdD-l4JGOJFjzXjtPKQ'\n",
        "\n",
        "# ダウンロードURLの生成\n",
        "url = f'https://drive.google.com/uc?id={file_id}'\n",
        "\n",
        "# ファイル名（適宜変更してください）\n",
        "file_name = 'unknown_cat.jpeg'\n",
        "\n",
        "# URLからファイルをダウンロード\n",
        "response = requests.get(url)\n",
        "response.raise_for_status()  # エラーがあればここで例外を発生させる\n",
        "\n",
        "# contentディレクトリにファイルを保存\n",
        "with open(f'/content/{file_name}', 'wb') as f:\n",
        "    f.write(response.content)\n",
        "\n",
        "print(f'ファイル {file_name} が/contentに保存されました。')\n"
      ],
      "metadata": {
        "id": "ufKTBgMGaN7t",
        "colab": {
          "base_uri": "https://localhost:8080/"
        },
        "outputId": "85db482d-3913-46fe-ffe1-f06f27ac1770"
      },
      "execution_count": null,
      "outputs": [
        {
          "output_type": "stream",
          "name": "stdout",
          "text": [
            "ファイル unknown_cat.jpeg が/contentに保存されました。\n"
          ]
        }
      ]
    },
    {
      "cell_type": "code",
      "source": [
        "#Kerasのpreprocessingモジュールのload_img関数をインポート\n",
        "from tensorflow.keras.preprocessing.image import load_img\n",
        "\n",
        "#ジェネレータ作成の際に設定したサイズに合わせ、縦256ピクセル×横256ピクセルを指定\n",
        "unknown_img = load_img('unknown_cat.jpeg', target_size=(256, 256))\n",
        "unknown_img\n",
        "\n"
      ],
      "metadata": {
        "id": "xTh57NZ04BbA",
        "colab": {
          "base_uri": "https://localhost:8080/",
          "height": 273
        },
        "outputId": "a7ad0518-fa1a-4e85-bdf8-78703f1f6670"
      },
      "execution_count": null,
      "outputs": [
        {
          "output_type": "execute_result",
          "data": {
            "text/plain": [
              "<PIL.Image.Image image mode=RGB size=256x256>"
            ],
            "image/png": "[encoded data removed]"
          },
          "metadata": {},
          "execution_count": 149
        }
      ]
    },
    {
      "cell_type": "markdown",
      "source": [
        "*   画像ファイルの前処理\n",
        "\n",
        "\n",
        "> 「任意のサンプル数×縦256ピクセル×横256ピクセル×3チャネル」の形状に揃え\n"
      ],
      "metadata": {
        "id": "uk4uOKFp4ODL"
      }
    },
    {
      "cell_type": "code",
      "source": [
        "from tensorflow.keras.preprocessing.image import img_to_array\n",
        "\n",
        "# array形式に変換\n",
        "unknown_array = img_to_array(unknown_img)\n",
        "\n",
        "# データ構造の変換\n",
        "unknown_array = unknown_array.reshape((1, 256, 256, 3))\n",
        "\n",
        "# スケーリング\n",
        "unknown_array = unknown_array/255"
      ],
      "metadata": {
        "id": "iuId9bJS4Qw8"
      },
      "execution_count": null,
      "outputs": []
    },
    {
      "cell_type": "markdown",
      "source": [
        "\n",
        "*   予測"
      ],
      "metadata": {
        "id": "zzYxmN8g4Zh5"
      }
    },
    {
      "cell_type": "code",
      "source": [
        "model.predict(unknown_array)\n"
      ],
      "metadata": {
        "id": "ImmVMfIU4adz",
        "colab": {
          "base_uri": "https://localhost:8080/"
        },
        "outputId": "2d752534-4c32-4d24-a00b-632bf54ab36f"
      },
      "execution_count": null,
      "outputs": [
        {
          "output_type": "stream",
          "name": "stdout",
          "text": [
            "1/1 [==============================] - 0s 143ms/step\n"
          ]
        },
        {
          "output_type": "execute_result",
          "data": {
            "text/plain": [
              "array([[1.000000e+00, 4.625467e-09]], dtype=float32)"
            ]
          },
          "metadata": {},
          "execution_count": 151
        }
      ]
    },
    {
      "cell_type": "markdown",
      "source": [
        "7. **モデルの保存と読み込み**:"
      ],
      "metadata": {
        "id": "Q5CVAFabvUUJ"
      }
    },
    {
      "cell_type": "code",
      "source": [
        "# 予測モデルの保存\n",
        "\n",
        "from tensorflow.keras.models import save_model\n",
        "save_model(model, 'model.h5')"
      ],
      "metadata": {
        "id": "fgCv1FmUvWh5",
        "colab": {
          "base_uri": "https://localhost:8080/"
        },
        "outputId": "88867334-2007-4052-c968-025fd4622c84"
      },
      "execution_count": null,
      "outputs": [
        {
          "output_type": "stream",
          "name": "stderr",
          "text": [
            "<ipython-input-152-11b9e6cb8236>:4: UserWarning: You are saving your model as an HDF5 file via `model.save()`. This file format is considered legacy. We recommend using instead the native Keras format, e.g. `model.save('my_model.keras')`.\n",
            "  save_model(model, 'model.h5')\n"
          ]
        }
      ]
    },
    {
      "cell_type": "markdown",
      "source": [
        "Google Colaboratoryの画面左のファイルツリーで、保存したモデルを確認"
      ],
      "metadata": {
        "id": "8bLtNA574s1R"
      }
    },
    {
      "cell_type": "code",
      "source": [
        "#予測モデルの読み込み\n",
        "\n",
        "from tensorflow.keras.models import load_model\n",
        "loaded_model = load_model('model.h5')"
      ],
      "metadata": {
        "id": "cfhRWO6P4oJz"
      },
      "execution_count": null,
      "outputs": []
    },
    {
      "cell_type": "markdown",
      "source": [
        "読み込んだモデルを利用して、先程犬猫判定した画像を、再度予測"
      ],
      "metadata": {
        "id": "xt4OdNL545rU"
      }
    },
    {
      "cell_type": "code",
      "source": [
        "loaded_model.predict(unknown_array)\n"
      ],
      "metadata": {
        "id": "SBm58vxX46U0",
        "colab": {
          "base_uri": "https://localhost:8080/"
        },
        "outputId": "f07c9828-5471-4486-deeb-24bb5221f4e0"
      },
      "execution_count": null,
      "outputs": [
        {
          "output_type": "stream",
          "name": "stdout",
          "text": [
            "1/1 [==============================] - 0s 156ms/step\n"
          ]
        },
        {
          "output_type": "execute_result",
          "data": {
            "text/plain": [
              "array([[1.000000e+00, 4.625467e-09]], dtype=float32)"
            ]
          },
          "metadata": {},
          "execution_count": 154
        }
      ]
    },
    {
      "cell_type": "markdown",
      "source": [
        ">読み込んだモデルでも、犬猫の画像判定が可能であることを確認できました。"
      ],
      "metadata": {
        "id": "7anK1ZU8atfl"
      }
    },
    {
      "cell_type": "markdown",
      "source": [
        "\n",
        "\n",
        "*   ImageDataGeneratorは、特定のフォルダに格納されている画像データを、前処理しながら、予測モデルに流し込む機能を提供するクラスであること\n",
        "*   VGG16を活用した転移学習方法\n",
        ">VGG16の全結合層以外を取得する方法<br>\n",
        ">VGG16をSequentialモデルに変換する方法<br>\n",
        ">パラメータを凍結する方法<br>\n",
        ">独自の全結合層を追加する方法<br>\n",
        ">予測モデルの保存と読み込み方法<br>\n",
        "\n",
        "以上で「ディープラーニングで画像処理をしよう」は完了です。<br>\n",
        "ディープラーニングで利用される「ニューラルネットワーク」や「畳み込みニューラルネットワーク」の仕組みは複雑で、概念の理解とプログラムによる実装、共に大変だったかと思います。本当におつかれさまでした。"
      ],
      "metadata": {
        "id": "sA4wt4rB4_z6"
      }
    }
  ]
}